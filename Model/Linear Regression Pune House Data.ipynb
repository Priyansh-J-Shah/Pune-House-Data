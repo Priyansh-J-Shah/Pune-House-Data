{
 "cells": [
  {
   "cell_type": "code",
   "execution_count": 97,
   "metadata": {},
   "outputs": [],
   "source": [
    "import os\n",
    "import numpy as np\n",
    "import pandas as pd\n",
    "import seaborn as sns\n",
    "import matplotlib.pyplot as plt\n",
    "from sklearn.metrics import mean_squared_error,mean_absolute_error,r2_score\n",
    "from sklearn.model_selection import train_test_split\n",
    "from sklearn.linear_model import LinearRegression\n",
    "from statsmodels.stats.outliers_influence import variance_inflation_factor\n",
    "import statsmodels.api as sm\n",
    "from scipy.stats import shapiro,kstest,normaltest\n",
    "import warnings\n",
    "warnings.filterwarnings(\"ignore\")\n",
    "import pickle\n",
    "import json"
   ]
  },
  {
   "cell_type": "markdown",
   "metadata": {},
   "source": [
    "# Problem Statement"
   ]
  },
  {
   "cell_type": "raw",
   "metadata": {},
   "source": [
    "To Predict house price in Pune city."
   ]
  },
  {
   "cell_type": "markdown",
   "metadata": {},
   "source": [
    "# Data Gathering"
   ]
  },
  {
   "cell_type": "code",
   "execution_count": 98,
   "metadata": {},
   "outputs": [],
   "source": [
    "df = pd.read_csv(\"Pune_House_Data.csv\")"
   ]
  },
  {
   "cell_type": "code",
   "execution_count": 99,
   "metadata": {},
   "outputs": [
    {
     "data": {
      "text/html": [
       "<div>\n",
       "<style scoped>\n",
       "    .dataframe tbody tr th:only-of-type {\n",
       "        vertical-align: middle;\n",
       "    }\n",
       "\n",
       "    .dataframe tbody tr th {\n",
       "        vertical-align: top;\n",
       "    }\n",
       "\n",
       "    .dataframe thead th {\n",
       "        text-align: right;\n",
       "    }\n",
       "</style>\n",
       "<table border=\"1\" class=\"dataframe\">\n",
       "  <thead>\n",
       "    <tr style=\"text-align: right;\">\n",
       "      <th></th>\n",
       "      <th>area_type</th>\n",
       "      <th>availability</th>\n",
       "      <th>size</th>\n",
       "      <th>society</th>\n",
       "      <th>total_sqft</th>\n",
       "      <th>bath</th>\n",
       "      <th>balcony</th>\n",
       "      <th>price</th>\n",
       "      <th>site_location</th>\n",
       "    </tr>\n",
       "  </thead>\n",
       "  <tbody>\n",
       "    <tr>\n",
       "      <th>0</th>\n",
       "      <td>Super built-up  Area</td>\n",
       "      <td>19-Dec</td>\n",
       "      <td>2 BHK</td>\n",
       "      <td>Coomee</td>\n",
       "      <td>1056</td>\n",
       "      <td>2.0</td>\n",
       "      <td>1.0</td>\n",
       "      <td>39.07</td>\n",
       "      <td>Alandi Road</td>\n",
       "    </tr>\n",
       "    <tr>\n",
       "      <th>1</th>\n",
       "      <td>Plot  Area</td>\n",
       "      <td>Ready To Move</td>\n",
       "      <td>4 Bedroom</td>\n",
       "      <td>Theanmp</td>\n",
       "      <td>2600</td>\n",
       "      <td>5.0</td>\n",
       "      <td>3.0</td>\n",
       "      <td>120.00</td>\n",
       "      <td>Ambegaon Budruk</td>\n",
       "    </tr>\n",
       "    <tr>\n",
       "      <th>2</th>\n",
       "      <td>Built-up  Area</td>\n",
       "      <td>Ready To Move</td>\n",
       "      <td>3 BHK</td>\n",
       "      <td>NaN</td>\n",
       "      <td>1440</td>\n",
       "      <td>2.0</td>\n",
       "      <td>3.0</td>\n",
       "      <td>62.00</td>\n",
       "      <td>Anandnagar</td>\n",
       "    </tr>\n",
       "    <tr>\n",
       "      <th>3</th>\n",
       "      <td>Super built-up  Area</td>\n",
       "      <td>Ready To Move</td>\n",
       "      <td>3 BHK</td>\n",
       "      <td>Soiewre</td>\n",
       "      <td>1521</td>\n",
       "      <td>3.0</td>\n",
       "      <td>1.0</td>\n",
       "      <td>95.00</td>\n",
       "      <td>Aundh</td>\n",
       "    </tr>\n",
       "    <tr>\n",
       "      <th>4</th>\n",
       "      <td>Super built-up  Area</td>\n",
       "      <td>Ready To Move</td>\n",
       "      <td>2 BHK</td>\n",
       "      <td>NaN</td>\n",
       "      <td>1200</td>\n",
       "      <td>2.0</td>\n",
       "      <td>1.0</td>\n",
       "      <td>51.00</td>\n",
       "      <td>Aundh Road</td>\n",
       "    </tr>\n",
       "    <tr>\n",
       "      <th>...</th>\n",
       "      <td>...</td>\n",
       "      <td>...</td>\n",
       "      <td>...</td>\n",
       "      <td>...</td>\n",
       "      <td>...</td>\n",
       "      <td>...</td>\n",
       "      <td>...</td>\n",
       "      <td>...</td>\n",
       "      <td>...</td>\n",
       "    </tr>\n",
       "    <tr>\n",
       "      <th>13315</th>\n",
       "      <td>Built-up  Area</td>\n",
       "      <td>Ready To Move</td>\n",
       "      <td>5 Bedroom</td>\n",
       "      <td>ArsiaEx</td>\n",
       "      <td>3453</td>\n",
       "      <td>4.0</td>\n",
       "      <td>0.0</td>\n",
       "      <td>231.00</td>\n",
       "      <td>Pashan</td>\n",
       "    </tr>\n",
       "    <tr>\n",
       "      <th>13316</th>\n",
       "      <td>Super built-up  Area</td>\n",
       "      <td>Ready To Move</td>\n",
       "      <td>4 BHK</td>\n",
       "      <td>NaN</td>\n",
       "      <td>3600</td>\n",
       "      <td>5.0</td>\n",
       "      <td>NaN</td>\n",
       "      <td>400.00</td>\n",
       "      <td>Paud Road</td>\n",
       "    </tr>\n",
       "    <tr>\n",
       "      <th>13317</th>\n",
       "      <td>Built-up  Area</td>\n",
       "      <td>Ready To Move</td>\n",
       "      <td>2 BHK</td>\n",
       "      <td>Mahla T</td>\n",
       "      <td>1141</td>\n",
       "      <td>2.0</td>\n",
       "      <td>1.0</td>\n",
       "      <td>60.00</td>\n",
       "      <td>Pirangut</td>\n",
       "    </tr>\n",
       "    <tr>\n",
       "      <th>13318</th>\n",
       "      <td>Super built-up  Area</td>\n",
       "      <td>18-Jun</td>\n",
       "      <td>4 BHK</td>\n",
       "      <td>SollyCl</td>\n",
       "      <td>4689</td>\n",
       "      <td>4.0</td>\n",
       "      <td>1.0</td>\n",
       "      <td>488.00</td>\n",
       "      <td>Prabhat Road</td>\n",
       "    </tr>\n",
       "    <tr>\n",
       "      <th>13319</th>\n",
       "      <td>Super built-up  Area</td>\n",
       "      <td>Ready To Move</td>\n",
       "      <td>1 BHK</td>\n",
       "      <td>NaN</td>\n",
       "      <td>550</td>\n",
       "      <td>1.0</td>\n",
       "      <td>1.0</td>\n",
       "      <td>17.00</td>\n",
       "      <td>Pune Railway Station</td>\n",
       "    </tr>\n",
       "  </tbody>\n",
       "</table>\n",
       "<p>13320 rows × 9 columns</p>\n",
       "</div>"
      ],
      "text/plain": [
       "                  area_type   availability       size  society total_sqft  \\\n",
       "0      Super built-up  Area         19-Dec      2 BHK  Coomee        1056   \n",
       "1                Plot  Area  Ready To Move  4 Bedroom  Theanmp       2600   \n",
       "2            Built-up  Area  Ready To Move      3 BHK      NaN       1440   \n",
       "3      Super built-up  Area  Ready To Move      3 BHK  Soiewre       1521   \n",
       "4      Super built-up  Area  Ready To Move      2 BHK      NaN       1200   \n",
       "...                     ...            ...        ...      ...        ...   \n",
       "13315        Built-up  Area  Ready To Move  5 Bedroom  ArsiaEx       3453   \n",
       "13316  Super built-up  Area  Ready To Move      4 BHK      NaN       3600   \n",
       "13317        Built-up  Area  Ready To Move      2 BHK  Mahla T       1141   \n",
       "13318  Super built-up  Area         18-Jun      4 BHK  SollyCl       4689   \n",
       "13319  Super built-up  Area  Ready To Move      1 BHK      NaN        550   \n",
       "\n",
       "       bath  balcony   price         site_location  \n",
       "0       2.0      1.0   39.07           Alandi Road  \n",
       "1       5.0      3.0  120.00       Ambegaon Budruk  \n",
       "2       2.0      3.0   62.00            Anandnagar  \n",
       "3       3.0      1.0   95.00                 Aundh  \n",
       "4       2.0      1.0   51.00            Aundh Road  \n",
       "...     ...      ...     ...                   ...  \n",
       "13315   4.0      0.0  231.00                Pashan  \n",
       "13316   5.0      NaN  400.00             Paud Road  \n",
       "13317   2.0      1.0   60.00              Pirangut  \n",
       "13318   4.0      1.0  488.00          Prabhat Road  \n",
       "13319   1.0      1.0   17.00  Pune Railway Station  \n",
       "\n",
       "[13320 rows x 9 columns]"
      ]
     },
     "execution_count": 99,
     "metadata": {},
     "output_type": "execute_result"
    }
   ],
   "source": [
    "df"
   ]
  },
  {
   "cell_type": "markdown",
   "metadata": {},
   "source": [
    "# Exploratory Data Analysis"
   ]
  },
  {
   "cell_type": "code",
   "execution_count": 100,
   "metadata": {},
   "outputs": [
    {
     "name": "stdout",
     "output_type": "stream",
     "text": [
      "<class 'pandas.core.frame.DataFrame'>\n",
      "RangeIndex: 13320 entries, 0 to 13319\n",
      "Data columns (total 9 columns):\n",
      " #   Column         Non-Null Count  Dtype  \n",
      "---  ------         --------------  -----  \n",
      " 0   area_type      13320 non-null  object \n",
      " 1   availability   13320 non-null  object \n",
      " 2   size           13304 non-null  object \n",
      " 3   society        7818 non-null   object \n",
      " 4   total_sqft     13320 non-null  object \n",
      " 5   bath           13247 non-null  float64\n",
      " 6   balcony        12711 non-null  float64\n",
      " 7   price          13320 non-null  float64\n",
      " 8   site_location  13319 non-null  object \n",
      "dtypes: float64(3), object(6)\n",
      "memory usage: 936.7+ KB\n"
     ]
    }
   ],
   "source": [
    "df.info()"
   ]
  },
  {
   "cell_type": "code",
   "execution_count": 101,
   "metadata": {},
   "outputs": [
    {
     "data": {
      "text/plain": [
       "area_type           0\n",
       "availability        0\n",
       "size               16\n",
       "society          5502\n",
       "total_sqft          0\n",
       "bath               73\n",
       "balcony           609\n",
       "price               0\n",
       "site_location       1\n",
       "dtype: int64"
      ]
     },
     "execution_count": 101,
     "metadata": {},
     "output_type": "execute_result"
    }
   ],
   "source": [
    "df.isna().sum()"
   ]
  },
  {
   "cell_type": "markdown",
   "metadata": {},
   "source": [
    "### 1. size"
   ]
  },
  {
   "cell_type": "code",
   "execution_count": 102,
   "metadata": {},
   "outputs": [
    {
     "data": {
      "text/plain": [
       "{'2 BHK': 5199,\n",
       " '3 BHK': 4310,\n",
       " '4 Bedroom': 826,\n",
       " '4 BHK': 591,\n",
       " '3 Bedroom': 547,\n",
       " '1 BHK': 538,\n",
       " '2 Bedroom': 329,\n",
       " '5 Bedroom': 297,\n",
       " '6 Bedroom': 191,\n",
       " '1 Bedroom': 105,\n",
       " '8 Bedroom': 84,\n",
       " '7 Bedroom': 83,\n",
       " '5 BHK': 59,\n",
       " '9 Bedroom': 46,\n",
       " '6 BHK': 30,\n",
       " '7 BHK': 17,\n",
       " '1 RK': 13,\n",
       " '10 Bedroom': 12,\n",
       " '9 BHK': 8,\n",
       " '8 BHK': 5,\n",
       " '11 BHK': 2,\n",
       " '11 Bedroom': 2,\n",
       " '10 BHK': 2,\n",
       " '14 BHK': 1,\n",
       " '12 Bedroom': 1,\n",
       " '16 BHK': 1,\n",
       " '27 BHK': 1,\n",
       " '19 BHK': 1,\n",
       " '13 BHK': 1,\n",
       " '43 Bedroom': 1,\n",
       " '18 Bedroom': 1}"
      ]
     },
     "execution_count": 102,
     "metadata": {},
     "output_type": "execute_result"
    }
   ],
   "source": [
    "df[\"size\"].value_counts().to_dict()"
   ]
  },
  {
   "cell_type": "code",
   "execution_count": 103,
   "metadata": {},
   "outputs": [],
   "source": [
    "df[\"size\"].fillna(df[\"size\"].mode()[0], inplace=True)"
   ]
  },
  {
   "cell_type": "markdown",
   "metadata": {},
   "source": [
    "### 2. society"
   ]
  },
  {
   "cell_type": "code",
   "execution_count": 104,
   "metadata": {},
   "outputs": [
    {
     "data": {
      "text/plain": [
       "5502"
      ]
     },
     "execution_count": 104,
     "metadata": {},
     "output_type": "execute_result"
    }
   ],
   "source": [
    "df[\"society\"].isna().sum()"
   ]
  },
  {
   "cell_type": "code",
   "execution_count": 105,
   "metadata": {},
   "outputs": [],
   "source": [
    "df.drop(\"society\", axis=1,inplace=True)"
   ]
  },
  {
   "cell_type": "markdown",
   "metadata": {},
   "source": [
    "### 3. bath"
   ]
  },
  {
   "cell_type": "code",
   "execution_count": 106,
   "metadata": {
    "scrolled": true
   },
   "outputs": [
    {
     "data": {
      "text/plain": [
       "2.0     6908\n",
       "3.0     3286\n",
       "4.0     1226\n",
       "1.0      788\n",
       "5.0      524\n",
       "6.0      273\n",
       "7.0      102\n",
       "8.0       64\n",
       "9.0       43\n",
       "10.0      13\n",
       "12.0       7\n",
       "13.0       3\n",
       "11.0       3\n",
       "16.0       2\n",
       "27.0       1\n",
       "18.0       1\n",
       "40.0       1\n",
       "15.0       1\n",
       "14.0       1\n",
       "Name: bath, dtype: int64"
      ]
     },
     "execution_count": 106,
     "metadata": {},
     "output_type": "execute_result"
    }
   ],
   "source": [
    "df[\"bath\"].value_counts()"
   ]
  },
  {
   "cell_type": "code",
   "execution_count": 107,
   "metadata": {},
   "outputs": [
    {
     "data": {
      "text/plain": [
       "73"
      ]
     },
     "execution_count": 107,
     "metadata": {},
     "output_type": "execute_result"
    }
   ],
   "source": [
    "df[\"bath\"].isna().sum()"
   ]
  },
  {
   "cell_type": "code",
   "execution_count": 108,
   "metadata": {},
   "outputs": [],
   "source": [
    "df[\"bath\"].fillna(df[\"bath\"].median(),inplace = True)"
   ]
  },
  {
   "cell_type": "code",
   "execution_count": 109,
   "metadata": {
    "scrolled": true
   },
   "outputs": [
    {
     "data": {
      "text/plain": [
       "0"
      ]
     },
     "execution_count": 109,
     "metadata": {},
     "output_type": "execute_result"
    }
   ],
   "source": [
    "df[\"bath\"].isna().sum()"
   ]
  },
  {
   "cell_type": "markdown",
   "metadata": {},
   "source": [
    "### 4. balcony"
   ]
  },
  {
   "cell_type": "code",
   "execution_count": 110,
   "metadata": {
    "scrolled": true
   },
   "outputs": [
    {
     "data": {
      "text/plain": [
       "2.0    5113\n",
       "1.0    4897\n",
       "3.0    1672\n",
       "0.0    1029\n",
       "Name: balcony, dtype: int64"
      ]
     },
     "execution_count": 110,
     "metadata": {},
     "output_type": "execute_result"
    }
   ],
   "source": [
    "df[\"balcony\"].value_counts()"
   ]
  },
  {
   "cell_type": "code",
   "execution_count": 111,
   "metadata": {},
   "outputs": [
    {
     "data": {
      "text/plain": [
       "609"
      ]
     },
     "execution_count": 111,
     "metadata": {},
     "output_type": "execute_result"
    }
   ],
   "source": [
    "df[\"balcony\"].isna().sum()"
   ]
  },
  {
   "cell_type": "code",
   "execution_count": 112,
   "metadata": {},
   "outputs": [],
   "source": [
    "df[\"balcony\"].fillna(df[\"balcony\"].median(),inplace = True)"
   ]
  },
  {
   "cell_type": "code",
   "execution_count": 113,
   "metadata": {
    "scrolled": true
   },
   "outputs": [
    {
     "data": {
      "text/plain": [
       "0"
      ]
     },
     "execution_count": 113,
     "metadata": {},
     "output_type": "execute_result"
    }
   ],
   "source": [
    "df[\"balcony\"].isna().sum()"
   ]
  },
  {
   "cell_type": "markdown",
   "metadata": {},
   "source": [
    "### 5. site_location"
   ]
  },
  {
   "cell_type": "code",
   "execution_count": 114,
   "metadata": {},
   "outputs": [
    {
     "data": {
      "text/plain": [
       "Jangali Maharaj Road    139\n",
       "Navi Peth               139\n",
       "Hadapsar                139\n",
       "Mundhawa                139\n",
       "Dehu Road               139\n",
       "                       ... \n",
       "Ghorpadi                138\n",
       "Sinhagad Road           138\n",
       "Satara Road             138\n",
       "Vishrant Wadi           138\n",
       "other                     1\n",
       "Name: site_location, Length: 97, dtype: int64"
      ]
     },
     "execution_count": 114,
     "metadata": {},
     "output_type": "execute_result"
    }
   ],
   "source": [
    "df[\"site_location\"].value_counts()"
   ]
  },
  {
   "cell_type": "code",
   "execution_count": 115,
   "metadata": {},
   "outputs": [
    {
     "data": {
      "text/plain": [
       "1"
      ]
     },
     "execution_count": 115,
     "metadata": {},
     "output_type": "execute_result"
    }
   ],
   "source": [
    "df[\"site_location\"].isna().sum()"
   ]
  },
  {
   "cell_type": "code",
   "execution_count": 116,
   "metadata": {},
   "outputs": [],
   "source": [
    "df[\"site_location\"].fillna(df[\"site_location\"].mode()[0],inplace=True)"
   ]
  },
  {
   "cell_type": "code",
   "execution_count": 117,
   "metadata": {},
   "outputs": [
    {
     "data": {
      "text/plain": [
       "0"
      ]
     },
     "execution_count": 117,
     "metadata": {},
     "output_type": "execute_result"
    }
   ],
   "source": [
    "df[\"site_location\"].isna().sum()"
   ]
  },
  {
   "cell_type": "markdown",
   "metadata": {},
   "source": [
    "# Feature Engineering"
   ]
  },
  {
   "cell_type": "code",
   "execution_count": 118,
   "metadata": {
    "scrolled": false
   },
   "outputs": [
    {
     "name": "stdout",
     "output_type": "stream",
     "text": [
      "<class 'pandas.core.frame.DataFrame'>\n",
      "RangeIndex: 13320 entries, 0 to 13319\n",
      "Data columns (total 8 columns):\n",
      " #   Column         Non-Null Count  Dtype  \n",
      "---  ------         --------------  -----  \n",
      " 0   area_type      13320 non-null  object \n",
      " 1   availability   13320 non-null  object \n",
      " 2   size           13320 non-null  object \n",
      " 3   total_sqft     13320 non-null  object \n",
      " 4   bath           13320 non-null  float64\n",
      " 5   balcony        13320 non-null  float64\n",
      " 6   price          13320 non-null  float64\n",
      " 7   site_location  13320 non-null  object \n",
      "dtypes: float64(3), object(5)\n",
      "memory usage: 832.6+ KB\n"
     ]
    }
   ],
   "source": [
    "df.info()"
   ]
  },
  {
   "cell_type": "code",
   "execution_count": 119,
   "metadata": {
    "scrolled": true
   },
   "outputs": [
    {
     "data": {
      "text/plain": [
       "area_type        0\n",
       "availability     0\n",
       "size             0\n",
       "total_sqft       0\n",
       "bath             0\n",
       "balcony          0\n",
       "price            0\n",
       "site_location    0\n",
       "dtype: int64"
      ]
     },
     "execution_count": 119,
     "metadata": {},
     "output_type": "execute_result"
    }
   ],
   "source": [
    "df.isna().sum()"
   ]
  },
  {
   "cell_type": "markdown",
   "metadata": {},
   "source": [
    "### 1. area_type"
   ]
  },
  {
   "cell_type": "code",
   "execution_count": 120,
   "metadata": {},
   "outputs": [
    {
     "data": {
      "text/plain": [
       "Super built-up  Area    8790\n",
       "Built-up  Area          2418\n",
       "Plot  Area              2025\n",
       "Carpet  Area              87\n",
       "Name: area_type, dtype: int64"
      ]
     },
     "execution_count": 120,
     "metadata": {},
     "output_type": "execute_result"
    }
   ],
   "source": [
    "df[\"area_type\"].value_counts()"
   ]
  },
  {
   "cell_type": "code",
   "execution_count": 121,
   "metadata": {},
   "outputs": [],
   "source": [
    "df = pd.get_dummies(df,columns = [\"area_type\"])"
   ]
  },
  {
   "cell_type": "markdown",
   "metadata": {},
   "source": [
    "### 2. availability"
   ]
  },
  {
   "cell_type": "code",
   "execution_count": 122,
   "metadata": {
    "scrolled": true
   },
   "outputs": [
    {
     "data": {
      "text/plain": [
       "Ready To Move    10581\n",
       "18-Dec             307\n",
       "18-May             295\n",
       "18-Apr             271\n",
       "18-Aug             200\n",
       "                 ...  \n",
       "16-Jul               1\n",
       "15-Aug               1\n",
       "16-Jan               1\n",
       "15-Jun               1\n",
       "14-Jul               1\n",
       "Name: availability, Length: 81, dtype: int64"
      ]
     },
     "execution_count": 122,
     "metadata": {},
     "output_type": "execute_result"
    }
   ],
   "source": [
    "df[\"availability\"].value_counts()"
   ]
  },
  {
   "cell_type": "code",
   "execution_count": 123,
   "metadata": {},
   "outputs": [
    {
     "data": {
      "text/plain": [
       "array(['19-Dec', 'Ready To Move', '18-May', '18-Feb', '18-Nov', '20-Dec',\n",
       "       '17-Oct', '21-Dec', '19-Sep', '20-Sep', '18-Mar', '20-Feb',\n",
       "       '18-Apr', '20-Aug', '18-Oct', '19-Mar', '17-Sep', '18-Dec',\n",
       "       '17-Aug', '19-Apr', '18-Jun', '22-Dec', '22-Jan', '18-Aug',\n",
       "       '19-Jan', '17-Jul', '18-Jul', '21-Jun', '20-May', '19-Aug',\n",
       "       '18-Sep', '17-May', '17-Jun', '21-May', '18-Jan', '20-Mar',\n",
       "       '17-Dec', '16-Mar', '19-Jun', '22-Jun', '19-Jul', '21-Feb',\n",
       "       'Immediate Possession', '19-May', '17-Nov', '20-Oct', '20-Jun',\n",
       "       '19-Feb', '21-Oct', '21-Jan', '17-Mar', '17-Apr', '22-May',\n",
       "       '19-Oct', '21-Jul', '21-Nov', '21-Mar', '16-Dec', '22-Mar',\n",
       "       '20-Jan', '21-Sep', '21-Aug', '14-Nov', '19-Nov', '15-Nov',\n",
       "       '16-Jul', '15-Jun', '17-Feb', '20-Nov', '20-Jul', '16-Sep',\n",
       "       '15-Oct', '15-Dec', '16-Oct', '22-Nov', '15-Aug', '17-Jan',\n",
       "       '16-Nov', '20-Apr', '16-Jan', '14-Jul'], dtype=object)"
      ]
     },
     "execution_count": 123,
     "metadata": {},
     "output_type": "execute_result"
    }
   ],
   "source": [
    "df[\"availability\"].unique()"
   ]
  },
  {
   "cell_type": "code",
   "execution_count": 124,
   "metadata": {
    "scrolled": true
   },
   "outputs": [
    {
     "name": "stdout",
     "output_type": "stream",
     "text": [
      "{1: 10597, 0: 2723}\n"
     ]
    }
   ],
   "source": [
    "list1 = df[\"availability\"].unique().tolist()\n",
    "dict_availability = {i : 0 for i in list1}\n",
    "dict_availability['Ready To Move'] = 1\n",
    "dict_availability['Immediate Possession'] = 1\n",
    "df.replace(dict_availability, inplace=True)\n",
    "print(df[\"availability\"].value_counts().to_dict())"
   ]
  },
  {
   "cell_type": "markdown",
   "metadata": {},
   "source": [
    "### 3. size"
   ]
  },
  {
   "cell_type": "code",
   "execution_count": 125,
   "metadata": {},
   "outputs": [
    {
     "data": {
      "text/plain": [
       "{'2 BHK': 5215,\n",
       " '3 BHK': 4310,\n",
       " '4 Bedroom': 826,\n",
       " '4 BHK': 591,\n",
       " '3 Bedroom': 547,\n",
       " '1 BHK': 538,\n",
       " '2 Bedroom': 329,\n",
       " '5 Bedroom': 297,\n",
       " '6 Bedroom': 191,\n",
       " '1 Bedroom': 105,\n",
       " '8 Bedroom': 84,\n",
       " '7 Bedroom': 83,\n",
       " '5 BHK': 59,\n",
       " '9 Bedroom': 46,\n",
       " '6 BHK': 30,\n",
       " '7 BHK': 17,\n",
       " '1 RK': 13,\n",
       " '10 Bedroom': 12,\n",
       " '9 BHK': 8,\n",
       " '8 BHK': 5,\n",
       " '11 BHK': 2,\n",
       " '11 Bedroom': 2,\n",
       " '10 BHK': 2,\n",
       " '14 BHK': 1,\n",
       " '12 Bedroom': 1,\n",
       " '16 BHK': 1,\n",
       " '27 BHK': 1,\n",
       " '19 BHK': 1,\n",
       " '13 BHK': 1,\n",
       " '43 Bedroom': 1,\n",
       " '18 Bedroom': 1}"
      ]
     },
     "execution_count": 125,
     "metadata": {},
     "output_type": "execute_result"
    }
   ],
   "source": [
    "df[\"size\"].value_counts().to_dict()"
   ]
  },
  {
   "cell_type": "code",
   "execution_count": 126,
   "metadata": {},
   "outputs": [],
   "source": [
    "dict_size = {'2 BHK': 2,\n",
    " '3 BHK': 3,\n",
    " '4 Bedroom': 4,\n",
    " '4 BHK': 4,\n",
    " '3 Bedroom': 3,\n",
    " '1 BHK': 1,\n",
    " '2 Bedroom': 2,\n",
    " '5 Bedroom': 5,\n",
    " '6 Bedroom': 6,\n",
    " '1 Bedroom': 1,\n",
    " '8 Bedroom': 8,\n",
    " '7 Bedroom': 7,\n",
    " '5 BHK': 5,\n",
    " '9 Bedroom': 9,\n",
    " '6 BHK': 6,\n",
    " '7 BHK': 7,\n",
    " '1 RK': 1,\n",
    " '10 Bedroom': 10,\n",
    " '9 BHK': 9,\n",
    " '8 BHK': 8,\n",
    " '11 BHK': 11,\n",
    " '11 Bedroom': 11,\n",
    " '10 BHK': 10,\n",
    " '14 BHK': 14,\n",
    " '13 BHK': 13,\n",
    " '12 Bedroom': 12,\n",
    " '27 BHK': 27,\n",
    " '43 Bedroom': 43,\n",
    " '16 BHK': 16,\n",
    " '19 BHK': 19,\n",
    " '18 Bedroom': 18}\n",
    "df.replace(dict_size, inplace=True)"
   ]
  },
  {
   "cell_type": "code",
   "execution_count": 127,
   "metadata": {},
   "outputs": [
    {
     "data": {
      "text/plain": [
       "{2: 5544,\n",
       " 3: 4857,\n",
       " 4: 1417,\n",
       " 1: 656,\n",
       " 5: 356,\n",
       " 6: 221,\n",
       " 7: 100,\n",
       " 8: 89,\n",
       " 9: 54,\n",
       " 10: 14,\n",
       " 11: 4,\n",
       " 27: 1,\n",
       " 14: 1,\n",
       " 43: 1,\n",
       " 18: 1,\n",
       " 12: 1,\n",
       " 13: 1,\n",
       " 16: 1,\n",
       " 19: 1}"
      ]
     },
     "execution_count": 127,
     "metadata": {},
     "output_type": "execute_result"
    }
   ],
   "source": [
    "df[\"size\"].value_counts().to_dict()"
   ]
  },
  {
   "cell_type": "markdown",
   "metadata": {},
   "source": [
    "### 4. total_sqft"
   ]
  },
  {
   "cell_type": "code",
   "execution_count": 128,
   "metadata": {
    "scrolled": true
   },
   "outputs": [
    {
     "data": {
      "text/plain": [
       "{'1200': 843,\n",
       " '1100': 221,\n",
       " '1500': 205,\n",
       " '2400': 196,\n",
       " '600': 180,\n",
       " '1000': 172,\n",
       " '1350': 133,\n",
       " '1050': 123,\n",
       " '1300': 117,\n",
       " '1250': 114,\n",
       " '900': 112,\n",
       " '1400': 108,\n",
       " '1800': 104,\n",
       " '1150': 101,\n",
       " '1600': 101,\n",
       " '1140': 91,\n",
       " '2000': 83,\n",
       " '1450': 70,\n",
       " '1650': 69,\n",
       " '800': 67,\n",
       " '1075': 66,\n",
       " '3000': 66,\n",
       " '1020': 63,\n",
       " '2500': 62,\n",
       " '1160': 60,\n",
       " '1550': 60,\n",
       " '1125': 60,\n",
       " '950': 59,\n",
       " '1700': 58,\n",
       " '1180': 58,\n",
       " '1260': 57,\n",
       " '1255': 56,\n",
       " '1220': 55,\n",
       " '1080': 55,\n",
       " '1070': 53,\n",
       " '700': 52,\n",
       " '750': 52,\n",
       " '4000': 48,\n",
       " '1225': 48,\n",
       " '1175': 48,\n",
       " '1320': 46,\n",
       " '2100': 46,\n",
       " '1240': 46,\n",
       " '1230': 45,\n",
       " '1060': 45,\n",
       " '1210': 44,\n",
       " '850': 43,\n",
       " '1280': 42,\n",
       " '1185': 41,\n",
       " '1270': 41,\n",
       " '1190': 40,\n",
       " '1410': 40,\n",
       " '1170': 40,\n",
       " '1750': 39,\n",
       " '1330': 38,\n",
       " '1025': 38,\n",
       " '1310': 37,\n",
       " '1290': 37,\n",
       " '1850': 37,\n",
       " '1065': 36,\n",
       " '1194': 36,\n",
       " '1215': 35,\n",
       " '1090': 35,\n",
       " '500': 34,\n",
       " '1360': 33,\n",
       " '1115': 33,\n",
       " '2700': 33,\n",
       " '1900': 32,\n",
       " '1120': 32,\n",
       " '1464': 32,\n",
       " '3500': 32,\n",
       " '1205': 31,\n",
       " '1430': 31,\n",
       " '2200': 31,\n",
       " '1530': 31,\n",
       " '1340': 31,\n",
       " '1560': 30,\n",
       " '1165': 30,\n",
       " '1035': 30,\n",
       " '1128': 29,\n",
       " '1145': 29,\n",
       " '3600': 29,\n",
       " '1130': 29,\n",
       " '1040': 28,\n",
       " '1355': 28,\n",
       " '1275': 28,\n",
       " '2800': 28,\n",
       " '1105': 27,\n",
       " '1420': 27,\n",
       " '1680': 27,\n",
       " '1155': 27,\n",
       " '1590': 25,\n",
       " '1760': 25,\n",
       " '1216': 25,\n",
       " '650': 25,\n",
       " '1460': 25,\n",
       " '1245': 25,\n",
       " '1010': 24,\n",
       " '1475': 24,\n",
       " '2600': 24,\n",
       " '1305': 24,\n",
       " '1575': 23,\n",
       " '1440': 23,\n",
       " '883': 23,\n",
       " '1110': 23,\n",
       " '1030': 23,\n",
       " '1246': 22,\n",
       " '1495': 22,\n",
       " '985': 22,\n",
       " '1015': 21,\n",
       " '525': 21,\n",
       " '1610': 21,\n",
       " '3200': 21,\n",
       " '1027': 21,\n",
       " '1243': 21,\n",
       " '1370': 21,\n",
       " '1385': 21,\n",
       " '5000': 21,\n",
       " '1470': 21,\n",
       " '1315': 21,\n",
       " '1325': 21,\n",
       " '550': 20,\n",
       " '660': 20,\n",
       " '1480': 20,\n",
       " '925': 20,\n",
       " '1390': 20,\n",
       " '1540': 20,\n",
       " '920': 19,\n",
       " '1265': 19,\n",
       " '1520': 19,\n",
       " '1640': 19,\n",
       " '1365': 19,\n",
       " '1570': 19,\n",
       " '1645': 19,\n",
       " '1095': 18,\n",
       " '1485': 18,\n",
       " '975': 18,\n",
       " '1195': 18,\n",
       " '1012': 18,\n",
       " '940': 18,\n",
       " '2072': 18,\n",
       " '4800': 18,\n",
       " '980': 18,\n",
       " '1665': 18,\n",
       " '1196': 18,\n",
       " '1820': 18,\n",
       " '1525': 18,\n",
       " '1345': 18,\n",
       " '1375': 17,\n",
       " '1157': 17,\n",
       " '960': 17,\n",
       " '1295': 17,\n",
       " '1232': 17,\n",
       " '400': 17,\n",
       " '1425': 16,\n",
       " '1720': 16,\n",
       " '1197': 16,\n",
       " '1045': 16,\n",
       " '1830': 16,\n",
       " '1655': 16,\n",
       " '1235': 16,\n",
       " '1135': 16,\n",
       " '1490': 16,\n",
       " '2300': 16,\n",
       " '935': 16,\n",
       " '1418': 16,\n",
       " '3300': 16,\n",
       " '645': 16,\n",
       " '1580': 15,\n",
       " '1153': 15,\n",
       " '630': 15,\n",
       " '1950': 15,\n",
       " '1285': 15,\n",
       " '1740': 15,\n",
       " '1660': 15,\n",
       " '1116': 15,\n",
       " '1920': 15,\n",
       " '1380': 15,\n",
       " '1085': 15,\n",
       " '1152': 15,\n",
       " '4500': 15,\n",
       " '675': 14,\n",
       " '905': 14,\n",
       " '1595': 14,\n",
       " '720': 14,\n",
       " '1141': 14,\n",
       " '450': 14,\n",
       " '1445': 14,\n",
       " '1630': 14,\n",
       " '1082': 13,\n",
       " '1710': 13,\n",
       " '1730': 13,\n",
       " '3800': 13,\n",
       " '1282': 13,\n",
       " '1875': 13,\n",
       " '2250': 13,\n",
       " '1690': 13,\n",
       " '1625': 13,\n",
       " '1535': 13,\n",
       " '1615': 13,\n",
       " '970': 13,\n",
       " '3900': 13,\n",
       " '1510': 13,\n",
       " '1005': 13,\n",
       " '1314': 13,\n",
       " '840': 13,\n",
       " '2215': 13,\n",
       " '1252': 12,\n",
       " '1056': 12,\n",
       " '1339': 12,\n",
       " '1435': 12,\n",
       " '1404': 12,\n",
       " '1890': 12,\n",
       " '1151': 12,\n",
       " '1033': 12,\n",
       " '1691': 12,\n",
       " '1565': 12,\n",
       " '1843': 12,\n",
       " '1455': 12,\n",
       " '1007': 12,\n",
       " '1296': 12,\n",
       " '3100': 12,\n",
       " '2900': 12,\n",
       " '1685': 11,\n",
       " '965': 11,\n",
       " '984': 11,\n",
       " '1162': 11,\n",
       " '1405': 11,\n",
       " '1452': 11,\n",
       " '1174': 11,\n",
       " '1515': 11,\n",
       " '1639': 11,\n",
       " '2150': 11,\n",
       " '1206': 11,\n",
       " '1804': 11,\n",
       " '540': 11,\n",
       " '845': 11,\n",
       " '1346': 11,\n",
       " '3596': 10,\n",
       " '620': 10,\n",
       " '880': 10,\n",
       " '1198': 10,\n",
       " '2350': 10,\n",
       " '1161': 10,\n",
       " '1555': 10,\n",
       " '1308': 10,\n",
       " '3400': 10,\n",
       " '995': 10,\n",
       " '4200': 10,\n",
       " '1465': 10,\n",
       " '930': 10,\n",
       " '1415': 10,\n",
       " '918': 10,\n",
       " '957': 10,\n",
       " '1810': 10,\n",
       " '1256': 10,\n",
       " '760': 10,\n",
       " '1063': 10,\n",
       " '770': 10,\n",
       " '1620': 10,\n",
       " '825': 9,\n",
       " '2790': 9,\n",
       " '1745': 9,\n",
       " '1725': 9,\n",
       " '1715': 9,\n",
       " '2475': 9,\n",
       " '890': 9,\n",
       " '6000': 9,\n",
       " '1224': 9,\n",
       " '1108': 9,\n",
       " '1724': 9,\n",
       " '674': 9,\n",
       " '1790': 9,\n",
       " '1186': 9,\n",
       " '1482': 9,\n",
       " '3250': 9,\n",
       " '1693': 9,\n",
       " '945': 9,\n",
       " '2180': 9,\n",
       " '3150': 9,\n",
       " '910': 9,\n",
       " '1047': 9,\n",
       " '1605': 9,\n",
       " '1223': 9,\n",
       " '1156': 9,\n",
       " '3750': 9,\n",
       " '705': 9,\n",
       " '780': 9,\n",
       " '1870': 9,\n",
       " '1222': 9,\n",
       " '1113': 9,\n",
       " '1419': 9,\n",
       " '2750': 9,\n",
       " '1092': 9,\n",
       " '1756': 9,\n",
       " '1352': 8,\n",
       " '1133': 8,\n",
       " '4400': 8,\n",
       " '1089': 8,\n",
       " '1221': 8,\n",
       " '5400': 8,\n",
       " '870': 8,\n",
       " '812': 8,\n",
       " '1532': 8,\n",
       " '3122': 8,\n",
       " '2990': 8,\n",
       " '656': 8,\n",
       " '1705': 8,\n",
       " '1299': 8,\n",
       " '1835': 8,\n",
       " '680': 8,\n",
       " '1476': 8,\n",
       " '2145': 8,\n",
       " '1322': 8,\n",
       " '1088': 8,\n",
       " '1146': 8,\n",
       " '1447': 8,\n",
       " '1178': 8,\n",
       " '1670': 8,\n",
       " '990': 8,\n",
       " '1192': 8,\n",
       " '1163': 8,\n",
       " '1187': 8,\n",
       " '875': 8,\n",
       " '1636': 8,\n",
       " '1395': 8,\n",
       " '1703': 8,\n",
       " '2650': 8,\n",
       " '1026': 8,\n",
       " '1335': 8,\n",
       " '1093': 7,\n",
       " '1251': 7,\n",
       " '2050': 7,\n",
       " '1453': 7,\n",
       " '1254': 7,\n",
       " '1179': 7,\n",
       " '1847': 7,\n",
       " '1397': 7,\n",
       " '1718': 7,\n",
       " '1199': 7,\n",
       " '1272': 7,\n",
       " '7500': 7,\n",
       " '1374': 7,\n",
       " '820': 7,\n",
       " '1112': 7,\n",
       " '1036': 7,\n",
       " '1917': 7,\n",
       " '1101': 7,\n",
       " '982': 7,\n",
       " '1276': 7,\n",
       " '1139': 7,\n",
       " '1277': 7,\n",
       " '1041': 7,\n",
       " '1132': 7,\n",
       " '1183': 7,\n",
       " '1392': 7,\n",
       " '1880': 7,\n",
       " '615': 7,\n",
       " '708': 7,\n",
       " '1349': 7,\n",
       " '1545': 7,\n",
       " '1143': 7,\n",
       " '1508': 7,\n",
       " '1096': 7,\n",
       " '1044': 7,\n",
       " '1306': 7,\n",
       " '1427': 7,\n",
       " '1166': 7,\n",
       " '1840': 7,\n",
       " '1910': 7,\n",
       " '1564': 7,\n",
       " '1762': 7,\n",
       " '1357': 7,\n",
       " '1069': 7,\n",
       " '1342': 7,\n",
       " '1262': 7,\n",
       " '3895': 6,\n",
       " '2275': 6,\n",
       " '1893': 6,\n",
       " '1936': 6,\n",
       " '1019': 6,\n",
       " '710': 6,\n",
       " '1242': 6,\n",
       " '1107': 6,\n",
       " '1735': 6,\n",
       " '1274': 6,\n",
       " '830': 6,\n",
       " '1176': 6,\n",
       " '2280': 6,\n",
       " '1846': 6,\n",
       " '1855': 6,\n",
       " '1062': 6,\n",
       " '2690': 6,\n",
       " '1697': 6,\n",
       " '1333': 6,\n",
       " '625': 6,\n",
       " '530': 6,\n",
       " '2010': 6,\n",
       " '1083': 6,\n",
       " '2425': 6,\n",
       " '1286': 6,\n",
       " '1856': 6,\n",
       " '1084': 6,\n",
       " '1102': 6,\n",
       " '1126': 6,\n",
       " '2480': 6,\n",
       " '1614': 6,\n",
       " '1411': 6,\n",
       " '1541': 6,\n",
       " '1167': 6,\n",
       " '1770': 6,\n",
       " '1675': 6,\n",
       " '1247': 6,\n",
       " '1372': 6,\n",
       " '1719': 6,\n",
       " '1512': 6,\n",
       " '1780': 6,\n",
       " '1181': 6,\n",
       " '1173': 6,\n",
       " '860': 6,\n",
       " '654': 6,\n",
       " '933': 6,\n",
       " '1303': 6,\n",
       " '440': 6,\n",
       " '1787': 6,\n",
       " '1257': 6,\n",
       " '560': 6,\n",
       " '1717': 6,\n",
       " '1053': 6,\n",
       " '1484': 6,\n",
       " '924': 6,\n",
       " '1635': 6,\n",
       " '810': 6,\n",
       " '1278': 6,\n",
       " '1362': 6,\n",
       " '1583': 6,\n",
       " '936': 6,\n",
       " '1656': 6,\n",
       " '610': 6,\n",
       " '1304': 6,\n",
       " '929': 6,\n",
       " '1016': 6,\n",
       " '2225': 6,\n",
       " '1127': 6,\n",
       " '1571': 6,\n",
       " '1268': 6,\n",
       " '1028': 6,\n",
       " '1785': 6,\n",
       " '1213': 6,\n",
       " '1755': 6,\n",
       " '1313': 6,\n",
       " '7000': 6,\n",
       " '605': 6,\n",
       " '2774': 6,\n",
       " '1991': 6,\n",
       " '520': 6,\n",
       " '1451': 6,\n",
       " '2040': 6,\n",
       " '1602': 6,\n",
       " '2340': 5,\n",
       " '1226': 5,\n",
       " '1204': 5,\n",
       " '1188': 5,\n",
       " '1329': 5,\n",
       " '1458': 5,\n",
       " '1364': 5,\n",
       " '1925': 5,\n",
       " '1664': 5,\n",
       " '1109': 5,\n",
       " '1077': 5,\n",
       " '1057': 5,\n",
       " '1142': 5,\n",
       " '1358': 5,\n",
       " '1231': 5,\n",
       " '919': 5,\n",
       " '1825': 5,\n",
       " '715': 5,\n",
       " '1457': 5,\n",
       " '1168': 5,\n",
       " '2710': 5,\n",
       " '2119': 5,\n",
       " '1444': 5,\n",
       " '1297': 5,\n",
       " '2830 - 2882': 5,\n",
       " '1123': 5,\n",
       " '1662': 5,\n",
       " '1269': 5,\n",
       " '1436': 5,\n",
       " '1801': 5,\n",
       " '1852': 5,\n",
       " '1293': 5,\n",
       " '865': 5,\n",
       " '1309': 5,\n",
       " '1328': 5,\n",
       " '1654': 5,\n",
       " '1567': 5,\n",
       " '1052': 5,\n",
       " '915': 5,\n",
       " '1326': 5,\n",
       " '1826': 5,\n",
       " '1021': 5,\n",
       " '1585': 5,\n",
       " '4395': 5,\n",
       " '640': 5,\n",
       " '1798': 5,\n",
       " '1351': 5,\n",
       " '1055': 5,\n",
       " '1865': 5,\n",
       " '1408': 5,\n",
       " '1424': 5,\n",
       " '1754': 5,\n",
       " '1738': 5,\n",
       " '1263': 5,\n",
       " '1076': 5,\n",
       " '740': 5,\n",
       " '2850': 5,\n",
       " '907': 5,\n",
       " '410': 5,\n",
       " '1884': 5,\n",
       " '1862': 5,\n",
       " '420': 5,\n",
       " '1683': 5,\n",
       " '1868': 5,\n",
       " '1241': 5,\n",
       " '1009': 5,\n",
       " '2254': 5,\n",
       " '1031': 5,\n",
       " '2360': 5,\n",
       " '1148': 5,\n",
       " '3450': 5,\n",
       " '1586': 5,\n",
       " '1098': 5,\n",
       " '1505': 5,\n",
       " '1573': 5,\n",
       " '1267': 5,\n",
       " '510': 5,\n",
       " '1765': 5,\n",
       " '1208': 5,\n",
       " '1749': 5,\n",
       " '1930': 5,\n",
       " '1344': 5,\n",
       " '1354': 5,\n",
       " '1184': 5,\n",
       " '1253': 5,\n",
       " '1022': 5,\n",
       " '1533': 5,\n",
       " '1935': 5,\n",
       " '1403': 5,\n",
       " '1559': 5,\n",
       " '545': 5,\n",
       " '1244': 5,\n",
       " '635': 5,\n",
       " '4050': 5,\n",
       " '1732': 4,\n",
       " '1504': 4,\n",
       " '946': 4,\n",
       " '1219': 4,\n",
       " '814': 4,\n",
       " '1091': 4,\n",
       " '2830': 4,\n",
       " '497': 4,\n",
       " '1517': 4,\n",
       " '8000': 4,\n",
       " '1521': 4,\n",
       " '1051': 4,\n",
       " '755': 4,\n",
       " '1596': 4,\n",
       " '2273': 4,\n",
       " '1332': 4,\n",
       " '12000': 4,\n",
       " '1592': 4,\n",
       " '1695': 4,\n",
       " '1118': 4,\n",
       " '10000': 4,\n",
       " '1334': 4,\n",
       " '2450': 4,\n",
       " '1138': 4,\n",
       " '1236': 4,\n",
       " '1965': 4,\n",
       " '1891': 4,\n",
       " '1111': 4,\n",
       " '2640': 4,\n",
       " '2439': 4,\n",
       " '1975': 4,\n",
       " '4100': 4,\n",
       " '1980': 4,\n",
       " '2240': 4,\n",
       " '992': 4,\n",
       " '1201': 4,\n",
       " '795': 4,\n",
       " '1008': 4,\n",
       " '1938': 4,\n",
       " '595': 4,\n",
       " '1976': 4,\n",
       " '1904': 4,\n",
       " '3700': 4,\n",
       " '955': 4,\n",
       " '1074': 4,\n",
       " '966': 4,\n",
       " '1929': 4,\n",
       " '1202': 4,\n",
       " '1134': 4,\n",
       " '360': 4,\n",
       " '665': 4,\n",
       " '4750': 4,\n",
       " '1279': 4,\n",
       " '1034': 4,\n",
       " '1806': 4,\n",
       " '967': 4,\n",
       " '1367': 4,\n",
       " '1067': 4,\n",
       " '1291': 4,\n",
       " '1059': 4,\n",
       " '1459': 4,\n",
       " '1708': 4,\n",
       " '1318': 4,\n",
       " '1711': 4,\n",
       " '602': 4,\n",
       " '1394': 4,\n",
       " '580': 4,\n",
       " '1752.12': 4,\n",
       " '1203': 4,\n",
       " '3850': 4,\n",
       " '1837': 4,\n",
       " '1795': 4,\n",
       " '877': 4,\n",
       " '921': 4,\n",
       " '1634': 4,\n",
       " '1072': 4,\n",
       " '418': 4,\n",
       " '1073': 4,\n",
       " '927': 4,\n",
       " '1238': 4,\n",
       " '1776': 4,\n",
       " '1881': 4,\n",
       " '1407': 4,\n",
       " '884': 4,\n",
       " '1343': 4,\n",
       " '3520': 4,\n",
       " '1608': 4,\n",
       " '1234': 4,\n",
       " '2760': 4,\n",
       " '1449': 4,\n",
       " '914': 4,\n",
       " '2160': 4,\n",
       " '1258': 4,\n",
       " '1945': 4,\n",
       " '1104': 4,\n",
       " '1864': 4,\n",
       " '1079': 4,\n",
       " '1432': 4,\n",
       " '1885': 4,\n",
       " '1537': 4,\n",
       " '1702': 4,\n",
       " '2805': 4,\n",
       " '775': 4,\n",
       " '902': 4,\n",
       " '416': 4,\n",
       " '972': 4,\n",
       " '1353': 4,\n",
       " '1563': 4,\n",
       " '1081': 4,\n",
       " '1058': 4,\n",
       " '1933': 4,\n",
       " '1171': 4,\n",
       " '1616': 4,\n",
       " '1698': 4,\n",
       " '1207': 4,\n",
       " '1061': 4,\n",
       " '662': 4,\n",
       " '2070': 4,\n",
       " '1489': 4,\n",
       " '1466': 4,\n",
       " '1386': 4,\n",
       " '1158': 4,\n",
       " '1037': 4,\n",
       " '2135': 4,\n",
       " '2560': 4,\n",
       " '996': 4,\n",
       " '1767': 4,\n",
       " '1842': 4,\n",
       " '1169': 4,\n",
       " '1046': 4,\n",
       " '1611': 4,\n",
       " '861': 4,\n",
       " '3436': 4,\n",
       " '1569': 4,\n",
       " '993': 4,\n",
       " '1259': 4,\n",
       " '1149': 4,\n",
       " '1494': 4,\n",
       " '460': 4,\n",
       " '1311': 3,\n",
       " '2550': 3,\n",
       " '375': 3,\n",
       " '1147': 3,\n",
       " '829': 3,\n",
       " '1960': 3,\n",
       " '1577': 3,\n",
       " '2020': 3,\n",
       " '1117': 3,\n",
       " '664': 3,\n",
       " '1853': 3,\n",
       " '2440': 3,\n",
       " '909': 3,\n",
       " '923': 3,\n",
       " '2422': 3,\n",
       " '1448': 3,\n",
       " '2610': 3,\n",
       " '896': 3,\n",
       " '1984': 3,\n",
       " '1071': 3,\n",
       " '2230': 3,\n",
       " '3526': 3,\n",
       " '1860': 3,\n",
       " '1682': 3,\n",
       " '3067': 3,\n",
       " '5100': 3,\n",
       " '1805': 3,\n",
       " '1301': 3,\n",
       " '2061': 3,\n",
       " '1678': 3,\n",
       " '1858': 3,\n",
       " '1513': 3,\n",
       " '937': 3,\n",
       " '661': 3,\n",
       " '2060': 3,\n",
       " '1307': 3,\n",
       " '1478': 3,\n",
       " '994': 3,\n",
       " '1384': 3,\n",
       " '1531': 3,\n",
       " '2390': 3,\n",
       " '1024': 3,\n",
       " '1182': 3,\n",
       " '2357': 3,\n",
       " '1599': 3,\n",
       " '1737': 3,\n",
       " '1191': 3,\n",
       " '1523': 3,\n",
       " '1121': 3,\n",
       " '1356': 3,\n",
       " '1154': 3,\n",
       " '425': 3,\n",
       " '1788': 3,\n",
       " '1496': 3,\n",
       " '565': 3,\n",
       " '1043': 3,\n",
       " '7200': 3,\n",
       " '1124': 3,\n",
       " '1632': 3,\n",
       " '1498': 3,\n",
       " '1428': 3,\n",
       " '1706': 3,\n",
       " '1819': 3,\n",
       " '1779': 3,\n",
       " '1694': 3,\n",
       " '2289': 3,\n",
       " '1491': 3,\n",
       " '2503': 3,\n",
       " '1621': 3,\n",
       " '4111': 3,\n",
       " '1018': 3,\n",
       " '1212': 3,\n",
       " '1011': 3,\n",
       " '1758': 3,\n",
       " '2099': 3,\n",
       " '1382': 3,\n",
       " '745': 3,\n",
       " '2017': 3,\n",
       " '1539': 3,\n",
       " '1783': 3,\n",
       " '3630 - 3800': 3,\n",
       " '1584': 3,\n",
       " '1644': 3,\n",
       " '1312': 3,\n",
       " '2502': 3,\n",
       " '1172': 3,\n",
       " '735': 3,\n",
       " '2095': 3,\n",
       " '1164': 3,\n",
       " '703': 3,\n",
       " '1488': 3,\n",
       " '1094': 3,\n",
       " '1519': 3,\n",
       " '1839': 3,\n",
       " '690': 3,\n",
       " '891': 3,\n",
       " '1553': 3,\n",
       " '2880': 3,\n",
       " '1672': 3,\n",
       " '1588': 3,\n",
       " '2292': 3,\n",
       " '1144': 3,\n",
       " '1817': 3,\n",
       " '3385': 3,\n",
       " '1227': 3,\n",
       " '1347': 3,\n",
       " '435': 3,\n",
       " '1832': 3,\n",
       " '3730': 3,\n",
       " '1477': 3,\n",
       " '702': 3,\n",
       " '1603': 3,\n",
       " '480': 3,\n",
       " '1591': 3,\n",
       " '3155': 3,\n",
       " '1527': 3,\n",
       " '1897': 3,\n",
       " '3335': 3,\n",
       " '1653': 3,\n",
       " '1713': 3,\n",
       " '2144': 3,\n",
       " '1416': 3,\n",
       " '2732': 3,\n",
       " '1097': 3,\n",
       " '1039': 3,\n",
       " '782': 3,\n",
       " '6500': 3,\n",
       " '3205': 3,\n",
       " '1006': 3,\n",
       " '1726': 3,\n",
       " '2559': 3,\n",
       " '3040': 3,\n",
       " '658': 3,\n",
       " '6200': 3,\n",
       " '1594': 3,\n",
       " '1751': 3,\n",
       " '1942': 3,\n",
       " '663': 3,\n",
       " '1233': 3,\n",
       " '1518': 3,\n",
       " '912': 3,\n",
       " '2159': 3,\n",
       " '3252': 3,\n",
       " '2483': 3,\n",
       " '1398': 3,\n",
       " '1536': 3,\n",
       " '1068': 3,\n",
       " '2470': 3,\n",
       " '9600': 3,\n",
       " '2106': 3,\n",
       " '2264': 3,\n",
       " '2940': 3,\n",
       " '1129': 3,\n",
       " '575': 3,\n",
       " '1985': 3,\n",
       " '1903': 3,\n",
       " '823': 3,\n",
       " '1426': 3,\n",
       " '1066': 3,\n",
       " '2257': 3,\n",
       " '2065': 3,\n",
       " '2062': 3,\n",
       " '1689': 3,\n",
       " '1032': 3,\n",
       " '1209': 3,\n",
       " '2087.01': 3,\n",
       " '1692': 3,\n",
       " '1576': 3,\n",
       " '2770': 3,\n",
       " '1777.26': 3,\n",
       " '1336': 3,\n",
       " '1896': 3,\n",
       " '1086': 3,\n",
       " '2325': 3,\n",
       " '1302': 3,\n",
       " '648': 3,\n",
       " '3630': 3,\n",
       " '2882': 3,\n",
       " '1919': 3,\n",
       " '1017': 3,\n",
       " '1768': 3,\n",
       " '1845': 3,\n",
       " '1469': 3,\n",
       " '1341': 3,\n",
       " '2330': 3,\n",
       " '1200 - 2400': 3,\n",
       " '2249.81 - 4112.19': 3,\n",
       " '1652': 3,\n",
       " '1294': 3,\n",
       " '999': 3,\n",
       " '958': 3,\n",
       " '3050': 3,\n",
       " '1566': 3,\n",
       " '1704': 3,\n",
       " '4600': 3,\n",
       " '670': 3,\n",
       " '672': 3,\n",
       " '2367': 3,\n",
       " '2080': 3,\n",
       " '1626': 3,\n",
       " '1013': 2,\n",
       " '3206': 2,\n",
       " '10961': 2,\n",
       " '2025': 2,\n",
       " '1578': 2,\n",
       " '1808': 2,\n",
       " '1618 - 1929': 2,\n",
       " '3356': 2,\n",
       " '2111': 2,\n",
       " '1934': 2,\n",
       " '2045': 2,\n",
       " '2376': 2,\n",
       " '1613': 2,\n",
       " '711': 2,\n",
       " '3758': 2,\n",
       " '952': 2,\n",
       " '1789': 2,\n",
       " '1622': 2,\n",
       " '2849': 2,\n",
       " '3210': 2,\n",
       " '1493': 2,\n",
       " '2006': 2,\n",
       " '1676': 2,\n",
       " '1507': 2,\n",
       " '1381': 2,\n",
       " '3090': 2,\n",
       " '2140': 2,\n",
       " '3522': 2,\n",
       " '1430 - 1630': 2,\n",
       " '2388': 2,\n",
       " '589': 2,\n",
       " '645 - 936': 2,\n",
       " '827': 2,\n",
       " '1331': 2,\n",
       " '1492': 2,\n",
       " '1363': 2,\n",
       " '2375': 2,\n",
       " '3004': 2,\n",
       " '1376': 2,\n",
       " '3940': 2,\n",
       " '1623': 2,\n",
       " '606': 2,\n",
       " '971': 2,\n",
       " '8321': 2,\n",
       " '1136': 2,\n",
       " '4250': 2,\n",
       " '1548': 2,\n",
       " '5500': 2,\n",
       " '2665': 2,\n",
       " '1804 - 2273': 2,\n",
       " '1417': 2,\n",
       " '2524': 2,\n",
       " '3170': 2,\n",
       " '1159': 2,\n",
       " '2030': 2,\n",
       " '726': 2,\n",
       " '485': 2,\n",
       " '142.61Sq. Meter': 2,\n",
       " '1463': 2,\n",
       " '3198': 2,\n",
       " '1390 - 1600': 2,\n",
       " '1607': 2,\n",
       " '2658': 2,\n",
       " '2172': 2,\n",
       " '725': 2,\n",
       " '1419.59': 2,\n",
       " '3951': 2,\n",
       " '1950.2': 2,\n",
       " '1814': 2,\n",
       " '1554': 2,\n",
       " '2265': 2,\n",
       " '1248': 2,\n",
       " '3754': 2,\n",
       " '1423': 2,\n",
       " '3565': 2,\n",
       " '765': 2,\n",
       " '1388': 2,\n",
       " '1876': 2,\n",
       " '882': 2,\n",
       " '682': 2,\n",
       " '1677': 2,\n",
       " '1584.01': 2,\n",
       " '1319': 2,\n",
       " '1002': 2,\n",
       " '1237': 2,\n",
       " '1211': 2,\n",
       " '1859': 2,\n",
       " '2462': 2,\n",
       " '1283': 2,\n",
       " '2493': 2,\n",
       " '4025': 2,\n",
       " '1823': 2,\n",
       " '1255 - 1350': 2,\n",
       " '1454': 2,\n",
       " '1369.1': 2,\n",
       " '1284': 2,\n",
       " '3657': 2,\n",
       " '1752': 2,\n",
       " '2002': 2,\n",
       " '1666': 2,\n",
       " '1486': 2,\n",
       " '1995': 2,\n",
       " '613 - 648': 2,\n",
       " '585': 2,\n",
       " '3009': 2,\n",
       " '2378': 2,\n",
       " '856': 2,\n",
       " '1103': 2,\n",
       " ...}"
      ]
     },
     "execution_count": 128,
     "metadata": {},
     "output_type": "execute_result"
    }
   ],
   "source": [
    "df[\"total_sqft\"].value_counts().to_dict()"
   ]
  },
  {
   "cell_type": "code",
   "execution_count": 129,
   "metadata": {},
   "outputs": [
    {
     "name": "stdout",
     "output_type": "stream",
     "text": [
      "['1056', '2600', '1440', '1521', '1200', '1170', '2732', '3300', '1310', '1020', '1800', '2785', '1000', '1100', '2250', '1175', '1180', '1540', '2770', '1100', '600', '1755', '2800', '1767', '510', '1250', '660', '1610', '1151', '1025', '2100 - 2850', '1075', '1760', '1693', '1925', '700', '1070', '1724', '1290', '1143', '1296', '1254', '600', '660', '1330.74', '600', '970', '1459', '800', '869', '1270', '1670', '2010', '1185', '1600', '1200', '3010 - 3410', '1500', '1407', '840', '4395', '845', '5700', '1160', '3000', '1100', '1140', '1220', '1350', '1005', '500', '1358', '1569', '1240', '2089', '1206', '1150', '2511', '460', '4400', '1660', '2957 - 3450', '1326', '1325', '1499', '3000', '1665', '708', '1060', '710', '1000', '1000', '1450', '1200', '1296', '1540', '2894', '1330', '1200', '1200', '2502', '650', '2400', '1007', '1200', '966', '1630', '1640', '782', '1260', '1800', '1413', '1116', '1530', '3700', '2497', '1540', '1436', '1100', '276', '1427', '2061', '3067 - 8156', '2650', '1282', '1050', '1600', '945', '1500', '950', '1870', '1600', '880', '1200', '1535', '950', '1360', '1042 - 1105', '1280', '1260', '5000', '3050', '1563.05', '1000', '1167', '4000', '1828', '890', '1612', '1034', '1710', '957', '1250', '2795', '1125', '1020', '1200', '1735', '2050', '3750', '1350', '1063', '1904', '4200', '2000', '1145 - 1340', '1425', '1500', '1060', '1470', '1300', '450', '1152', '1350', '1550', '1500', '600', '400', '705', '770', '1242', '1700', '2144', '1704', '1070', '1846', '1340', '1025', '1015 - 1540', '1200', '2250', '1550', '1200', '1800', '1200', '1327', '1186', '1783', '1400', '980', '1285', '912', '1225', '1075', '1260', '1282', '1909', '1359', '1207', '1736', '2850', '1595', '1798', '1475', '1580', '1295', '3600', '589', '1415', '1787', '1787', '1475', '2000', '984', '1520 - 1740', '2405', '1080', '1500', '1900', '805', '1153', '1148', '1110', '1100', '1290', '1500', '1080', '1933', '3500', '1060', '645', '2600', '645', '1644', '1285', '1200', '910', '1577', '4050', '2420', '800', '1060', '1270', '900', '1280', '1200', '1025', '1108', '1200', '3045', '2900', '1500', '1295', '1162', '1035', '1600', '1464', '1866', '700', '1804', '913', '1868', '883', '900', '1664', '2026', '1210', '4111', '1762', '1252', '861', '1420', '1450', '1490', '1075', '1425', '1200', '1280', '1084', '1015', '1017', '1027', '1069', '1349', '1005', '1417', '1475', '950', '2000', '880', '1863', '1010', '1425', '1450', '1847', '1100', '525', '1665', '1664', '1850', '1438', '1560', '1350', '1550', '1140', '1200', '850', '1280', '1170', '1113', '1385', '1128', '1200', '1200', '2390', '2400', '1464', '1200', '1200', '1150', '1645', '1000', '2650', '1192', '2135', '1173', '1020', '3122', '1600', '1200', '1230', '1250', '1325', '1850', '525', '1200', '1350', '1260', '1800', '11', '1100', '1508', '1592', '1388', '630', '2000', '1762', '950', '3252', '1116', '1308', '1200', '1500', '500', '1075', '530', '1205', '1075', '930', '1380', '2483', '1166', '1050', '2023.71', '1200', '1600', '1935', '451', '1800', '1400', '1801', '1451', '1200', '1160', '1000', '950', '1629', '1580', '1826', '1245', '1145', '825', '1693', '1113.27', '1460', '1050', '1260', '700', '1656', '1208', '1910', '3252', '1200', '1200', '1175', '1000', '1200', '2390', '12000', '550', '34.46Sq. Meter', '1185', '750', '1200', '1550', '1760', '1125', '1350', '1000', '1090', '1200', '1991', '1060', '1105', '985', '1533', '1590', '1120', '1069', '1933', '1194', '1150', '1240', '1419', '1200', '2150', '1450', '1630', '708', '1000', '11890', '1250', '1400', '1670', '1750', '1404', '1715', '630', '1752.12', '1650', '1295', '1800', '1346', '1200', '1150', '3309', '1190', '1620', '950', '5000', '2450', '1220', '850', '1020', '1100', '1150', '1760', '1800', '1070', '1500', '1440', '900', '1200', '1130', '1320', '1270', '1200', '4800', '1200', '929', '1150', '1125', '500', '1200', '1464', '3600', '2000', '1208', '1130', '1753', '4500', '600', '1196', '1150', '1128', '1000', '1035', '950', '1075', '1040', '720', '1511', '1300', '1545', '375', '1062', '1115', '1000', '883', '1195', '1200', '700', '1246', '660', '8500', '1600', '2805', '1584', '3000', '1175', '1595', '1353', '1599', '1150', '5230', '1155', '1200', '1000', '3000', '1867', '1251', '1028', '1222', '1170', '2400', '1385', '1372', '1282', '5000', '3000', '1135', '1768', '1325', '1599', '1500', '2610', '1286', '2845', '1600', '1195 - 1440', '3450', '1102', '1350', '1200', '1300', '1800', '950', '525', '656', '1780', '1056', '595', '1080', '2225', '1126', '1490', '2000', '1550', '1600', '1160', '4144', '2100', '1404', '2230', '1544', '1305', '1230', '1200', '1460', '1200 - 2400', '967', '540', '715', '2500', '1578', '1020', '1020', '1253', '1180', '961', '1419', '1709', '1600', '416', '1100', '1430', '1260', '1630', '1249', '1450', '2791', '600', '834', '1125', '2060', '12000', '891', '1133', '1075', '3000', '2440', '1200', '1075', '1140', '940', '2160', '1090', '1500', '4104', '1790', '1920', '1374', '1445', '711', '1500', '1720', '1400', '1030', '1200', '1375', '1050', '2250', '1000', '469', '3800', '883', '1820', '1440', '3600', '2500', '1225', '4000', '875', '750', '1180', '1194', '1500', '1160', '4125Perch', '2378', '1128', '1500', '1220', '1210', '1100', '1200', '3385', '1641', '1200', '1260', '1720', '1120 - 1145', '1210', '2200', '1075', '1702', '1630', '1141', '2072', '4400 - 6640', '1200', '1350', '3090 - 5002', '1180', '35000', '1355', '600', '1200', '1640', '1200', '1190', '2400', '1019', '1875', '1250', '1200', '1140', '1683', '1515', '2118', '1380', '1083', '600', '2300', '1240', '1750', '1230', '1500', '985', '1500', '1125', '950', '4400 - 6800', '1580', '1092', '1090', '2264', '1033', '810', '1045', '1337', '1200', '1580', '1500', '1640', '1570', '1470', '1160', '1050', '1855', '1460', '1823', '1094', '1153', '1325', '1200', '1590', '1210', '1200', '1202', '1202', '1200', '1688', '1020', '1185', '1235', '3205', '1077', '1415', '2330', '805', '425', '1155', '5270', '656', '1100', '1150', '600', '1468', '4300', '2280', '1341', '1279', '2225', '1185', '1750', '1152', '1000', '1300', '2760', '1070', '1101', '775', '667', '1070', '1875', '735', '4360', '1750', '1215', '600', '820', '1160 - 1195', '1779', '1105', '1000Sq. Meter', '1650', '1694', '2376', '1975', '674', '1185', '445', '900', '1475', '1618', '1120', '2181', '1200', '600', '1556', '1179', '1296', '1275', '1875', '1400', '1222', '940', '1185', '1779', '1615', '4000 - 5249', '1056', '1100', '920', '1602', '1176', '675', '1352', '1717', '10961', '2119', '1246', '1141', '1157', '1025', '650', '1349', '1566', '2830', '1320', '1780', '1091', '3670', '918', '1950', '1695', '1705', '1375', '525', '1447', '1114', '1450', '460', '1022', '1000', '1128', '1180', '1000', '1200', '3761', '1339', '1400', '1040', '1198', '1200', '1691', '1075', '1630', '1240', '1115 - 1130', '1665', '2489', '1142', '1976', '5500', '1853', '600', '1567', '1090', '1200', '2400', '1175', '1200', '995', '884', '900', '1170', '1225', '1342', '1345', '1320', '1100Sq. Yards', '1140', '1300', '1652', '2072', '1740', '1360', '1145', '1540', '1278', '630', '1100', '1200', '2500', '520 - 645', '1015', '3300', '4500', '1356', '823', '1200', '1050', '1180', '1116', '1070', '1385', '1000', '1897', '1005', '1575', '975', '1904', '930', '525', '686', '2400', '1410', '2238', '1174', '3800', '2225', '1250', '918', '1250', '1800', '1170', '1300', '793', '1710', '1082', '1001', '1500', '1590', '2400', '1554', '1000 - 1285', '4239', '884', '1045', '1019', '1935', '1135', '1680', '2470', '2825', '2480', '1260', '1800', '1799', '3606 - 5091', '400', '1047', '1282', '1020', '1080', '1495', '3260', '1611', '3500', '1500', '1500', '3206', '1540', '1639', '700', '1303', '1005', '650 - 665', '1305', '600', '1300', '1440', '901', '1725', '900', '1060', '1020', '1535', '530', '1464', '1350', '1115', '1175', '1113', '1200', '1640', '650', '1325', '950', '1396', '1050', '1825', '1190', '1220', '1565', '1891', '900', '1161', '633 - 666', '2400', '315', '665', '1175', '1425', '1200', '1200', '1255', '2112.95', '600', '1810', '1200', '1033', '1548', '1611', '1400', '1485', '2400', '1025', '600', '1225', '1256', '2268', '1100', '1141', '400', '1400', '4100', '5.31Acres', '15', '1175', '1100', '1843', '1200', '1460', '1530', '1467', '950', '1246', '711', '1194', '1358', '1500', '1420', '1250', '1280', '1209', '4200', '1215', '1315', '1800', '1600', '1600', '3968', '1563', '1560', '2169', '900', '1050', '3235', '1200', '1140', '1500', '1560', '1100', '1260', '1036', '1662', '1464', '1234', '1403', '915', '3000', '1150', '3900', '850', '929', '2400', '1350', '1135', '1405', '1200', '2805', '1161', '1290', '2557', '1480', '3300', '1350', '1580', '1470', '500', '1346', '1600', '720', '30Acres', '1200', '1200', '1340', '6136', '918', '1500', '1315', '2400', '1390', '1330', '3100', '1824', '1420', '750', '1260', '1561', '812', '1060', '1120', '1225', '2144', '1200', '880', '1639', '1240', '1500', '1243', '1575', '1027', '1082', '1637', '1665', '1265', '1691', '1100', '24', '1500', '3205', '1666', '1115', '1070', '1128', '1162', '1339', '1192', '1920', '1255', '1357', '1600', '1225', '2400', '1570', '1093', '1865', '1200', '1039', '1246', '1985', '1590', '4000', '775', '1000', '1800', '1035', '1520', '1360', '6000', '1117', '1200', '1330', '1937', '1128', '1053', '1198', '1152', '1200', '1625', '1397', '1523', '883', '700', '1170', '1200', '2400', '1480', '1897', '996', '1875', '1500', '3095', '1390', '1445 - 1455', '697', '710', '910', '1025', '884 - 1116', '1200', '1453', '3335', '850 - 1093', '1281', '565', '1024', '1620', '1254', '1300', '1233', '1200', '1510', '950', '1945', '1008', '1265', '1255', '2689', '1200', '1403', '1535', '1500', '1475', '1390', '1278', '1133', '1560', '2900', '1170', '1200', '1697', '1651', '1560', '1192', '1078', '800', '1349', '2300', '1680', '1314', '1060', '820', '5000', '2000', '856', '1621', '1200', '1484', '600', '14000', '500', '485', '1050', '1617', '550', '1384', '1408', '1150', '1410', '2150', '2292', '2006', '1508', '1040', '1240', '1535', '1180', '2200', '1400', '500', '4800', '1984', '3000', '1960', '1035', '2150', '1700', '3024', '1586', '2264', '2325', '1120', '1440 - 1884', '1128', '1200', '924', '1600', '1006', '1200', '1250', '1200', '957', '1140', '1050', '1565', '1190', '2842', '1558.67', '630', '1403', '1542', '2750', '3596', '1635', '1239', '1194', '1596', '1009', '1726', '1535', '1300', '3100', '1800', '665', '4050', '1500', '925', '3356', '1395', '1415', '1419', '1121', '1082', '1100', '1606', '1650', '4634', '1206', '1495', '840', '710', '1210', '1523', '1232', '680', '1355', '1430', '1275', '1070', '1200', '2000', '1200', '1610', '1140', '1143', '3467.86', '1530', '980', '1485', '1500', '1280', '1265', '1132', '1262', '940', '1515', '1300', '1840', '890', '1655', '2060', '1730', '2195', '1650', '1200', '1079', '1085', '5000', '1075', '1380', '1450', '1200', '3200', '1639', '1200', '1739', '4346', '935', '510', '1200', '1178', '1375', '1065', '1450', '999', '4400', '1350', '1100', '1835', '2090', '1519', '1267', '1150', '1146', '1200', '1550', '850', '2200', '3329', '785', '2900', '1610', '921', '850', '2700', '1700', '1020', '1090', '3600', '1027', '1185', '850', '1197', '3500', '920', '716Sq. Meter', '1105', '1850', '1300', '1595', '3073', '755', '4050', '1300', '1215', '900', '1145', '1093', '1213', '1654', '1105', '1611', '1367', '1010', '750', '1535', '620', '982', '1700', '1330', '2500', '1475', '1410', '440', '1614', '1363', '650', '1015', '1156', '1100', '1455', '930', '1650', '1200', '700', '2900', '1890', '2197', '3522', '1240', '1440', '650', '764', '900', '1693', '1445', '900', '1030', '1381', '1100', '1575', '1200', '1200', '1080', '2280', '1360', '1865', '1157', '674', '1405', '1160', '1600', '1790', '1128', '1180', '1450', '340', '2000', '1050', '1125', '1246', '1372', '1330', '2465', '1300', '1420', '810', '1065', '700', '547.34 - 827.31', '1050', '1250', '865', '1200', '1756', '750', '628', '1200', '1207', '1765', '1130', '1532', '1650', '1200', '804.1', '1200', '1197', '1200', '1385', '1010', '2225', '1180', '1525', '1100', '1435', '400', '1200', '1272', '1205', '980', '1225', '1541', '1610', '1694', '600', '950', '1560', '1201', '1500', '1785', '1258', '910', '1297', '1291', '1070', '1012', '1260', '1282', '1843', '2400', '3356', '2790', '1330', '1400', '1192', '1000', '1297', '580 - 650', '1490', '1373', '1035', '3750', '1010', '1195', '1750', '1052', '1180', '3680', '2100', '2863', '1128', '2700', '1120', '2424', '1300', '1090', '2710', '3040', '1330', '1427', '1294', '1580', '400', '1808', '3516', '1194', '900', '1310', '900', '3850', '925', '2400', '1290', '3770', '1390', '1200', '845', '1537', '1135', '1512', '900', '1230', '1378', '1277', '1985', '8000', '1210', '890', '2550', '1200', '3198', '1464', '2483', '1550', '4111', '975', '2500', '1690', '1063', '2572', '2200', '1600', '1250', '520', '4000', '1390', '1185', '1219', '1564', '3425 - 3435', '1100', '1300', '1600', '1600', '1482', '1000', '1200', '600', '1200', '600', '2400', '1469', '551', '1160', '1205', '1550', '1745', '1028', '1700', '1200', '2700', '1100', '1200', '1269.72', '1266', '1060', '1168', '1552', '1804 - 2273', '500', '1080', '2100', '1300', '920', '817', '1310', '1650', '1515', '1157', '2400', '3000', '2200', '1243', '1530', '2070', '1815', '3900', '1000', '982', '1232', '1282', '654', '1181', '1075', '1200', '1616', '1800', '1200', '1306', '1626', '2700', '1585', '1370', '3250', '1495', '2000', '2400', '1375', '3630 - 3800', '1400', '1100', '660 - 670', '1200', '1150', '1080', '1645', '1760', '595', '1200', '4000 - 5249', '1410', '1090', '540', '1300', '1890', '1254', '2800', '1275', '1245', '1170', '1193', '850', '1678', '1600', '1750', '1125', '2200', '1500Sq. Meter', '2800', '1200', '1000', '2780', '1320', '8000', '2422', '1100', '882', '845', '883', '620 - 933', '1595', '1280', '1700', '920', '1300', '1450', '1757', '600', '2400', '1240', '750', '1330', '1062', '1078', '1460', '1200', '1200', '912', '142.61Sq. Meter', '2400', '2028', '980', '1000', '1050', '2611', '1875', '1065', '1800', '1163', '1098', '1725', '4000', '1128', '1320', '1705', '1418', '1500', '1100', '1464', '812', '2695 - 2940', '1280', '1420', '1200', '727', '1200', '2774', '2000', '1722', '2800', '2000 - 5634', '1650', '840', '914', '1482', '1724', '1670', '1184', '1200', '1200', '927', '1242', '1220', '1360', '2800', '1180', '1697', '550', '1225', '1690', '1660', '1488', '1250', '1050', '1027', '1699', '1205', '712', '950', '1200', '1476', '1070', '2160', '1296', '1800', '1570', '1300', '1550', '770', '1870', '1650', '1429', '1167', '1035', '1188', '1200', '1574Sq. Yards', '884', '1194', '1026', '1400', '1115', '1200', '2690', '975', '675', '1900', '600', '1101', '1700', '3606', '1258', '1560', '3630', '2000', '2790', '1494', '1482', '800', '1185', '1100', '1300', '1225', '1758', '1145', '1180', '1260', '3450 - 3472', '1190', '1691', '3675', '1305', '2337', '1200', '1206', '1350', '1140', '1250', '600', '1225', '800', '1020', '2100', '1350', '925', '1800', '2000', '1510', '5800', '1614', '682', '1200', '900', '1632', '1041', '5080', '3012', '1530', '1450', '1200', '1200', '1508', '600', '1188', '2690', '1174', '1350', '1870', '1072', '52272', '726', '1345', '1200', '980', '1050', '993', '1300', '1743', '1204', '1200', '1480', '950', '640', '972', '1840', '1128', '680', '2400', '1045', '955', '1360', '1150', '3450', '1115', '920', '1030', '1564', '1045', '1200', '1277', '2479.13', '1846', '1100', '1690', '1200', '3042', '1640', '1068', '1135', '1925', '1615', '650', '1200', '1150', '930', '1410', '600', '2000', '1354', '1050', '600', '1320', '1600', '3500', '1000', '1130', '1238', '2204', '1200', '1364', '900', '1745', '1200', '1020', '1650', '1550', '1440', '1329', '916', '688', '1358', '1331', '686', '1050', '2106', '1718', '1530', '1206', '1075', '1200', '1936', '2172.65', '1100', '1260', '990', '800', '1117', '1685', '740', '1080', '1500', '1800', '1700', '850', '1891', '1400', '1172', '1400', '896', '1180', '2460', '850', '530', '1550', '1699', '2025', '500', '500', '1146', '2475', '1455', '800', '765', '1521', '1600', '3155', '2900', '1765', '1980', '1900', '1265', '1034', '1012', '1070', '3555', '1270', '585', '2045', '1490', '6150', '883', '671', '1156', '2017', '3122', '1635', '4400', '1296', '2400', '1139', '1230', '581.91', '1245', '1158', '3951', '550', '360', '1350', '1670', '1600', '1307', '1050', '1703', '1210', '1025', '1140', '1343', '1560', '925', '1420', '1415', '1210', '1852', '1250', '1100', '1150', '1100', '1350', '1546', '1424', '1398', '1650', '1200', '1476', '500', '1322', '432', '1100', '4750', '1285', '1150', '1430', '1350', '1350', '1185', '1760', '2400', '900', '1297', '1840', '950', '1200', '950', '1250 - 1305', '1571', '1031', '1485', '1109', '2200', '950', '1200', '1161', '2350', '1003', '1350', '1080', '1255', '1250', '1700', '1200', '824', '1875', '1320', '9600', '1330', '1220', '1111', '1197', '2519', '1340', '1450', '1837', '1200', '1238', '1405', '1690', '1620', '1673', '1090', '1112', '1385', '545', '985', '670 - 980', '1080', '1430', '1050', '2000', '4800', '1533', '2800', '2610', '1750', '1200', '1352', '1754', '1560', '3012', '3584', '1470', '1035', '2400', '1160', '1100', '1170', '595', '1650', '1875', '800', '1375', '1235', '750', '1400', '1270', '1105', '1375', '2168', '1200', '1065', '3800', '3125', '825', '1095', '720', '1440', '870', '1195', '1200', '1530', '1708', '975', '750', '1200', '1920', '1200', '1183', '1140', '1550', '1110', '1500', '1105', '1800', '2800', '1000', '1190', '1350', '3067', '1929', '1525', '1775', '1125', '900', '1155', '1200', '1268', '1500', '630', '1525', '1060', '1687', '1847', '1410', '1075', '3526', '3000', '1500', '1010', '1875', '1200', '983', '1101', '1140', '1215', '1007', '2039', '1020', '1198', '4000', '1470', '1370', '1316', '1350', '1050', '1005.03 - 1252.49', '921', '1010', '1015', '1200', '1179', '1850', '870', '1605', '2800', '2475', '3000', '2400', '1000', '1200', '1200', '1200', '1200', '1255', '1085', '1592', '1313', '1934', '1200', '3600', '935', '877', '936', '1470', '1050', '1232', '2225', '1200', '1901', '1819', '1464', '2400', '3630 - 3800', '5000', '1200', '1256', '1100', '4800', '1435', '3245', '1845', '2400', '1140', '1200', '2254', '1750', '1020', '515', '1893', '3025', '830', '600', '1075', '3200', '1200', '1233', '1255', '1200', '2145', '1500', '740', '1250', '1210', '1525', '540', '1240', '1245', '1865', '1004 - 1204', '1075', '2200', '1155', '1520', '3122', '1290', '2300', '3000', '361.33Sq. Yards', '400', '1340', '900', '1800', '987', '1720', '1040', '900', '1030', '2556', '1850', '750', '1028', '1270', '1655', '940', '1050', '600', '946', '1726', '2121', '1404', '1525', '1025', '1575', '860', '1223', '3750', '1197', '1150', '4800', '1040', '1310', '1788', '1144', '1070', '1200', '1862', '1200', '970', '1646', '4395', '1200', '1995', '2400', '1085', '1139', '1092', '1767', '1700', '1692', '1645', '1345', '1100', '1408', '2400', '1920', '6040', '2072', '1420', '2040', '1220', '1200', '1300', '1150', '1470', '1063', '1311', '3500', '600', '1400', '2200', '1430', '1060', '1000', '1760', '2010', '1480', '1230', '1300', '800', '4850', '1100', '1752.12', '957', '645 - 936', '1942', '1000', '668', '3000', '600', '1089', '1800', '960', '1036', '1583', '3300', '1100', '800', '1246', '850', '1196', '1697', '1000', '1567', '1200', '3750', '950', '1022', '1018', '2000', '1322', '1800', '1460', '990', '2400', '1635', '3526', '3400', '2770', '2710 - 3360', '1533', '1720', '2000', '1185', '900', '395', '1031', '2400', '2650', '2400', '1330', '1259', '1570', '1075', '1216', '1428', '1160', '600', '1475', '1754', '1639', '1804', '1200', '1135', '1260', '1440', '2160', '700', '1220', '1200', '1300', '605', '1230', '1444', '924', '1000', '600', '1200', '845', '700', '1187', '1625', '1200', '1452.55', '2357', '1200', '1139', '600', '1660', '1170', '1448', '1762', '1105', '1825', '296', '1200', '1185', '1320', '1058', '1220', '925', '1200', '1160', '600', '1411', '1550', '3250', '2475', '2249.81 - 4112.19', '2503', '2524', '1063', '1077', '1200', '1500', '1045', '1290', '1400', '1600', '3095', '1545', '1680', '1350', '950', '1050', '1305', '800', '2700', '1100', '3500', '1634', '1352', '1145', '1240', '2200', '1020', '3600', '1168', '1205', '1195', '1028', '1175', '1550', '1826', '2400', '1603', '1350', '714', '1215', '1405', '1142', '4000', '1870', '1313', '1945', '1573', '1255', '1400', '1235', '1380', '1500', '1238', '1465', '1418', '1650', '351', '1279', '1870', '1500', '2526', '1550', '3436 - 3643', '1845', '1360', '1150', '1260', '1200', '965', '1350', '1447', '1229', '1027', '1153', '2830 - 2882', '1065', '1030', '1340', '4000', '600', '1410', '1055', '1304', '2720', '990', '1035', '596 - 804', '1120', '1300', '1239', '1403', '1365', '1165', '1130', '1776.42', '900', '1194', '1107', '2319', '1520', '1536', '3000', '1050', '1850', '1112', '1535', '1050', '2400', '1250', '1187', '1164', '1395', '2072', '1450', '1550', '1315', '3067', '1210', '1075', '11338', '1215', '1470', '30000', '1590', '1050', '1306', '2000', '1445', '1220', '3190', '1215', '1920', '1390', '800', '600', '1196', '1550', '1418', '1655', '1115', '1170', '1035', '1306', '750', '1917', '1615', '1071', '1325', '3000', '1400', '1246', '1215', '1200', '450', '1200', '945', '4460', '1175', '920', '3024', '1600', '750', '2400', '955', '1750', '1425', '2150', '1165', '1050', '1370', '1374', '1754', '1847', '1850', '3297', '1187', '1400', '600', '1350', '3000', '693', '1980', '1021', '1165', '1756', '1739', '1280', '1215', '950', '1082', '1050', '1080', '1100', '3200', '1311', '1608', '1160', '1170', '1155', '1255', '1065', '674', '1936', '2289', '1100', '2257', '1055', '1530', '1700', '1575', '3500', '1263', '1255 - 1863', '1043', '1255', '1300 - 1405', '590', '1550', '1220', '1900', '1360', '1100', '1455', '1035', '1152', '1299', '1157', '1050', '1050', '1246', '1929', '1285', '1200', '3161', '1850', '1025', '1124', '1012', '4500', '871', '1020', '1550', '3515', '1410', '3500', '1118', '1098', '1130', '1145', '950', '1051', '600', '1102', '1478', '645', '823', '880', '600', '1991', '1100', '1745', '1226', '680', '1100', '1200', '1450', '3366', '1150', '1843', '2200', '1090', '1132', '1375', '1500', '760', '1180', '918', '600', '1200', '1372', '2400', '1728', '2215', '1200', '1280', '800', '1455', '440', '1500', '1800', '1525', '1204', '1225', '800', '1650', '880', '4200', '1200', '1152', '1005', '1562', '5000', '810', '1200', '1555', '1550', '1190', '1070', '1200 - 2400', '1020', '1610', '700', '1300', '1420', '1200', '1069', '1900', '1655', '1155', '1300', '1100', '1030', '2105', '1700', '1760', '6200', '1400', '1200', '912', '1102', '1535', '1243', '918', '1500', '3000', '1476', '1200', '606', '1100', '1295', '527', '1300', '680', '1260', '1140', '1500', '2321', '1390', '1725', '3067', '1186', '1230', '600', '1313', '900', '1250', '1200', '660', '1036', '2700', '1100', '1500 - 2400', '1500', '525', '1015', '812', '1360', '2167', '1200', '1165', '1274', '1151', '1060', '1626', '1035', '1272', '965', '1600', '1070', '1570', '117Sq. Yards', '780', '1000', '1200', '7500', '1700', '1850', '904', '1121', '1385', '1270', '1450', '2400', '730', '1580', '1111', '1125', '977', '674', '600', '2540', '1290', '600', '795', '700', '1463', '1000', '1306', '2401', '1670', '1875', '1200', '1804', '2065', '1225', '934 - 1437', '900', '1350', '700', '980 - 1030', '1160', '1680', '1043', '1200', '1040', '1357', '1600', '1225', '1500', '1130', '2500', '1700', '1549', '1400', '1080', '1180', '780', '1800', '1225', '890', '1005', '1320', '1475', '1564 - 1850', '1110', '1300', '600', '1128', '1452.19', '2400', '2600', '2500', '630', '1243', '960', '1690', '735', '1365', '2849', '1420', '1570', '850', '1575', '1418', '1050', '1065', '1340', '1610', '1160', '1092', '1194', '1455', '734', '799', '1896', '1100', '1350', '1355', '1128', '1350', '3875', '1493', '1098', '1900', '1460', '2350', '1600', '1091', '1180', '1366', '1685', '1260', '3010', '1330', '1200', '1346', '630', '1446 - 1506', '1850', '2350', '755', '800', '1194', '3850', '4235', '800', '2250', '1352', '2002', '4000', '1060', '1419.59', '1196', '1220', '1595', '1260', '1100', '1550', '1180', '4000', '1662', '1285', '1080', '1862', '1419', '1410', '1560', '1100', '1634', '5530', '1150', '1100', '1616', '1392', '1798', '1675', '792', '2000', '600', '1700', '1248', '1147', '1100', '1527', '2400', '525', '1100', '1118', '1476', '2100', '1215', '1332', '1350', '600', '1243', '1105', '1500', '1200', '1251', '883', '1400', '1800', '1703', '2500', '1250', '933', '461.82', '1262', '915', '1370', '1210', '2392', '1500', '1065', '3100', '1515', '1800', '1445', '1300', '989', '1300', '1185', '1350', '1045', '1205', '1260', '1320', '1500', '1250', '1199', '1385', '1222', '1149', '2180', '1200', '12000', '1200', '1818', '1070', '1640', '1350', '630', '1430', '2430', '1500', '1084', '1186', '1255', '3400', '1541', '3596', '1295', '1000', '2820', '1370', '1100', '4772', '1370', '1370', '1200', '2000', '3500', '1200', '2400', '1220', '1950', '1178', '1286', '1160', '918', '1563', '1326', '1350', '3960', '1240', '1325', '1100', '3875', '1605', '5600', '1260', '1553', '1280', '1550', '1445', '1550', '1515', '1332', '1652', '1570', '5400', '794', '1200', '3600', '1200', '1650', '600', '2800', '1750', '1053', '1100', '1665', '4051', '5500', '1447', '1012', '1900', '1308', '3250', '1351', '1000', '1200', '1140', '2249.81 - 4112.19', '1250', '1290', '1424', '1320', '1662', '8321', '1200', '1975', '1295', '1777', '1900', '1576', '1020', '2100', '648', '1167', '1000', '1220', '2350', '1259', '2000', '1800', '1991', '1665', '1234', '1340', '1170', '995', '1075', '1025', '2721', '2000', '2500', '1325', '1314', '2265', '4800', '1026', '1200', '2220', '1070 - 1315', '1420', '1888', '1300', '1216', '3000', '1559', '1290', '2400', '905', '1069', '829', '1900', '3040Sq. Meter', '1300', '1115', '2409', '2150', '1305', '1252', '2400', '1200', '1750', '545', '1375', '1313', '3640', '1693', '1160', '1200', '1255', '1000', '900', '1700', '1875', '1700', '1749', '1500', '1175', '1280', '1200', '1610', '1070', '1200', '1127', '1210', '600', '4190', '1364', '2268', '1150', '1146', '1345', '1110', '750', '1156', '1247', '1058', '950', '420', '600', '1520', '1215', '900', '2350', '1050', '1672', '2800', '1500', '1400', '500Sq. Yards', '2700', '920', '1200', '1250', '1817', '2043', '1140', '4346', '1464', '1468', '1555', '1200', '1150', '970', '2500', '1166', '2779', '1350', '900', '1300', '1190', '1495', '1224', '1350', '940', '1100', '1300', '1480', '1105', '2600', '1517', '3800', '1615', '1500', '1082', '1365', '1000', '1392', '1086', '1586', '1100', '1065', '1500', '1575', '1975', '820', '1745', '1223', '1200', '1200', '665', '1351', '1355', '3900', '1588', '900', '440', '3385', '1370', '1500', '2280', '1100', '1247', '2000', '1020.07', '1033', '1460', '1150', '5965', '1141', '2806 - 3019', '4200', '1665', '1295', '1230', '1080', '1000', '2400', '613 - 648', '1708', '1697', '3537', '615', '1350', '1430 - 1630', '1083', '1460', '1084', '1035', '2400', '460', '950', '1285', '2000', '1200', '1070', '1801', '1697', '1199', '2300', '1340', '3800', '600', '1125', '1200', '1050', '956', '1000', '1596', '1200', '1296', '1200', '1639', '1219', '1200', '1218', '920', '2559', '525', '1427', '1270', '920', '2700', '1740', '1355', '1530', '1372', '2363', '3895', '1950', '885', '600', '1270', '1380', '1339', '1130', '1085', '1430', '1451.5', '6200', '1490', '1650', '1286', '925', '3016', '1000', '1215', '1200', '1336', '673', '1200', '600', '1600', '1200', '2480', '2500', '2400', '1143', '1470', '1584', '1785', '2292', '1460', '1500', '1200', '3300', '1230', '650', '1480', '1220', '1570', '3000', '1665', '1350', '4000', '1100', '1350', '1719', '664', '1011', '2400', '1680', '704 - 730', '700', '1520', '1350', '1760', '875', '1231', '1174', '1560', '1464', '2200', '850', '1750', '2024', '1500', '2100', '2408', '1080', '2070', '1020', '1500', '1575', '3250', '1175', '1030', '1440', '1500', '1380', '1200', '705', '2240', '1584.01', '1340', '1800', '1200', '685', '925', '1230', '1200', '1125', '1100', '2400', '1400', '1200', '1858', '1260', '3530', '1185', '1200', '1255', '3436', '1335', '1999', '1200', '1397', '1200', '3950', '1200', '1616', '1200', '1270', '1140', '525', '1200', '700', '1205.47', '1200', '1700', '750', '1090', '3600', '2400', '923', '3595', '1050', '1495', '1482 - 1846', '1485', '1033', '1400', '500', '944', '3250', '1216', '1100', '1743', '1274', '2500', '1512', '3100', '1650', '1875', '1350', '1219', '1200', '2400', '1141', '1151', '832', '915', '3259', '1115', '2072', '1200', '1300', '1457', '1262', '1196', '900', '420', '1160', '1115', '1315', '1500', '1127', '1397', '1173', '1090', '2720', '1230', '3200', '858', '1868', '1689.28', '600', '1425', '1200', '1350', '4200', '1310', '2805 - 3565', '970', '1397', '1157', '1125', '1157', '1241', '660', '4000', '2340', '596', '10000', '1200', '1910', '1139', '3122', '1033', '1168', '877', '1340', '1405', '1800', '1750', '1360', '675', '985', '1300', '1850', '1490', '620', '1130', '1080', '3126', '1410', '1375', '1290', '1318', '1128', '4428', '1051', '3500', '2400', '1327', '2912', '1301', '650', '1200', '1500', '2700', '1350', '1000', '984', '1819.18', '900', '1355', '2145', '2475', '1118', '910', '1250', '1304', '1615', '1400', '1070', '3500', '1132', '2000', '2400', '794', '1090', '1500', '2059', '525', '1447', '1269', '4800', '1070', '1150', '1208', '1185', '1200', '888', '1015', '532', '1060', '700', '902', '600', '1175', '1365', '984', '2700', '1475', '1300', '1200', '1453', '1550', '1666', '1410', '4025', '1845', '1676', '1137', '1360', '1374', '1700', '3227', '2145', '2400', '2170', '1080', '1790', '550', '1270', '1033', '1000', '2940', '1240', '1650', '883', '1500', '1730', '1915', '1545', '1865', '1150', '1200', '963', '1200', '2600', '1700', '1682', '1371', '901', '600', '1730', '1200', '1500', '3785', '3500', '1203', '1357', '1600', '350', '1665', '1400', '835', '815', '1444', '1277', '1521', '1134', '995', '2760', '1325', '4000', '1525', '1320', '650', '1858', '1150', '769', '1571', '1445', '1590', '902', '2238', '1090', '1712', '1088', '1575', '2150', '1920', '1000', '1100', '1089', '1106', '927', '1339', '923', '2900', '1175', '975', '2400', '1330', '1183', '1758', '1200', '1255', '600', '1100', '1170', '2400', '1530', '1420', '1200', '1045', '1591', '1680', '675', '1055', '1918', '1280', '1560', '1145', '2106', '1801', '1200', '1718', '1306', '1320', '1350', '2990', '3800', '1344', '1893', '1107', '1200', '1190', '1000', '2400', '1000', '2113', '1100', '1200', '1884', '1110', '1027', '1250', '1470', '1150', '1200', '703', '1400', '1195', '1302', '1583', '1488', '600', '1385', '3262', '1600', '1150', '4500', '1263', '1200', '1299', '1330', '1282', '1853', '861', '1600', '1256', '1390', '1550', '1200', '919', '1625', '1195', '2400', '1159', '1386', '1197', '2690', '3293 - 5314', '1295', '1310', '1132', '2350', '2400', '1645', '1200', '3000', '1937', '1015', '1080', '1350', '1149', '1185', '1720', '2080', '1500', '1566', '2386', '1500', '1290', '1531', '1839', '4200', '1400', '550', '1140', '1210 - 1477', '2000', '1100', '1200', '1618', '2830', '1315', '1141', '1080', '1200', '1111', '1022', '1275', '900', '1224', '1135', '1050', '1535', '1392', '1050', '1513', '1621', '892', '1205', '1355', '1250', '1650', '1200', '1400', '726', '1500', '3895', '1079', '1170', '1104', '950', '4818', '1650', '1559', '1100', '1750', '1215', '1868', '1130', '1570', '1691', '4355', '1225', '1690', '1418', '1896', '605', '800', '900', '750', '780', '908', '3369 - 3464', '3216', '2400', '1400', '1092', '1255', '1500', '1296', '925', '1023', '600', '1020', '1530', '1650', '1605', '1925', '1190', '1374', '1140', '1725', '1075', '1574', '965', '1550', '1205', '1082', '1215', '2483', '1200', '1500', '2360', '3198', '1452', '1329', '1125', '1200', '1350', '1125 - 1500', '2600', '1200', '1220', '1255', '1904', '1329', '1200', '2135', '2770', '813', '3884', '3876', '800', '4750', '1500', '1880', '1440', '1575', '1630', '1180', '1090', '1020', '2425', '1097', '1070', '1000', '1120', '1150', '1900', '1141', '937', '1075', '1000', '1450', '897', '936', '1280', '1050', '1350', '1325', '1174', '1890', '735', '500', '1304', '1653', '1075', '1212', '1100', '3436', '1200', '1140', '1200', '1532', '2776', '1531', '1270', '1325', '1200', '1156', '2000', '1260', '1934', '1060', '1476', '1185', '1265', '3200', '1196', '1280', '800', '1175', '1850', '2400', '1195', '2000', '600', '800', '1180', '1050', '1400', '2360', '1030', '1512', '929', '1252', '1485', '1124', '2400', '1407', '1482', '1163', '1570', '3480', '520', '2000', '1352', '1152', '1575', '1965', '1300', '1', '957', '1740', '1080', '1060', '975', '1150', '1738', '1250', '1788', '1151', '1300', '1150', '1380', '1645', '1141', '1175', '1355', '1150', '5800', '1000', '1007', '3000', '1436', '4000', '2372', '1500', '167Sq. Meter', '1200', '1016', '1100', '1080', '1070', '1532', '1040', '3100', '1076 - 1199', '1430', '1160', '3262', '2100', '1190', '1827', '1210', '1500', '1050', '1251', '1600', '1128', '1820', '2072', '1510', '1925', '2651', '2072', '1000', '1752', '960', '1180', '2270', '650', '1200', '1180', '1300', '1157', '1300', '1305', '2006', '1290', '1170', '971', '1400', '1200', '1155', '1725', '700', '7000', '1112', '1178', '1274', '915', '1650', '760', '1540', '1206', '1645', '1200', '1200', '2342', '1200', '1056', '4800', '1450', '1161', '1097', '850', '1715', '2300', '1200', '1080', '1200', '2400', '1400', '1500', '381 - 535', '1230', '1640', '1700', '1478', '6600', '1020', '1200', '1275', '1600', '1110', '1627.86', '620', '3004', '1133', '1182', '1500', '3900', '1200', '1128', '2215 - 2475', '900', '1100', '635', '2062', '1874', '600', '1171', '2020', '1059', '1315', '1760', '1200', '1192', '1645', '1250', '524 - 894', '1340', '2388', '1369.1', '1355', '1150', '1938', '2462', '1636', '1430', '2000', '993', '1260', '1700', '1270', '1500', '2300', '7500', '1650', '1109', '1280', '2885', '1200', '1600', '1462', '607', '930', '4500', '1200', '2600', '3000', '1418', '4200', '1125', '1825', '1320', '3000', '1490', '1650', '750', '1400', '4104', '5000', '3295', '1150', '1200', '965', '812', '1100', '1180', '1145', '1027', '1215', '1200', '1015', '2400', '3000', '3300', '1076', '1300', '1300', '1512', '1053.4', '540 - 670', '1153', '2080', '1255', '315Sq. Yards', '1583', '1505', '1365', '1200', '1810', '440', '975', '1250', '1530', '1300', '1115', '1308', '1194', '1490', '10000', '1592', '1222', '1267', '656', '3400', '4500', '1200', '1698', '1500', '2000', '1152', '550', '900', '1410', '1419', '1200', '1800', '990', '1016', '1100', '850', '1095', '2000', '1444', '1415', '1500', '1600', '1105', '1225', '2560', '1080', '2400', '1856', '1464', '2100', '1150', '1200', '1650 - 2538', '1485', '2500', '1200', '1036', '3445', '1400', '1110', '1150', '715', '1200', '1200', '2283', '1790', '1453', '1400', '1400', '1700', '1591', '1515', '2500', '975', '1382', '1750', '1533', '3815', '1100', '3730', '1500', '1391', '1160', '620', '2400', '1200', '4827', '1482', '1405', '1190', '1174', '1155', '1411', '745', '1000', '923', '1000', '1276', '1460', '1355', '833', '1200', '1750', '1200', '669', '2200', '1594', '1790', '1020', '3250', '1037', '1345', '1070', '3000', '1385', '1207', '1140', '1220', '3811', '3596', '1965', '1760', '1225', '1075', '1000', '1891', '1322', '1095', '3600', '1045', '1545', '1996', '1125', '1560', '2000', '3100', '780', '1350', '2275', '1350', '1464', '1570', '708', '1680', '1400', '1310', '3300', '1175', '1428', '750', '3252', '1194', '750', '1080', '1200', '1200', '1200', '1320', '1842', '1146', '440', '1048', '1801', '1232', '1150', '1868', '1445', '1466', '1730', '3860', '1185', '3027', '2400', '1185', '1150', '2000', '875', '1075', '1760', '1600', '910', '1000', '1215', '1734', '1280', '1113', '1272', '1240', '704', '1100', '896', '3657', '1200', '2800', '2790', '3500', '3600', '1500', '1200', '1096', '580', '1094', '1100', '2725 - 3250', '2503', '1145', '1550', '1830', '1746', '1280', '918', '645', '1305', '1207', '1678', '950', '1200', '1070', '1732.46', '1639', '1360', '2592', '4470', '720', '1656', '985', '1999', '1050', '1440', '1600', '1253', '1200', '1360', '1086', '1655', '2600', '1418', '1270', '1410', '1150', '600', '1440', '1200', '1200', '1410', '1200', '600', '624', '1060', '3960', '1200', '1200', '1917', '950', '3040', '1250', '1235', '722', '2775', '1200', '1400', '1225', '1220', '705', '1880', '1200', '1550', '1893', '1650', '1113', '1500', '1800', '1586', '4000', '1541', '1830', '1200', '1800', '1015', '1120', '706', '1350', '610', '1900', '1200', '3000', '1075', '1290', '1200', '1150', '1360', '4500', '935', '1730', '1260', '675', '4000', '950', '600', '2500', '3216', '800', '1991', '1115', '1900', '1109', '2340', '1200', '4356', '1005', '416', '1394', '2138', '1550', '1300', '1265', '1140', '1050', '1100', '1012', '1600', '1326', '1654', '1705', '1070', '1700', '910.2', '1140', '4960', '2254', '945', '2462', '1350', '615', '1110', '575', '1025', '1758', '3179', '1342', '1800', '2928', '1140', '1608', '1645', '1410', '1200', '1275', '3800', '909', '1200', '1080', '1200', '1092', '1932', '1156', '924', '1330', '1917', '985', '2400', '1800', '1290', '655', '1800', '1360', '1785', '4000', '1645', '1235', '900', '662', '1440', '1215', '845', '1525', '1000', '1255', '1560', '2100', '1620', '1595', '1095', '835', '2182', '1418', '1900', '2700', '1070', '2000', '2400', '755', '1645', '2400', '645', '3900', '2400', '2416', '919', '1725', '1346', '1070', '1225', '880', '640', '1310', '1190', '1645', '1350', '1404', '1105', '900', '1650', '1100', '2100', '1948', '1464', '1210', '4000', '1252', '1200', '3905', '2600', '1300', '1130', '1200', '1690', '4500', '950', '1020', '2107', '1735', '915', '1450', '2215', '2431', '1804', '1600', '1280', '1255', '1320', '1257', '1240', '1200', '1850', '1255', '870', '1789', '800', '660', '600', '1155', '1235', '2675', '1025', '1395', '1530', '1252', '1081', '1255', '2062', '1220', '1408', '1180', '715', '1230', '1035', '3360', '1300', '1100', '1216', '1450', '705', '1385', '1200', '1310', '1043', '1320', '1900', '1140', '1100', '1586', '975', '1365', '1263', '1565', '1163', '2882', '2320', '1750', '1143', '1936', '660', '700', '1402', '4640', '1000', '1000', '818', '1680', '2422', '1145', '1190', '1145', '1575', '9000', '1200', '1500', '2560', '1583', '700', '950', '1041', '1085', '1070', '1165', '1000', '1169', '1150', '1840', '1550', '997', '1457', '1000', '1000', '1500', '958', '1165', '1200', '1787', '1288', '1430', '3035', '750', '900', '1200', '1500', '1230', '780', '1220', '1110', '2100', '1380', '1690', '1130', '1213', '900', '1199', '5000', '1974 - 2171', '700', '661', '1804', '1710', '1030', '1220', '1530', '1200', '2000', '300', '1751', '800', '1255', '1778', '1100', '1480', '1358', '580', '1197', '1200', '1705', '1310', '1132', '1200', '814', '1575', '1302', '1800', '2006.8', '1100', '2400', '830', '435', '1590', '1140', '1090', '1922', '965', '883', '1062', '888 - 1290', '1358', '1108', '1197', '1190', '3754', '1749', '1750', '1691', '1449', '1360 - 1890', '1400', '1310', '1100', '1230', '1750', '1450', '1810', '1246', '1420', '2658', '1450', '1200', '1367', '2254', '1160', '1200', '1711', '750', '1120', '950', '1560', '1250', '1225', '1200', '1340', '1846', '1155', '1205', '1140', '1140', '1300', '1051', '1134', '2500', '12000', '1135', '1745', '500', '1665', '1220', '1868', '640', '2300', '1210', '1351', '1636', '2400', '1464', '418', '1339', '2370', '1530', '1100', '1350', '1290', '1220', '1846', '1847', '3100', '1430', '935', '1350', '540', '1590', '1286', '1141', '1554', '3520', '7500', '1749', '2250', '1140', '1632', '1000', '1065', '1520', '1075', '5', '1539', '1342', '1004', '1295', '1098', '1070', '1016', '1450', '654', '5985', '1080', '1046', '1950', '1610', '2493', '1151', '1125', '992', '1000', '2400', '1850', '1174', '2466 - 2856', '1100', '1095', '3580', '900', '1082', '1350', '1314', '1290', '1010', '2200', '1636', '1050', '1200', '1520', '2500', '1067', '1060', '955', '1418', '1200', '700', '1366', '1090', '1250', '3600', '950', '1470', '1250', '800', '1494', '1445', '1397', '606', '861', '1170', '2461', '1205', '1224', '660', '1153', '2400', '4500', '1200', '1450', '1139', '1530', '825', '1575', '650', '1120', '1700', '1090', '1897', '1200', '700', '1437', '1856', '1500', '1036', '3000', '1125', '1320', '2215', '660', '1730', '750', '1804', '1795', '1050', '2100', '1199', '1350', '1100', '1000', '1254', '600', '940', '1280', '2155', '3200', '4260', '1255', '1388', '905', '1176', '1390', '2400', '1160', '2800', '1200', '1583', '1252', '1170', '1350', '1075', '972', '1486', '555', '4830', '850', '1282', '2790', '2383', '1103', '1577', '1465', '1600', '1090', '1721', '1100', '1450', '1071', '2266', '2065', '1800', '1150', '1200', '1123', '1884', '930', '1145', '1328', '950', '1250', '1115', '1318', '3300', '1280', '1230', '1420', '2111', '1100', '1750', '2550', '700', '1050', '1235', '1200', '900', '1146', '1200', '2400', '1200', '615', '1070', '1538', '1355', '3080', '1800', '1400', '1123', '1200', '787', '1082', '1096', '1200', '1140', '1130', '550', '1058', '1269', '946', '3400', '2689', '1976', '1820', '1329', '1350', '1250', '1205', '800', '1339', '938', '450', '1100', '600', '1060', '1125', '810', '1060', '1749', '1200', '1100', '660 - 700', '720', '6613', '1925', '502', '3339', '1475', '1550', '966', '1350', '1300', '4400', '1559', '1246', '2790', '1410', '1300', '1339', '900', '1104', '900', '1550', '670', '1483', '1540', '1200', '1255', '600', '1036', '1460', '1230', '1340', '1600', '2162', '919', '1070', '1733', '1221', '1041', '2550', '1400', '600', '710', '1500', '3122', '2061', '2400', '1255', '2425', '1031', '1210', '950', '1376', '1161', '1303', '1418', '1200', '1825', '1015', '1150', '1010', '1508', '1275', '1460', '946', '1110', '1832', '1088', '1564', '1030', '660', '1700', '1100', '1205', '1950', '1080', '2800', '999', '900', '1300', '1265', '1200', '1974', '1180', '1350', '1560', '2800', '1085', '1300', '1600', '1127', '795', '1850', '1020', '1475', '1200', '1345', '849', '1706', '2100', '1250', '1260', '1265', '1260', '1045', '3895', '385 - 440', '1100', '1113', '2774', '1210', '700', '1155', '1132', '1359', '2631', '1145', '600', '1200', '830', '1009', '1800', '1226', '1500', '1363', '1400', '1165', '2792', '700', '1060', '1200', '1518', '1495', '1575', '1440', '1545', '1470', '1500', '1450', '1179', '1650', '1095', '856', '1143', '1349', '1280', '480', '1216', '2493', '1290', '1200', '1156', '1230', '1070', '2100 - 5405', '1235', '1117', '1724', '1200', '600', '1930', '1216', '1452', '1355', '7500', '2145', '957', '925', '1550', '4000', '2100', '1115', '1692', '1100', '1385', '760', '1335', '910', '1610', '1341', '1200', '1285', '2100', '1679', '2675', '1016', '1500', '660', '2448', '924', '500', '1800', '1255', '1040', '1062', '770 - 841', '950', '1216', '1300', '1390', '1033', '1390', '1020', '524 - 894', '1140', '670', '2171', '1136', '1477', '1001', '1040', '1060', '1240', '3500', '42000', '1070', '1253', '1190', '1312', '750', '1615', '1095', '1745', '1050', '2080', '1220', '1793', '1100', '1385', '1200', '2017', '400', '1400', '960', '1125', '1551', '600', '1246', '3200', '1060', '1384', '620', '1005', '1200', '1400', '2400', '1096', '1180', '1300', '1020', '600', '3563', '1165', '1685', '1580', '1210', '1030', '1100', '1255', '1482', '1344', '1275', '462', '3300', '1210', '1320', '1532', '1245', '1212', '1230', '1000', '2257', '1246', '1080', '3Cents', '1360', '1260', '1200', '1418', '1200', '950', '1020', '1400', '1440', '800', '1310 - 1615', '1175', '1185', '2250', '1178', '36000', '825', '1250', '1113.12', '1718', '1010', '900', '1500', '540', '1020', '1194', '1470', '600', '1108', '3895', '700', '1600', '1850', '1250', '600', '1140', '1200', '985', '982', '600', '2640', '1314', '1700', '1077', '1782 - 2000', '2000', '1643', '1200', '1116', '1020', '621', '1740', '1225', '1241', '1041', '1050', '4400', '1309', '1128', '1430', '1065', '1085', '750', '981', '1548.3', '2302', '1410', '1525.84', '1200', '1030', '1852', '1160', '918', '1255', '1200', '1150', '2700', '1150', '1227', '1255', '840', '1198', '1200', '188.89Sq. Yards', '2600', '2072', '797', '1350', '2500', '2215', '525', '2700', '1500', '900', '1355', '1465', '1006', '2000', '1128', '850', '1310', '1390', '1390', '2396', '1170', '1385', '1160', '1160', '1200', '1475', '1939', '850', '675', '1060', '1235', '600', '1250', '1460', '1690', '850', '1843', '1680', '1047', '1100', '3250', '1120', '1095', '970', '1200', '1100', '1685', '1148', '1050', '1465', '3401', '630', '1850', '1200', '1750', '1350', '1760', '1440', '1200', '1100', '1140', '1469 - 1766', '1410', '1434', '1180', '1160', '1343', '1184', '2246', '4510', '1305', '3785', '1540', '1550', '1345', '975', '1140', '1152', '3200', '1033', '1800', '1102', '1223', '1762', '560', '2000', '1410', '1853', '1455', '1138', '2556', '1200', '1200', '204Sq. Meter', '1200', '1870', '1199', '800', '1360', '1230', '2000', '1200', '1047', '6000', '1200', '1255 - 1350', '725', '1645', '870', '1026', '2000', '1710', '1766', '500', '1100', '1221', '680', '1278', '1025', '1175', '870 - 1080', '600', '850', '710', '1165', '625', '1340', '937', '1500', '750', '45Sq. Yards', '1475', '2230', '2200', '900', '1116', '948', '970', '1519', '1200', '1760', '4400', '1914', '1820', '1820', '1565', '1334', '924', '914', '500', '2145', '1200', '1650', '3940', '1020', '1180', '1255', '2777.29', '1014', '920', '695', '2273', '1140', '3000', '1180', '2400', '850', '1200', '3160', '1769', '133.3Sq. Yards', '1554.3', '1243', '4920', '905', '627', '2180', '2400', '1435', '3405.1', '1620', '1862', '674', '1220', '1027', '1025', '1430', '1235', '1291', '1498', '2180', '1000', '922', '850', '750', '1123', '1235', '1250', '2403', '984', '1305', '1200', '600', '2790', '2010', '995', '1277', '1236', '1265', '525', '2570', '2400', '1442', '1224', '1205', '1233', '1312', '1449', '1090', '2100', '1390', '1200', '600', '1000', '2400', '1732', '1290', '1840', '1917', '1100', '1455', '2774', '1200', '1425', '1655', '2805', '600', '1040', '1126', '1600', '1250', '1800', '1200', '2050', '530', '2580 - 2591', '883', '1490', '1295', '1275', '800', '1200', '1063', '656', '1125', '881', '1350', '700', '1936', '1680', '1253', '1640', '1082', '1065', '2100', '1070', '1280', '1200', '1125', '1755', '1210', '951', '1500', '1652.5', '1381', '1085', '905', '1685', '1200', '1151', '3532', '1665', '800', '1050', '1030', '1257', '1600', '1465', '1650', '1243', '680', '1230', '1300', '1000', '1146', '1200', '2601', '2159', '1255', '1130', '1200', '1040', '1500', '906', '1180', '1200', '850', '1200', '1374', '4700', '613 - 648', '2400', '1027', '1200', '2384', '1033', '1200', '2017', '1500', '700', '1150', '1495', '1302', '905', '1303', '1350', '1380', '1620', '4800', '1000', '800', '1250', '1750', '997', '1760', '1322', '1365', '1500', '1256', '941', '5000', '1665', '1414', '1270', '800', '4100', '1800', '850', '712', '2563 - 2733', '900', '900', '1200', '654', '708', '600', '1680', '990', '1380', '1088', '1414', '1240', '1810', '2005', '1185', '1200', '1070', '1265', '1100', '1035', '605 - 624', '1000', '1179', '1650', '2800', '3500', '1430', '1130', '1850', '1340', '4260 - 4408', '600', '2582', '1160', '1200', '1116', '600', '2663', '1090', '1100', '1365', '1484', '1630', '1451', '1330', '2127', '875', '1260', '1173', '1445', '2250', '1500', '1349 - 3324', '1197', '1200', '3930', '1450', '1187', '4000', '1050', '1370', '1036', '1275', '2010', '1418', '1265', '1576', '1148', '1000', '1293', '1200', '1210', '1126', '1840', '1440', '1300', '1276', '600', '1216', '840', '1240', '1126', '45', '1162', '1301', '658', '1350', '2500', '78.03Sq. Meter', '1208.51', '1133', '1760', '1075', '940', '1145', '1255 - 1350', '3900', '3300 - 3335', '1300', '2475', '2040', '1200', '2420', '1216', '1459', '1622', '1843', '1274', '600', '1430', '1800', '1565', '1670', '1695', '1410', '1060', '1120', '880', '1083', '1435', '1425', '900', '2400', '693', '600', '2435', '1920', '630', '1075', '1200', '705', '1200', '1532', '1330', '1200', '1530', '1105', '1566', '1630', '1256', '1200', '1595', '1000', '1475', '2400', '1000', '2360', '1737', '1000', '2100', '3600', '883', '1243', '1776', '1347', '1330', '600', '3730', '1459', '2259', '2700', '1008', '1200', '2328', '600', '660', '1800', '3100', '1180 - 1630', '602', '1710', '1500', '1539', '806', '1100', '1151', '920', '1350', '1200', '1265', '600', '1700', '1600', '1550', '1560', '1000', '1243', '1200', '1403', '1010', '1416', '1628', '1660.4', '1680', '1595', '1507', '2560', '1949', '800', '1000', '905', '2480', '1495', '1605', '1290', '1100', '2100', '995', '500', '3526', '1425', '1455', '550', '1385', '7000', '4000', '1060', '1080', '1783', '1520', '1060', '1267', '1155', '2500', '1240', '1570', '1019', '1355', '1537', '4075', '1550', '1100', '1750', '1466', '1550', '2300', '540', '950', '2800', '1020', '2880', '1987', '1305', '2100', '1125', '1225', '1255', '1191', '3600', '1165', '865', '1850', '497', '1232', '1732', '1614', '600', '2072', '919', '2100', '672', '800', '1200', '2849', '1000', '1216', '2245', '1476', '1852', '1225', '1597', '2423', '1152', '1762', '1400', '1530', '2400', '1185', '1890', '1247', '700', '1000', '1201', '830', '1165', '1100', '1890', '1685', '3131', '1165', '827', '396', '1200', '635', '4000', '1050', '600', '1819.18', '1500', '1500', '2850', '1751', '4750', '1020', '1148', '1856', '1754', '4273', '1060', '1300', '3000', '1325', '1261', '1100', '700', '1675', '3400', '3260', '1180', '1160', '1863', '1914', '1458', '1200', '1105', '3035', '1200', '1662', '1556', '918', '1455', '1205', '1194', '1200', '1100', '1405', '929', '3436', '1035', '2100', '1065', '1365 - 1700', '1500', '1200', '1093', '1250', '1680', '1146', '1250', '1451', '1424', '1435', '658', '1300', '1242', '1910', '1610', '1127', '1075', '1155', '1280', '1250', '2200', '2400', '876', '1850', '1314', '690', '3500 - 3600', '1230', '920', '1850', '1073', '1540', '1550', '1198', '1656', '1900', '1910', '1003', '122Sq. Yards', '1495', '2172', '2400', '1200', '1548', '5400', '2830 - 2882', '1689', '1031', '2119', '1200', '1060', '1100', '1350', '1050', '1250', '1100', '1200', '1420', '1500', '1942', '1985', '950', '1200', '1752', '1200', '1200', '1480', '600', '1826', '1035', '2600', '1667', '934', '84.53Sq. Meter', '1620', '1070', '3600', '1280', '1400', '1200', '1330', '1012', '1611', '1405', '1515', '1830', '1710', '935', '2197', '600', '1678', '1410', '1125', '1191', '1200', '1525', '1464', '920', '651', '600', '645', '1185', '1190', '2.09Acres', '2830 - 2882', '1355', '1200', '7000', '1200', '500', '1250', '1480', '3300', '1482 - 1684', '1206', '1357', '925', '909', '3000', '1100', '3000', '1100', '975', '1306', '1200', '610', '1484', '1125', '1447', '2882', '750', '2075', '1250', '1272', '1050', '625', '840', '2502', '583', '900', '1115', '1464', '2200', '750', '1600', '1365', '1300', '1200', '1260', '1190', '2480', '1250', '1500', '1510', '1187', '1120', '981 - 1249', '1717', '2099', '1100', '1200', '1465', '1500', '4050', '1255', '1220', '1065', '1765', '1281', '1210', '1215', '1200', '1237', '1300', '1105', '1505', '3900', '1186', '900', '750', '1083', '1430', '1056', '2108', '1650', '1220', '1198', '1190', '900', '2690', '1340', '2940', '2400', '2324', '1260', '2254', '2990', '1800', '820', '1296', '1190', '1173', '1800', '1102', '913', '1176', '1620', '2968', '1519', '1345', '1594', '1250', '1056', '1200', '1290', '1150', '1464', '1200', '861', '1047', '1200', '1200', '1065', '2300', '1000', '1682', '1756', '4000', '1050', '1238', '814', '1145', '965', '750', '1300', '1590', '644', '982', '1260', '1555', '2500', '1225', '1085', '1640', '1595', '1196', '1859', '1079', '550', '1118', '1198', '1100 - 1225', '1830', '1160', '1485', '2070', '750', '957', '2400', '1268', '1450', '1600', '1330', '1355', '1272', '1100', '1220', '1075', '800', '995', '900', '1140', '1480', '1710', '2106', '2400', '3800', '800', '1602', '1660', '1549', '700', '1012', '1469', '1216', '1065', '1411', '1400', '1250', '1245', '1115', '1000', '1565 - 1595', '1800', '1500', '645', '1275', '1494', '1949', '1020', '883', '3200', '1680', '2232', '2010', '1240', '1213', '1835', '1800', '2932', '3425', '945', '1504', '1569', '1755', '1760', '1240', '1450', '1000', '3820', '2000', '1215', '24Guntha', '1330', '1178', '1500', '2040', '2000', '1602', '1200', '1194', '1800', '2400', '1700', '1200', '1500', '1240', '3000', '1737', '900', '1280', '1560', '883', '750', '2400', '900', '1030', '1850', '1831', '1095', '1320', '1270 - 1275', '1000', '1820', '1075', '1500', '360', '840 - 1010', '1140', '1145', '1862', '947', '697Sq. Meter', '700', '1120', '2700', '1805', '1100', '1355', '1677', '2500', '1560', '2060', '1716', '1864', '638', '1200', '1150', '937', '1490', '4856', '4003', '1100', '1000', '1060', '1047', '1200', '1420', '1539', '1550', '1555', '600', '1553', '920', '1740', '1855', '1724', '1020', '1000', '1250', '1450', '1200', '1140', '900', '550', '1450', '1500', '700', '1200', '1050', '1600', '1625', '1492', '2830 - 2882', '1489', '1560', '1140', '1431', '1682', '1198', '3664', '1550', '1026', '1260', '690', '539', '1200', '2400', '1200', '2500', '1186', '1039', '1500', '1500', '2520', '1225', '1350', '1030', '1550', '1490', '1520', '4100', '1391', '1200', '1200', '2500', '1322', '2173', '1200', '1200', '1170', '1125', '655 - 742', '1250', '1025', '1075', '1900', '1435', '1175', '1464', '900', '585', '3170', '1602', '1220', '2500', '2145', '960', '907', '1210', '900', '1230', '1350', '1150', '1404', '1050', '1020', '1285', '1018', '1200', '1115', '1600', '1480', '2500', '480', '1435', '450', '600', '1590', '800 - 2660', '936', '1181', '1741', '1750', '1050', '1027', '596', '3463', '1600', '2790', '1000', '1120', '1200', '1200', '1570', '1500', '1315', '1140', '1105', '1200', '905', '2400', '1185', '1083', '1458', '1555', '1200', '1308', '1024', '1194', '1450', '1639', '1870', '1232', '1719', '975', '2000', '1230', '1350', '1076', '2400', '995', '2120', '2400', '850', '1096', '1107.83', '505', '1320', '1408 - 1455', '1320', '2901', '1315', '1000', '1596', '1750', '2403', '1350', '4050 - 4075', '1175', '921', '4000', '1713', '1200', '1900', '1664', '1795', '600', '1240', '1965', '600', '4111', '1200', '1112', '3000', '1136', '914', '1270', '1050', '1385', '990', '845', '1485', '1460', '1450', '1360', '1375', '1125', '720', '1460', '1107', '1158', '800', '600', '1760', '3200', '600', '1350', '600', '1125', '1706', '1600', '1200', '1755', '1200', '1200', '1266.67', '1800', '1200', '1300', '800', '4800', '942 - 1117', '1128', '2000', '1210', '2710', '1151', '7500', '1464', '1017', '920', '1200', '1000', '1750', '1163', '1650', '1800', '1100', '1200', '1410', '1933', '1200', '1608', '2679', '1156', '1230', '770', '1777.26', '1339', '3044', '1080', '3150', '2400', '1450', '1075', '1163', '1200', '1200', '3090', '1299', '1130', '1170', '1750 - 2640', '2600', '1140', '1900', '1090', '1110', '705', '1089', '880', '1080', '1093', '1480', '1703', '1200', '1690', '1305', '1257', '1150', '1194', '2000', '1500', '1025', '980', '1200', '2225', '1022', '882', '1153', '1175', '1560', '650', '600', '1350', '1200', '1200', '800', '2093', '1320', '1275', '1215', '1130', '1444', '950', '1000', '1240', '600', '1231', '1300', '1713', '1200', '3004', '1310', '790', '1744', '1605', '1250', '2476', '1260', '1615', '1180', '1255', '1025', '1877', '1649', '2600', '2500', '1542', '1418', '1012', '1200', '1115', '1680', '1171', '1027', '1700', '1090', '1232', '766', '1200', '525', '142.61Sq. Meter', '1452', '1254', '3600', '1593', '1333', '1100', '1375', '1650', '1430', '940', '435', '1160', '1500', '1890', '1050', '1200', '1027', '1390 - 1600', '3000', '1459', '1711', '1250', '645', '875', '1334', '1140', '1115', '1200', '1776', '2072', '1600', '1200', '920', '598 - 958', '1310', '1631', '525', '1395', '2000', '1232', '1075', '1205', '1200', '2340', '1179', '1013', '1160', '1500Cents', '1200', '1200', '1255', '1100', '1069', '1200', '1400', '1065', '1395', '1725', '1007', '1436', '4250', '1645', '1200', '940', '4300', '2850', '1740', '1194', '3761', '1829', '1800', '1000', '5720', '800', '675', '1390', '1500', '2047', '1202', '1012', '2132', '1350', '605', '1331', '1200', '1150', '1200', '1800', '600', '1280', '1007', '1370', '925', '1500', '450', '1200', '1341', '1350', '992', '1163', '1229', '600', '1219', '1525', '1147', '1412', '1200', '1044', '1190', '1240', '1352', '1100', '1330', '1700', '1355', '1200', '400', '1342', '1615', '1340', '1200', '400', '1080', '1600', '1200', '2700', '1780', '1605', '7200', '646', '1200', '900', '1830', '690', '650', '1800', '715', '1230', '1065', '1350', '1080', '900', '946', '1500', '1711', '1200', '950', '1656', '1075', '1752.12', '6000', '1540', '600', '665', '1665', '1145', '1185', '1200', '1693', '2456', '2559', '1155', '1610', '1200', '1530', '1709', '600', '2700', '840', '1400', '1200', '1439', '1375', '2990', '1200', '1315', '1500', '3600', '1178', '1430', '1400', '1093', '1200', '5000', '1200', '2210', '1150', '1435', '600', '1173', '1140', '1717', '1325', '1370', '1025', '1409', '1200', '1200', '1740', '1232', '1200', '5924', '1250', '1475', '2100', '552', '1065', '1000', '1225', '650', '1067', '1364', '1750', '1240', '1200', '1540', '1504', '1116', '2365', '1308', '864', '1200', '1069', '1333', '1800', '6136', '1698', '1275', '1060', '1160', '1484', '675', '1200', '1310', '1806', '3000', '2145', '1693', '1230', '1200', '1310', '1150', '1385', '1066', '2293', '720', '1625', '1246', '2100', '2400', '3900', '1000', '907', '3500', '1395', '1180', '1903', '1175', '1272', '1490', '1144', '2400', '1143', '2500', '1216', '1044', '1352', '1552', '1785', '810', '1650', '1595', '1060', '1410', '1523', '1591', '1640', '450', '1305', '1590', '1240', '1200', '1100', '1180', '1115', '845', '1567.2', '1310', '26136', '959', '1200', '883', '1050', '1390', '132Sq. Yards', '1280', '1280', '1614', '1000', '1196', '1220', '950', '2400', '1141', '1200', '1380', '855', '645', '922', '1200', '1240', '1070', '1293', '1380', '1599', '967', '1885', '860', '1075', '1050', '1595', '1350', '1204', '2990', '1035', '1000', '1457', '1194', '1100', '1655', '1691.2', '1215', '1010 - 1300', '1639', '1685', '1008', '1100', '2122', '1050', '1230', '1240', '1252', '1374', '500', '1200', '1355', '1040', '1350', '4003', '2400', '1560', '1151', '1360', '1250', '1110', '1015', '1351', '960', '1110', '1680', '2400', '11000', '1350', '1254', '1255', '1051', '1200', '1099', '2650', '2000', '1541', '1200', '1125', '1650', '834', '1320', '1200', '1000', '1500', '4400', '2Acres', '600', '1180', '1010', '1070', '1580', '1200', '2000', '1920', '1200', '1040', '1430', '1215', '650', '1564', '800', '750', '1200', '1128', '1200', '2000', '2750', '2400', '1650', '1235', '1200', '900', '985', '1475', '3450', '1157', '900', '2500', '1030', '1000', '3800', '4260', '1950', '1570', '1283', '875', '1200', '2700', '2400', '1250', '3630', '990', '1199', '1280', '2750', '1190', '1100', '2075', '1133', '2400', '1280', '1250', '1565', '1900', '1080', '600', '1240', '1335', '1246', '3103 - 3890', '1385', '1578', '1140', '1700', '1050', '1120', '435', '1116', '1480', '1000', '1145', '800', '1265', '1450 - 1950', '1475', '1265', '1200', '2180', '1080', '2023', '2400', '1545', '1804', '1200', '1350', '1108', '1730', '1427', '935', '1073', '960', '2215', '1125', '1230', '1438', '1080', '1200', '1200', '1590', '1350', '1400', '1560', '1810', '2274.24', '1484', '1650', '1455', '2280', '4900', '2079', '1351', '1223', '1430', '3589', '1310', '1800', '1120', '984', '1770', '900', '1350', '1447', '1140', '1170', '1160', '1296', '1570', '1495', '1530', '900', '1800', '1088', '1533', '1100', '1540', '1244', '1040', '1034', '1260', '1180', '1245', '1350', '1464', '470', '920', '2300', '1124', '2095', '1100', '1019', '1756', '1280', '1200', '1700', '2134', '1369.1', '600', '1313', '2515', '2215', '1440', '1186', '1350', '1800', '1600', '1000', '2275', '1305', '1740', '900', '1567', '1082', '1050', '1200', '3500', '1220', '1970', '2665', '2130', '1749', '1260', '1100Sq. Meter', '1170', '1670', '2264', '3500', '1100', '674', '1320', '600', '1125', '1125', '700', '1300', '1600', '1052', '1140', '1130', '1140', '2200', '1500', '1350', '1230', '1520', '525', '1040', '1300', '2690', '780', '1140', '1225', '646', '1600', '1890', '1050', '1200', '1458', '1200', '1970', '1808', '1007', '1105', '1700', '1170', '1080', '1150', '1200', '1200', '1656', '600', '1040', '1085', '1215', '2150', '1100', '1210', '1050', '600', '1920', '1250', '947.55', '1421', '1050', '1425', '1162', '905', '914', '1258', '1100', '3500', '2400', '4200', '1537', '1230', '2400', '2250', '2000', '3000', '2600', '3200', '950', '4000', '1282', '1304', '2100', '1220', '1636', '1415', '15Acres', '1728', '1680', '1235', '900', '3990', '1495', '1500', '2501', '381', '3301.8', '2002', '3200', '1200', '1500', '1942', '1450 - 1595', '660', '1200', '1450', '1039', '1210', '995', '1620', '3204', '3408', '1314', '945', '1374', '1603', '1230', '670', '1864', '2500', '1625', '1186', '1500', '770', '1085', '3754', '1893', '600', '1496', '1305', '1550', '1200', '1494', '1286', '600', '1860', '425', '1243', '1200', '1044', '1040', '1125', '3489', '1278', '2400', '1250', '2400', '4166', '1210', '1200', '1157', '1185', '1450', '1859', '1763', '900', '1305', '1200', '763 - 805', '5000', '1150', '1806', '1027', '1002', '1220', '1109', '1002', '1308', '1232', '1027', '1250', '900', '960', '1255', '1434', '925', '1858', '1205', '1500', '1200', '1020', '965', '1800', '1200', '1636', '1724', '1216', '654', '2460', '1190', '1200', '1636', '1195', '2400', '1250', '1452', '1546', '3307 - 3464', '1440', '2260', '2700', '1475', '3000', '375', '1007', '1.26Acres', '5422', '1020', '1000', '800', '1200', '1125', '1150', '909', '2850', '1400', '1152', '958', '1150', '2990', '1310', '1590', '1645', '1800', '1795', '1100', '620 - 934', '925', '1542.14', '3746', '1430', '1020', '750', '1140', '967', '2470', '850', '1100', '1697', '1250', '1120', '1200', '5100', '2400', '1200', '1100', '1417', '1492', '1498', '3500', '1010', '1255', '1050', '1847', '1200', '982', '2144.6', '750', '919', '1087', '1480', '1180', '2100', '1221', '1194', '2072', '1600', '2200', '1640', '1253', '1061', '1950', '1250', '1585', '1452', '1015', '2462 - 2467', '1125', '1116', '400', '4000', '3900', '1300', '1419', '1310', '2072', '1240', '1565', '1820', '2500', '3657', '1245', '1315', '1410', '1375', '1299', '993', '1200', '985', '2400', '1255', '1655', '2830', '6000', '550', '825', '1634', '1200', '1222', '1500', '1890', '3750', '850', '1295', '1320', '950', '1200', '3000', '1197', '1320', '1180', '840', '540 - 740', '1693', '1000', '1305', '450', '705', '750', '4800', '5000', '5000', '1991', '1779', '10200', '870', '1595', '525', '945', '2400', '2000', '1614', '1200', '1150', '3200', '1610', '1190', '1050', '4800', '1460', '3400', '600', '1569', '2600', '645', '1200', '800', '800', '1350', '2780', '1410', '1109', '2000', '800', '1215', '1230', '2273', '1255', '1020', '1225', '1120', '2400', '1225', '5200', '4000', '1984', '2425', '1200', '1127', '1655', '500', '1200', '1000', '1225', '1350', '600', '1175', '655', '1311', '600', '1000', '1196', '1050', '1275', '927', '1520', '2400', '1333', '600', '1326', '1618 - 1929', '1370', '1100', '1650', '1917', '780', '950', '1175', '1089', '1804', '1257', '650', '1850', '2800', '945', '1161', '1630', '1310', '750', '1200', '1000', '4000', '1315', '1370', '1200', '1465', '20000', '1128', '1250', '1645', '1284', '2600', '1820', '1580', '2650', '1215', '1075', '1400', '1400', '845', '2600', '3508 - 4201', '800', '1199', '1175', '2400', '1767', '1800', '1856', '1200', '1613', '6830', '1290', '1375', '985', '1200', '1099', '605', '6000', '3600', '1200', '1000', '1159', '3692', '600', '2400', '1540', '1503', '1850', '1580', '1190', '1200', '1000', '850', '2180', '2500', '1200', '1500', '1200', '1880', '1150', '4408', '924', '7800', '600', '750', '1962', '1200', '1765', '1174', '1894', '960', '1760', '1768', '1790', '3500', '1200', '2540', '1137', '2249.81 - 4112.19', '1200', '1568', '4900 - 4940', '1308', '3060', '1200', '800', '530', '873', '3000', '1200', '958', '2072', '2273', '600', '760', '1090', '2072', '2666', '1550', '1251', '1070', '1200', '1435', '1400', '2330', '1200', '1000', '1655', '3600', '600', '1175', '1155', '1200', '1149', '1610 - 1880', '3200', '1010', '1718', '650', '1330', '1200', '1693', '1249', '1800', '900', '1020', '1700', '661', '1280', '1000', '1170', '933', '1150', '3633', '1380', '1050', '1080', '1303', '1196', '2500', '1200', '1250', '1419', '1200', '1120', '755 - 770', '1245', '3978', '1093', '1025', '1345', '1500', '1180', '1020', '1800', '3621', '2008', '1240', '1020', '2095', '1362', '694', '1404', '1192', '1850', '1050', '1259', '1000', '985', '850', '1650', '2400', '1900', '1367', '1210', '1190', '1175', '2800', '1140', '1095', '782', '1435', '725', '1600', '1200', '3205', '720', '1674', '860', '1243', '1703', '1350', '1145', '1216', '1100', '2425', '2700', '1196', '1600', '1510', '3033', '780', '1194', '1250', '1480', '1250', '1350', '620', '1630', '1020', '1410', '1181.7', '1200', '1691', '1200', '1200', '1050', '1300', '1356', '1338', '500', '1280', '1531', '11000', '620', '1605', '1917', '1200', '2750', '1400', '2625', '1100', '2041', '2070', '1110', '1650', '3565', '1033', '1142', '1500', '1502', '1176', '1063', '1100', '1044', '5400', '1216', '1425', '1200', '1345', '1248', '1830', '900', '3600', '1025', '840', '3050', '1424', '2500', '1200', '1285', '1450', '1160', '2700', '2000', '1125', '3900', '1133', '1240', '1466', '3870', '1610', '1220', '1225', '1300', '1996', '1320', '1800', '1835', '1435', '4097', '1601', '1257', '3596', '1309', '1362', '1115', '1870', '1322', '1450', '1185', '1790', '3450', '1050', '664 - 722', '5400', '775', '1000', '1183', '1282', '425', '820', '2230', '1200', '1151', '1320', '1450', '1270', '1847', '1020', '1650', '2380', '2400', '1160', '2805', '1360', '1089', '1115', '1215', '1194', '1536', '1255', '1571', '900', '1517', '664', '1230', '1340', '1175', '3569', '1240', '151.11Sq. Yards', '1470', '525', '1680', '1000', '1071', '1512', '3435', '3144', '1190', '1550', '1283', '1325', '1105', '1600', '400', '700 - 900', '1100', '2099', '1365', '1485', '1250', '1290', '1170', '1328', '1232', '1180', '1350', '3602', '2400', '1020', '1410', '2159', '1453', '1200', '1255', '1074', '1200', '1170', '596 - 861', '1660', '900', '1850', '510', '1601', '952', '1166', '2700', '1900', '1350', '1520', '2100', '1175', '1432', '1005', '1309', '2251', '1050', '1100', '2400', '1565', '940', '1015', '2400', '1652', '1100', '2340', '1084', '1200', '1400', '2400', '1020', '1267', '2439', '1645', '1100', '1320', '1000', '5000', '2500', '2480', '1086', '416', '1066', '1730', '1205', '2500', '960', '1510', '1600', '2300', '1000', '1160', '1553', '3436', '1134', '600', '2400', '2400', '1350', '1032', '1998', '1225', '1262', '1842', '1300', '1070', '950', '1012', '1000', '1394', '1450', '527', '1693', '3122', '1000', '952', '2050', '1200', '1410', '1400', '3056', '1826', '1689', '1075', '2500', '960', '808', '907', '1300', '1804', '1350', '1836', '826', '1200', '3000', '2400', '1460', '1200', '965', '2000', '1395', '1660', '935', '1180', '1090', '1204', '2072', '1056', '985', '1315', '734', '2900', '2317', '600', '2200', '656', '400', '666', '3293', '1174', '1153', '1000', '2400', '957', '910', '1060', '1000', '1843', '1150', '1230', '3197', '1703', '1125', '1516', '1130', '3596', '1512', '1491', '1250', '1650', '1140', '1200', '1881', '1100', '2666', '1500', '1217', '1197', '2400', '1345', '1200', '3230', '1260', '2750', '1200', '1650', '600', '1025', '1925 - 2680', '973', '4110', '2533', '1007', '615 - 985', '1830', '1077', '672', '1280', '865', '1000', '1285', '662', '2297', '3750', '1850', '1754', '1200', '2200', '1567', '1695', '360', '1150', '1690', '2350', '1057', '1320', '2119', '1125', '2254', '645', '1050', '1040', '1700', '1760', '1138', '984', '1140', '3596', '1365', '560', '1404', '1540', '1050', '360', '1550', '1653', '1194', '1471', '700', '812', '1504', '1450', '957', '460', '900', '1050', '1820', '1033', '800', '520', '1165', '1280', '1950', '600', '1550', '1392', '1221', '1000', '1300', '1065', '1209', '375', '7800', '1929', '1255', '1035', '1200', '1650', '1275', '1128', '1140', '1200', '1183', '1155', '1245', '1000', '1040', '2062', '1477', '1050', '1525', '2000', '1220', '2388', '1355', '1141', '1046', '630', '1247', '3855', '850', '1120', '800', '1798', '1180', '1000', '1216', '900', '1100', '1842', '1075', '1495', '1700', '1564', '1256', '1047', '1458', '1063', '7400', '1150', '450', '1360', '1605', '1200', '1810', '1250', '1475', '1100', '850', '1025', '980', '1428', '1130', '1592', '2050', '1407', '4170', '1585', '1785', '900', '1350', '1843', '2375', '1200', '1113', '1125', '1200', '1150', '770', '1181', '1550', '1200', '1295', '480', '1506', '1872', '2900', '1326', '1040', '1200', '1020', '1400', '4000', '812', '1100', '829', '750', '2700', '1500', '850', '1180', '5108', '2215', '1010', '1350', '1100', '1450', '1133', '1564', '640', '2072', '432', '1460', '600', '1050', '700', '1200', '654', '1105', '1800', '1200', '700', '1000', '3500', '1240', '1200', '1400', '1393', '1140', '1000', '1640', '1200', '720', '1650', '2496', '905', '1600', '1070', '8400', '1200', '1800', '2600', '1145', '1495', '1200', '1400', '1558', '1007', '902', '1054', '1135', '996', '1275', '1250', '2502', '1394', '1243', '1216', '1075', '1200 - 2400', '1500', '1708', '1500', '1800', '1532', '1726', '1220', '1100', '1530', '840', '1250', '1030', '1499', '1280', '1170', '2646', '1161', '1633', '1050', '1650', '540 - 565', '418', '905', '1510', '1390', '1101', '2736', '2350', '1056', '1425', '1450', '1000', '575', '1350', '2000', '1770', '3155', '616', '745', '6500', '2400', '1547', '1713', '3300', '1135', '1856', '1152', '1100', '2357', '1820', '1865', '1240', '1360', '4200', '1450', '1139', '1565', '1200', '600', '1200', '1855', '1100', '1350', '2266', '660', '1490', '1083', '1232', '1550', '1227', '1059', '545', '1152', '870', '1210', '663', '1464', '1365', '1704', '1390 - 1600', '1256', '883', '1080', '497', '1073', '3000', '1300', '662', '1200', '1550', '1707', '1310', '1577', '1324', '1786', '1174', '565', '1400', '635', '3000', '1368', '1450', '1045', '1128', '1125', '1195', '630', '1350', '1740', '877', '1770', '450', '1000', '1300', '1300', '985', '1045', '1250', '2400', '1194', '1420', '1720', '1530', '1200', '1570', '1157', '535', '1120', '1150', '2400', '1215', '1444', '2003', '1100', '900', '1372', '4500', '1180', '1096', '2504', '1350', '420', '1832', '1380', '940', '4290', '1020', '2500', '1400', '1675', '708', '1123', '1100', '1225', '1683', '410', '2400', '1350', '1475', '1120', '1150', '1165', '1756', '1409', '1212', '1140', '2087.01', '750 - 800', '1700', '1660 - 1805', '1110', '1000', '1550', '2704', '3760', '1600', '1205', '1418', '1650', '1200', '1150', '3071', '2400', '850', '1580', '1216', '381', '4600', '1040', '2429', '1260', '1498', '1200', '1355', '1450', '1860', '1240', '1300', '2500', '1950', '1625', '1200', '1101', '1216', '1250', '2100', '1470', '1365', '1364', '1180', '1800', '1350', '1573', '1620', '1072', '560', '1156', '1336', '1200', '3400', '1608', '4000', '1215', '1100', '1517', '1565', '1680', '2025', '1057', '3850', '1044', '1695', '1635', '1140', '1150', '1110', '1163', '1418', '1155', '1115', '2250', '1020', '1485', '1920', '1350', '1209', '1089', '1445', '1250', '1500', '1705', '2200', '2925', '1800', '7200', '1830', '1450', '1220', '1259', '1260', '2500', '1919', '1400', '2050', '1050', '1000', '1640', '1488', '1265', '1640', '1719.3', '1200', '1180', '1700', '1464', '1800', '1495', '1225', '1050', '1691', '2250', '3700', '1244', '750', '1190', '1243', '765', '730', '1405', '1350', '500', '1200', '1165', '1400', '4800', '1668', '700', '1485', '700', '1346', '1075', '1050', '1800', '1609', '770', '1076', '1052', '1000', '1000', '1262', '720', '500', '3500', '1600', '1251', '1050', '1140', '1157', '648', '1197', '1500', '1185', '2400', '1397', '1175', '900', '2710', '1720', '1756', '602', '1770', '930', '1295', '1200', '1100', '1194', '720', '1476', '1056', '825', '1860', '1063', '697', '2400', '1200', '1835', '1365 - 1700', '1147', '1360', '3400', '1080', '1010', '2600', '1270', '1100', '1410', '1065', '1200', '1315', '1650', '1140', '960', '800', '1225', '1020', '750', '3000', '535', '1035', '1020', '1315', '1350', '1075', '1450', '1806', '1350', '1282', '1929', '1100', '1800', '1223', '1664', '1360', '1158', '1420', '1268', '1308', '1485', '1067', '2000', '2450', '1152', '1525', '935', '1465', '1198', '1145', '1000', '400', '3420', '1310', '1861', '1265', '1280', '1279', '1200', '680', '1590', '1837', '1703', '1293', '700', '1450', '1030', '1570', '1000', '1075', '1091', '2210', '1738', '1640', '1205', '1009', '1200', '3362', '1410 - 1710', '1600', '960', '1330', '1024', '1196', '800', '2650', '1080', '1150', '1286', '2990', '1150', '1310', '1352', '1307', '1500', '1500', '1079 - 1183', '1600', '2800 - 2870', '682', '2500', '1650', '1850', '2000', '982', '2015', '1702', '1250', '1240', '1050', '1023', '1541', '1275', '1230 - 1290', '1580', '1343', '1365', '1047', '1187', '1050', '560', '1000', '1200', '1075', '2048', '1090', '1119', '1355', '1445', '1314', '6500', '1165', '943 - 1220', '1787', '3600', '1200', '1020', '1797', '1205', '1095', '1560', '1200', '1200', '1450', '1496', '1935', '1016', '1816', '1680', '2041 - 2090', '1220', '3000', '980', '1200', '1250', '1424', '1297', '1300', '1290', '1720', '1200', '2320', '1237', '1720', '1224', '1780', '4700', '1800', '1139', '588', '700', '1150', '1330', '2732', '965', '1600', '1464', '3100', '1075', '1840', '1223', '1170', '3630', '950', '5400', '865', '2400', '1169', '1206', '10961', '1683', '1250', '3150', '1200', '1234.6', '492', '600', '1902', '1200', '1639', '1214', '565', '2520', '1386', '1535', '1720', '1370', '1655', '1200', '1610', '2200', '1200', '1105', '753', '1655', '1700', '770', '1210', '965', '700', '1740', '1310', '1763.25', '1900', '1000', '1450', '1836', '1160', '1153', '1285', '2500', '1194', '1257', '1200', '527 - 639', '1240', '1294', '1095', '1145', '1826', '1314', '1900', '1040', '1290', '1200', '1325', '2600', '1129', '645 - 936', '1075', '1108', '810', '1155', '3900', '2367', '1550', '1100', '1452', '1141', '1464', '1500', '456', '1200', '3122', '760', '2400', '800', '1180', '775', '1145', '1060', '3900', '1420', '2439', '1200', '1111', '984', '1200', '1247', '1050', '1550', '1270', '1012', '970', '933', '1200', '1148', '1463', '1719', '1350', '1250', '1700', '4320', '1200', '1030', '1420', '9600', '1703', '1210', '1210', '3000', '1398', '1335', '1255', '540', '1213', '1240', '1076', '1320', '1216', '1100', '1183', '656', '534', '1285', '2087.01', '1161', '1306', '2249.81', '1504', '645', '1230', '1100', '1000', '1260', '1817', '3626', '1180', '1050', '2900', '2110', '500', '1930', '4560', '1505', '2400', '890', '1200', '849', '1555', '600', '1057', '1680', '799', '1450', '1819', '1135', '2020', '2700', '1730', '1950', '1077', '1706', '3000', '1093', '2750', '1340', '984', '1135', '2400', '1155', '700', '1150', '1385', '2061', '1335', '1015', '3000', '1108', '1180', '1445', '1500', '1Grounds', '1085', '1050', '2760', '1330', '845', '1762', '1303', '1560', '1110', '1290', '1160 - 1315', '1780', '1636', '2557', '1332', '7500', '1012', '1192', '795', '1213', '1489', '1200', '1140', '1200', '1200', '2640', '1650', '1245', '1224', '1235', '1200', '1342', '600', '1800', '2280', '2440', '1130', '1186', '1295', '1535', '905', '1447', '1165', '1328', '1485', '1475', '1175', '1245', '720', '985', '4000', '1395', '706 - 716', '630', '2400', '1170', '2500', '1100', '3560', '900', '1160', '1180', '1441', '1115', '1825', '1489', '2800', '1278', '1223', '1065', '1190', '1130', '1430', '1900', '1104', '1240', '1140', '1194', '1464', '3508', '1700', '2658', '1600', '3400', '1508', '645', '1046', '1200', '1500', '3000', '1079', '975', '1050', '1200', '1903', '2940Sq. Yards', '1200', '2996', '3400', '2000', '1453', '1092', '1400', '1416', '1602', '1100', '1760', '3800', '1037', '1384', '551', '2400', '500', '900', '1415', '1400', '1300', '2850', '1030', '883', '550', '1800', '10000', '1210', '2000', '1100', '1780', '950', '1050', '1370', '3951', '2500', '1050', '1843', '1200', '1186', '560', '2357', '1200', '1823', '1310', '1520', '1610', '1500', '1400', '1625', '1500', '900', '1100', '1000', '2774', '994', '1455', '1200', '1172', '1935', '1856', '2392', '900', '1757', '1027', '1626', '1200', '1559', '1190', '1200', '1174', '1140', '1603', '1278', '2180', '1085', '1195', '450', '6500', '550', '1165', '3000', '1452', '702', '1020', '1340', '1125', '1160', '1050', '1960', '1200', '1200', '3496', '975', '1700', '1800', '612', '1275', '650', '1495', '1200', '3750', '1679', '1450', '1210', '1300', '1165', '1623', '1115', '450', '1170', '2065', '1700', '1080', '1245', '1017', '650', '1242', '1792', '1275', '1200', '2400', '605', '1200', '1450', '1232', '1800', '900', '1200', '2100', '1065', '1075', '1508', '780', '1070', '1464', '1910', '1280', '1530', '2439', '1088', '1174', '1587', '1045', '1304', '1100', '1482', '2125', '1000', '1194', '1200', '1070', '1100', '1270', '1000', '1246', '1529', '1185', '1060', '1319', '991', '662', '1200', '1400', '1575', '600', '717', '1319', '2000', '600', '940', '600', '985', '500', '1349', '3117', '1844', '1830', '2275', '1791 - 4000', '1140', '900', '2648', '5400', '1372', '1455', '1100', '1295', '1475', '1788', '1243', '1855', '1850', '1315', '1216', '1721', '1059', '1184', '1400', '2223', '1480', '635', '2400', '1500', '1143', '3200', '3170', '4800', '1485', '1640', '1655', '900', '1600', '1163', '45.06Sq. Meter', '1654', '799 - 803', '2100', '1685', '1540', '1265', '1200', '1300', '1009', '1540', '1735', '2500', '497', '2480', '1142', '1215', '1070', '1125', '1125', '1575', '1360', '1710', '1200', '2185', '2400', '1195', '1246', '1012', '998', '2400', '1130', '1744', '2733', '1354', '3300', '1389', '2970', '2560', '1172', '500', '1495', '1738', '1315', '1270', '1160', '1450', '470', '1040', '1205', '1215', '1135', '1224', '664', '1160', '1200', '1220', '1328', '975', '1907', '900', '1330', '2330', '1222', '4446', '2100', '3335', '3150', '1320', '820', '8000', '2400', '1330', '2000', '1244', '1000', '1400', '1000', '1056', '1250', '2470 - 2790', '1225', '2790', '2800', '1683', '1250', '1305', '3009', '1150', '1654', '4500', '1890', '1069', '750', '675', '2400', '1200', '1410', '1680', '3500', '1700', '2200', '1595', '1480', '1092', '1866', '3895', '1683', '545', '1340', '1100', '2000', '1185', '1025', '1730', '1450', '1862', '4000', '2430', '783 - 943', '1170', '1075', '1060', '850', '935', '1905', '2000', '1125', '600', '1500', '1725', '1120', '1750', '2000', '1745', '750', '1270', '5384', '1180', '1130', '2774', '1723', '1175', '1607', '1334', '2800', '1138', '1113', '1300', '2400', '1200', '1900', '5150', '1200', '2956', '1100', '1398', '1152', '1200', '1110', '1116', '1061', '620', '1300', '1270', '966', '1200', '1320', '3596', '1630', '600', '600', '1202', '1200', '1300', '1200', '1360', '1155', '2378', '1011', '1203', '1645', '1364', '1200', '1050', '1365', '1252', '1221', '1065', '1270', '1032', '2900', '1515', '1427', '940', '800', '1460', '2275', '1522', '3210', '1185', '5425', '1800', '940', '1200', '1530', '1050', '929', '3750', '1530', '900', '978', '4041', '770', '1066', '635', '1015', '1175', '1200', '1188', '2400', '620', '1210', '1000', '1500', '1800', '1185', '1600', '1100', '1300', '1100', '860', '1007', '1100', '1187', '1150', '2400', '1180', '1820', '1200', '2400', '3628', '1430', '700', '1200', '1165', '1569', '1950', '1200', '2437', '950', '1685', '3270', '1314', '1250', '1130', '1200', '890', '857', '2247', '1550', '1715', '1053', '1200', '1800', '2400', '1245', '1320', '3940', '1241', '2980', '600', '1090', '1390', '600', '2750', '1100', '1350', '800', '1787', '2400', '3700', '1691', '2119', '2325', '570', '1896', '1540', '1244', '1365', '580', '1355', '1500', '1513', '1175', '2087', '2273', '2050', '1200', '1190', '600', '1019', '1830', '4278', '1028', '1300', '1160', '1505', '1250', '400', '1175', '1100', '2159', '1230', '1200', '3100', '4500 - 5540', '1200', '1340', '1750', '1400', '1350', '1675', '1340', '600', '1276', '1738', '1190', '1128', '1250', '1450', '1084', '2150', '6000', '600', '1250', '2400', '1304', '1640', '980', '1275', '10030', '2500', '3600', '2400', '2300', '1450', '890', '1340', '1100', '750', '700', '1300', '1301', '3200', '1900', '1299', '1250', '1600', '925', '3900', '1107', '1400', '1300', '570', '1715', '1200', '1200', '703', '921', '1144', '525', '1400', '661', '1200', '1200', '1705', '1035', '1430', '1240', '1325', '1230', '1000', '740', '1330', '3005', '1300', '1243', '936', '1500', '1200', '1073', '1300', '4201', '1065', '1216', '1252', '1196', '1027', '610', '1270', '1171', '1215', '600', '1180', '1160', '4382', '2140', '1500', '1008', '1921', '1127', '1621', '2400', '1030', '1314', '1220', '600', '1590', '703', '1795', '3000', '4395', '825', '4025', '1254', '2040', '2215', '1478', '2475', '1669', '1820', '1623', '1243', '1200', '1613', '1293', '1065', '940', '1181', '2215', '1100', '1050', '1260', '2800', '1500', '1200', '1000', '1530', '1140', '1864', '1575', '1200', '945', '1691', '1200', '1220', '600', '1160', '1950', '1650', '2400', '795', '800', '1400', '2285', '1243', '1263', '1200', '1345', '4400', '1360', '1026', '1050', '1460', '1525', '1843', '1000', '1642', '1200', '975', '1075', '1210', '2000', '1225', '1290', '1220', '1500', '1361', '2801.25', '1394', '870', '5000', '1222', '1420', '1846', '1688.12', '1167', '902', '2422', '1050', '1000', '1260', '3000', '939', '1590', '600', '1298', '1710', '1000', '3350', '1200', '1100', '615', '1350', '5000', '2700', '4000', '1718', '1680', '1500', '1157', '1179', '1255 - 1375', '1105', '1800', '1010', '630', '1200', '1025', '1195', '1012', '1884', '1090', '1300', '2950', '1710', '1500', '1310', '674', '1350', '1464', '715', '1400', '1625', '1065', '510', '1385', '1040', '1817', '1205', '1070', '1070', '1340', '980', '1006', '1098', '1200', '4190', '1019', '1150', '1733.5', '1415', '1750', '1537', '1050', '1452', '1246', '1890', '972', '10624', '1500', '630', '1050', '1255', '1900', '2440', '1938', '1711', '1200', '1392', '1225', '3418', '1750', '1260', '691', '2400', '1285', '1590', '1571', '2800', '1060', '1255', '702', '2400', '1520', '1430 - 1630', '1170', '1580', '1777.26', '1303', '1680', '1495', '1835', '610', '1080', '1025', '1225', '656', '994', '1025', '1156', '1250', '3092', '1930', '1020', '1310', '610 - 615', '1322', '1160', '1100', '1720', '1689', '1090', '2000', '1155', '4000', '3913', '3520', '1125', '1847', '1515', '3450', '2500', '1130', '1049', '2650', '850', '1842', '2600', '1282', '800', '1200', '1190', '1318', '1698', '2030', '1276', '1555', '1881', '2900', '1890', '900', '935', '1000', '1510', '1120', '930', '1160', '1419', '1175', '1350', '2215', '996', '1076', '2180', '1715', '1072', '1230', '1600', '1411', '3600', '2404', '1200', '1200', '1208', '1700', '1225', '1162', '1262', '1050', '1160', '1500', '1610', '1340', '2275', '1162', '1500', '3150', '1170', '980', '1800', '1423', '1106', '1105', '7500', '1255', '1525', '1061', '600', '1400', '2100', '660', '633', '1260', '854 - 960', '2047', '2597', '1211', '1904', '1205', '1164', '1410', '1150', '1170', '1420', '1125', '1789', '1021', '1074', '1222', '1981', '1103', '1201', '970', '920', '1520', '675', '1268', '660', '1755', '945', '500', '2650 - 2990', '1632', '1167', '1276', '1234', '1180', '1370', '1015', '1200', '1400', '1500', '1050', '1251', '1677', '1346', '1090', '1200', '1290', '7514', '1881', '1150', '1.25Acres', '2690', '1200', '86.72Sq. Meter', '2735', '950', '1491', '1050', '1660', '1134', '1100', '800', '1200', '1200', '980', '1080', '705', '1200', '1200', '1804', '750', '420', '2800', '1090', '1500', '1287', '2215', '2800', '1045', '1263', '1431', '999', '1650', '1535', '2524', '1300', '600', '2095', '284', '500', '1265', '1215', '2200', '1028', '1835', '1800', '2077', '2880', '499', '708', '1200', '925', '2826', '381 - 535', '3500', '5400', '1000', '1450', '1100', '1185', '1900', '1200', '660', '1920', '1200', '3418', '4550', '1205', '1200', '1421', '1250', '524', '4200', '1540', '984', '985', '2830', '1140', '3600', '1410', '1700', '1230 - 1490', '1800', '1333', '1258', '1458', '1386', '1140', '550', '1200', '1081', '2135', '2500', '1178', '991', '1493', '2495', '1080', '814', '1025', '1115', '3075', '1900', '1760', '4000', '3090', '2700', '1175', '4235', '1100', '1200', '1450', '1810', '1426', '2400', '1100', '650', '1350', '900', '1360', '674', '1655', '1300', '936', '1277', '1200', '1015', '1153', '1035', '3300', '1150', '1020', '3630 - 3800', '1160', '1075', '1225', '5000', '1600', '600', '1350', '1300', '830', '1155', '3126', '905', '1375', '1575', '1140', '1550', '957', '890', '3000', '1070', '2400', '2400', '925', '1415', '500', '1225', '2000', '840', '1560', '1732', '1200', '1260', '1092', '827', '1357', '650', '1370', '1725', '1000', '1350', '3200', '1717', '700', '800', '2367', '1415', '1976', '883', '700', '1445', '2082', '1140', '933', '800', '1155', '1130', '1200', '1055', '1555', '1420', '2214', '658', '896.9', '4000', '1035', '2064', '1839', '1200', '488', '1200', '2760', '993', '1225', '900', '1200', '825', '3596', '1350', '1800', '925', '1167', '1150', '650', '675', '2260', '660 - 780', '4800', '1100', '550', '1330', '1320', '1685', '2400', '1770', '2100', '1000', '600', '2916', '1419.59', '1400', '750', '1070', '1536', '1710', '2400', '1618 - 1929', '1342', '1600', '938', '1820', '2439', '1665', '1850', '1091', '1346', '1720', '3675', '1060', '1059', '1299', '1491', '1200', '2088', '581', '1296', '1125', '1275', '1095', '10000', '1330', '1135', '516', '1194', '2250', '770', '3930', '1355', '3000', '2569', '3758', '1116', '1707', '1200', '1070', '6000', '1240', '1300', '1700', '1383', '3000', '1200', '935', '2072', '2200', '615', '1116', '1639', '1839', '1300', '625', '933', '2289', '2316', '1005', '1080', '1200', '910', '1200', '1110', '1142', '4000', '1800', '1005', '1626.6', '1074', '1230', '660', '1007', '1050', '1820', '1100', '1348', '1230', '1176', '1590', '1200', '1298', '1161', '1350', '1200', '1285', '1644', '1819', '1205', '2350', '1050', '1270', '1240', '1221', '840', '1339', '4303', '1315', '1250', '850', '1600', '1250', '1312', '3000', '1300', '1990', '760', '5000', '1614', '1500', '1182', '1053', '750', '2000', '1940', '1590', '1035', '1075', '900', '1260', '1200', '1702', '1080', '1189', '1035', '1200', '4482', '1200', '1300', '1330', '1210', '1350', '1900', '1935', '1410', '1469', '986', '1460', '1260', '1345', '980', '1164', '929', '1065', '1150 - 1194', '3000', '1020', '1362', '672', '1746', '1025', '1532', '1200', '1250', '1188', '3565', '1170', '1800', '1000', '2600', '1200', '2507', '1061', '1290', '1200', '1120', '418', '1333', '1691', '684 - 810', '1700', '2030', '1012', '1245', '1765', '1110', '967', '1044', '1518', '1300', '1798', '866.28', '3410', '1179', '3600', '1125', '2098', '2400', '1976', '1190', '1800', '1761', '1700', '900', '1128', '2000', '1220', '509', '1852', '1045', '3535', '1102', '1800', '1436', '1397', '1140', '645', '2350', '1200', '2050', '1335', '2100', '1255', '1140', '2376', '663', '1276', '1450', '1400', '1339', '1220', '2200', '1305', '1740', '680', '1154', '1200', '1155', '1525', '600', '2470', '1100', '1250', '1400', '1600', '1060', '1272', '1296', '2100', '1945', '1033', '2300', '1235', '2100', '850', '1880', '2450', '1060', '2041', '1050', '1037', '1150', '1184', '1680', '1411', '900', '900', '3500', '1702', '1185', '1300', '1545', '1515', '1300', '1107', '1720', '1540', '1000', '710', '1100', '3200', '900', '1250', '2400', '1584.01', '875', '1200', '1485', '1100', '1245', '1880', '2214', '1050', '600', '1640', '1165', '1110', '1200', '4000', '4500', '600', '1300', '1200', '1200 - 1800', '1232', '1704', '1275', '1222', '1155', '1000', '1200', '1517', '1166', '870', '4000', '1350', '3019', '1345', '900', '3800', '971', '1255', '1810', '1300', '1185', '1350', '1510 - 1670', '3000', '1560', '1650', '1645', '1748', '1200', '1170', '3420', '1320', '1610', '1870', '1510', '2700', '1305', '1500', '1149', '1948', '1448', '1242', '1268', '1101', '1255', '1362', '984', '1089', '800', '1345', '3600', '1650', '950', '1068', '860', '3000', '1756', '1205', '1120', '1800', '8321', '1604', '2732', '1015', '1200', '1010', '1250', '1010', '1050', '1710', '1248.52', '410', '1656', '1451', '1200', '1250', '4395', '4600', '1340', '1100', '6000', '1700', '1200', '1096', '1160', '1936', '1269', '3500', '1586', '1376', '1452', '1538', '1427', '935', '1220', '1197', '674', '410', '1573', '1135', '1400', '1200', '1800', '2045', '1268', '883', '1600', '1056', '1200', '4500', '1204', '1410', '1460', '1100', '1310', '1600', '1250', '1665', '1345', '2000', '1416', '1145', '7200', '1231', '1664', '2000', '972', '4500', '1185', '1750', '3155', '1007', '1700', '1250', '1200', '994', '1150', '1220', '1441', '1157', '1300', '1400', '1370.07', '1200', '900', '418', '1200', '1200', '1062', '1120', '1012', '1500', '950', '675', '1430', '1195', '2640', '1075', '1550 - 1590', '782', '1011', '1450', '1129', '1126', '1200', '1180', '600', '940', '1933', '1082', '2400', '610', '1560', '1300', '3850', '1125', '2400', '777.4', '2500', '1798', '1864', '1115', '400', '1200', '992', '950', '1500', '1200', '1735', '1750', '1009', '1470', '1527', '985', '3300', '1277', '1100', '1820', '1530', '1886', '1200', '1880', '1255', '700', '1140', '1025', '3453', '1490', '1200', '1850', '1250', '2400', '3522', '1244', '623', '1025', '1034', '1191', '1719', '1035', '1500', '1470', '1140', '1752.12', '600', '600', '2990', '1660', '1275', '1365', '1200', '2546', '1392', '1245', '1200', '1162', '1476', '700', '3600', '943', '1150', '1113', '1615', '1279', '1256', '1805', '1350', '1525', '1357', '1645', '1777.26', '845', '900', '1210', '829', '1879', '1250', '1200', '1108', '1401', '1157', '1185', '1751', '1550', '1880', '1235 - 1410', '1175', '1407', '1000', '1518', '3600', '1027', '3730', '1145', '1260', '1500', '1737', '3484 - 3550', '1600', '1500', '1120', '1200', '1030', '2500', '1057', '2774', '1460', '1075', '1080', '3626', '5100', '1139.7', '1074', '1200', '2425', '1323', '1232', '900', '740', '1920', '38Guntha', '1550', '1588', '2300', '3600', '1308', '1340', '3280', '2170', '1719', '1107.83', '1200', '1090', '1500', '1660', '1247', '1595', '1175', '1200', '1184', '1100', '935', '1200', '2400', '1000', '1000', '1705', '1060', '2325', '1347', '1200', '1402', '2280', '1225', '1080', '4000', '1919', '1100', '2500', '1200', '1565', '1200', '1581', '2882', '1440', '2180', '7000', '985', '950', '1339', '1449', '1200', '1100', '929 - 1078', '2700', '1100', '1140', '3009', '3300', '800', '2000', '1200', '1300', '1220', '2289', '1170', '1350', '883', '1698', '2150 - 2225', '1060', '1185', '2051', '1404', '1252', '1885', '3381', '980', '2500', '1420', '1166', '2312', '3000', '1175', '1145', '970', '1125', '1520 - 1759', '5000', '2150', '1635', '3425', '2950', '1200', '1335', '4450', '1166', '2390', '1460', '1690', '1386', '1090', '1732', '1390', '1095', '416', '2400', '1350', '1453', '1226', '784', '1168', '1776', '1634', '860', '2800', '1650', '1190', '1133', '1559', '1448', '6652', '976', '1350', '1590', '2940', '1633', '1151', '1400', '1037', '1188', '1060', '2215', '1255', '2500', '1075', '2569', '900', '1183', '1100', '1643', '1500', '1291', '1150', '1060', '1575', '1200', '1700', '1236', '1350', '2475', '3800', '4694', '1200', '1200', '1225', '1056', '1240', '1200', '1850', '3150', '1200', '1018', '3520', '1185', '918', '1330', '1540', '1200', '927', '2580 - 2591', '1400', '1345', '1900', '1510', '302', '525', '1500', '629 - 1026', '1100', '1200', '1100', '2282', '760', '2172', '3800', '600', '3300', '1242', '410', '1245', '1088', '1200', '1995', '1309', '1717', '2100', '880', '1200', '1250', '3520', '1041', '1505', '1776', '1767', '1293', '1320', '1280', '1245', '1027', '1200', '1100', '1065', '1814', '1610', '850', '1600', '3200', '1250', '1243', '1452', '1475', '1353', '2100', '1750', '4800', '1270', '2700', '1200', '2695', '1330', '660', '1400', '4000', '1700', '1585', '1385', '1128', '60', '1200', '1203', '905', '1450', '1105', '1200', '1530', '1105', '1333', '1065', '1350', '1243', '1530', '1200', '1270', '1830', '900', '2400', '7000', '1450', '1525', '1080', '1220', '1200', '1215 - 1495', '2400', '1500', '1355', '1070', '1980', '842', '700', '2500', '1884', '1100', '1196', '1820', '1200', '1185', '2145', '1220', '1116', '1192', '1449', '2500', '1700', '1920', '1350', '4800', '1700', '1447', '1329', '1314', '1200', '1214', '1513', '6Acres', '1246', '705', '1220', '1800', '1400', '1245', '1495', '2000', '996', '1000', '1250', '975', '1261', '1080', '1230', '982', '1260', '1590', '1220', '1320', '1750', '1436', '1200', '1500', '1560', '3758', '1275', '1040', '2400', '1500', '3150', '1960', '3200', '1195', '1140 - 1250', '4500', '450', '4304', '648', '2100', '4209', '1027', '1575', '1365', '650', '1200', '1100', '1075', '1100', '1320', '1500', '1200', '1125', '1246', '1718', '1075', '1480', '500', '2400', '1200', '1041', '1128', '1685', '1180', '1200', '1250', '900', '1000', '600', '600', '1404', '1610', '1760', '975', '1190', '1110', '2415', '1235', '1275', '1115', '1197', '644', '1251', '1105', '1080', '2100', '1600', '1731', '1206', '1560', '750', '1035', '1200', '702', '1700', '1145', '1208', '1589', '560', '1426', '1885', '935', '1171', '1465', '1820', '1580', '1452', '1445', '1170', '1070', '1100', '1140', '2600', '1532', '1150', '1473', '1350', '4040', '1980', '1660', '2456', '650', '4000', '2475', '1495', '1080', '1521', '1053', '2406', '800', '1050', '1430', '2400', '1250', '1200', '840', '1000', '1630', '985', '1200', '1650', '1670', '1200', '1240', '1000', '830', '1200', '9600', '2400 - 2600', '1140', '1635', '1120', '2750', '1760', '2137', '973', '1724', '1020', '1200', '750', '883', '660', '2787', '1470', '891', '1275', '1787', '1730', '1320', '1692', '1400', '1115', '1370', '1602', '793', '675', '3250', '1050', '1035', '1200', '1800', '1625', '1032', '1496', '1100', '1500', '1125', '1555', '1025', '1482', '1630', '900', '1355', '2360', '1200', '1563', '1344', '3000', '812', '1200', '3175', '1360', '1835', '1756', '1296', '1300', '1141', '1270', '1210', '1310', '1356', '1052 - 1322', '1745', '1200', '1050', '2400', '1140', '1210', '2035', '633', '485', '1112', '1200', '2275', '1419', '1195', '2020', '1047', '1884', '1200', '905', '1500', '850', '1125', '1165', '933', '1305', '1125', '865', '1245', '8840', '1145', '2000', '625', '1724', '400', '1270', '1250', '1485', '823', '990', '1200', '1185', '1140', '1950', '1756', '2600', '520', '1025', '1216', '1026', '3335', '2700', '1411', '1320', '1320', '615', '1804', '1140', '1200', '2375', '1750', '960', '1152', '965', '1684', '1672', '1075', '1500', '1464', '1420', '750', '1169', '1290', '1160', '2800', '1500', '1850', '1300', '1310', '2750', '2150', '5100', '1300', '1875', '1260', '2500', '1241', '1025', '1500', '1070', '815', '2000', '1400', '1740', '5666 - 5669', '1216', '2200', '3500', '970', '3150', '1200', '1026', '450', '1205', '1368', '420', '1270', '614', '1050', '1408', '1223', '1507', '1160', '1200', '960', '1021', '2162.03', '1065', '400', '1465', '900', '1800', '1175', '6729', '1500', '1050', '1400', '1650', '1827', '1930', '883', '550', '1400', '1350', '1290', '1021', '1158', '1200', '1400', '2400', '1200', '1520', '620 - 934', '2710', '1150', '1101', '1200', '1252', '1650', '1270', '992', '2000', '893', '1075', '3200', '1190', '800', '1814', '1400', '1400', '1344', '5400', '1843', '1138', '1495', '880', '1396', '1610', '1050', '1410', '1050', '1310', '1104', '1165', '1027', '1310', '1052', '1464', '1000', '2240', '1150', '2019', '986', '1350', '800', '1893', '1318', '1325', '800', '1300', '1300', '1010', '1260', '2500', '1520', '1665', '1800', '1197', '1050', '910', '1241', '1567', '1747', '1475', '600', '1524', '980', '966', '2360', '1112', '550', '1760', '1830', '1175', '1175', '1025', '1232', '1010', '1273', '1590', '1100', '1252', '2615', '1200', '1322', '1000', '1755', '1135', '1200', '1200', '1260', '3250', '3500', '1200', '1100', '1305', '1236', '1125', '1075', '2000', '772', '2999.97', '1150', '1440', '1085', '1785', '2475', '1930', '600', '800', '2450', '1200', '1920', '1085', '760', '1201', '1615', '1289', '1991', '1377', '2880', '1892', '2176', '663', '1165', '3554', '1260', '1095', '1050', '1176', '1801', '1315', '1194', '2400', '1308', '4250', '1806', '3671', '2144', '1065', '1205', '1160', '750', '1194', '1200', '1681', '1130', '3633', '1843', '1065', '1885', '1500', '1210', '1126', '1357', '1451', '1600', '950', '960', '1625', '2200', '1607', '900', '1080', '2300', '1708', '2500', '1690', '2100', '1269', '1243', '1890', '1165', '1196', '1194', '1630', '1063', '1025', '1067', '1299', '1343', '1330', '1524', '2236', '2955', '1410', '1581', '1205', '1270', '1353', '1200', '1250', '1950.2', '1157', '712 - 938', '1000', '602', '3000', '1108', '1040', '1451', '1196', '850', '2171.66', '900', '720', '1573', '1026', '1400', '1400', '2100', '1150', '1500', '2400', '1200', '1790', '1125', '1783 - 1878', '1100', '120Sq. Yards', '1105', '1110', '708', '1027', '1600', '3122', '1205', '1450', '750', '540', '1200', '1200', '1837', '1346', '1012', '1950.2', '1125', '1500', '1197', '1230', '1100', '1563', '2240', '3729', '1600', '1715', '2400', '1151', '1200', '1123', '1276', '1315', '1270', '1325', '1600', '1660', '1299', '953', '1457', '1000', '1100', '1075', '1450', '5515', '950', '1200', '1013', '1140', '2100', '1430', '600', '1600', '1190', '1625', '1210', '1615', '1180', '1500', '850', '1130', '907', '1300', '1891', '1735', '1075', '24Sq. Meter', '2040', '1590', '1600', '1160', '930', '1010', '1221', '2400', '1108', '1000', '1370', '920', '1277', '1213', '1653', '2400', '3000', '1600', '1321', '1570', '1150', '1053', '1325', '1169', '1274', '1317', '1195', '2528 - 3188', '940', '1820', '1450', '1615', '2200', '985', '1116', '656', '1105', '1220', '1400', '2400', '850', '1000', '1660', '1330', '1165', '1153', '1270', '1070', '1427', '1420', '1600', '2031', '1454', '1116', '2000', '1346', '1062', '700', '1405', '1100', '2153', '1200', '2135', '1125', '1350', '1068', '940', '1063', '1382', '936', '1400', '475', '1200', '1450', '1162', '1161', '1623.29', '1260', '1672', '3000', '1500', '650 - 760', '1650', '2000', '1675', '1200', '1100', '1400', '2257', '1153', '1197', '1150', '595', '1837', '3750', '1830', '1715', '970', '1200', '2700', '5480', '2400', '3040', '1168', '1160', '1500', '600', '1200', '850', '935', '1200', '654', '1650', '5656', '1300', '950', '1250', '1072', '1425', '1165', '1390', '1510', '1305', '1200', '866', '1231', '1360', '2500', '1140', '525', '1295', '1020', '3504', '1200', '1100', '4723', '820', '3508', '3700', '1354', '2453', '1154', '1680', '1205', '1400', '1625', '1500', '1520', '1300', '1150', '1762', '1153', '2650', '1350', '950', '3295', '1515', '1100', '1250', '1200', '2500', '1200', '1355', '1115', '1275', '2051', '1470', '1550', '1270', '2119', '1600', '1320', '2505', '1410', '1200', '1705', '995', '1081', '1194', '605', '567', '1718', '1400 - 1421', '600', '1715', '3206', '1500', '1846', '600', '1015', '4350', '1100', '1965', '1021', '1230', '1260', '2400', '1894', '1500', '1950', '1231', '1236', '1800', '1650', '750', '1443', '886', '925', '1305', '1190', '1284', '350', '875', '1325', '2400', '1183', '1750', '16335', '747', '1342', '1113', '1738', '1206', '2790', '1162', '1194', '1857', '3500', '1763', '1150', '2400', '1290', '3408', '900', '1150', '1040', '1160', '900', '1750', '1320', '2240', '891', '1000', '1852', '1323', '1404', '1370', '1385', '1129', '1876', '1720', '1200', '1175', '500', '1200', '1200', '1893', '1430', '850', '1392', '1938', '1020', '2400', '1832', '1423', '1432', '1350', '1500', '1480', '1843', '760', '1916', '1255', '1160', '2640', '1160', '1200', '1100', '1500', '1336', '1065', '1294', '1550', '1216', '1005', '1430', '4100', '1660', '1430', '1470', '1045', '4000 - 4450', '950', '1382', '930', '1660', '1290', '1010', '3050', '1200', '1650', '1636', '2367', '1153', '2087.01', '1200', '1844', '142.84Sq. Meter', '1215', '1194', '1220', '3150', '525', '955', '2000', '884', '1250', '7000', '2400', '2990', '1195', '2559', '1200', '984', '1089', '1165', '410', '1482', '1200', '1938', '1166', '1275', '1140', '3734', '720', '1200', '1100', '1162', '540', '1550', '1300', '1200', '1220', '964', '1500', '1347', '5000', '3000', '1120', '600', '2321', '540', '1150', '1484', '1680', '620', '1650', '1250', '2072', '1105', '1200', '3100', '4007', '550', '1340', '2409', '1194', '1246', '1055', '1541', '1370', '1224', '650', '883', '1676', '1154', '1610', '1057', '1157', '1200', '1500', '980', '1140', '1206', '575', '1600', '2400', '1300', '1270', '1128', '640', '2400', '1200', '1090', '589', '1125', '1140', '3150', '1315', '300Sq. Yards', '1435', '1092', '1314', '1260', '1875', '1080', '4000', '1082', '1150', '1052', '1045', '1442', '1500', '497', '1255', '1432', '2100', '1450', '1346', '1200', '925', '1160', '1768', '1094', '1500', '1745', '2875', '3500', '1550', '2340', '1655', '2024', '3100', '1575', '1920', '6200', '1082', '1265', '1100', '1160', '1246', '615', '1128', '1260', '1830', '1525', '602', '3000', '1835', '1250', '1200', '1855', '1450', '2089', '1464', '4800', '1200', '1095', '2900', '2500', '1170', '1280', '1224', '1694', '825', '1612', '985', '1175', '600', '1740', '1770', '1000', '1090', '2295', '4144', '1800', '1221', '1046', '1290', '1065', '1850', '1097', '1200', '2160', '1140', '1297', '1150', '1375', '1245', '4750', '1800', '1594', '1200', '645', '700', '2500', '1000', '4000', '1160', '1200', '600', '1570', '1290', '1200', '2777.29', '2250', '1270', '1145', '1320', '1065', '1650', '1371', '2700', '1575', '1362', '3210', '1255', '925', '1088', '1234', '2140', '1584', '1175', '1555', '645', '1585', '1354', '1165', '1200', '1740', '1200', '985', '1200', '600', '1340', '1583', '1200', '1200', '1115 - 1130', '1573', '1227', '1210', '1650', '1000', '1485', '1735', '1730', '1684', '1686', '1654', '1600', '1100', '1655', '1830', '1430', '1989', '1044', '1426', '1115', '1000', '754', '1140', '900', '1200', '580', '1200', '1030', '1910', '1950', '1724', '1200', '1314', '1400', '1400', '1115', '1300', '2400', '1332', '1000', '1200', '2444', '1070', '1600', '1196', '1025', '1220', '2180', '1600', '1270', '3290', '1932.47', '2086', '1165', '1310', '1440', '1900', '740', '2503', '1075', '1260', '1282', '1100', '1717', '1088', '1335', '1200', '1325', '1157', '2204 - 2362', '1200', '1510', '1050', '1200', '1516', '2400', '1050', '1000', '1050', '600', '1194', '600', '1210', '1660', '1410', '1305', '1800', '1206', '883', '1150', '1100', '1245', '1850', '3385', '2150', '3895', '1035', '600', '1200', '1155', '1200', '755', '960', '450', '4000', '1571', '1691', '1489', '800', '980', '1215', '911', '1535', '1200', '1500', '1588', '675', '957', '1200', '1495', '845', '3000', '2206', '1181', '1309', '1400', '1650', '1622', '1225', '1719', '995', '1120', '1047', '1466', '1691', '876', '1659', '1270', '1269', '1200', '1153', '1315', '2485', '1354', '1344', '1180', '1313', '1100', '600', '1200', '625', '890', '1173', '1190', '1250', '1644', '1740', '1710', '1000', '1662', '1162', '1362', '540', '1437 - 1629', '900', '1250', '1410', '2665', '970', '1799', '1500', '1200', '1810', '1084', '1500', '1328', '1485', '1500', '1100', '1360', '900', '600', '1031', '850 - 1060', '1040', '2800', '1404', '1200', '1267', '1510', '900', '1457', '3596', '1408', '1005', '30400', '545', '1182', '1804 - 2273', '1367', '1200', '1100', '1565', '1720', '1107', '1360', '625', '1701', '1350', '1016', '1500', '900', '1500', '2292', '1280', '1750', '1500', '1500', '1245', '1025', '1945', '1640', '1348', '1100', '1616', '1855', '1255', '2040', '2400', '1195', '1022', '760', '1264', '1650', '1020', '4395', '950', '2710', '1936', '1075', '1223', '1500', '1050', '2100', '1200', '1650', '1495', '1500', '1605', '1270', '1081', '1600', '1596', '600', '1557', '1410', '1984', '1196', '2259', '1720', '600', '1256', '1243', '1310', '1140', '1600', '1790', '1200 - 1470', '1674', '1200', '1786', '770', '1035', '1564', '1334', '7150', '1365', '1115', '1020', '1369', '1240', '600', '1418', '2250', '500', '1020', '1290', '1500', '1290', '1881', '943', '1140', '1035', '1500', '5665.84', '1232', '1290', '2610', '1576', '980', '4000', '1346', '1181', '6652', '1307', '1215', '1180', '600', '1115', '1025', '1910', '1200', '2920', '1349', '1175', '1150', '935', '1404', '2700', '1203', '440', '1571', '1125', '610', '1198', '1200', '1200', '6688', '1830', '1432', '2300', '1331.95', '1876', '1639', '1200', '1665', '1140', '2093', '1450', '1330', '1200', '1800', '2872', '1486', '1425', '1255', '750', '1225', '1274', '4600', '1350', '1100', '1760', '1200', '1800', '1095', '1140', '1530', '1724', '1058', '1464', '1975', '1112', '1600', '1648', '1100', '509', '2265', '1200', '530', '1010', '1150', '1340', '1850', '907', '1688', '1160', '1600', '1800', '3596', '1464', '1295', '1012', '1000', '1010', '1379', '1121', '1200', '3124', '1246', '1420', '600', '1090', '1355', '1425', '4000', '1700', '2099', '1330', '1520', '1490', '1000', '1291', '1339', '1330', '9200', '1200', '1650', '8000', '1125', '1310', '1096', '814', '3500', '1140', '1480', '4000', '1500', '1850', '745', '613', '1200', '1470', '896', '250', '1200', '1160', '1590', '520', '1178', '1360', '1155', '520', '1615', '6000', '1140', '1508', '2395', '1590', '2215', '1667', '1903', '1530', '1730', '1048', '1225', '1200', '1175', '1020 - 1130', '1651', '1500', '1783', '1015', '1800', '2758', '1200', '1132', '1200', '1490', '1917', '1703', '1211', '1310', '1146', '1041', '1453', '877', '1477', '1420', '2000', '1140', '1380', '1095', '1133 - 1384', '1665', '1245', '3360', '2010', '1226', '1075', '1226', '510', '1153', '1600', '1000', '1400', '1256', '1200', '1425', '1375', '1919', '2111', '970', '1353', '1405', '1285', '1050', '1349', '4050', '812', '1440', '2425', '2200', '1810', '1200', '1060', '1015', '2830 - 2882', '1500', '1454', '1075', '774', '1187', '500', '1200', '1805', '1527', '1675', '1050', '1500', '1262', '1345', '1715', '3453', '3600', '1141', '4689', '550']\n"
     ]
    }
   ],
   "source": [
    "list1 = df[\"total_sqft\"].to_list()\n",
    "print(list1)"
   ]
  },
  {
   "cell_type": "code",
   "execution_count": 130,
   "metadata": {},
   "outputs": [
    {
     "name": "stdout",
     "output_type": "stream",
     "text": [
      "[1056.0, 2600.0, 1440.0, 1521.0, 1200.0, 1170.0, 2732.0, 3300.0, 1310.0, 1020.0, 1800.0, 2785.0, 1000.0, 1100.0, 2250.0, 1175.0, 1180.0, 1540.0, 2770.0, 1100.0, 600.0, 1755.0, 2800.0, 1767.0, 510.0, 1250.0, 660.0, 1610.0, 1151.0, 1025.0, 4950.0, 1075.0, 1760.0, 1693.0, 1925.0, 700.0, 1070.0, 1724.0, 1290.0, 1143.0, 1296.0, 1254.0, 600.0, 660.0, 1330.74, 600.0, 970.0, 1459.0, 800.0, 869.0, 1270.0, 1670.0, 2010.0, 1185.0, 1600.0, 1200.0, 6420.0, 1500.0, 1407.0, 840.0, 4395.0, 845.0, 5700.0, 1160.0, 3000.0, 1100.0, 1140.0, 1220.0, 1350.0, 1005.0, 500.0, 1358.0, 1569.0, 1240.0, 2089.0, 1206.0, 1150.0, 2511.0, 460.0, 4400.0, 1660.0, 6407.0, 1326.0, 1325.0, 1499.0, 3000.0, 1665.0, 708.0, 1060.0, 710.0, 1000.0, 1000.0, 1450.0, 1200.0, 1296.0, 1540.0, 2894.0, 1330.0, 1200.0, 1200.0, 2502.0, 650.0, 2400.0, 1007.0, 1200.0, 966.0, 1630.0, 1640.0, 782.0, 1260.0, 1800.0, 1413.0, 1116.0, 1530.0, 3700.0, 2497.0, 1540.0, 1436.0, 1100.0, 276.0, 1427.0, 2061.0, 11223.0, 2650.0, 1282.0, 1050.0, 1600.0, 945.0, 1500.0, 950.0, 1870.0, 1600.0, 880.0, 1200.0, 1535.0, 950.0, 1360.0, 2147.0, 1280.0, 1260.0, 5000.0, 3050.0, 1563.05, 1000.0, 1167.0, 4000.0, 1828.0, 890.0, 1612.0, 1034.0, 1710.0, 957.0, 1250.0, 2795.0, 1125.0, 1020.0, 1200.0, 1735.0, 2050.0, 3750.0, 1350.0, 1063.0, 1904.0, 4200.0, 2000.0, 2485.0, 1425.0, 1500.0, 1060.0, 1470.0, 1300.0, 450.0, 1152.0, 1350.0, 1550.0, 1500.0, 600.0, 400.0, 705.0, 770.0, 1242.0, 1700.0, 2144.0, 1704.0, 1070.0, 1846.0, 1340.0, 1025.0, 2555.0, 1200.0, 2250.0, 1550.0, 1200.0, 1800.0, 1200.0, 1327.0, 1186.0, 1783.0, 1400.0, 980.0, 1285.0, 912.0, 1225.0, 1075.0, 1260.0, 1282.0, 1909.0, 1359.0, 1207.0, 1736.0, 2850.0, 1595.0, 1798.0, 1475.0, 1580.0, 1295.0, 3600.0, 589.0, 1415.0, 1787.0, 1787.0, 1475.0, 2000.0, 984.0, 3260.0, 2405.0, 1080.0, 1500.0, 1900.0, 805.0, 1153.0, 1148.0, 1110.0, 1100.0, 1290.0, 1500.0, 1080.0, 1933.0, 3500.0, 1060.0, 645.0, 2600.0, 645.0, 1644.0, 1285.0, 1200.0, 910.0, 1577.0, 4050.0, 2420.0, 800.0, 1060.0, 1270.0, 900.0, 1280.0, 1200.0, 1025.0, 1108.0, 1200.0, 3045.0, 2900.0, 1500.0, 1295.0, 1162.0, 1035.0, 1600.0, 1464.0, 1866.0, 700.0, 1804.0, 913.0, 1868.0, 883.0, 900.0, 1664.0, 2026.0, 1210.0, 4111.0, 1762.0, 1252.0, 861.0, 1420.0, 1450.0, 1490.0, 1075.0, 1425.0, 1200.0, 1280.0, 1084.0, 1015.0, 1017.0, 1027.0, 1069.0, 1349.0, 1005.0, 1417.0, 1475.0, 950.0, 2000.0, 880.0, 1863.0, 1010.0, 1425.0, 1450.0, 1847.0, 1100.0, 525.0, 1665.0, 1664.0, 1850.0, 1438.0, 1560.0, 1350.0, 1550.0, 1140.0, 1200.0, 850.0, 1280.0, 1170.0, 1113.0, 1385.0, 1128.0, 1200.0, 1200.0, 2390.0, 2400.0, 1464.0, 1200.0, 1200.0, 1150.0, 1645.0, 1000.0, 2650.0, 1192.0, 2135.0, 1173.0, 1020.0, 3122.0, 1600.0, 1200.0, 1230.0, 1250.0, 1325.0, 1850.0, 525.0, 1200.0, 1350.0, 1260.0, 1800.0, 11.0, 1100.0, 1508.0, 1592.0, 1388.0, 630.0, 2000.0, 1762.0, 950.0, 3252.0, 1116.0, 1308.0, 1200.0, 1500.0, 500.0, 1075.0, 530.0, 1205.0, 1075.0, 930.0, 1380.0, 2483.0, 1166.0, 1050.0, 2023.71, 1200.0, 1600.0, 1935.0, 451.0, 1800.0, 1400.0, 1801.0, 1451.0, 1200.0, 1160.0, 1000.0, 950.0, 1629.0, 1580.0, 1826.0, 1245.0, 1145.0, 825.0, 1693.0, 1113.27, 1460.0, 1050.0, 1260.0, 700.0, 1656.0, 1208.0, 1910.0, 3252.0, 1200.0, 1200.0, 1175.0, 1000.0, 1200.0, 2390.0, 12000.0, 550.0, 370.92744, 1185.0, 750.0, 1200.0, 1550.0, 1760.0, 1125.0, 1350.0, 1000.0, 1090.0, 1200.0, 1991.0, 1060.0, 1105.0, 985.0, 1533.0, 1590.0, 1120.0, 1069.0, 1933.0, 1194.0, 1150.0, 1240.0, 1419.0, 1200.0, 2150.0, 1450.0, 1630.0, 708.0, 1000.0, 11890.0, 1250.0, 1400.0, 1670.0, 1750.0, 1404.0, 1715.0, 630.0, 1752.12, 1650.0, 1295.0, 1800.0, 1346.0, 1200.0, 1150.0, 3309.0, 1190.0, 1620.0, 950.0, 5000.0, 2450.0, 1220.0, 850.0, 1020.0, 1100.0, 1150.0, 1760.0, 1800.0, 1070.0, 1500.0, 1440.0, 900.0, 1200.0, 1130.0, 1320.0, 1270.0, 1200.0, 4800.0, 1200.0, 929.0, 1150.0, 1125.0, 500.0, 1200.0, 1464.0, 3600.0, 2000.0, 1208.0, 1130.0, 1753.0, 4500.0, 600.0, 1196.0, 1150.0, 1128.0, 1000.0, 1035.0, 950.0, 1075.0, 1040.0, 720.0, 1511.0, 1300.0, 1545.0, 375.0, 1062.0, 1115.0, 1000.0, 883.0, 1195.0, 1200.0, 700.0, 1246.0, 660.0, 8500.0, 1600.0, 2805.0, 1584.0, 3000.0, 1175.0, 1595.0, 1353.0, 1599.0, 1150.0, 5230.0, 1155.0, 1200.0, 1000.0, 3000.0, 1867.0, 1251.0, 1028.0, 1222.0, 1170.0, 2400.0, 1385.0, 1372.0, 1282.0, 5000.0, 3000.0, 1135.0, 1768.0, 1325.0, 1599.0, 1500.0, 2610.0, 1286.0, 2845.0, 1600.0, 2635.0, 3450.0, 1102.0, 1350.0, 1200.0, 1300.0, 1800.0, 950.0, 525.0, 656.0, 1780.0, 1056.0, 595.0, 1080.0, 2225.0, 1126.0, 1490.0, 2000.0, 1550.0, 1600.0, 1160.0, 4144.0, 2100.0, 1404.0, 2230.0, 1544.0, 1305.0, 1230.0, 1200.0, 1460.0, 3600.0, 967.0, 540.0, 715.0, 2500.0, 1578.0, 1020.0, 1020.0, 1253.0, 1180.0, 961.0, 1419.0, 1709.0, 1600.0, 416.0, 1100.0, 1430.0, 1260.0, 1630.0, 1249.0, 1450.0, 2791.0, 600.0, 834.0, 1125.0, 2060.0, 12000.0, 891.0, 1133.0, 1075.0, 3000.0, 2440.0, 1200.0, 1075.0, 1140.0, 940.0, 2160.0, 1090.0, 1500.0, 4104.0, 1790.0, 1920.0, 1374.0, 1445.0, 711.0, 1500.0, 1720.0, 1400.0, 1030.0, 1200.0, 1375.0, 1050.0, 2250.0, 1000.0, 469.0, 3800.0, 883.0, 1820.0, 1440.0, 3600.0, 2500.0, 1225.0, 4000.0, 875.0, 750.0, 1180.0, 1194.0, 1500.0, 1160.0, 1123031.25, 2378.0, 1128.0, 1500.0, 1220.0, 1210.0, 1100.0, 1200.0, 3385.0, 1641.0, 1200.0, 1260.0, 1720.0, 2265.0, 1210.0, 2200.0, 1075.0, 1702.0, 1630.0, 1141.0, 2072.0, 11040.0, 1200.0, 1350.0, 8092.0, 1180.0, 35000.0, 1355.0, 600.0, 1200.0, 1640.0, 1200.0, 1190.0, 2400.0, 1019.0, 1875.0, 1250.0, 1200.0, 1140.0, 1683.0, 1515.0, 2118.0, 1380.0, 1083.0, 600.0, 2300.0, 1240.0, 1750.0, 1230.0, 1500.0, 985.0, 1500.0, 1125.0, 950.0, 11200.0, 1580.0, 1092.0, 1090.0, 2264.0, 1033.0, 810.0, 1045.0, 1337.0, 1200.0, 1580.0, 1500.0, 1640.0, 1570.0, 1470.0, 1160.0, 1050.0, 1855.0, 1460.0, 1823.0, 1094.0, 1153.0, 1325.0, 1200.0, 1590.0, 1210.0, 1200.0, 1202.0, 1202.0, 1200.0, 1688.0, 1020.0, 1185.0, 1235.0, 3205.0, 1077.0, 1415.0, 2330.0, 805.0, 425.0, 1155.0, 5270.0, 656.0, 1100.0, 1150.0, 600.0, 1468.0, 4300.0, 2280.0, 1341.0, 1279.0, 2225.0, 1185.0, 1750.0, 1152.0, 1000.0, 1300.0, 2760.0, 1070.0, 1101.0, 775.0, 667.0, 1070.0, 1875.0, 735.0, 4360.0, 1750.0, 1215.0, 600.0, 820.0, 2355.0, 1779.0, 1105.0, 10764.0, 1650.0, 1694.0, 2376.0, 1975.0, 674.0, 1185.0, 445.0, 900.0, 1475.0, 1618.0, 1120.0, 2181.0, 1200.0, 600.0, 1556.0, 1179.0, 1296.0, 1275.0, 1875.0, 1400.0, 1222.0, 940.0, 1185.0, 1779.0, 1615.0, 9249.0, 1056.0, 1100.0, 920.0, 1602.0, 1176.0, 675.0, 1352.0, 1717.0, 10961.0, 2119.0, 1246.0, 1141.0, 1157.0, 1025.0, 650.0, 1349.0, 1566.0, 2830.0, 1320.0, 1780.0, 1091.0, 3670.0, 918.0, 1950.0, 1695.0, 1705.0, 1375.0, 525.0, 1447.0, 1114.0, 1450.0, 460.0, 1022.0, 1000.0, 1128.0, 1180.0, 1000.0, 1200.0, 3761.0, 1339.0, 1400.0, 1040.0, 1198.0, 1200.0, 1691.0, 1075.0, 1630.0, 1240.0, 2245.0, 1665.0, 2489.0, 1142.0, 1976.0, 5500.0, 1853.0, 600.0, 1567.0, 1090.0, 1200.0, 2400.0, 1175.0, 1200.0, 995.0, 884.0, 900.0, 1170.0, 1225.0, 1342.0, 1345.0, 1320.0, 9900.0, 1140.0, 1300.0, 1652.0, 2072.0, 1740.0, 1360.0, 1145.0, 1540.0, 1278.0, 630.0, 1100.0, 1200.0, 2500.0, 1165.0, 1015.0, 3300.0, 4500.0, 1356.0, 823.0, 1200.0, 1050.0, 1180.0, 1116.0, 1070.0, 1385.0, 1000.0, 1897.0, 1005.0, 1575.0, 975.0, 1904.0, 930.0, 525.0, 686.0, 2400.0, 1410.0, 2238.0, 1174.0, 3800.0, 2225.0, 1250.0, 918.0, 1250.0, 1800.0, 1170.0, 1300.0, 793.0, 1710.0, 1082.0, 1001.0, 1500.0, 1590.0, 2400.0, 1554.0, 2285.0, 4239.0, 884.0, 1045.0, 1019.0, 1935.0, 1135.0, 1680.0, 2470.0, 2825.0, 2480.0, 1260.0, 1800.0, 1799.0, 8697.0, 400.0, 1047.0, 1282.0, 1020.0, 1080.0, 1495.0, 3260.0, 1611.0, 3500.0, 1500.0, 1500.0, 3206.0, 1540.0, 1639.0, 700.0, 1303.0, 1005.0, 1315.0, 1305.0, 600.0, 1300.0, 1440.0, 901.0, 1725.0, 900.0, 1060.0, 1020.0, 1535.0, 530.0, 1464.0, 1350.0, 1115.0, 1175.0, 1113.0, 1200.0, 1640.0, 650.0, 1325.0, 950.0, 1396.0, 1050.0, 1825.0, 1190.0, 1220.0, 1565.0, 1891.0, 900.0, 1161.0, 1299.0, 2400.0, 315.0, 665.0, 1175.0, 1425.0, 1200.0, 1200.0, 1255.0, 2112.95, 600.0, 1810.0, 1200.0, 1033.0, 1548.0, 1611.0, 1400.0, 1485.0, 2400.0, 1025.0, 600.0, 1225.0, 1256.0, 2268.0, 1100.0, 1141.0, 400.0, 1400.0, 4100.0, 231303.59999999998, 15.0, 1175.0, 1100.0, 1843.0, 1200.0, 1460.0, 1530.0, 1467.0, 950.0, 1246.0, 711.0, 1194.0, 1358.0, 1500.0, 1420.0, 1250.0, 1280.0, 1209.0, 4200.0, 1215.0, 1315.0, 1800.0, 1600.0, 1600.0, 3968.0, 1563.0, 1560.0, 2169.0, 900.0, 1050.0, 3235.0, 1200.0, 1140.0, 1500.0, 1560.0, 1100.0, 1260.0, 1036.0, 1662.0, 1464.0, 1234.0, 1403.0, 915.0, 3000.0, 1150.0, 3900.0, 850.0, 929.0, 2400.0, 1350.0, 1135.0, 1405.0, 1200.0, 2805.0, 1161.0, 1290.0, 2557.0, 1480.0, 3300.0, 1350.0, 1580.0, 1470.0, 500.0, 1346.0, 1600.0, 720.0, 1306800.0, 1200.0, 1200.0, 1340.0, 6136.0, 918.0, 1500.0, 1315.0, 2400.0, 1390.0, 1330.0, 3100.0, 1824.0, 1420.0, 750.0, 1260.0, 1561.0, 812.0, 1060.0, 1120.0, 1225.0, 2144.0, 1200.0, 880.0, 1639.0, 1240.0, 1500.0, 1243.0, 1575.0, 1027.0, 1082.0, 1637.0, 1665.0, 1265.0, 1691.0, 1100.0, 24.0, 1500.0, 3205.0, 1666.0, 1115.0, 1070.0, 1128.0, 1162.0, 1339.0, 1192.0, 1920.0, 1255.0, 1357.0, 1600.0, 1225.0, 2400.0, 1570.0, 1093.0, 1865.0, 1200.0, 1039.0, 1246.0, 1985.0, 1590.0, 4000.0, 775.0, 1000.0, 1800.0, 1035.0, 1520.0, 1360.0, 6000.0, 1117.0, 1200.0, 1330.0, 1937.0, 1128.0, 1053.0, 1198.0, 1152.0, 1200.0, 1625.0, 1397.0, 1523.0, 883.0, 700.0, 1170.0, 1200.0, 2400.0, 1480.0, 1897.0, 996.0, 1875.0, 1500.0, 3095.0, 1390.0, 2900.0, 697.0, 710.0, 910.0, 1025.0, 2000.0, 1200.0, 1453.0, 3335.0, 1943.0, 1281.0, 565.0, 1024.0, 1620.0, 1254.0, 1300.0, 1233.0, 1200.0, 1510.0, 950.0, 1945.0, 1008.0, 1265.0, 1255.0, 2689.0, 1200.0, 1403.0, 1535.0, 1500.0, 1475.0, 1390.0, 1278.0, 1133.0, 1560.0, 2900.0, 1170.0, 1200.0, 1697.0, 1651.0, 1560.0, 1192.0, 1078.0, 800.0, 1349.0, 2300.0, 1680.0, 1314.0, 1060.0, 820.0, 5000.0, 2000.0, 856.0, 1621.0, 1200.0, 1484.0, 600.0, 14000.0, 500.0, 485.0, 1050.0, 1617.0, 550.0, 1384.0, 1408.0, 1150.0, 1410.0, 2150.0, 2292.0, 2006.0, 1508.0, 1040.0, 1240.0, 1535.0, 1180.0, 2200.0, 1400.0, 500.0, 4800.0, 1984.0, 3000.0, 1960.0, 1035.0, 2150.0, 1700.0, 3024.0, 1586.0, 2264.0, 2325.0, 1120.0, 3324.0, 1128.0, 1200.0, 924.0, 1600.0, 1006.0, 1200.0, 1250.0, 1200.0, 957.0, 1140.0, 1050.0, 1565.0, 1190.0, 2842.0, 1558.67, 630.0, 1403.0, 1542.0, 2750.0, 3596.0, 1635.0, 1239.0, 1194.0, 1596.0, 1009.0, 1726.0, 1535.0, 1300.0, 3100.0, 1800.0, 665.0, 4050.0, 1500.0, 925.0, 3356.0, 1395.0, 1415.0, 1419.0, 1121.0, 1082.0, 1100.0, 1606.0, 1650.0, 4634.0, 1206.0, 1495.0, 840.0, 710.0, 1210.0, 1523.0, 1232.0, 680.0, 1355.0, 1430.0, 1275.0, 1070.0, 1200.0, 2000.0, 1200.0, 1610.0, 1140.0, 1143.0, 3467.86, 1530.0, 980.0, 1485.0, 1500.0, 1280.0, 1265.0, 1132.0, 1262.0, 940.0, 1515.0, 1300.0, 1840.0, 890.0, 1655.0, 2060.0, 1730.0, 2195.0, 1650.0, 1200.0, 1079.0, 1085.0, 5000.0, 1075.0, 1380.0, 1450.0, 1200.0, 3200.0, 1639.0, 1200.0, 1739.0, 4346.0, 935.0, 510.0, 1200.0, 1178.0, 1375.0, 1065.0, 1450.0, 999.0, 4400.0, 1350.0, 1100.0, 1835.0, 2090.0, 1519.0, 1267.0, 1150.0, 1146.0, 1200.0, 1550.0, 850.0, 2200.0, 3329.0, 785.0, 2900.0, 1610.0, 921.0, 850.0, 2700.0, 1700.0, 1020.0, 1090.0, 3600.0, 1027.0, 1185.0, 850.0, 1197.0, 3500.0, 920.0, 7707.023999999999, 1105.0, 1850.0, 1300.0, 1595.0, 3073.0, 755.0, 4050.0, 1300.0, 1215.0, 900.0, 1145.0, 1093.0, 1213.0, 1654.0, 1105.0, 1611.0, 1367.0, 1010.0, 750.0, 1535.0, 620.0, 982.0, 1700.0, 1330.0, 2500.0, 1475.0, 1410.0, 440.0, 1614.0, 1363.0, 650.0, 1015.0, 1156.0, 1100.0, 1455.0, 930.0, 1650.0, 1200.0, 700.0, 2900.0, 1890.0, 2197.0, 3522.0, 1240.0, 1440.0, 650.0, 764.0, 900.0, 1693.0, 1445.0, 900.0, 1030.0, 1381.0, 1100.0, 1575.0, 1200.0, 1200.0, 1080.0, 2280.0, 1360.0, 1865.0, 1157.0, 674.0, 1405.0, 1160.0, 1600.0, 1790.0, 1128.0, 1180.0, 1450.0, 340.0, 2000.0, 1050.0, 1125.0, 1246.0, 1372.0, 1330.0, 2465.0, 1300.0, 1420.0, 810.0, 1065.0, 700.0, 1374.65, 1050.0, 1250.0, 865.0, 1200.0, 1756.0, 750.0, 628.0, 1200.0, 1207.0, 1765.0, 1130.0, 1532.0, 1650.0, 1200.0, 804.1, 1200.0, 1197.0, 1200.0, 1385.0, 1010.0, 2225.0, 1180.0, 1525.0, 1100.0, 1435.0, 400.0, 1200.0, 1272.0, 1205.0, 980.0, 1225.0, 1541.0, 1610.0, 1694.0, 600.0, 950.0, 1560.0, 1201.0, 1500.0, 1785.0, 1258.0, 910.0, 1297.0, 1291.0, 1070.0, 1012.0, 1260.0, 1282.0, 1843.0, 2400.0, 3356.0, 2790.0, 1330.0, 1400.0, 1192.0, 1000.0, 1297.0, 1230.0, 1490.0, 1373.0, 1035.0, 3750.0, 1010.0, 1195.0, 1750.0, 1052.0, 1180.0, 3680.0, 2100.0, 2863.0, 1128.0, 2700.0, 1120.0, 2424.0, 1300.0, 1090.0, 2710.0, 3040.0, 1330.0, 1427.0, 1294.0, 1580.0, 400.0, 1808.0, 3516.0, 1194.0, 900.0, 1310.0, 900.0, 3850.0, 925.0, 2400.0, 1290.0, 3770.0, 1390.0, 1200.0, 845.0, 1537.0, 1135.0, 1512.0, 900.0, 1230.0, 1378.0, 1277.0, 1985.0, 8000.0, 1210.0, 890.0, 2550.0, 1200.0, 3198.0, 1464.0, 2483.0, 1550.0, 4111.0, 975.0, 2500.0, 1690.0, 1063.0, 2572.0, 2200.0, 1600.0, 1250.0, 520.0, 4000.0, 1390.0, 1185.0, 1219.0, 1564.0, 6860.0, 1100.0, 1300.0, 1600.0, 1600.0, 1482.0, 1000.0, 1200.0, 600.0, 1200.0, 600.0, 2400.0, 1469.0, 551.0, 1160.0, 1205.0, 1550.0, 1745.0, 1028.0, 1700.0, 1200.0, 2700.0, 1100.0, 1200.0, 1269.72, 1266.0, 1060.0, 1168.0, 1552.0, 4077.0, 500.0, 1080.0, 2100.0, 1300.0, 920.0, 817.0, 1310.0, 1650.0, 1515.0, 1157.0, 2400.0, 3000.0, 2200.0, 1243.0, 1530.0, 2070.0, 1815.0, 3900.0, 1000.0, 982.0, 1232.0, 1282.0, 654.0, 1181.0, 1075.0, 1200.0, 1616.0, 1800.0, 1200.0, 1306.0, 1626.0, 2700.0, 1585.0, 1370.0, 3250.0, 1495.0, 2000.0, 2400.0, 1375.0, 7430.0, 1400.0, 1100.0, 1330.0, 1200.0, 1150.0, 1080.0, 1645.0, 1760.0, 595.0, 1200.0, 9249.0, 1410.0, 1090.0, 540.0, 1300.0, 1890.0, 1254.0, 2800.0, 1275.0, 1245.0, 1170.0, 1193.0, 850.0, 1678.0, 1600.0, 1750.0, 1125.0, 2200.0, 16145.999999999998, 2800.0, 1200.0, 1000.0, 2780.0, 1320.0, 8000.0, 2422.0, 1100.0, 882.0, 845.0, 883.0, 1553.0, 1595.0, 1280.0, 1700.0, 920.0, 1300.0, 1450.0, 1757.0, 600.0, 2400.0, 1240.0, 750.0, 1330.0, 1062.0, 1078.0, 1460.0, 1200.0, 1200.0, 912.0, 1535.05404, 2400.0, 2028.0, 980.0, 1000.0, 1050.0, 2611.0, 1875.0, 1065.0, 1800.0, 1163.0, 1098.0, 1725.0, 4000.0, 1128.0, 1320.0, 1705.0, 1418.0, 1500.0, 1100.0, 1464.0, 812.0, 5635.0, 1280.0, 1420.0, 1200.0, 727.0, 1200.0, 2774.0, 2000.0, 1722.0, 2800.0, 7634.0, 1650.0, 840.0, 914.0, 1482.0, 1724.0, 1670.0, 1184.0, 1200.0, 1200.0, 927.0, 1242.0, 1220.0, 1360.0, 2800.0, 1180.0, 1697.0, 550.0, 1225.0, 1690.0, 1660.0, 1488.0, 1250.0, 1050.0, 1027.0, 1699.0, 1205.0, 712.0, 950.0, 1200.0, 1476.0, 1070.0, 2160.0, 1296.0, 1800.0, 1570.0, 1300.0, 1550.0, 770.0, 1870.0, 1650.0, 1429.0, 1167.0, 1035.0, 1188.0, 1200.0, 14166.0, 884.0, 1194.0, 1026.0, 1400.0, 1115.0, 1200.0, 2690.0, 975.0, 675.0, 1900.0, 600.0, 1101.0, 1700.0, 3606.0, 1258.0, 1560.0, 3630.0, 2000.0, 2790.0, 1494.0, 1482.0, 800.0, 1185.0, 1100.0, 1300.0, 1225.0, 1758.0, 1145.0, 1180.0, 1260.0, 6922.0, 1190.0, 1691.0, 3675.0, 1305.0, 2337.0, 1200.0, 1206.0, 1350.0, 1140.0, 1250.0, 600.0, 1225.0, 800.0, 1020.0, 2100.0, 1350.0, 925.0, 1800.0, 2000.0, 1510.0, 5800.0, 1614.0, 682.0, 1200.0, 900.0, 1632.0, 1041.0, 5080.0, 3012.0, 1530.0, 1450.0, 1200.0, 1200.0, 1508.0, 600.0, 1188.0, 2690.0, 1174.0, 1350.0, 1870.0, 1072.0, 52272.0, 726.0, 1345.0, 1200.0, 980.0, 1050.0, 993.0, 1300.0, 1743.0, 1204.0, 1200.0, 1480.0, 950.0, 640.0, 972.0, 1840.0, 1128.0, 680.0, 2400.0, 1045.0, 955.0, 1360.0, 1150.0, 3450.0, 1115.0, 920.0, 1030.0, 1564.0, 1045.0, 1200.0, 1277.0, 2479.13, 1846.0, 1100.0, 1690.0, 1200.0, 3042.0, 1640.0, 1068.0, 1135.0, 1925.0, 1615.0, 650.0, 1200.0, 1150.0, 930.0, 1410.0, 600.0, 2000.0, 1354.0, 1050.0, 600.0, 1320.0, 1600.0, 3500.0, 1000.0, 1130.0, 1238.0, 2204.0, 1200.0, 1364.0, 900.0, 1745.0, 1200.0, 1020.0, 1650.0, 1550.0, 1440.0, 1329.0, 916.0, 688.0, 1358.0, 1331.0, 686.0, 1050.0, 2106.0, 1718.0, 1530.0, 1206.0, 1075.0, 1200.0, 1936.0, 2172.65, 1100.0, 1260.0, 990.0, 800.0, 1117.0, 1685.0, 740.0, 1080.0, 1500.0, 1800.0, 1700.0, 850.0, 1891.0, 1400.0, 1172.0, 1400.0, 896.0, 1180.0, 2460.0, 850.0, 530.0, 1550.0, 1699.0, 2025.0, 500.0, 500.0, 1146.0, 2475.0, 1455.0, 800.0, 765.0, 1521.0, 1600.0, 3155.0, 2900.0, 1765.0, 1980.0, 1900.0, 1265.0, 1034.0, 1012.0, 1070.0, 3555.0, 1270.0, 585.0, 2045.0, 1490.0, 6150.0, 883.0, 671.0, 1156.0, 2017.0, 3122.0, 1635.0, 4400.0, 1296.0, 2400.0, 1139.0, 1230.0, 581.91, 1245.0, 1158.0, 3951.0, 550.0, 360.0, 1350.0, 1670.0, 1600.0, 1307.0, 1050.0, 1703.0, 1210.0, 1025.0, 1140.0, 1343.0, 1560.0, 925.0, 1420.0, 1415.0, 1210.0, 1852.0, 1250.0, 1100.0, 1150.0, 1100.0, 1350.0, 1546.0, 1424.0, 1398.0, 1650.0, 1200.0, 1476.0, 500.0, 1322.0, 432.0, 1100.0, 4750.0, 1285.0, 1150.0, 1430.0, 1350.0, 1350.0, 1185.0, 1760.0, 2400.0, 900.0, 1297.0, 1840.0, 950.0, 1200.0, 950.0, 2555.0, 1571.0, 1031.0, 1485.0, 1109.0, 2200.0, 950.0, 1200.0, 1161.0, 2350.0, 1003.0, 1350.0, 1080.0, 1255.0, 1250.0, 1700.0, 1200.0, 824.0, 1875.0, 1320.0, 9600.0, 1330.0, 1220.0, 1111.0, 1197.0, 2519.0, 1340.0, 1450.0, 1837.0, 1200.0, 1238.0, 1405.0, 1690.0, 1620.0, 1673.0, 1090.0, 1112.0, 1385.0, 545.0, 985.0, 1650.0, 1080.0, 1430.0, 1050.0, 2000.0, 4800.0, 1533.0, 2800.0, 2610.0, 1750.0, 1200.0, 1352.0, 1754.0, 1560.0, 3012.0, 3584.0, 1470.0, 1035.0, 2400.0, 1160.0, 1100.0, 1170.0, 595.0, 1650.0, 1875.0, 800.0, 1375.0, 1235.0, 750.0, 1400.0, 1270.0, 1105.0, 1375.0, 2168.0, 1200.0, 1065.0, 3800.0, 3125.0, 825.0, 1095.0, 720.0, 1440.0, 870.0, 1195.0, 1200.0, 1530.0, 1708.0, 975.0, 750.0, 1200.0, 1920.0, 1200.0, 1183.0, 1140.0, 1550.0, 1110.0, 1500.0, 1105.0, 1800.0, 2800.0, 1000.0, 1190.0, 1350.0, 3067.0, 1929.0, 1525.0, 1775.0, 1125.0, 900.0, 1155.0, 1200.0, 1268.0, 1500.0, 630.0, 1525.0, 1060.0, 1687.0, 1847.0, 1410.0, 1075.0, 3526.0, 3000.0, 1500.0, 1010.0, 1875.0, 1200.0, 983.0, 1101.0, 1140.0, 1215.0, 1007.0, 2039.0, 1020.0, 1198.0, 4000.0, 1470.0, 1370.0, 1316.0, 1350.0, 1050.0, 2257.52, 921.0, 1010.0, 1015.0, 1200.0, 1179.0, 1850.0, 870.0, 1605.0, 2800.0, 2475.0, 3000.0, 2400.0, 1000.0, 1200.0, 1200.0, 1200.0, 1200.0, 1255.0, 1085.0, 1592.0, 1313.0, 1934.0, 1200.0, 3600.0, 935.0, 877.0, 936.0, 1470.0, 1050.0, 1232.0, 2225.0, 1200.0, 1901.0, 1819.0, 1464.0, 2400.0, 7430.0, 5000.0, 1200.0, 1256.0, 1100.0, 4800.0, 1435.0, 3245.0, 1845.0, 2400.0, 1140.0, 1200.0, 2254.0, 1750.0, 1020.0, 515.0, 1893.0, 3025.0, 830.0, 600.0, 1075.0, 3200.0, 1200.0, 1233.0, 1255.0, 1200.0, 2145.0, 1500.0, 740.0, 1250.0, 1210.0, 1525.0, 540.0, 1240.0, 1245.0, 1865.0, 2208.0, 1075.0, 2200.0, 1155.0, 1520.0, 3122.0, 1290.0, 2300.0, 3000.0, 3251.97, 400.0, 1340.0, 900.0, 1800.0, 987.0, 1720.0, 1040.0, 900.0, 1030.0, 2556.0, 1850.0, 750.0, 1028.0, 1270.0, 1655.0, 940.0, 1050.0, 600.0, 946.0, 1726.0, 2121.0, 1404.0, 1525.0, 1025.0, 1575.0, 860.0, 1223.0, 3750.0, 1197.0, 1150.0, 4800.0, 1040.0, 1310.0, 1788.0, 1144.0, 1070.0, 1200.0, 1862.0, 1200.0, 970.0, 1646.0, 4395.0, 1200.0, 1995.0, 2400.0, 1085.0, 1139.0, 1092.0, 1767.0, 1700.0, 1692.0, 1645.0, 1345.0, 1100.0, 1408.0, 2400.0, 1920.0, 6040.0, 2072.0, 1420.0, 2040.0, 1220.0, 1200.0, 1300.0, 1150.0, 1470.0, 1063.0, 1311.0, 3500.0, 600.0, 1400.0, 2200.0, 1430.0, 1060.0, 1000.0, 1760.0, 2010.0, 1480.0, 1230.0, 1300.0, 800.0, 4850.0, 1100.0, 1752.12, 957.0, 1581.0, 1942.0, 1000.0, 668.0, 3000.0, 600.0, 1089.0, 1800.0, 960.0, 1036.0, 1583.0, 3300.0, 1100.0, 800.0, 1246.0, 850.0, 1196.0, 1697.0, 1000.0, 1567.0, 1200.0, 3750.0, 950.0, 1022.0, 1018.0, 2000.0, 1322.0, 1800.0, 1460.0, 990.0, 2400.0, 1635.0, 3526.0, 3400.0, 2770.0, 6070.0, 1533.0, 1720.0, 2000.0, 1185.0, 900.0, 395.0, 1031.0, 2400.0, 2650.0, 2400.0, 1330.0, 1259.0, 1570.0, 1075.0, 1216.0, 1428.0, 1160.0, 600.0, 1475.0, 1754.0, 1639.0, 1804.0, 1200.0, 1135.0, 1260.0, 1440.0, 2160.0, 700.0, 1220.0, 1200.0, 1300.0, 605.0, 1230.0, 1444.0, 924.0, 1000.0, 600.0, 1200.0, 845.0, 700.0, 1187.0, 1625.0, 1200.0, 1452.55, 2357.0, 1200.0, 1139.0, 600.0, 1660.0, 1170.0, 1448.0, 1762.0, 1105.0, 1825.0, 296.0, 1200.0, 1185.0, 1320.0, 1058.0, 1220.0, 925.0, 1200.0, 1160.0, 600.0, 1411.0, 1550.0, 3250.0, 2475.0, 6362.0, 2503.0, 2524.0, 1063.0, 1077.0, 1200.0, 1500.0, 1045.0, 1290.0, 1400.0, 1600.0, 3095.0, 1545.0, 1680.0, 1350.0, 950.0, 1050.0, 1305.0, 800.0, 2700.0, 1100.0, 3500.0, 1634.0, 1352.0, 1145.0, 1240.0, 2200.0, 1020.0, 3600.0, 1168.0, 1205.0, 1195.0, 1028.0, 1175.0, 1550.0, 1826.0, 2400.0, 1603.0, 1350.0, 714.0, 1215.0, 1405.0, 1142.0, 4000.0, 1870.0, 1313.0, 1945.0, 1573.0, 1255.0, 1400.0, 1235.0, 1380.0, 1500.0, 1238.0, 1465.0, 1418.0, 1650.0, 351.0, 1279.0, 1870.0, 1500.0, 2526.0, 1550.0, 7079.0, 1845.0, 1360.0, 1150.0, 1260.0, 1200.0, 965.0, 1350.0, 1447.0, 1229.0, 1027.0, 1153.0, 5712.0, 1065.0, 1030.0, 1340.0, 4000.0, 600.0, 1410.0, 1055.0, 1304.0, 2720.0, 990.0, 1035.0, 1400.0, 1120.0, 1300.0, 1239.0, 1403.0, 1365.0, 1165.0, 1130.0, 1776.42, 900.0, 1194.0, 1107.0, 2319.0, 1520.0, 1536.0, 3000.0, 1050.0, 1850.0, 1112.0, 1535.0, 1050.0, 2400.0, 1250.0, 1187.0, 1164.0, 1395.0, 2072.0, 1450.0, 1550.0, 1315.0, 3067.0, 1210.0, 1075.0, 11338.0, 1215.0, 1470.0, 30000.0, 1590.0, 1050.0, 1306.0, 2000.0, 1445.0, 1220.0, 3190.0, 1215.0, 1920.0, 1390.0, 800.0, 600.0, 1196.0, 1550.0, 1418.0, 1655.0, 1115.0, 1170.0, 1035.0, 1306.0, 750.0, 1917.0, 1615.0, 1071.0, 1325.0, 3000.0, 1400.0, 1246.0, 1215.0, 1200.0, 450.0, 1200.0, 945.0, 4460.0, 1175.0, 920.0, 3024.0, 1600.0, 750.0, 2400.0, 955.0, 1750.0, 1425.0, 2150.0, 1165.0, 1050.0, 1370.0, 1374.0, 1754.0, 1847.0, 1850.0, 3297.0, 1187.0, 1400.0, 600.0, 1350.0, 3000.0, 693.0, 1980.0, 1021.0, 1165.0, 1756.0, 1739.0, 1280.0, 1215.0, 950.0, 1082.0, 1050.0, 1080.0, 1100.0, 3200.0, 1311.0, 1608.0, 1160.0, 1170.0, 1155.0, 1255.0, 1065.0, 674.0, 1936.0, 2289.0, 1100.0, 2257.0, 1055.0, 1530.0, 1700.0, 1575.0, 3500.0, 1263.0, 3118.0, 1043.0, 1255.0, 2705.0, 590.0, 1550.0, 1220.0, 1900.0, 1360.0, 1100.0, 1455.0, 1035.0, 1152.0, 1299.0, 1157.0, 1050.0, 1050.0, 1246.0, 1929.0, 1285.0, 1200.0, 3161.0, 1850.0, 1025.0, 1124.0, 1012.0, 4500.0, 871.0, 1020.0, 1550.0, 3515.0, 1410.0, 3500.0, 1118.0, 1098.0, 1130.0, 1145.0, 950.0, 1051.0, 600.0, 1102.0, 1478.0, 645.0, 823.0, 880.0, 600.0, 1991.0, 1100.0, 1745.0, 1226.0, 680.0, 1100.0, 1200.0, 1450.0, 3366.0, 1150.0, 1843.0, 2200.0, 1090.0, 1132.0, 1375.0, 1500.0, 760.0, 1180.0, 918.0, 600.0, 1200.0, 1372.0, 2400.0, 1728.0, 2215.0, 1200.0, 1280.0, 800.0, 1455.0, 440.0, 1500.0, 1800.0, 1525.0, 1204.0, 1225.0, 800.0, 1650.0, 880.0, 4200.0, 1200.0, 1152.0, 1005.0, 1562.0, 5000.0, 810.0, 1200.0, 1555.0, 1550.0, 1190.0, 1070.0, 3600.0, 1020.0, 1610.0, 700.0, 1300.0, 1420.0, 1200.0, 1069.0, 1900.0, 1655.0, 1155.0, 1300.0, 1100.0, 1030.0, 2105.0, 1700.0, 1760.0, 6200.0, 1400.0, 1200.0, 912.0, 1102.0, 1535.0, 1243.0, 918.0, 1500.0, 3000.0, 1476.0, 1200.0, 606.0, 1100.0, 1295.0, 527.0, 1300.0, 680.0, 1260.0, 1140.0, 1500.0, 2321.0, 1390.0, 1725.0, 3067.0, 1186.0, 1230.0, 600.0, 1313.0, 900.0, 1250.0, 1200.0, 660.0, 1036.0, 2700.0, 1100.0, 3900.0, 1500.0, 525.0, 1015.0, 812.0, 1360.0, 2167.0, 1200.0, 1165.0, 1274.0, 1151.0, 1060.0, 1626.0, 1035.0, 1272.0, 965.0, 1600.0, 1070.0, 1570.0, 1053.0, 780.0, 1000.0, 1200.0, 7500.0, 1700.0, 1850.0, 904.0, 1121.0, 1385.0, 1270.0, 1450.0, 2400.0, 730.0, 1580.0, 1111.0, 1125.0, 977.0, 674.0, 600.0, 2540.0, 1290.0, 600.0, 795.0, 700.0, 1463.0, 1000.0, 1306.0, 2401.0, 1670.0, 1875.0, 1200.0, 1804.0, 2065.0, 1225.0, 2371.0, 900.0, 1350.0, 700.0, 2010.0, 1160.0, 1680.0, 1043.0, 1200.0, 1040.0, 1357.0, 1600.0, 1225.0, 1500.0, 1130.0, 2500.0, 1700.0, 1549.0, 1400.0, 1080.0, 1180.0, 780.0, 1800.0, 1225.0, 890.0, 1005.0, 1320.0, 1475.0, 3414.0, 1110.0, 1300.0, 600.0, 1128.0, 1452.19, 2400.0, 2600.0, 2500.0, 630.0, 1243.0, 960.0, 1690.0, 735.0, 1365.0, 2849.0, 1420.0, 1570.0, 850.0, 1575.0, 1418.0, 1050.0, 1065.0, 1340.0, 1610.0, 1160.0, 1092.0, 1194.0, 1455.0, 734.0, 799.0, 1896.0, 1100.0, 1350.0, 1355.0, 1128.0, 1350.0, 3875.0, 1493.0, 1098.0, 1900.0, 1460.0, 2350.0, 1600.0, 1091.0, 1180.0, 1366.0, 1685.0, 1260.0, 3010.0, 1330.0, 1200.0, 1346.0, 630.0, 2952.0, 1850.0, 2350.0, 755.0, 800.0, 1194.0, 3850.0, 4235.0, 800.0, 2250.0, 1352.0, 2002.0, 4000.0, 1060.0, 1419.59, 1196.0, 1220.0, 1595.0, 1260.0, 1100.0, 1550.0, 1180.0, 4000.0, 1662.0, 1285.0, 1080.0, 1862.0, 1419.0, 1410.0, 1560.0, 1100.0, 1634.0, 5530.0, 1150.0, 1100.0, 1616.0, 1392.0, 1798.0, 1675.0, 792.0, 2000.0, 600.0, 1700.0, 1248.0, 1147.0, 1100.0, 1527.0, 2400.0, 525.0, 1100.0, 1118.0, 1476.0, 2100.0, 1215.0, 1332.0, 1350.0, 600.0, 1243.0, 1105.0, 1500.0, 1200.0, 1251.0, 883.0, 1400.0, 1800.0, 1703.0, 2500.0, 1250.0, 933.0, 461.82, 1262.0, 915.0, 1370.0, 1210.0, 2392.0, 1500.0, 1065.0, 3100.0, 1515.0, 1800.0, 1445.0, 1300.0, 989.0, 1300.0, 1185.0, 1350.0, 1045.0, 1205.0, 1260.0, 1320.0, 1500.0, 1250.0, 1199.0, 1385.0, 1222.0, 1149.0, 2180.0, 1200.0, 12000.0, 1200.0, 1818.0, 1070.0, 1640.0, 1350.0, 630.0, 1430.0, 2430.0, 1500.0, 1084.0, 1186.0, 1255.0, 3400.0, 1541.0, 3596.0, 1295.0, 1000.0, 2820.0, 1370.0, 1100.0, 4772.0, 1370.0, 1370.0, 1200.0, 2000.0, 3500.0, 1200.0, 2400.0, 1220.0, 1950.0, 1178.0, 1286.0, 1160.0, 918.0, 1563.0, 1326.0, 1350.0, 3960.0, 1240.0, 1325.0, 1100.0, 3875.0, 1605.0, 5600.0, 1260.0, 1553.0, 1280.0, 1550.0, 1445.0, 1550.0, 1515.0, 1332.0, 1652.0, 1570.0, 5400.0, 794.0, 1200.0, 3600.0, 1200.0, 1650.0, 600.0, 2800.0, 1750.0, 1053.0, 1100.0, 1665.0, 4051.0, 5500.0, 1447.0, 1012.0, 1900.0, 1308.0, 3250.0, 1351.0, 1000.0, 1200.0, 1140.0, 6362.0, 1250.0, 1290.0, 1424.0, 1320.0, 1662.0, 8321.0, 1200.0, 1975.0, 1295.0, 1777.0, 1900.0, 1576.0, 1020.0, 2100.0, 648.0, 1167.0, 1000.0, 1220.0, 2350.0, 1259.0, 2000.0, 1800.0, 1991.0, 1665.0, 1234.0, 1340.0, 1170.0, 995.0, 1075.0, 1025.0, 2721.0, 2000.0, 2500.0, 1325.0, 1314.0, 2265.0, 4800.0, 1026.0, 1200.0, 2220.0, 2385.0, 1420.0, 1888.0, 1300.0, 1216.0, 3000.0, 1559.0, 1290.0, 2400.0, 905.0, 1069.0, 829.0, 1900.0, 32722.559999999998, 1300.0, 1115.0, 2409.0, 2150.0, 1305.0, 1252.0, 2400.0, 1200.0, 1750.0, 545.0, 1375.0, 1313.0, 3640.0, 1693.0, 1160.0, 1200.0, 1255.0, 1000.0, 900.0, 1700.0, 1875.0, 1700.0, 1749.0, 1500.0, 1175.0, 1280.0, 1200.0, 1610.0, 1070.0, 1200.0, 1127.0, 1210.0, 600.0, 4190.0, 1364.0, 2268.0, 1150.0, 1146.0, 1345.0, 1110.0, 750.0, 1156.0, 1247.0, 1058.0, 950.0, 420.0, 600.0, 1520.0, 1215.0, 900.0, 2350.0, 1050.0, 1672.0, 2800.0, 1500.0, 1400.0, 4500.0, 2700.0, 920.0, 1200.0, 1250.0, 1817.0, 2043.0, 1140.0, 4346.0, 1464.0, 1468.0, 1555.0, 1200.0, 1150.0, 970.0, 2500.0, 1166.0, 2779.0, 1350.0, 900.0, 1300.0, 1190.0, 1495.0, 1224.0, 1350.0, 940.0, 1100.0, 1300.0, 1480.0, 1105.0, 2600.0, 1517.0, 3800.0, 1615.0, 1500.0, 1082.0, 1365.0, 1000.0, 1392.0, 1086.0, 1586.0, 1100.0, 1065.0, 1500.0, 1575.0, 1975.0, 820.0, 1745.0, 1223.0, 1200.0, 1200.0, 665.0, 1351.0, 1355.0, 3900.0, 1588.0, 900.0, 440.0, 3385.0, 1370.0, 1500.0, 2280.0, 1100.0, 1247.0, 2000.0, 1020.07, 1033.0, 1460.0, 1150.0, 5965.0, 1141.0, 5825.0, 4200.0, 1665.0, 1295.0, 1230.0, 1080.0, 1000.0, 2400.0, 1261.0, 1708.0, 1697.0, 3537.0, 615.0, 1350.0, 3060.0, 1083.0, 1460.0, 1084.0, 1035.0, 2400.0, 460.0, 950.0, 1285.0, 2000.0, 1200.0, 1070.0, 1801.0, 1697.0, 1199.0, 2300.0, 1340.0, 3800.0, 600.0, 1125.0, 1200.0, 1050.0, 956.0, 1000.0, 1596.0, 1200.0, 1296.0, 1200.0, 1639.0, 1219.0, 1200.0, 1218.0, 920.0, 2559.0, 525.0, 1427.0, 1270.0, 920.0, 2700.0, 1740.0, 1355.0, 1530.0, 1372.0, 2363.0, 3895.0, 1950.0, 885.0, 600.0, 1270.0, 1380.0, 1339.0, 1130.0, 1085.0, 1430.0, 1451.5, 6200.0, 1490.0, 1650.0, 1286.0, 925.0, 3016.0, 1000.0, 1215.0, 1200.0, 1336.0, 673.0, 1200.0, 600.0, 1600.0, 1200.0, 2480.0, 2500.0, 2400.0, 1143.0, 1470.0, 1584.0, 1785.0, 2292.0, 1460.0, 1500.0, 1200.0, 3300.0, 1230.0, 650.0, 1480.0, 1220.0, 1570.0, 3000.0, 1665.0, 1350.0, 4000.0, 1100.0, 1350.0, 1719.0, 664.0, 1011.0, 2400.0, 1680.0, 1434.0, 700.0, 1520.0, 1350.0, 1760.0, 875.0, 1231.0, 1174.0, 1560.0, 1464.0, 2200.0, 850.0, 1750.0, 2024.0, 1500.0, 2100.0, 2408.0, 1080.0, 2070.0, 1020.0, 1500.0, 1575.0, 3250.0, 1175.0, 1030.0, 1440.0, 1500.0, 1380.0, 1200.0, 705.0, 2240.0, 1584.01, 1340.0, 1800.0, 1200.0, 685.0, 925.0, 1230.0, 1200.0, 1125.0, 1100.0, 2400.0, 1400.0, 1200.0, 1858.0, 1260.0, 3530.0, 1185.0, 1200.0, 1255.0, 3436.0, 1335.0, 1999.0, 1200.0, 1397.0, 1200.0, 3950.0, 1200.0, 1616.0, 1200.0, 1270.0, 1140.0, 525.0, 1200.0, 700.0, 1205.47, 1200.0, 1700.0, 750.0, 1090.0, 3600.0, 2400.0, 923.0, 3595.0, 1050.0, 1495.0, 3328.0, 1485.0, 1033.0, 1400.0, 500.0, 944.0, 3250.0, 1216.0, 1100.0, 1743.0, 1274.0, 2500.0, 1512.0, 3100.0, 1650.0, 1875.0, 1350.0, 1219.0, 1200.0, 2400.0, 1141.0, 1151.0, 832.0, 915.0, 3259.0, 1115.0, 2072.0, 1200.0, 1300.0, 1457.0, 1262.0, 1196.0, 900.0, 420.0, 1160.0, 1115.0, 1315.0, 1500.0, 1127.0, 1397.0, 1173.0, 1090.0, 2720.0, 1230.0, 3200.0, 858.0, 1868.0, 1689.28, 600.0, 1425.0, 1200.0, 1350.0, 4200.0, 1310.0, 6370.0, 970.0, 1397.0, 1157.0, 1125.0, 1157.0, 1241.0, 660.0, 4000.0, 2340.0, 596.0, 10000.0, 1200.0, 1910.0, 1139.0, 3122.0, 1033.0, 1168.0, 877.0, 1340.0, 1405.0, 1800.0, 1750.0, 1360.0, 675.0, 985.0, 1300.0, 1850.0, 1490.0, 620.0, 1130.0, 1080.0, 3126.0, 1410.0, 1375.0, 1290.0, 1318.0, 1128.0, 4428.0, 1051.0, 3500.0, 2400.0, 1327.0, 2912.0, 1301.0, 650.0, 1200.0, 1500.0, 2700.0, 1350.0, 1000.0, 984.0, 1819.18, 900.0, 1355.0, 2145.0, 2475.0, 1118.0, 910.0, 1250.0, 1304.0, 1615.0, 1400.0, 1070.0, 3500.0, 1132.0, 2000.0, 2400.0, 794.0, 1090.0, 1500.0, 2059.0, 525.0, 1447.0, 1269.0, 4800.0, 1070.0, 1150.0, 1208.0, 1185.0, 1200.0, 888.0, 1015.0, 532.0, 1060.0, 700.0, 902.0, 600.0, 1175.0, 1365.0, 984.0, 2700.0, 1475.0, 1300.0, 1200.0, 1453.0, 1550.0, 1666.0, 1410.0, 4025.0, 1845.0, 1676.0, 1137.0, 1360.0, 1374.0, 1700.0, 3227.0, 2145.0, 2400.0, 2170.0, 1080.0, 1790.0, 550.0, 1270.0, 1033.0, 1000.0, 2940.0, 1240.0, 1650.0, 883.0, 1500.0, 1730.0, 1915.0, 1545.0, 1865.0, 1150.0, 1200.0, 963.0, 1200.0, 2600.0, 1700.0, 1682.0, 1371.0, 901.0, 600.0, 1730.0, 1200.0, 1500.0, 3785.0, 3500.0, 1203.0, 1357.0, 1600.0, 350.0, 1665.0, 1400.0, 835.0, 815.0, 1444.0, 1277.0, 1521.0, 1134.0, 995.0, 2760.0, 1325.0, 4000.0, 1525.0, 1320.0, 650.0, 1858.0, 1150.0, 769.0, 1571.0, 1445.0, 1590.0, 902.0, 2238.0, 1090.0, 1712.0, 1088.0, 1575.0, 2150.0, 1920.0, 1000.0, 1100.0, 1089.0, 1106.0, 927.0, 1339.0, 923.0, 2900.0, 1175.0, 975.0, 2400.0, 1330.0, 1183.0, 1758.0, 1200.0, 1255.0, 600.0, 1100.0, 1170.0, 2400.0, 1530.0, 1420.0, 1200.0, 1045.0, 1591.0, 1680.0, 675.0, 1055.0, 1918.0, 1280.0, 1560.0, 1145.0, 2106.0, 1801.0, 1200.0, 1718.0, 1306.0, 1320.0, 1350.0, 2990.0, 3800.0, 1344.0, 1893.0, 1107.0, 1200.0, 1190.0, 1000.0, 2400.0, 1000.0, 2113.0, 1100.0, 1200.0, 1884.0, 1110.0, 1027.0, 1250.0, 1470.0, 1150.0, 1200.0, 703.0, 1400.0, 1195.0, 1302.0, 1583.0, 1488.0, 600.0, 1385.0, 3262.0, 1600.0, 1150.0, 4500.0, 1263.0, 1200.0, 1299.0, 1330.0, 1282.0, 1853.0, 861.0, 1600.0, 1256.0, 1390.0, 1550.0, 1200.0, 919.0, 1625.0, 1195.0, 2400.0, 1159.0, 1386.0, 1197.0, 2690.0, 8607.0, 1295.0, 1310.0, 1132.0, 2350.0, 2400.0, 1645.0, 1200.0, 3000.0, 1937.0, 1015.0, 1080.0, 1350.0, 1149.0, 1185.0, 1720.0, 2080.0, 1500.0, 1566.0, 2386.0, 1500.0, 1290.0, 1531.0, 1839.0, 4200.0, 1400.0, 550.0, 1140.0, 2687.0, 2000.0, 1100.0, 1200.0, 1618.0, 2830.0, 1315.0, 1141.0, 1080.0, 1200.0, 1111.0, 1022.0, 1275.0, 900.0, 1224.0, 1135.0, 1050.0, 1535.0, 1392.0, 1050.0, 1513.0, 1621.0, 892.0, 1205.0, 1355.0, 1250.0, 1650.0, 1200.0, 1400.0, 726.0, 1500.0, 3895.0, 1079.0, 1170.0, 1104.0, 950.0, 4818.0, 1650.0, 1559.0, 1100.0, 1750.0, 1215.0, 1868.0, 1130.0, 1570.0, 1691.0, 4355.0, 1225.0, 1690.0, 1418.0, 1896.0, 605.0, 800.0, 900.0, 750.0, 780.0, 908.0, 6833.0, 3216.0, 2400.0, 1400.0, 1092.0, 1255.0, 1500.0, 1296.0, 925.0, 1023.0, 600.0, 1020.0, 1530.0, 1650.0, 1605.0, 1925.0, 1190.0, 1374.0, 1140.0, 1725.0, 1075.0, 1574.0, 965.0, 1550.0, 1205.0, 1082.0, 1215.0, 2483.0, 1200.0, 1500.0, 2360.0, 3198.0, 1452.0, 1329.0, 1125.0, 1200.0, 1350.0, 2625.0, 2600.0, 1200.0, 1220.0, 1255.0, 1904.0, 1329.0, 1200.0, 2135.0, 2770.0, 813.0, 3884.0, 3876.0, 800.0, 4750.0, 1500.0, 1880.0, 1440.0, 1575.0, 1630.0, 1180.0, 1090.0, 1020.0, 2425.0, 1097.0, 1070.0, 1000.0, 1120.0, 1150.0, 1900.0, 1141.0, 937.0, 1075.0, 1000.0, 1450.0, 897.0, 936.0, 1280.0, 1050.0, 1350.0, 1325.0, 1174.0, 1890.0, 735.0, 500.0, 1304.0, 1653.0, 1075.0, 1212.0, 1100.0, 3436.0, 1200.0, 1140.0, 1200.0, 1532.0, 2776.0, 1531.0, 1270.0, 1325.0, 1200.0, 1156.0, 2000.0, 1260.0, 1934.0, 1060.0, 1476.0, 1185.0, 1265.0, 3200.0, 1196.0, 1280.0, 800.0, 1175.0, 1850.0, 2400.0, 1195.0, 2000.0, 600.0, 800.0, 1180.0, 1050.0, 1400.0, 2360.0, 1030.0, 1512.0, 929.0, 1252.0, 1485.0, 1124.0, 2400.0, 1407.0, 1482.0, 1163.0, 1570.0, 3480.0, 520.0, 2000.0, 1352.0, 1152.0, 1575.0, 1965.0, 1300.0, 1.0, 957.0, 1740.0, 1080.0, 1060.0, 975.0, 1150.0, 1738.0, 1250.0, 1788.0, 1151.0, 1300.0, 1150.0, 1380.0, 1645.0, 1141.0, 1175.0, 1355.0, 1150.0, 5800.0, 1000.0, 1007.0, 3000.0, 1436.0, 4000.0, 2372.0, 1500.0, 1797.588, 1200.0, 1016.0, 1100.0, 1080.0, 1070.0, 1532.0, 1040.0, 3100.0, 2275.0, 1430.0, 1160.0, 3262.0, 2100.0, 1190.0, 1827.0, 1210.0, 1500.0, 1050.0, 1251.0, 1600.0, 1128.0, 1820.0, 2072.0, 1510.0, 1925.0, 2651.0, 2072.0, 1000.0, 1752.0, 960.0, 1180.0, 2270.0, 650.0, 1200.0, 1180.0, 1300.0, 1157.0, 1300.0, 1305.0, 2006.0, 1290.0, 1170.0, 971.0, 1400.0, 1200.0, 1155.0, 1725.0, 700.0, 7000.0, 1112.0, 1178.0, 1274.0, 915.0, 1650.0, 760.0, 1540.0, 1206.0, 1645.0, 1200.0, 1200.0, 2342.0, 1200.0, 1056.0, 4800.0, 1450.0, 1161.0, 1097.0, 850.0, 1715.0, 2300.0, 1200.0, 1080.0, 1200.0, 2400.0, 1400.0, 1500.0, 916.0, 1230.0, 1640.0, 1700.0, 1478.0, 6600.0, 1020.0, 1200.0, 1275.0, 1600.0, 1110.0, 1627.86, 620.0, 3004.0, 1133.0, 1182.0, 1500.0, 3900.0, 1200.0, 1128.0, 4690.0, 900.0, 1100.0, 635.0, 2062.0, 1874.0, 600.0, 1171.0, 2020.0, 1059.0, 1315.0, 1760.0, 1200.0, 1192.0, 1645.0, 1250.0, 1418.0, 1340.0, 2388.0, 1369.1, 1355.0, 1150.0, 1938.0, 2462.0, 1636.0, 1430.0, 2000.0, 993.0, 1260.0, 1700.0, 1270.0, 1500.0, 2300.0, 7500.0, 1650.0, 1109.0, 1280.0, 2885.0, 1200.0, 1600.0, 1462.0, 607.0, 930.0, 4500.0, 1200.0, 2600.0, 3000.0, 1418.0, 4200.0, 1125.0, 1825.0, 1320.0, 3000.0, 1490.0, 1650.0, 750.0, 1400.0, 4104.0, 5000.0, 3295.0, 1150.0, 1200.0, 965.0, 812.0, 1100.0, 1180.0, 1145.0, 1027.0, 1215.0, 1200.0, 1015.0, 2400.0, 3000.0, 3300.0, 1076.0, 1300.0, 1300.0, 1512.0, 1053.4, 1210.0, 1153.0, 2080.0, 1255.0, 2835.0, 1583.0, 1505.0, 1365.0, 1200.0, 1810.0, 440.0, 975.0, 1250.0, 1530.0, 1300.0, 1115.0, 1308.0, 1194.0, 1490.0, 10000.0, 1592.0, 1222.0, 1267.0, 656.0, 3400.0, 4500.0, 1200.0, 1698.0, 1500.0, 2000.0, 1152.0, 550.0, 900.0, 1410.0, 1419.0, 1200.0, 1800.0, 990.0, 1016.0, 1100.0, 850.0, 1095.0, 2000.0, 1444.0, 1415.0, 1500.0, 1600.0, 1105.0, 1225.0, 2560.0, 1080.0, 2400.0, 1856.0, 1464.0, 2100.0, 1150.0, 1200.0, 4188.0, 1485.0, 2500.0, 1200.0, 1036.0, 3445.0, 1400.0, 1110.0, 1150.0, 715.0, 1200.0, 1200.0, 2283.0, 1790.0, 1453.0, 1400.0, 1400.0, 1700.0, 1591.0, 1515.0, 2500.0, 975.0, 1382.0, 1750.0, 1533.0, 3815.0, 1100.0, 3730.0, 1500.0, 1391.0, 1160.0, 620.0, 2400.0, 1200.0, 4827.0, 1482.0, 1405.0, 1190.0, 1174.0, 1155.0, 1411.0, 745.0, 1000.0, 923.0, 1000.0, 1276.0, 1460.0, 1355.0, 833.0, 1200.0, 1750.0, 1200.0, 669.0, 2200.0, 1594.0, 1790.0, 1020.0, 3250.0, 1037.0, 1345.0, 1070.0, 3000.0, 1385.0, 1207.0, 1140.0, 1220.0, 3811.0, 3596.0, 1965.0, 1760.0, 1225.0, 1075.0, 1000.0, 1891.0, 1322.0, 1095.0, 3600.0, 1045.0, 1545.0, 1996.0, 1125.0, 1560.0, 2000.0, 3100.0, 780.0, 1350.0, 2275.0, 1350.0, 1464.0, 1570.0, 708.0, 1680.0, 1400.0, 1310.0, 3300.0, 1175.0, 1428.0, 750.0, 3252.0, 1194.0, 750.0, 1080.0, 1200.0, 1200.0, 1200.0, 1320.0, 1842.0, 1146.0, 440.0, 1048.0, 1801.0, 1232.0, 1150.0, 1868.0, 1445.0, 1466.0, 1730.0, 3860.0, 1185.0, 3027.0, 2400.0, 1185.0, 1150.0, 2000.0, 875.0, 1075.0, 1760.0, 1600.0, 910.0, 1000.0, 1215.0, 1734.0, 1280.0, 1113.0, 1272.0, 1240.0, 704.0, 1100.0, 896.0, 3657.0, 1200.0, 2800.0, 2790.0, 3500.0, 3600.0, 1500.0, 1200.0, 1096.0, 580.0, 1094.0, 1100.0, 5975.0, 2503.0, 1145.0, 1550.0, 1830.0, 1746.0, 1280.0, 918.0, 645.0, 1305.0, 1207.0, 1678.0, 950.0, 1200.0, 1070.0, 1732.46, 1639.0, 1360.0, 2592.0, 4470.0, 720.0, 1656.0, 985.0, 1999.0, 1050.0, 1440.0, 1600.0, 1253.0, 1200.0, 1360.0, 1086.0, 1655.0, 2600.0, 1418.0, 1270.0, 1410.0, 1150.0, 600.0, 1440.0, 1200.0, 1200.0, 1410.0, 1200.0, 600.0, 624.0, 1060.0, 3960.0, 1200.0, 1200.0, 1917.0, 950.0, 3040.0, 1250.0, 1235.0, 722.0, 2775.0, 1200.0, 1400.0, 1225.0, 1220.0, 705.0, 1880.0, 1200.0, 1550.0, 1893.0, 1650.0, 1113.0, 1500.0, 1800.0, 1586.0, 4000.0, 1541.0, 1830.0, 1200.0, 1800.0, 1015.0, 1120.0, 706.0, 1350.0, 610.0, 1900.0, 1200.0, 3000.0, 1075.0, 1290.0, 1200.0, 1150.0, 1360.0, 4500.0, 935.0, 1730.0, 1260.0, 675.0, 4000.0, 950.0, 600.0, 2500.0, 3216.0, 800.0, 1991.0, 1115.0, 1900.0, 1109.0, 2340.0, 1200.0, 4356.0, 1005.0, 416.0, 1394.0, 2138.0, 1550.0, 1300.0, 1265.0, 1140.0, 1050.0, 1100.0, 1012.0, 1600.0, 1326.0, 1654.0, 1705.0, 1070.0, 1700.0, 910.2, 1140.0, 4960.0, 2254.0, 945.0, 2462.0, 1350.0, 615.0, 1110.0, 575.0, 1025.0, 1758.0, 3179.0, 1342.0, 1800.0, 2928.0, 1140.0, 1608.0, 1645.0, 1410.0, 1200.0, 1275.0, 3800.0, 909.0, 1200.0, 1080.0, 1200.0, 1092.0, 1932.0, 1156.0, 924.0, 1330.0, 1917.0, 985.0, 2400.0, 1800.0, 1290.0, 655.0, 1800.0, 1360.0, 1785.0, 4000.0, 1645.0, 1235.0, 900.0, 662.0, 1440.0, 1215.0, 845.0, 1525.0, 1000.0, 1255.0, 1560.0, 2100.0, 1620.0, 1595.0, 1095.0, 835.0, 2182.0, 1418.0, 1900.0, 2700.0, 1070.0, 2000.0, 2400.0, 755.0, 1645.0, 2400.0, 645.0, 3900.0, 2400.0, 2416.0, 919.0, 1725.0, 1346.0, 1070.0, 1225.0, 880.0, 640.0, 1310.0, 1190.0, 1645.0, 1350.0, 1404.0, 1105.0, 900.0, 1650.0, 1100.0, 2100.0, 1948.0, 1464.0, 1210.0, 4000.0, 1252.0, 1200.0, 3905.0, 2600.0, 1300.0, 1130.0, 1200.0, 1690.0, 4500.0, 950.0, 1020.0, 2107.0, 1735.0, 915.0, 1450.0, 2215.0, 2431.0, 1804.0, 1600.0, 1280.0, 1255.0, 1320.0, 1257.0, 1240.0, 1200.0, 1850.0, 1255.0, 870.0, 1789.0, 800.0, 660.0, 600.0, 1155.0, 1235.0, 2675.0, 1025.0, 1395.0, 1530.0, 1252.0, 1081.0, 1255.0, 2062.0, 1220.0, 1408.0, 1180.0, 715.0, 1230.0, 1035.0, 3360.0, 1300.0, 1100.0, 1216.0, 1450.0, 705.0, 1385.0, 1200.0, 1310.0, 1043.0, 1320.0, 1900.0, 1140.0, 1100.0, 1586.0, 975.0, 1365.0, 1263.0, 1565.0, 1163.0, 2882.0, 2320.0, 1750.0, 1143.0, 1936.0, 660.0, 700.0, 1402.0, 4640.0, 1000.0, 1000.0, 818.0, 1680.0, 2422.0, 1145.0, 1190.0, 1145.0, 1575.0, 9000.0, 1200.0, 1500.0, 2560.0, 1583.0, 700.0, 950.0, 1041.0, 1085.0, 1070.0, 1165.0, 1000.0, 1169.0, 1150.0, 1840.0, 1550.0, 997.0, 1457.0, 1000.0, 1000.0, 1500.0, 958.0, 1165.0, 1200.0, 1787.0, 1288.0, 1430.0, 3035.0, 750.0, 900.0, 1200.0, 1500.0, 1230.0, 780.0, 1220.0, 1110.0, 2100.0, 1380.0, 1690.0, 1130.0, 1213.0, 900.0, 1199.0, 5000.0, 4145.0, 700.0, 661.0, 1804.0, 1710.0, 1030.0, 1220.0, 1530.0, 1200.0, 2000.0, 300.0, 1751.0, 800.0, 1255.0, 1778.0, 1100.0, 1480.0, 1358.0, 580.0, 1197.0, 1200.0, 1705.0, 1310.0, 1132.0, 1200.0, 814.0, 1575.0, 1302.0, 1800.0, 2006.8, 1100.0, 2400.0, 830.0, 435.0, 1590.0, 1140.0, 1090.0, 1922.0, 965.0, 883.0, 1062.0, 2178.0, 1358.0, 1108.0, 1197.0, 1190.0, 3754.0, 1749.0, 1750.0, 1691.0, 1449.0, 3250.0, 1400.0, 1310.0, 1100.0, 1230.0, 1750.0, 1450.0, 1810.0, 1246.0, 1420.0, 2658.0, 1450.0, 1200.0, 1367.0, 2254.0, 1160.0, 1200.0, 1711.0, 750.0, 1120.0, 950.0, 1560.0, 1250.0, 1225.0, 1200.0, 1340.0, 1846.0, 1155.0, 1205.0, 1140.0, 1140.0, 1300.0, 1051.0, 1134.0, 2500.0, 12000.0, 1135.0, 1745.0, 500.0, 1665.0, 1220.0, 1868.0, 640.0, 2300.0, 1210.0, 1351.0, 1636.0, 2400.0, 1464.0, 418.0, 1339.0, 2370.0, 1530.0, 1100.0, 1350.0, 1290.0, 1220.0, 1846.0, 1847.0, 3100.0, 1430.0, 935.0, 1350.0, 540.0, 1590.0, 1286.0, 1141.0, 1554.0, 3520.0, 7500.0, 1749.0, 2250.0, 1140.0, 1632.0, 1000.0, 1065.0, 1520.0, 1075.0, 5.0, 1539.0, 1342.0, 1004.0, 1295.0, 1098.0, 1070.0, 1016.0, 1450.0, 654.0, 5985.0, 1080.0, 1046.0, 1950.0, 1610.0, 2493.0, 1151.0, 1125.0, 992.0, 1000.0, 2400.0, 1850.0, 1174.0, 5322.0, 1100.0, 1095.0, 3580.0, 900.0, 1082.0, 1350.0, 1314.0, 1290.0, 1010.0, 2200.0, 1636.0, 1050.0, 1200.0, 1520.0, 2500.0, 1067.0, 1060.0, 955.0, 1418.0, 1200.0, 700.0, 1366.0, 1090.0, 1250.0, 3600.0, 950.0, 1470.0, 1250.0, 800.0, 1494.0, 1445.0, 1397.0, 606.0, 861.0, 1170.0, 2461.0, 1205.0, 1224.0, 660.0, 1153.0, 2400.0, 4500.0, 1200.0, 1450.0, 1139.0, 1530.0, 825.0, 1575.0, 650.0, 1120.0, 1700.0, 1090.0, 1897.0, 1200.0, 700.0, 1437.0, 1856.0, 1500.0, 1036.0, 3000.0, 1125.0, 1320.0, 2215.0, 660.0, 1730.0, 750.0, 1804.0, 1795.0, 1050.0, 2100.0, 1199.0, 1350.0, 1100.0, 1000.0, 1254.0, 600.0, 940.0, 1280.0, 2155.0, 3200.0, 4260.0, 1255.0, 1388.0, 905.0, 1176.0, 1390.0, 2400.0, 1160.0, 2800.0, 1200.0, 1583.0, 1252.0, 1170.0, 1350.0, 1075.0, 972.0, 1486.0, 555.0, 4830.0, 850.0, 1282.0, 2790.0, 2383.0, 1103.0, 1577.0, 1465.0, 1600.0, 1090.0, 1721.0, 1100.0, 1450.0, 1071.0, 2266.0, 2065.0, 1800.0, 1150.0, 1200.0, 1123.0, 1884.0, 930.0, 1145.0, 1328.0, 950.0, 1250.0, 1115.0, 1318.0, 3300.0, 1280.0, 1230.0, 1420.0, 2111.0, 1100.0, 1750.0, 2550.0, 700.0, 1050.0, 1235.0, 1200.0, 900.0, 1146.0, 1200.0, 2400.0, 1200.0, 615.0, 1070.0, 1538.0, 1355.0, 3080.0, 1800.0, 1400.0, 1123.0, 1200.0, 787.0, 1082.0, 1096.0, 1200.0, 1140.0, 1130.0, 550.0, 1058.0, 1269.0, 946.0, 3400.0, 2689.0, 1976.0, 1820.0, 1329.0, 1350.0, 1250.0, 1205.0, 800.0, 1339.0, 938.0, 450.0, 1100.0, 600.0, 1060.0, 1125.0, 810.0, 1060.0, 1749.0, 1200.0, 1100.0, 1360.0, 720.0, 6613.0, 1925.0, 502.0, 3339.0, 1475.0, 1550.0, 966.0, 1350.0, 1300.0, 4400.0, 1559.0, 1246.0, 2790.0, 1410.0, 1300.0, 1339.0, 900.0, 1104.0, 900.0, 1550.0, 670.0, 1483.0, 1540.0, 1200.0, 1255.0, 600.0, 1036.0, 1460.0, 1230.0, 1340.0, 1600.0, 2162.0, 919.0, 1070.0, 1733.0, 1221.0, 1041.0, 2550.0, 1400.0, 600.0, 710.0, 1500.0, 3122.0, 2061.0, 2400.0, 1255.0, 2425.0, 1031.0, 1210.0, 950.0, 1376.0, 1161.0, 1303.0, 1418.0, 1200.0, 1825.0, 1015.0, 1150.0, 1010.0, 1508.0, 1275.0, 1460.0, 946.0, 1110.0, 1832.0, 1088.0, 1564.0, 1030.0, 660.0, 1700.0, 1100.0, 1205.0, 1950.0, 1080.0, 2800.0, 999.0, 900.0, 1300.0, 1265.0, 1200.0, 1974.0, 1180.0, 1350.0, 1560.0, 2800.0, 1085.0, 1300.0, 1600.0, 1127.0, 795.0, 1850.0, 1020.0, 1475.0, 1200.0, 1345.0, 849.0, 1706.0, 2100.0, 1250.0, 1260.0, 1265.0, 1260.0, 1045.0, 3895.0, 825.0, 1100.0, 1113.0, 2774.0, 1210.0, 700.0, 1155.0, 1132.0, 1359.0, 2631.0, 1145.0, 600.0, 1200.0, 830.0, 1009.0, 1800.0, 1226.0, 1500.0, 1363.0, 1400.0, 1165.0, 2792.0, 700.0, 1060.0, 1200.0, 1518.0, 1495.0, 1575.0, 1440.0, 1545.0, 1470.0, 1500.0, 1450.0, 1179.0, 1650.0, 1095.0, 856.0, 1143.0, 1349.0, 1280.0, 480.0, 1216.0, 2493.0, 1290.0, 1200.0, 1156.0, 1230.0, 1070.0, 7505.0, 1235.0, 1117.0, 1724.0, 1200.0, 600.0, 1930.0, 1216.0, 1452.0, 1355.0, 7500.0, 2145.0, 957.0, 925.0, 1550.0, 4000.0, 2100.0, 1115.0, 1692.0, 1100.0, 1385.0, 760.0, 1335.0, 910.0, 1610.0, 1341.0, 1200.0, 1285.0, 2100.0, 1679.0, 2675.0, 1016.0, 1500.0, 660.0, 2448.0, 924.0, 500.0, 1800.0, 1255.0, 1040.0, 1062.0, 1611.0, 950.0, 1216.0, 1300.0, 1390.0, 1033.0, 1390.0, 1020.0, 1418.0, 1140.0, 670.0, 2171.0, 1136.0, 1477.0, 1001.0, 1040.0, 1060.0, 1240.0, 3500.0, 42000.0, 1070.0, 1253.0, 1190.0, 1312.0, 750.0, 1615.0, 1095.0, 1745.0, 1050.0, 2080.0, 1220.0, 1793.0, 1100.0, 1385.0, 1200.0, 2017.0, 400.0, 1400.0, 960.0, 1125.0, 1551.0, 600.0, 1246.0, 3200.0, 1060.0, 1384.0, 620.0, 1005.0, 1200.0, 1400.0, 2400.0, 1096.0, 1180.0, 1300.0, 1020.0, 600.0, 3563.0, 1165.0, 1685.0, 1580.0, 1210.0, 1030.0, 1100.0, 1255.0, 1482.0, 1344.0, 1275.0, 462.0, 3300.0, 1210.0, 1320.0, 1532.0, 1245.0, 1212.0, 1230.0, 1000.0, 2257.0, 1246.0, 1080.0, 1306.68, 1360.0, 1260.0, 1200.0, 1418.0, 1200.0, 950.0, 1020.0, 1400.0, 1440.0, 800.0, 2925.0, 1175.0, 1185.0, 2250.0, 1178.0, 36000.0, 825.0, 1250.0, 1113.12, 1718.0, 1010.0, 900.0, 1500.0, 540.0, 1020.0, 1194.0, 1470.0, 600.0, 1108.0, 3895.0, 700.0, 1600.0, 1850.0, 1250.0, 600.0, 1140.0, 1200.0, 985.0, 982.0, 600.0, 2640.0, 1314.0, 1700.0, 1077.0, 3782.0, 2000.0, 1643.0, 1200.0, 1116.0, 1020.0, 621.0, 1740.0, 1225.0, 1241.0, 1041.0, 1050.0, 4400.0, 1309.0, 1128.0, 1430.0, 1065.0, 1085.0, 750.0, 981.0, 1548.3, 2302.0, 1410.0, 1525.84, 1200.0, 1030.0, 1852.0, 1160.0, 918.0, 1255.0, 1200.0, 1150.0, 2700.0, 1150.0, 1227.0, 1255.0, 840.0, 1198.0, 1200.0, 1700.0099999999998, 2600.0, 2072.0, 797.0, 1350.0, 2500.0, 2215.0, 525.0, 2700.0, 1500.0, 900.0, 1355.0, 1465.0, 1006.0, 2000.0, 1128.0, 850.0, 1310.0, 1390.0, 1390.0, 2396.0, 1170.0, 1385.0, 1160.0, 1160.0, 1200.0, 1475.0, 1939.0, 850.0, 675.0, 1060.0, 1235.0, 600.0, 1250.0, 1460.0, 1690.0, 850.0, 1843.0, 1680.0, 1047.0, 1100.0, 3250.0, 1120.0, 1095.0, 970.0, 1200.0, 1100.0, 1685.0, 1148.0, 1050.0, 1465.0, 3401.0, 630.0, 1850.0, 1200.0, 1750.0, 1350.0, 1760.0, 1440.0, 1200.0, 1100.0, 1140.0, 3235.0, 1410.0, 1434.0, 1180.0, 1160.0, 1343.0, 1184.0, 2246.0, 4510.0, 1305.0, 3785.0, 1540.0, 1550.0, 1345.0, 975.0, 1140.0, 1152.0, 3200.0, 1033.0, 1800.0, 1102.0, 1223.0, 1762.0, 560.0, 2000.0, 1410.0, 1853.0, 1455.0, 1138.0, 2556.0, 1200.0, 1200.0, 2195.8559999999998, 1200.0, 1870.0, 1199.0, 800.0, 1360.0, 1230.0, 2000.0, 1200.0, 1047.0, 6000.0, 1200.0, 2605.0, 725.0, 1645.0, 870.0, 1026.0, 2000.0, 1710.0, 1766.0, 500.0, 1100.0, 1221.0, 680.0, 1278.0, 1025.0, 1175.0, 1950.0, 600.0, 850.0, 710.0, 1165.0, 625.0, 1340.0, 937.0, 1500.0, 750.0, 405.0, 1475.0, 2230.0, 2200.0, 900.0, 1116.0, 948.0, 970.0, 1519.0, 1200.0, 1760.0, 4400.0, 1914.0, 1820.0, 1820.0, 1565.0, 1334.0, 924.0, 914.0, 500.0, 2145.0, 1200.0, 1650.0, 3940.0, 1020.0, 1180.0, 1255.0, 2777.29, 1014.0, 920.0, 695.0, 2273.0, 1140.0, 3000.0, 1180.0, 2400.0, 850.0, 1200.0, 3160.0, 1769.0, 1199.7, 1554.3, 1243.0, 4920.0, 905.0, 627.0, 2180.0, 2400.0, 1435.0, 3405.1, 1620.0, 1862.0, 674.0, 1220.0, 1027.0, 1025.0, 1430.0, 1235.0, 1291.0, 1498.0, 2180.0, 1000.0, 922.0, 850.0, 750.0, 1123.0, 1235.0, 1250.0, 2403.0, 984.0, 1305.0, 1200.0, 600.0, 2790.0, 2010.0, 995.0, 1277.0, 1236.0, 1265.0, 525.0, 2570.0, 2400.0, 1442.0, 1224.0, 1205.0, 1233.0, 1312.0, 1449.0, 1090.0, 2100.0, 1390.0, 1200.0, 600.0, 1000.0, 2400.0, 1732.0, 1290.0, 1840.0, 1917.0, 1100.0, 1455.0, 2774.0, 1200.0, 1425.0, 1655.0, 2805.0, 600.0, 1040.0, 1126.0, 1600.0, 1250.0, 1800.0, 1200.0, 2050.0, 530.0, 5171.0, 883.0, 1490.0, 1295.0, 1275.0, 800.0, 1200.0, 1063.0, 656.0, 1125.0, 881.0, 1350.0, 700.0, 1936.0, 1680.0, 1253.0, 1640.0, 1082.0, 1065.0, 2100.0, 1070.0, 1280.0, 1200.0, 1125.0, 1755.0, 1210.0, 951.0, 1500.0, 1652.5, 1381.0, 1085.0, 905.0, 1685.0, 1200.0, 1151.0, 3532.0, 1665.0, 800.0, 1050.0, 1030.0, 1257.0, 1600.0, 1465.0, 1650.0, 1243.0, 680.0, 1230.0, 1300.0, 1000.0, 1146.0, 1200.0, 2601.0, 2159.0, 1255.0, 1130.0, 1200.0, 1040.0, 1500.0, 906.0, 1180.0, 1200.0, 850.0, 1200.0, 1374.0, 4700.0, 1261.0, 2400.0, 1027.0, 1200.0, 2384.0, 1033.0, 1200.0, 2017.0, 1500.0, 700.0, 1150.0, 1495.0, 1302.0, 905.0, 1303.0, 1350.0, 1380.0, 1620.0, 4800.0, 1000.0, 800.0, 1250.0, 1750.0, 997.0, 1760.0, 1322.0, 1365.0, 1500.0, 1256.0, 941.0, 5000.0, 1665.0, 1414.0, 1270.0, 800.0, 4100.0, 1800.0, 850.0, 712.0, 5296.0, 900.0, 900.0, 1200.0, 654.0, 708.0, 600.0, 1680.0, 990.0, 1380.0, 1088.0, 1414.0, 1240.0, 1810.0, 2005.0, 1185.0, 1200.0, 1070.0, 1265.0, 1100.0, 1035.0, 1229.0, 1000.0, 1179.0, 1650.0, 2800.0, 3500.0, 1430.0, 1130.0, 1850.0, 1340.0, 8668.0, 600.0, 2582.0, 1160.0, 1200.0, 1116.0, 600.0, 2663.0, 1090.0, 1100.0, 1365.0, 1484.0, 1630.0, 1451.0, 1330.0, 2127.0, 875.0, 1260.0, 1173.0, 1445.0, 2250.0, 1500.0, 4673.0, 1197.0, 1200.0, 3930.0, 1450.0, 1187.0, 4000.0, 1050.0, 1370.0, 1036.0, 1275.0, 2010.0, 1418.0, 1265.0, 1576.0, 1148.0, 1000.0, 1293.0, 1200.0, 1210.0, 1126.0, 1840.0, 1440.0, 1300.0, 1276.0, 600.0, 1216.0, 840.0, 1240.0, 1126.0, 45.0, 1162.0, 1301.0, 658.0, 1350.0, 2500.0, 839.9149199999999, 1208.51, 1133.0, 1760.0, 1075.0, 940.0, 1145.0, 2605.0, 3900.0, 6635.0, 1300.0, 2475.0, 2040.0, 1200.0, 2420.0, 1216.0, 1459.0, 1622.0, 1843.0, 1274.0, 600.0, 1430.0, 1800.0, 1565.0, 1670.0, 1695.0, 1410.0, 1060.0, 1120.0, 880.0, 1083.0, 1435.0, 1425.0, 900.0, 2400.0, 693.0, 600.0, 2435.0, 1920.0, 630.0, 1075.0, 1200.0, 705.0, 1200.0, 1532.0, 1330.0, 1200.0, 1530.0, 1105.0, 1566.0, 1630.0, 1256.0, 1200.0, 1595.0, 1000.0, 1475.0, 2400.0, 1000.0, 2360.0, 1737.0, 1000.0, 2100.0, 3600.0, 883.0, 1243.0, 1776.0, 1347.0, 1330.0, 600.0, 3730.0, 1459.0, 2259.0, 2700.0, 1008.0, 1200.0, 2328.0, 600.0, 660.0, 1800.0, 3100.0, 2810.0, 602.0, 1710.0, 1500.0, 1539.0, 806.0, 1100.0, 1151.0, 920.0, 1350.0, 1200.0, 1265.0, 600.0, 1700.0, 1600.0, 1550.0, 1560.0, 1000.0, 1243.0, 1200.0, 1403.0, 1010.0, 1416.0, 1628.0, 1660.4, 1680.0, 1595.0, 1507.0, 2560.0, 1949.0, 800.0, 1000.0, 905.0, 2480.0, 1495.0, 1605.0, 1290.0, 1100.0, 2100.0, 995.0, 500.0, 3526.0, 1425.0, 1455.0, 550.0, 1385.0, 7000.0, 4000.0, 1060.0, 1080.0, 1783.0, 1520.0, 1060.0, 1267.0, 1155.0, 2500.0, 1240.0, 1570.0, 1019.0, 1355.0, 1537.0, 4075.0, 1550.0, 1100.0, 1750.0, 1466.0, 1550.0, 2300.0, 540.0, 950.0, 2800.0, 1020.0, 2880.0, 1987.0, 1305.0, 2100.0, 1125.0, 1225.0, 1255.0, 1191.0, 3600.0, 1165.0, 865.0, 1850.0, 497.0, 1232.0, 1732.0, 1614.0, 600.0, 2072.0, 919.0, 2100.0, 672.0, 800.0, 1200.0, 2849.0, 1000.0, 1216.0, 2245.0, 1476.0, 1852.0, 1225.0, 1597.0, 2423.0, 1152.0, 1762.0, 1400.0, 1530.0, 2400.0, 1185.0, 1890.0, 1247.0, 700.0, 1000.0, 1201.0, 830.0, 1165.0, 1100.0, 1890.0, 1685.0, 3131.0, 1165.0, 827.0, 396.0, 1200.0, 635.0, 4000.0, 1050.0, 600.0, 1819.18, 1500.0, 1500.0, 2850.0, 1751.0, 4750.0, 1020.0, 1148.0, 1856.0, 1754.0, 4273.0, 1060.0, 1300.0, 3000.0, 1325.0, 1261.0, 1100.0, 700.0, 1675.0, 3400.0, 3260.0, 1180.0, 1160.0, 1863.0, 1914.0, 1458.0, 1200.0, 1105.0, 3035.0, 1200.0, 1662.0, 1556.0, 918.0, 1455.0, 1205.0, 1194.0, 1200.0, 1100.0, 1405.0, 929.0, 3436.0, 1035.0, 2100.0, 1065.0, 3065.0, 1500.0, 1200.0, 1093.0, 1250.0, 1680.0, 1146.0, 1250.0, 1451.0, 1424.0, 1435.0, 658.0, 1300.0, 1242.0, 1910.0, 1610.0, 1127.0, 1075.0, 1155.0, 1280.0, 1250.0, 2200.0, 2400.0, 876.0, 1850.0, 1314.0, 690.0, 7100.0, 1230.0, 920.0, 1850.0, 1073.0, 1540.0, 1550.0, 1198.0, 1656.0, 1900.0, 1910.0, 1003.0, 1098.0, 1495.0, 2172.0, 2400.0, 1200.0, 1548.0, 5400.0, 5712.0, 1689.0, 1031.0, 2119.0, 1200.0, 1060.0, 1100.0, 1350.0, 1050.0, 1250.0, 1100.0, 1200.0, 1420.0, 1500.0, 1942.0, 1985.0, 950.0, 1200.0, 1752.0, 1200.0, 1200.0, 1480.0, 600.0, 1826.0, 1035.0, 2600.0, 1667.0, 934.0, 909.88092, 1620.0, 1070.0, 3600.0, 1280.0, 1400.0, 1200.0, 1330.0, 1012.0, 1611.0, 1405.0, 1515.0, 1830.0, 1710.0, 935.0, 2197.0, 600.0, 1678.0, 1410.0, 1125.0, 1191.0, 1200.0, 1525.0, 1464.0, 920.0, 651.0, 600.0, 645.0, 1185.0, 1190.0, 91040.4, 5712.0, 1355.0, 1200.0, 7000.0, 1200.0, 500.0, 1250.0, 1480.0, 3300.0, 3166.0, 1206.0, 1357.0, 925.0, 909.0, 3000.0, 1100.0, 3000.0, 1100.0, 975.0, 1306.0, 1200.0, 610.0, 1484.0, 1125.0, 1447.0, 2882.0, 750.0, 2075.0, 1250.0, 1272.0, 1050.0, 625.0, 840.0, 2502.0, 583.0, 900.0, 1115.0, 1464.0, 2200.0, 750.0, 1600.0, 1365.0, 1300.0, 1200.0, 1260.0, 1190.0, 2480.0, 1250.0, 1500.0, 1510.0, 1187.0, 1120.0, 2230.0, 1717.0, 2099.0, 1100.0, 1200.0, 1465.0, 1500.0, 4050.0, 1255.0, 1220.0, 1065.0, 1765.0, 1281.0, 1210.0, 1215.0, 1200.0, 1237.0, 1300.0, 1105.0, 1505.0, 3900.0, 1186.0, 900.0, 750.0, 1083.0, 1430.0, 1056.0, 2108.0, 1650.0, 1220.0, 1198.0, 1190.0, 900.0, 2690.0, 1340.0, 2940.0, 2400.0, 2324.0, 1260.0, 2254.0, 2990.0, 1800.0, 820.0, 1296.0, 1190.0, 1173.0, 1800.0, 1102.0, 913.0, 1176.0, 1620.0, 2968.0, 1519.0, 1345.0, 1594.0, 1250.0, 1056.0, 1200.0, 1290.0, 1150.0, 1464.0, 1200.0, 861.0, 1047.0, 1200.0, 1200.0, 1065.0, 2300.0, 1000.0, 1682.0, 1756.0, 4000.0, 1050.0, 1238.0, 814.0, 1145.0, 965.0, 750.0, 1300.0, 1590.0, 644.0, 982.0, 1260.0, 1555.0, 2500.0, 1225.0, 1085.0, 1640.0, 1595.0, 1196.0, 1859.0, 1079.0, 550.0, 1118.0, 1198.0, 2325.0, 1830.0, 1160.0, 1485.0, 2070.0, 750.0, 957.0, 2400.0, 1268.0, 1450.0, 1600.0, 1330.0, 1355.0, 1272.0, 1100.0, 1220.0, 1075.0, 800.0, 995.0, 900.0, 1140.0, 1480.0, 1710.0, 2106.0, 2400.0, 3800.0, 800.0, 1602.0, 1660.0, 1549.0, 700.0, 1012.0, 1469.0, 1216.0, 1065.0, 1411.0, 1400.0, 1250.0, 1245.0, 1115.0, 1000.0, 3160.0, 1800.0, 1500.0, 645.0, 1275.0, 1494.0, 1949.0, 1020.0, 883.0, 3200.0, 1680.0, 2232.0, 2010.0, 1240.0, 1213.0, 1835.0, 1800.0, 2932.0, 3425.0, 945.0, 1504.0, 1569.0, 1755.0, 1760.0, 1240.0, 1450.0, 1000.0, 3820.0, 2000.0, 1215.0, 26136.0, 1330.0, 1178.0, 1500.0, 2040.0, 2000.0, 1602.0, 1200.0, 1194.0, 1800.0, 2400.0, 1700.0, 1200.0, 1500.0, 1240.0, 3000.0, 1737.0, 900.0, 1280.0, 1560.0, 883.0, 750.0, 2400.0, 900.0, 1030.0, 1850.0, 1831.0, 1095.0, 1320.0, 2545.0, 1000.0, 1820.0, 1075.0, 1500.0, 360.0, 1850.0, 1140.0, 1145.0, 1862.0, 947.0, 7502.508, 700.0, 1120.0, 2700.0, 1805.0, 1100.0, 1355.0, 1677.0, 2500.0, 1560.0, 2060.0, 1716.0, 1864.0, 638.0, 1200.0, 1150.0, 937.0, 1490.0, 4856.0, 4003.0, 1100.0, 1000.0, 1060.0, 1047.0, 1200.0, 1420.0, 1539.0, 1550.0, 1555.0, 600.0, 1553.0, 920.0, 1740.0, 1855.0, 1724.0, 1020.0, 1000.0, 1250.0, 1450.0, 1200.0, 1140.0, 900.0, 550.0, 1450.0, 1500.0, 700.0, 1200.0, 1050.0, 1600.0, 1625.0, 1492.0, 5712.0, 1489.0, 1560.0, 1140.0, 1431.0, 1682.0, 1198.0, 3664.0, 1550.0, 1026.0, 1260.0, 690.0, 539.0, 1200.0, 2400.0, 1200.0, 2500.0, 1186.0, 1039.0, 1500.0, 1500.0, 2520.0, 1225.0, 1350.0, 1030.0, 1550.0, 1490.0, 1520.0, 4100.0, 1391.0, 1200.0, 1200.0, 2500.0, 1322.0, 2173.0, 1200.0, 1200.0, 1170.0, 1125.0, 1397.0, 1250.0, 1025.0, 1075.0, 1900.0, 1435.0, 1175.0, 1464.0, 900.0, 585.0, 3170.0, 1602.0, 1220.0, 2500.0, 2145.0, 960.0, 907.0, 1210.0, 900.0, 1230.0, 1350.0, 1150.0, 1404.0, 1050.0, 1020.0, 1285.0, 1018.0, 1200.0, 1115.0, 1600.0, 1480.0, 2500.0, 480.0, 1435.0, 450.0, 600.0, 1590.0, 3460.0, 936.0, 1181.0, 1741.0, 1750.0, 1050.0, 1027.0, 596.0, 3463.0, 1600.0, 2790.0, 1000.0, 1120.0, 1200.0, 1200.0, 1570.0, 1500.0, 1315.0, 1140.0, 1105.0, 1200.0, 905.0, 2400.0, 1185.0, 1083.0, 1458.0, 1555.0, 1200.0, 1308.0, 1024.0, 1194.0, 1450.0, 1639.0, 1870.0, 1232.0, 1719.0, 975.0, 2000.0, 1230.0, 1350.0, 1076.0, 2400.0, 995.0, 2120.0, 2400.0, 850.0, 1096.0, 1107.83, 505.0, 1320.0, 2863.0, 1320.0, 2901.0, 1315.0, 1000.0, 1596.0, 1750.0, 2403.0, 1350.0, 8125.0, 1175.0, 921.0, 4000.0, 1713.0, 1200.0, 1900.0, 1664.0, 1795.0, 600.0, 1240.0, 1965.0, 600.0, 4111.0, 1200.0, 1112.0, 3000.0, 1136.0, 914.0, 1270.0, 1050.0, 1385.0, 990.0, 845.0, 1485.0, 1460.0, 1450.0, 1360.0, 1375.0, 1125.0, 720.0, 1460.0, 1107.0, 1158.0, 800.0, 600.0, 1760.0, 3200.0, 600.0, 1350.0, 600.0, 1125.0, 1706.0, 1600.0, 1200.0, 1755.0, 1200.0, 1200.0, 1266.67, 1800.0, 1200.0, 1300.0, 800.0, 4800.0, 2059.0, 1128.0, 2000.0, 1210.0, 2710.0, 1151.0, 7500.0, 1464.0, 1017.0, 920.0, 1200.0, 1000.0, 1750.0, 1163.0, 1650.0, 1800.0, 1100.0, 1200.0, 1410.0, 1933.0, 1200.0, 1608.0, 2679.0, 1156.0, 1230.0, 770.0, 1777.26, 1339.0, 3044.0, 1080.0, 3150.0, 2400.0, 1450.0, 1075.0, 1163.0, 1200.0, 1200.0, 3090.0, 1299.0, 1130.0, 1170.0, 4390.0, 2600.0, 1140.0, 1900.0, 1090.0, 1110.0, 705.0, 1089.0, 880.0, 1080.0, 1093.0, 1480.0, 1703.0, 1200.0, 1690.0, 1305.0, 1257.0, 1150.0, 1194.0, 2000.0, 1500.0, 1025.0, 980.0, 1200.0, 2225.0, 1022.0, 882.0, 1153.0, 1175.0, 1560.0, 650.0, 600.0, 1350.0, 1200.0, 1200.0, 800.0, 2093.0, 1320.0, 1275.0, 1215.0, 1130.0, 1444.0, 950.0, 1000.0, 1240.0, 600.0, 1231.0, 1300.0, 1713.0, 1200.0, 3004.0, 1310.0, 790.0, 1744.0, 1605.0, 1250.0, 2476.0, 1260.0, 1615.0, 1180.0, 1255.0, 1025.0, 1877.0, 1649.0, 2600.0, 2500.0, 1542.0, 1418.0, 1012.0, 1200.0, 1115.0, 1680.0, 1171.0, 1027.0, 1700.0, 1090.0, 1232.0, 766.0, 1200.0, 525.0, 1535.05404, 1452.0, 1254.0, 3600.0, 1593.0, 1333.0, 1100.0, 1375.0, 1650.0, 1430.0, 940.0, 435.0, 1160.0, 1500.0, 1890.0, 1050.0, 1200.0, 1027.0, 2990.0, 3000.0, 1459.0, 1711.0, 1250.0, 645.0, 875.0, 1334.0, 1140.0, 1115.0, 1200.0, 1776.0, 2072.0, 1600.0, 1200.0, 920.0, 1556.0, 1310.0, 1631.0, 525.0, 1395.0, 2000.0, 1232.0, 1075.0, 1205.0, 1200.0, 2340.0, 1179.0, 1013.0, 1160.0, 653340.0, 1200.0, 1200.0, 1255.0, 1100.0, 1069.0, 1200.0, 1400.0, 1065.0, 1395.0, 1725.0, 1007.0, 1436.0, 4250.0, 1645.0, 1200.0, 940.0, 4300.0, 2850.0, 1740.0, 1194.0, 3761.0, 1829.0, 1800.0, 1000.0, 5720.0, 800.0, 675.0, 1390.0, 1500.0, 2047.0, 1202.0, 1012.0, 2132.0, 1350.0, 605.0, 1331.0, 1200.0, 1150.0, 1200.0, 1800.0, 600.0, 1280.0, 1007.0, 1370.0, 925.0, 1500.0, 450.0, 1200.0, 1341.0, 1350.0, 992.0, 1163.0, 1229.0, 600.0, 1219.0, 1525.0, 1147.0, 1412.0, 1200.0, 1044.0, 1190.0, 1240.0, 1352.0, 1100.0, 1330.0, 1700.0, 1355.0, 1200.0, 400.0, 1342.0, 1615.0, 1340.0, 1200.0, 400.0, 1080.0, 1600.0, 1200.0, 2700.0, 1780.0, 1605.0, 7200.0, 646.0, 1200.0, 900.0, 1830.0, 690.0, 650.0, 1800.0, 715.0, 1230.0, 1065.0, 1350.0, 1080.0, 900.0, 946.0, 1500.0, 1711.0, 1200.0, 950.0, 1656.0, 1075.0, 1752.12, 6000.0, 1540.0, 600.0, 665.0, 1665.0, 1145.0, 1185.0, 1200.0, 1693.0, 2456.0, 2559.0, 1155.0, 1610.0, 1200.0, 1530.0, 1709.0, 600.0, 2700.0, 840.0, 1400.0, 1200.0, 1439.0, 1375.0, 2990.0, 1200.0, 1315.0, 1500.0, 3600.0, 1178.0, 1430.0, 1400.0, 1093.0, 1200.0, 5000.0, 1200.0, 2210.0, 1150.0, 1435.0, 600.0, 1173.0, 1140.0, 1717.0, 1325.0, 1370.0, 1025.0, 1409.0, 1200.0, 1200.0, 1740.0, 1232.0, 1200.0, 5924.0, 1250.0, 1475.0, 2100.0, 552.0, 1065.0, 1000.0, 1225.0, 650.0, 1067.0, 1364.0, 1750.0, 1240.0, 1200.0, 1540.0, 1504.0, 1116.0, 2365.0, 1308.0, 864.0, 1200.0, 1069.0, 1333.0, 1800.0, 6136.0, 1698.0, 1275.0, 1060.0, 1160.0, 1484.0, 675.0, 1200.0, 1310.0, 1806.0, 3000.0, 2145.0, 1693.0, 1230.0, 1200.0, 1310.0, 1150.0, 1385.0, 1066.0, 2293.0, 720.0, 1625.0, 1246.0, 2100.0, 2400.0, 3900.0, 1000.0, 907.0, 3500.0, 1395.0, 1180.0, 1903.0, 1175.0, 1272.0, 1490.0, 1144.0, 2400.0, 1143.0, 2500.0, 1216.0, 1044.0, 1352.0, 1552.0, 1785.0, 810.0, 1650.0, 1595.0, 1060.0, 1410.0, 1523.0, 1591.0, 1640.0, 450.0, 1305.0, 1590.0, 1240.0, 1200.0, 1100.0, 1180.0, 1115.0, 845.0, 1567.2, 1310.0, 26136.0, 959.0, 1200.0, 883.0, 1050.0, 1390.0, 1188.0, 1280.0, 1280.0, 1614.0, 1000.0, 1196.0, 1220.0, 950.0, 2400.0, 1141.0, 1200.0, 1380.0, 855.0, 645.0, 922.0, 1200.0, 1240.0, 1070.0, 1293.0, 1380.0, 1599.0, 967.0, 1885.0, 860.0, 1075.0, 1050.0, 1595.0, 1350.0, 1204.0, 2990.0, 1035.0, 1000.0, 1457.0, 1194.0, 1100.0, 1655.0, 1691.2, 1215.0, 2310.0, 1639.0, 1685.0, 1008.0, 1100.0, 2122.0, 1050.0, 1230.0, 1240.0, 1252.0, 1374.0, 500.0, 1200.0, 1355.0, 1040.0, 1350.0, 4003.0, 2400.0, 1560.0, 1151.0, 1360.0, 1250.0, 1110.0, 1015.0, 1351.0, 960.0, 1110.0, 1680.0, 2400.0, 11000.0, 1350.0, 1254.0, 1255.0, 1051.0, 1200.0, 1099.0, 2650.0, 2000.0, 1541.0, 1200.0, 1125.0, 1650.0, 834.0, 1320.0, 1200.0, 1000.0, 1500.0, 4400.0, 87120.0, 600.0, 1180.0, 1010.0, 1070.0, 1580.0, 1200.0, 2000.0, 1920.0, 1200.0, 1040.0, 1430.0, 1215.0, 650.0, 1564.0, 800.0, 750.0, 1200.0, 1128.0, 1200.0, 2000.0, 2750.0, 2400.0, 1650.0, 1235.0, 1200.0, 900.0, 985.0, 1475.0, 3450.0, 1157.0, 900.0, 2500.0, 1030.0, 1000.0, 3800.0, 4260.0, 1950.0, 1570.0, 1283.0, 875.0, 1200.0, 2700.0, 2400.0, 1250.0, 3630.0, 990.0, 1199.0, 1280.0, 2750.0, 1190.0, 1100.0, 2075.0, 1133.0, 2400.0, 1280.0, 1250.0, 1565.0, 1900.0, 1080.0, 600.0, 1240.0, 1335.0, 1246.0, 6993.0, 1385.0, 1578.0, 1140.0, 1700.0, 1050.0, 1120.0, 435.0, 1116.0, 1480.0, 1000.0, 1145.0, 800.0, 1265.0, 3400.0, 1475.0, 1265.0, 1200.0, 2180.0, 1080.0, 2023.0, 2400.0, 1545.0, 1804.0, 1200.0, 1350.0, 1108.0, 1730.0, 1427.0, 935.0, 1073.0, 960.0, 2215.0, 1125.0, 1230.0, 1438.0, 1080.0, 1200.0, 1200.0, 1590.0, 1350.0, 1400.0, 1560.0, 1810.0, 2274.24, 1484.0, 1650.0, 1455.0, 2280.0, 4900.0, 2079.0, 1351.0, 1223.0, 1430.0, 3589.0, 1310.0, 1800.0, 1120.0, 984.0, 1770.0, 900.0, 1350.0, 1447.0, 1140.0, 1170.0, 1160.0, 1296.0, 1570.0, 1495.0, 1530.0, 900.0, 1800.0, 1088.0, 1533.0, 1100.0, 1540.0, 1244.0, 1040.0, 1034.0, 1260.0, 1180.0, 1245.0, 1350.0, 1464.0, 470.0, 920.0, 2300.0, 1124.0, 2095.0, 1100.0, 1019.0, 1756.0, 1280.0, 1200.0, 1700.0, 2134.0, 1369.1, 600.0, 1313.0, 2515.0, 2215.0, 1440.0, 1186.0, 1350.0, 1800.0, 1600.0, 1000.0, 2275.0, 1305.0, 1740.0, 900.0, 1567.0, 1082.0, 1050.0, 1200.0, 3500.0, 1220.0, 1970.0, 2665.0, 2130.0, 1749.0, 1260.0, 11840.4, 1170.0, 1670.0, 2264.0, 3500.0, 1100.0, 674.0, 1320.0, 600.0, 1125.0, 1125.0, 700.0, 1300.0, 1600.0, 1052.0, 1140.0, 1130.0, 1140.0, 2200.0, 1500.0, 1350.0, 1230.0, 1520.0, 525.0, 1040.0, 1300.0, 2690.0, 780.0, 1140.0, 1225.0, 646.0, 1600.0, 1890.0, 1050.0, 1200.0, 1458.0, 1200.0, 1970.0, 1808.0, 1007.0, 1105.0, 1700.0, 1170.0, 1080.0, 1150.0, 1200.0, 1200.0, 1656.0, 600.0, 1040.0, 1085.0, 1215.0, 2150.0, 1100.0, 1210.0, 1050.0, 600.0, 1920.0, 1250.0, 947.55, 1421.0, 1050.0, 1425.0, 1162.0, 905.0, 914.0, 1258.0, 1100.0, 3500.0, 2400.0, 4200.0, 1537.0, 1230.0, 2400.0, 2250.0, 2000.0, 3000.0, 2600.0, 3200.0, 950.0, 4000.0, 1282.0, 1304.0, 2100.0, 1220.0, 1636.0, 1415.0, 653400.0, 1728.0, 1680.0, 1235.0, 900.0, 3990.0, 1495.0, 1500.0, 2501.0, 381.0, 3301.8, 2002.0, 3200.0, 1200.0, 1500.0, 1942.0, 3045.0, 660.0, 1200.0, 1450.0, 1039.0, 1210.0, 995.0, 1620.0, 3204.0, 3408.0, 1314.0, 945.0, 1374.0, 1603.0, 1230.0, 670.0, 1864.0, 2500.0, 1625.0, 1186.0, 1500.0, 770.0, 1085.0, 3754.0, 1893.0, 600.0, 1496.0, 1305.0, 1550.0, 1200.0, 1494.0, 1286.0, 600.0, 1860.0, 425.0, 1243.0, 1200.0, 1044.0, 1040.0, 1125.0, 3489.0, 1278.0, 2400.0, 1250.0, 2400.0, 4166.0, 1210.0, 1200.0, 1157.0, 1185.0, 1450.0, 1859.0, 1763.0, 900.0, 1305.0, 1200.0, 1568.0, 5000.0, 1150.0, 1806.0, 1027.0, 1002.0, 1220.0, 1109.0, 1002.0, 1308.0, 1232.0, 1027.0, 1250.0, 900.0, 960.0, 1255.0, 1434.0, 925.0, 1858.0, 1205.0, 1500.0, 1200.0, 1020.0, 965.0, 1800.0, 1200.0, 1636.0, 1724.0, 1216.0, 654.0, 2460.0, 1190.0, 1200.0, 1636.0, 1195.0, 2400.0, 1250.0, 1452.0, 1546.0, 6771.0, 1440.0, 2260.0, 2700.0, 1475.0, 3000.0, 375.0, 1007.0, 54885.6, 5422.0, 1020.0, 1000.0, 800.0, 1200.0, 1125.0, 1150.0, 909.0, 2850.0, 1400.0, 1152.0, 958.0, 1150.0, 2990.0, 1310.0, 1590.0, 1645.0, 1800.0, 1795.0, 1100.0, 1554.0, 925.0, 1542.14, 3746.0, 1430.0, 1020.0, 750.0, 1140.0, 967.0, 2470.0, 850.0, 1100.0, 1697.0, 1250.0, 1120.0, 1200.0, 5100.0, 2400.0, 1200.0, 1100.0, 1417.0, 1492.0, 1498.0, 3500.0, 1010.0, 1255.0, 1050.0, 1847.0, 1200.0, 982.0, 2144.6, 750.0, 919.0, 1087.0, 1480.0, 1180.0, 2100.0, 1221.0, 1194.0, 2072.0, 1600.0, 2200.0, 1640.0, 1253.0, 1061.0, 1950.0, 1250.0, 1585.0, 1452.0, 1015.0, 4929.0, 1125.0, 1116.0, 400.0, 4000.0, 3900.0, 1300.0, 1419.0, 1310.0, 2072.0, 1240.0, 1565.0, 1820.0, 2500.0, 3657.0, 1245.0, 1315.0, 1410.0, 1375.0, 1299.0, 993.0, 1200.0, 985.0, 2400.0, 1255.0, 1655.0, 2830.0, 6000.0, 550.0, 825.0, 1634.0, 1200.0, 1222.0, 1500.0, 1890.0, 3750.0, 850.0, 1295.0, 1320.0, 950.0, 1200.0, 3000.0, 1197.0, 1320.0, 1180.0, 840.0, 1280.0, 1693.0, 1000.0, 1305.0, 450.0, 705.0, 750.0, 4800.0, 5000.0, 5000.0, 1991.0, 1779.0, 10200.0, 870.0, 1595.0, 525.0, 945.0, 2400.0, 2000.0, 1614.0, 1200.0, 1150.0, 3200.0, 1610.0, 1190.0, 1050.0, 4800.0, 1460.0, 3400.0, 600.0, 1569.0, 2600.0, 645.0, 1200.0, 800.0, 800.0, 1350.0, 2780.0, 1410.0, 1109.0, 2000.0, 800.0, 1215.0, 1230.0, 2273.0, 1255.0, 1020.0, 1225.0, 1120.0, 2400.0, 1225.0, 5200.0, 4000.0, 1984.0, 2425.0, 1200.0, 1127.0, 1655.0, 500.0, 1200.0, 1000.0, 1225.0, 1350.0, 600.0, 1175.0, 655.0, 1311.0, 600.0, 1000.0, 1196.0, 1050.0, 1275.0, 927.0, 1520.0, 2400.0, 1333.0, 600.0, 1326.0, 3547.0, 1370.0, 1100.0, 1650.0, 1917.0, 780.0, 950.0, 1175.0, 1089.0, 1804.0, 1257.0, 650.0, 1850.0, 2800.0, 945.0, 1161.0, 1630.0, 1310.0, 750.0, 1200.0, 1000.0, 4000.0, 1315.0, 1370.0, 1200.0, 1465.0, 20000.0, 1128.0, 1250.0, 1645.0, 1284.0, 2600.0, 1820.0, 1580.0, 2650.0, 1215.0, 1075.0, 1400.0, 1400.0, 845.0, 2600.0, 7709.0, 800.0, 1199.0, 1175.0, 2400.0, 1767.0, 1800.0, 1856.0, 1200.0, 1613.0, 6830.0, 1290.0, 1375.0, 985.0, 1200.0, 1099.0, 605.0, 6000.0, 3600.0, 1200.0, 1000.0, 1159.0, 3692.0, 600.0, 2400.0, 1540.0, 1503.0, 1850.0, 1580.0, 1190.0, 1200.0, 1000.0, 850.0, 2180.0, 2500.0, 1200.0, 1500.0, 1200.0, 1880.0, 1150.0, 4408.0, 924.0, 7800.0, 600.0, 750.0, 1962.0, 1200.0, 1765.0, 1174.0, 1894.0, 960.0, 1760.0, 1768.0, 1790.0, 3500.0, 1200.0, 2540.0, 1137.0, 6362.0, 1200.0, 1568.0, 9840.0, 1308.0, 3060.0, 1200.0, 800.0, 530.0, 873.0, 3000.0, 1200.0, 958.0, 2072.0, 2273.0, 600.0, 760.0, 1090.0, 2072.0, 2666.0, 1550.0, 1251.0, 1070.0, 1200.0, 1435.0, 1400.0, 2330.0, 1200.0, 1000.0, 1655.0, 3600.0, 600.0, 1175.0, 1155.0, 1200.0, 1149.0, 3490.0, 3200.0, 1010.0, 1718.0, 650.0, 1330.0, 1200.0, 1693.0, 1249.0, 1800.0, 900.0, 1020.0, 1700.0, 661.0, 1280.0, 1000.0, 1170.0, 933.0, 1150.0, 3633.0, 1380.0, 1050.0, 1080.0, 1303.0, 1196.0, 2500.0, 1200.0, 1250.0, 1419.0, 1200.0, 1120.0, 1525.0, 1245.0, 3978.0, 1093.0, 1025.0, 1345.0, 1500.0, 1180.0, 1020.0, 1800.0, 3621.0, 2008.0, 1240.0, 1020.0, 2095.0, 1362.0, 694.0, 1404.0, 1192.0, 1850.0, 1050.0, 1259.0, 1000.0, 985.0, 850.0, 1650.0, 2400.0, 1900.0, 1367.0, 1210.0, 1190.0, 1175.0, 2800.0, 1140.0, 1095.0, 782.0, 1435.0, 725.0, 1600.0, 1200.0, 3205.0, 720.0, 1674.0, 860.0, 1243.0, 1703.0, 1350.0, 1145.0, 1216.0, 1100.0, 2425.0, 2700.0, 1196.0, 1600.0, 1510.0, 3033.0, 780.0, 1194.0, 1250.0, 1480.0, 1250.0, 1350.0, 620.0, 1630.0, 1020.0, 1410.0, 1181.7, 1200.0, 1691.0, 1200.0, 1200.0, 1050.0, 1300.0, 1356.0, 1338.0, 500.0, 1280.0, 1531.0, 11000.0, 620.0, 1605.0, 1917.0, 1200.0, 2750.0, 1400.0, 2625.0, 1100.0, 2041.0, 2070.0, 1110.0, 1650.0, 3565.0, 1033.0, 1142.0, 1500.0, 1502.0, 1176.0, 1063.0, 1100.0, 1044.0, 5400.0, 1216.0, 1425.0, 1200.0, 1345.0, 1248.0, 1830.0, 900.0, 3600.0, 1025.0, 840.0, 3050.0, 1424.0, 2500.0, 1200.0, 1285.0, 1450.0, 1160.0, 2700.0, 2000.0, 1125.0, 3900.0, 1133.0, 1240.0, 1466.0, 3870.0, 1610.0, 1220.0, 1225.0, 1300.0, 1996.0, 1320.0, 1800.0, 1835.0, 1435.0, 4097.0, 1601.0, 1257.0, 3596.0, 1309.0, 1362.0, 1115.0, 1870.0, 1322.0, 1450.0, 1185.0, 1790.0, 3450.0, 1050.0, 1386.0, 5400.0, 775.0, 1000.0, 1183.0, 1282.0, 425.0, 820.0, 2230.0, 1200.0, 1151.0, 1320.0, 1450.0, 1270.0, 1847.0, 1020.0, 1650.0, 2380.0, 2400.0, 1160.0, 2805.0, 1360.0, 1089.0, 1115.0, 1215.0, 1194.0, 1536.0, 1255.0, 1571.0, 900.0, 1517.0, 664.0, 1230.0, 1340.0, 1175.0, 3569.0, 1240.0, 1359.9900000000002, 1470.0, 525.0, 1680.0, 1000.0, 1071.0, 1512.0, 3435.0, 3144.0, 1190.0, 1550.0, 1283.0, 1325.0, 1105.0, 1600.0, 400.0, 1600.0, 1100.0, 2099.0, 1365.0, 1485.0, 1250.0, 1290.0, 1170.0, 1328.0, 1232.0, 1180.0, 1350.0, 3602.0, 2400.0, 1020.0, 1410.0, 2159.0, 1453.0, 1200.0, 1255.0, 1074.0, 1200.0, 1170.0, 1457.0, 1660.0, 900.0, 1850.0, 510.0, 1601.0, 952.0, 1166.0, 2700.0, 1900.0, 1350.0, 1520.0, 2100.0, 1175.0, 1432.0, 1005.0, 1309.0, 2251.0, 1050.0, 1100.0, 2400.0, 1565.0, 940.0, 1015.0, 2400.0, 1652.0, 1100.0, 2340.0, 1084.0, 1200.0, 1400.0, 2400.0, 1020.0, 1267.0, 2439.0, 1645.0, 1100.0, 1320.0, 1000.0, 5000.0, 2500.0, 2480.0, 1086.0, 416.0, 1066.0, 1730.0, 1205.0, 2500.0, 960.0, 1510.0, 1600.0, 2300.0, 1000.0, 1160.0, 1553.0, 3436.0, 1134.0, 600.0, 2400.0, 2400.0, 1350.0, 1032.0, 1998.0, 1225.0, 1262.0, 1842.0, 1300.0, 1070.0, 950.0, 1012.0, 1000.0, 1394.0, 1450.0, 527.0, 1693.0, 3122.0, 1000.0, 952.0, 2050.0, 1200.0, 1410.0, 1400.0, 3056.0, 1826.0, 1689.0, 1075.0, 2500.0, 960.0, 808.0, 907.0, 1300.0, 1804.0, 1350.0, 1836.0, 826.0, 1200.0, 3000.0, 2400.0, 1460.0, 1200.0, 965.0, 2000.0, 1395.0, 1660.0, 935.0, 1180.0, 1090.0, 1204.0, 2072.0, 1056.0, 985.0, 1315.0, 734.0, 2900.0, 2317.0, 600.0, 2200.0, 656.0, 400.0, 666.0, 3293.0, 1174.0, 1153.0, 1000.0, 2400.0, 957.0, 910.0, 1060.0, 1000.0, 1843.0, 1150.0, 1230.0, 3197.0, 1703.0, 1125.0, 1516.0, 1130.0, 3596.0, 1512.0, 1491.0, 1250.0, 1650.0, 1140.0, 1200.0, 1881.0, 1100.0, 2666.0, 1500.0, 1217.0, 1197.0, 2400.0, 1345.0, 1200.0, 3230.0, 1260.0, 2750.0, 1200.0, 1650.0, 600.0, 1025.0, 4605.0, 973.0, 4110.0, 2533.0, 1007.0, 1600.0, 1830.0, 1077.0, 672.0, 1280.0, 865.0, 1000.0, 1285.0, 662.0, 2297.0, 3750.0, 1850.0, 1754.0, 1200.0, 2200.0, 1567.0, 1695.0, 360.0, 1150.0, 1690.0, 2350.0, 1057.0, 1320.0, 2119.0, 1125.0, 2254.0, 645.0, 1050.0, 1040.0, 1700.0, 1760.0, 1138.0, 984.0, 1140.0, 3596.0, 1365.0, 560.0, 1404.0, 1540.0, 1050.0, 360.0, 1550.0, 1653.0, 1194.0, 1471.0, 700.0, 812.0, 1504.0, 1450.0, 957.0, 460.0, 900.0, 1050.0, 1820.0, 1033.0, 800.0, 520.0, 1165.0, 1280.0, 1950.0, 600.0, 1550.0, 1392.0, 1221.0, 1000.0, 1300.0, 1065.0, 1209.0, 375.0, 7800.0, 1929.0, 1255.0, 1035.0, 1200.0, 1650.0, 1275.0, 1128.0, 1140.0, 1200.0, 1183.0, 1155.0, 1245.0, 1000.0, 1040.0, 2062.0, 1477.0, 1050.0, 1525.0, 2000.0, 1220.0, 2388.0, 1355.0, 1141.0, 1046.0, 630.0, 1247.0, 3855.0, 850.0, 1120.0, 800.0, 1798.0, 1180.0, 1000.0, 1216.0, 900.0, 1100.0, 1842.0, 1075.0, 1495.0, 1700.0, 1564.0, 1256.0, 1047.0, 1458.0, 1063.0, 7400.0, 1150.0, 450.0, 1360.0, 1605.0, 1200.0, 1810.0, 1250.0, 1475.0, 1100.0, 850.0, 1025.0, 980.0, 1428.0, 1130.0, 1592.0, 2050.0, 1407.0, 4170.0, 1585.0, 1785.0, 900.0, 1350.0, 1843.0, 2375.0, 1200.0, 1113.0, 1125.0, 1200.0, 1150.0, 770.0, 1181.0, 1550.0, 1200.0, 1295.0, 480.0, 1506.0, 1872.0, 2900.0, 1326.0, 1040.0, 1200.0, 1020.0, 1400.0, 4000.0, 812.0, 1100.0, 829.0, 750.0, 2700.0, 1500.0, 850.0, 1180.0, 5108.0, 2215.0, 1010.0, 1350.0, 1100.0, 1450.0, 1133.0, 1564.0, 640.0, 2072.0, 432.0, 1460.0, 600.0, 1050.0, 700.0, 1200.0, 654.0, 1105.0, 1800.0, 1200.0, 700.0, 1000.0, 3500.0, 1240.0, 1200.0, 1400.0, 1393.0, 1140.0, 1000.0, 1640.0, 1200.0, 720.0, 1650.0, 2496.0, 905.0, 1600.0, 1070.0, 8400.0, 1200.0, 1800.0, 2600.0, 1145.0, 1495.0, 1200.0, 1400.0, 1558.0, 1007.0, 902.0, 1054.0, 1135.0, 996.0, 1275.0, 1250.0, 2502.0, 1394.0, 1243.0, 1216.0, 1075.0, 3600.0, 1500.0, 1708.0, 1500.0, 1800.0, 1532.0, 1726.0, 1220.0, 1100.0, 1530.0, 840.0, 1250.0, 1030.0, 1499.0, 1280.0, 1170.0, 2646.0, 1161.0, 1633.0, 1050.0, 1650.0, 1105.0, 418.0, 905.0, 1510.0, 1390.0, 1101.0, 2736.0, 2350.0, 1056.0, 1425.0, 1450.0, 1000.0, 575.0, 1350.0, 2000.0, 1770.0, 3155.0, 616.0, 745.0, 6500.0, 2400.0, 1547.0, 1713.0, 3300.0, 1135.0, 1856.0, 1152.0, 1100.0, 2357.0, 1820.0, 1865.0, 1240.0, 1360.0, 4200.0, 1450.0, 1139.0, 1565.0, 1200.0, 600.0, 1200.0, 1855.0, 1100.0, 1350.0, 2266.0, 660.0, 1490.0, 1083.0, 1232.0, 1550.0, 1227.0, 1059.0, 545.0, 1152.0, 870.0, 1210.0, 663.0, 1464.0, 1365.0, 1704.0, 2990.0, 1256.0, 883.0, 1080.0, 497.0, 1073.0, 3000.0, 1300.0, 662.0, 1200.0, 1550.0, 1707.0, 1310.0, 1577.0, 1324.0, 1786.0, 1174.0, 565.0, 1400.0, 635.0, 3000.0, 1368.0, 1450.0, 1045.0, 1128.0, 1125.0, 1195.0, 630.0, 1350.0, 1740.0, 877.0, 1770.0, 450.0, 1000.0, 1300.0, 1300.0, 985.0, 1045.0, 1250.0, 2400.0, 1194.0, 1420.0, 1720.0, 1530.0, 1200.0, 1570.0, 1157.0, 535.0, 1120.0, 1150.0, 2400.0, 1215.0, 1444.0, 2003.0, 1100.0, 900.0, 1372.0, 4500.0, 1180.0, 1096.0, 2504.0, 1350.0, 420.0, 1832.0, 1380.0, 940.0, 4290.0, 1020.0, 2500.0, 1400.0, 1675.0, 708.0, 1123.0, 1100.0, 1225.0, 1683.0, 410.0, 2400.0, 1350.0, 1475.0, 1120.0, 1150.0, 1165.0, 1756.0, 1409.0, 1212.0, 1140.0, 2087.01, 1550.0, 1700.0, 3465.0, 1110.0, 1000.0, 1550.0, 2704.0, 3760.0, 1600.0, 1205.0, 1418.0, 1650.0, 1200.0, 1150.0, 3071.0, 2400.0, 850.0, 1580.0, 1216.0, 381.0, 4600.0, 1040.0, 2429.0, 1260.0, 1498.0, 1200.0, 1355.0, 1450.0, 1860.0, 1240.0, 1300.0, 2500.0, 1950.0, 1625.0, 1200.0, 1101.0, 1216.0, 1250.0, 2100.0, 1470.0, 1365.0, 1364.0, 1180.0, 1800.0, 1350.0, 1573.0, 1620.0, 1072.0, 560.0, 1156.0, 1336.0, 1200.0, 3400.0, 1608.0, 4000.0, 1215.0, 1100.0, 1517.0, 1565.0, 1680.0, 2025.0, 1057.0, 3850.0, 1044.0, 1695.0, 1635.0, 1140.0, 1150.0, 1110.0, 1163.0, 1418.0, 1155.0, 1115.0, 2250.0, 1020.0, 1485.0, 1920.0, 1350.0, 1209.0, 1089.0, 1445.0, 1250.0, 1500.0, 1705.0, 2200.0, 2925.0, 1800.0, 7200.0, 1830.0, 1450.0, 1220.0, 1259.0, 1260.0, 2500.0, 1919.0, 1400.0, 2050.0, 1050.0, 1000.0, 1640.0, 1488.0, 1265.0, 1640.0, 1719.3, 1200.0, 1180.0, 1700.0, 1464.0, 1800.0, 1495.0, 1225.0, 1050.0, 1691.0, 2250.0, 3700.0, 1244.0, 750.0, 1190.0, 1243.0, 765.0, 730.0, 1405.0, 1350.0, 500.0, 1200.0, 1165.0, 1400.0, 4800.0, 1668.0, 700.0, 1485.0, 700.0, 1346.0, 1075.0, 1050.0, 1800.0, 1609.0, 770.0, 1076.0, 1052.0, 1000.0, 1000.0, 1262.0, 720.0, 500.0, 3500.0, 1600.0, 1251.0, 1050.0, 1140.0, 1157.0, 648.0, 1197.0, 1500.0, 1185.0, 2400.0, 1397.0, 1175.0, 900.0, 2710.0, 1720.0, 1756.0, 602.0, 1770.0, 930.0, 1295.0, 1200.0, 1100.0, 1194.0, 720.0, 1476.0, 1056.0, 825.0, 1860.0, 1063.0, 697.0, 2400.0, 1200.0, 1835.0, 3065.0, 1147.0, 1360.0, 3400.0, 1080.0, 1010.0, 2600.0, 1270.0, 1100.0, 1410.0, 1065.0, 1200.0, 1315.0, 1650.0, 1140.0, 960.0, 800.0, 1225.0, 1020.0, 750.0, 3000.0, 535.0, 1035.0, 1020.0, 1315.0, 1350.0, 1075.0, 1450.0, 1806.0, 1350.0, 1282.0, 1929.0, 1100.0, 1800.0, 1223.0, 1664.0, 1360.0, 1158.0, 1420.0, 1268.0, 1308.0, 1485.0, 1067.0, 2000.0, 2450.0, 1152.0, 1525.0, 935.0, 1465.0, 1198.0, 1145.0, 1000.0, 400.0, 3420.0, 1310.0, 1861.0, 1265.0, 1280.0, 1279.0, 1200.0, 680.0, 1590.0, 1837.0, 1703.0, 1293.0, 700.0, 1450.0, 1030.0, 1570.0, 1000.0, 1075.0, 1091.0, 2210.0, 1738.0, 1640.0, 1205.0, 1009.0, 1200.0, 3362.0, 3120.0, 1600.0, 960.0, 1330.0, 1024.0, 1196.0, 800.0, 2650.0, 1080.0, 1150.0, 1286.0, 2990.0, 1150.0, 1310.0, 1352.0, 1307.0, 1500.0, 1500.0, 2262.0, 1600.0, 5670.0, 682.0, 2500.0, 1650.0, 1850.0, 2000.0, 982.0, 2015.0, 1702.0, 1250.0, 1240.0, 1050.0, 1023.0, 1541.0, 1275.0, 2520.0, 1580.0, 1343.0, 1365.0, 1047.0, 1187.0, 1050.0, 560.0, 1000.0, 1200.0, 1075.0, 2048.0, 1090.0, 1119.0, 1355.0, 1445.0, 1314.0, 6500.0, 1165.0, 2163.0, 1787.0, 3600.0, 1200.0, 1020.0, 1797.0, 1205.0, 1095.0, 1560.0, 1200.0, 1200.0, 1450.0, 1496.0, 1935.0, 1016.0, 1816.0, 1680.0, 4131.0, 1220.0, 3000.0, 980.0, 1200.0, 1250.0, 1424.0, 1297.0, 1300.0, 1290.0, 1720.0, 1200.0, 2320.0, 1237.0, 1720.0, 1224.0, 1780.0, 4700.0, 1800.0, 1139.0, 588.0, 700.0, 1150.0, 1330.0, 2732.0, 965.0, 1600.0, 1464.0, 3100.0, 1075.0, 1840.0, 1223.0, 1170.0, 3630.0, 950.0, 5400.0, 865.0, 2400.0, 1169.0, 1206.0, 10961.0, 1683.0, 1250.0, 3150.0, 1200.0, 1234.6, 492.0, 600.0, 1902.0, 1200.0, 1639.0, 1214.0, 565.0, 2520.0, 1386.0, 1535.0, 1720.0, 1370.0, 1655.0, 1200.0, 1610.0, 2200.0, 1200.0, 1105.0, 753.0, 1655.0, 1700.0, 770.0, 1210.0, 965.0, 700.0, 1740.0, 1310.0, 1763.25, 1900.0, 1000.0, 1450.0, 1836.0, 1160.0, 1153.0, 1285.0, 2500.0, 1194.0, 1257.0, 1200.0, 1166.0, 1240.0, 1294.0, 1095.0, 1145.0, 1826.0, 1314.0, 1900.0, 1040.0, 1290.0, 1200.0, 1325.0, 2600.0, 1129.0, 1581.0, 1075.0, 1108.0, 810.0, 1155.0, 3900.0, 2367.0, 1550.0, 1100.0, 1452.0, 1141.0, 1464.0, 1500.0, 456.0, 1200.0, 3122.0, 760.0, 2400.0, 800.0, 1180.0, 775.0, 1145.0, 1060.0, 3900.0, 1420.0, 2439.0, 1200.0, 1111.0, 984.0, 1200.0, 1247.0, 1050.0, 1550.0, 1270.0, 1012.0, 970.0, 933.0, 1200.0, 1148.0, 1463.0, 1719.0, 1350.0, 1250.0, 1700.0, 4320.0, 1200.0, 1030.0, 1420.0, 9600.0, 1703.0, 1210.0, 1210.0, 3000.0, 1398.0, 1335.0, 1255.0, 540.0, 1213.0, 1240.0, 1076.0, 1320.0, 1216.0, 1100.0, 1183.0, 656.0, 534.0, 1285.0, 2087.01, 1161.0, 1306.0, 2249.81, 1504.0, 645.0, 1230.0, 1100.0, 1000.0, 1260.0, 1817.0, 3626.0, 1180.0, 1050.0, 2900.0, 2110.0, 500.0, 1930.0, 4560.0, 1505.0, 2400.0, 890.0, 1200.0, 849.0, 1555.0, 600.0, 1057.0, 1680.0, 799.0, 1450.0, 1819.0, 1135.0, 2020.0, 2700.0, 1730.0, 1950.0, 1077.0, 1706.0, 3000.0, 1093.0, 2750.0, 1340.0, 984.0, 1135.0, 2400.0, 1155.0, 700.0, 1150.0, 1385.0, 2061.0, 1335.0, 1015.0, 3000.0, 1108.0, 1180.0, 1445.0, 1500.0, 2400.0, 1085.0, 1050.0, 2760.0, 1330.0, 845.0, 1762.0, 1303.0, 1560.0, 1110.0, 1290.0, 2475.0, 1780.0, 1636.0, 2557.0, 1332.0, 7500.0, 1012.0, 1192.0, 795.0, 1213.0, 1489.0, 1200.0, 1140.0, 1200.0, 1200.0, 2640.0, 1650.0, 1245.0, 1224.0, 1235.0, 1200.0, 1342.0, 600.0, 1800.0, 2280.0, 2440.0, 1130.0, 1186.0, 1295.0, 1535.0, 905.0, 1447.0, 1165.0, 1328.0, 1485.0, 1475.0, 1175.0, 1245.0, 720.0, 985.0, 4000.0, 1395.0, 1422.0, 630.0, 2400.0, 1170.0, 2500.0, 1100.0, 3560.0, 900.0, 1160.0, 1180.0, 1441.0, 1115.0, 1825.0, 1489.0, 2800.0, 1278.0, 1223.0, 1065.0, 1190.0, 1130.0, 1430.0, 1900.0, 1104.0, 1240.0, 1140.0, 1194.0, 1464.0, 3508.0, 1700.0, 2658.0, 1600.0, 3400.0, 1508.0, 645.0, 1046.0, 1200.0, 1500.0, 3000.0, 1079.0, 975.0, 1050.0, 1200.0, 1903.0, 26460.0, 1200.0, 2996.0, 3400.0, 2000.0, 1453.0, 1092.0, 1400.0, 1416.0, 1602.0, 1100.0, 1760.0, 3800.0, 1037.0, 1384.0, 551.0, 2400.0, 500.0, 900.0, 1415.0, 1400.0, 1300.0, 2850.0, 1030.0, 883.0, 550.0, 1800.0, 10000.0, 1210.0, 2000.0, 1100.0, 1780.0, 950.0, 1050.0, 1370.0, 3951.0, 2500.0, 1050.0, 1843.0, 1200.0, 1186.0, 560.0, 2357.0, 1200.0, 1823.0, 1310.0, 1520.0, 1610.0, 1500.0, 1400.0, 1625.0, 1500.0, 900.0, 1100.0, 1000.0, 2774.0, 994.0, 1455.0, 1200.0, 1172.0, 1935.0, 1856.0, 2392.0, 900.0, 1757.0, 1027.0, 1626.0, 1200.0, 1559.0, 1190.0, 1200.0, 1174.0, 1140.0, 1603.0, 1278.0, 2180.0, 1085.0, 1195.0, 450.0, 6500.0, 550.0, 1165.0, 3000.0, 1452.0, 702.0, 1020.0, 1340.0, 1125.0, 1160.0, 1050.0, 1960.0, 1200.0, 1200.0, 3496.0, 975.0, 1700.0, 1800.0, 612.0, 1275.0, 650.0, 1495.0, 1200.0, 3750.0, 1679.0, 1450.0, 1210.0, 1300.0, 1165.0, 1623.0, 1115.0, 450.0, 1170.0, 2065.0, 1700.0, 1080.0, 1245.0, 1017.0, 650.0, 1242.0, 1792.0, 1275.0, 1200.0, 2400.0, 605.0, 1200.0, 1450.0, 1232.0, 1800.0, 900.0, 1200.0, 2100.0, 1065.0, 1075.0, 1508.0, 780.0, 1070.0, 1464.0, 1910.0, 1280.0, 1530.0, 2439.0, 1088.0, 1174.0, 1587.0, 1045.0, 1304.0, 1100.0, 1482.0, 2125.0, 1000.0, 1194.0, 1200.0, 1070.0, 1100.0, 1270.0, 1000.0, 1246.0, 1529.0, 1185.0, 1060.0, 1319.0, 991.0, 662.0, 1200.0, 1400.0, 1575.0, 600.0, 717.0, 1319.0, 2000.0, 600.0, 940.0, 600.0, 985.0, 500.0, 1349.0, 3117.0, 1844.0, 1830.0, 2275.0, 5791.0, 1140.0, 900.0, 2648.0, 5400.0, 1372.0, 1455.0, 1100.0, 1295.0, 1475.0, 1788.0, 1243.0, 1855.0, 1850.0, 1315.0, 1216.0, 1721.0, 1059.0, 1184.0, 1400.0, 2223.0, 1480.0, 635.0, 2400.0, 1500.0, 1143.0, 3200.0, 3170.0, 4800.0, 1485.0, 1640.0, 1655.0, 900.0, 1600.0, 1163.0, 485.02584, 1654.0, 1602.0, 2100.0, 1685.0, 1540.0, 1265.0, 1200.0, 1300.0, 1009.0, 1540.0, 1735.0, 2500.0, 497.0, 2480.0, 1142.0, 1215.0, 1070.0, 1125.0, 1125.0, 1575.0, 1360.0, 1710.0, 1200.0, 2185.0, 2400.0, 1195.0, 1246.0, 1012.0, 998.0, 2400.0, 1130.0, 1744.0, 2733.0, 1354.0, 3300.0, 1389.0, 2970.0, 2560.0, 1172.0, 500.0, 1495.0, 1738.0, 1315.0, 1270.0, 1160.0, 1450.0, 470.0, 1040.0, 1205.0, 1215.0, 1135.0, 1224.0, 664.0, 1160.0, 1200.0, 1220.0, 1328.0, 975.0, 1907.0, 900.0, 1330.0, 2330.0, 1222.0, 4446.0, 2100.0, 3335.0, 3150.0, 1320.0, 820.0, 8000.0, 2400.0, 1330.0, 2000.0, 1244.0, 1000.0, 1400.0, 1000.0, 1056.0, 1250.0, 5260.0, 1225.0, 2790.0, 2800.0, 1683.0, 1250.0, 1305.0, 3009.0, 1150.0, 1654.0, 4500.0, 1890.0, 1069.0, 750.0, 675.0, 2400.0, 1200.0, 1410.0, 1680.0, 3500.0, 1700.0, 2200.0, 1595.0, 1480.0, 1092.0, 1866.0, 3895.0, 1683.0, 545.0, 1340.0, 1100.0, 2000.0, 1185.0, 1025.0, 1730.0, 1450.0, 1862.0, 4000.0, 2430.0, 1726.0, 1170.0, 1075.0, 1060.0, 850.0, 935.0, 1905.0, 2000.0, 1125.0, 600.0, 1500.0, 1725.0, 1120.0, 1750.0, 2000.0, 1745.0, 750.0, 1270.0, 5384.0, 1180.0, 1130.0, 2774.0, 1723.0, 1175.0, 1607.0, 1334.0, 2800.0, 1138.0, 1113.0, 1300.0, 2400.0, 1200.0, 1900.0, 5150.0, 1200.0, 2956.0, 1100.0, 1398.0, 1152.0, 1200.0, 1110.0, 1116.0, 1061.0, 620.0, 1300.0, 1270.0, 966.0, 1200.0, 1320.0, 3596.0, 1630.0, 600.0, 600.0, 1202.0, 1200.0, 1300.0, 1200.0, 1360.0, 1155.0, 2378.0, 1011.0, 1203.0, 1645.0, 1364.0, 1200.0, 1050.0, 1365.0, 1252.0, 1221.0, 1065.0, 1270.0, 1032.0, 2900.0, 1515.0, 1427.0, 940.0, 800.0, 1460.0, 2275.0, 1522.0, 3210.0, 1185.0, 5425.0, 1800.0, 940.0, 1200.0, 1530.0, 1050.0, 929.0, 3750.0, 1530.0, 900.0, 978.0, 4041.0, 770.0, 1066.0, 635.0, 1015.0, 1175.0, 1200.0, 1188.0, 2400.0, 620.0, 1210.0, 1000.0, 1500.0, 1800.0, 1185.0, 1600.0, 1100.0, 1300.0, 1100.0, 860.0, 1007.0, 1100.0, 1187.0, 1150.0, 2400.0, 1180.0, 1820.0, 1200.0, 2400.0, 3628.0, 1430.0, 700.0, 1200.0, 1165.0, 1569.0, 1950.0, 1200.0, 2437.0, 950.0, 1685.0, 3270.0, 1314.0, 1250.0, 1130.0, 1200.0, 890.0, 857.0, 2247.0, 1550.0, 1715.0, 1053.0, 1200.0, 1800.0, 2400.0, 1245.0, 1320.0, 3940.0, 1241.0, 2980.0, 600.0, 1090.0, 1390.0, 600.0, 2750.0, 1100.0, 1350.0, 800.0, 1787.0, 2400.0, 3700.0, 1691.0, 2119.0, 2325.0, 570.0, 1896.0, 1540.0, 1244.0, 1365.0, 580.0, 1355.0, 1500.0, 1513.0, 1175.0, 2087.0, 2273.0, 2050.0, 1200.0, 1190.0, 600.0, 1019.0, 1830.0, 4278.0, 1028.0, 1300.0, 1160.0, 1505.0, 1250.0, 400.0, 1175.0, 1100.0, 2159.0, 1230.0, 1200.0, 3100.0, 10040.0, 1200.0, 1340.0, 1750.0, 1400.0, 1350.0, 1675.0, 1340.0, 600.0, 1276.0, 1738.0, 1190.0, 1128.0, 1250.0, 1450.0, 1084.0, 2150.0, 6000.0, 600.0, 1250.0, 2400.0, 1304.0, 1640.0, 980.0, 1275.0, 10030.0, 2500.0, 3600.0, 2400.0, 2300.0, 1450.0, 890.0, 1340.0, 1100.0, 750.0, 700.0, 1300.0, 1301.0, 3200.0, 1900.0, 1299.0, 1250.0, 1600.0, 925.0, 3900.0, 1107.0, 1400.0, 1300.0, 570.0, 1715.0, 1200.0, 1200.0, 703.0, 921.0, 1144.0, 525.0, 1400.0, 661.0, 1200.0, 1200.0, 1705.0, 1035.0, 1430.0, 1240.0, 1325.0, 1230.0, 1000.0, 740.0, 1330.0, 3005.0, 1300.0, 1243.0, 936.0, 1500.0, 1200.0, 1073.0, 1300.0, 4201.0, 1065.0, 1216.0, 1252.0, 1196.0, 1027.0, 610.0, 1270.0, 1171.0, 1215.0, 600.0, 1180.0, 1160.0, 4382.0, 2140.0, 1500.0, 1008.0, 1921.0, 1127.0, 1621.0, 2400.0, 1030.0, 1314.0, 1220.0, 600.0, 1590.0, 703.0, 1795.0, 3000.0, 4395.0, 825.0, 4025.0, 1254.0, 2040.0, 2215.0, 1478.0, 2475.0, 1669.0, 1820.0, 1623.0, 1243.0, 1200.0, 1613.0, 1293.0, 1065.0, 940.0, 1181.0, 2215.0, 1100.0, 1050.0, 1260.0, 2800.0, 1500.0, 1200.0, 1000.0, 1530.0, 1140.0, 1864.0, 1575.0, 1200.0, 945.0, 1691.0, 1200.0, 1220.0, 600.0, 1160.0, 1950.0, 1650.0, 2400.0, 795.0, 800.0, 1400.0, 2285.0, 1243.0, 1263.0, 1200.0, 1345.0, 4400.0, 1360.0, 1026.0, 1050.0, 1460.0, 1525.0, 1843.0, 1000.0, 1642.0, 1200.0, 975.0, 1075.0, 1210.0, 2000.0, 1225.0, 1290.0, 1220.0, 1500.0, 1361.0, 2801.25, 1394.0, 870.0, 5000.0, 1222.0, 1420.0, 1846.0, 1688.12, 1167.0, 902.0, 2422.0, 1050.0, 1000.0, 1260.0, 3000.0, 939.0, 1590.0, 600.0, 1298.0, 1710.0, 1000.0, 3350.0, 1200.0, 1100.0, 615.0, 1350.0, 5000.0, 2700.0, 4000.0, 1718.0, 1680.0, 1500.0, 1157.0, 1179.0, 2630.0, 1105.0, 1800.0, 1010.0, 630.0, 1200.0, 1025.0, 1195.0, 1012.0, 1884.0, 1090.0, 1300.0, 2950.0, 1710.0, 1500.0, 1310.0, 674.0, 1350.0, 1464.0, 715.0, 1400.0, 1625.0, 1065.0, 510.0, 1385.0, 1040.0, 1817.0, 1205.0, 1070.0, 1070.0, 1340.0, 980.0, 1006.0, 1098.0, 1200.0, 4190.0, 1019.0, 1150.0, 1733.5, 1415.0, 1750.0, 1537.0, 1050.0, 1452.0, 1246.0, 1890.0, 972.0, 10624.0, 1500.0, 630.0, 1050.0, 1255.0, 1900.0, 2440.0, 1938.0, 1711.0, 1200.0, 1392.0, 1225.0, 3418.0, 1750.0, 1260.0, 691.0, 2400.0, 1285.0, 1590.0, 1571.0, 2800.0, 1060.0, 1255.0, 702.0, 2400.0, 1520.0, 3060.0, 1170.0, 1580.0, 1777.26, 1303.0, 1680.0, 1495.0, 1835.0, 610.0, 1080.0, 1025.0, 1225.0, 656.0, 994.0, 1025.0, 1156.0, 1250.0, 3092.0, 1930.0, 1020.0, 1310.0, 1225.0, 1322.0, 1160.0, 1100.0, 1720.0, 1689.0, 1090.0, 2000.0, 1155.0, 4000.0, 3913.0, 3520.0, 1125.0, 1847.0, 1515.0, 3450.0, 2500.0, 1130.0, 1049.0, 2650.0, 850.0, 1842.0, 2600.0, 1282.0, 800.0, 1200.0, 1190.0, 1318.0, 1698.0, 2030.0, 1276.0, 1555.0, 1881.0, 2900.0, 1890.0, 900.0, 935.0, 1000.0, 1510.0, 1120.0, 930.0, 1160.0, 1419.0, 1175.0, 1350.0, 2215.0, 996.0, 1076.0, 2180.0, 1715.0, 1072.0, 1230.0, 1600.0, 1411.0, 3600.0, 2404.0, 1200.0, 1200.0, 1208.0, 1700.0, 1225.0, 1162.0, 1262.0, 1050.0, 1160.0, 1500.0, 1610.0, 1340.0, 2275.0, 1162.0, 1500.0, 3150.0, 1170.0, 980.0, 1800.0, 1423.0, 1106.0, 1105.0, 7500.0, 1255.0, 1525.0, 1061.0, 600.0, 1400.0, 2100.0, 660.0, 633.0, 1260.0, 1814.0, 2047.0, 2597.0, 1211.0, 1904.0, 1205.0, 1164.0, 1410.0, 1150.0, 1170.0, 1420.0, 1125.0, 1789.0, 1021.0, 1074.0, 1222.0, 1981.0, 1103.0, 1201.0, 970.0, 920.0, 1520.0, 675.0, 1268.0, 660.0, 1755.0, 945.0, 500.0, 5640.0, 1632.0, 1167.0, 1276.0, 1234.0, 1180.0, 1370.0, 1015.0, 1200.0, 1400.0, 1500.0, 1050.0, 1251.0, 1677.0, 1346.0, 1090.0, 1200.0, 1290.0, 7514.0, 1881.0, 1150.0, 54450.0, 2690.0, 1200.0, 933.45408, 2735.0, 950.0, 1491.0, 1050.0, 1660.0, 1134.0, 1100.0, 800.0, 1200.0, 1200.0, 980.0, 1080.0, 705.0, 1200.0, 1200.0, 1804.0, 750.0, 420.0, 2800.0, 1090.0, 1500.0, 1287.0, 2215.0, 2800.0, 1045.0, 1263.0, 1431.0, 999.0, 1650.0, 1535.0, 2524.0, 1300.0, 600.0, 2095.0, 284.0, 500.0, 1265.0, 1215.0, 2200.0, 1028.0, 1835.0, 1800.0, 2077.0, 2880.0, 499.0, 708.0, 1200.0, 925.0, 2826.0, 916.0, 3500.0, 5400.0, 1000.0, 1450.0, 1100.0, 1185.0, 1900.0, 1200.0, 660.0, 1920.0, 1200.0, 3418.0, 4550.0, 1205.0, 1200.0, 1421.0, 1250.0, 524.0, 4200.0, 1540.0, 984.0, 985.0, 2830.0, 1140.0, 3600.0, 1410.0, 1700.0, 2720.0, 1800.0, 1333.0, 1258.0, 1458.0, 1386.0, 1140.0, 550.0, 1200.0, 1081.0, 2135.0, 2500.0, 1178.0, 991.0, 1493.0, 2495.0, 1080.0, 814.0, 1025.0, 1115.0, 3075.0, 1900.0, 1760.0, 4000.0, 3090.0, 2700.0, 1175.0, 4235.0, 1100.0, 1200.0, 1450.0, 1810.0, 1426.0, 2400.0, 1100.0, 650.0, 1350.0, 900.0, 1360.0, 674.0, 1655.0, 1300.0, 936.0, 1277.0, 1200.0, 1015.0, 1153.0, 1035.0, 3300.0, 1150.0, 1020.0, 7430.0, 1160.0, 1075.0, 1225.0, 5000.0, 1600.0, 600.0, 1350.0, 1300.0, 830.0, 1155.0, 3126.0, 905.0, 1375.0, 1575.0, 1140.0, 1550.0, 957.0, 890.0, 3000.0, 1070.0, 2400.0, 2400.0, 925.0, 1415.0, 500.0, 1225.0, 2000.0, 840.0, 1560.0, 1732.0, 1200.0, 1260.0, 1092.0, 827.0, 1357.0, 650.0, 1370.0, 1725.0, 1000.0, 1350.0, 3200.0, 1717.0, 700.0, 800.0, 2367.0, 1415.0, 1976.0, 883.0, 700.0, 1445.0, 2082.0, 1140.0, 933.0, 800.0, 1155.0, 1130.0, 1200.0, 1055.0, 1555.0, 1420.0, 2214.0, 658.0, 896.9, 4000.0, 1035.0, 2064.0, 1839.0, 1200.0, 488.0, 1200.0, 2760.0, 993.0, 1225.0, 900.0, 1200.0, 825.0, 3596.0, 1350.0, 1800.0, 925.0, 1167.0, 1150.0, 650.0, 675.0, 2260.0, 1440.0, 4800.0, 1100.0, 550.0, 1330.0, 1320.0, 1685.0, 2400.0, 1770.0, 2100.0, 1000.0, 600.0, 2916.0, 1419.59, 1400.0, 750.0, 1070.0, 1536.0, 1710.0, 2400.0, 3547.0, 1342.0, 1600.0, 938.0, 1820.0, 2439.0, 1665.0, 1850.0, 1091.0, 1346.0, 1720.0, 3675.0, 1060.0, 1059.0, 1299.0, 1491.0, 1200.0, 2088.0, 581.0, 1296.0, 1125.0, 1275.0, 1095.0, 10000.0, 1330.0, 1135.0, 516.0, 1194.0, 2250.0, 770.0, 3930.0, 1355.0, 3000.0, 2569.0, 3758.0, 1116.0, 1707.0, 1200.0, 1070.0, 6000.0, 1240.0, 1300.0, 1700.0, 1383.0, 3000.0, 1200.0, 935.0, 2072.0, 2200.0, 615.0, 1116.0, 1639.0, 1839.0, 1300.0, 625.0, 933.0, 2289.0, 2316.0, 1005.0, 1080.0, 1200.0, 910.0, 1200.0, 1110.0, 1142.0, 4000.0, 1800.0, 1005.0, 1626.6, 1074.0, 1230.0, 660.0, 1007.0, 1050.0, 1820.0, 1100.0, 1348.0, 1230.0, 1176.0, 1590.0, 1200.0, 1298.0, 1161.0, 1350.0, 1200.0, 1285.0, 1644.0, 1819.0, 1205.0, 2350.0, 1050.0, 1270.0, 1240.0, 1221.0, 840.0, 1339.0, 4303.0, 1315.0, 1250.0, 850.0, 1600.0, 1250.0, 1312.0, 3000.0, 1300.0, 1990.0, 760.0, 5000.0, 1614.0, 1500.0, 1182.0, 1053.0, 750.0, 2000.0, 1940.0, 1590.0, 1035.0, 1075.0, 900.0, 1260.0, 1200.0, 1702.0, 1080.0, 1189.0, 1035.0, 1200.0, 4482.0, 1200.0, 1300.0, 1330.0, 1210.0, 1350.0, 1900.0, 1935.0, 1410.0, 1469.0, 986.0, 1460.0, 1260.0, 1345.0, 980.0, 1164.0, 929.0, 1065.0, 2344.0, 3000.0, 1020.0, 1362.0, 672.0, 1746.0, 1025.0, 1532.0, 1200.0, 1250.0, 1188.0, 3565.0, 1170.0, 1800.0, 1000.0, 2600.0, 1200.0, 2507.0, 1061.0, 1290.0, 1200.0, 1120.0, 418.0, 1333.0, 1691.0, 1494.0, 1700.0, 2030.0, 1012.0, 1245.0, 1765.0, 1110.0, 967.0, 1044.0, 1518.0, 1300.0, 1798.0, 866.28, 3410.0, 1179.0, 3600.0, 1125.0, 2098.0, 2400.0, 1976.0, 1190.0, 1800.0, 1761.0, 1700.0, 900.0, 1128.0, 2000.0, 1220.0, 509.0, 1852.0, 1045.0, 3535.0, 1102.0, 1800.0, 1436.0, 1397.0, 1140.0, 645.0, 2350.0, 1200.0, 2050.0, 1335.0, 2100.0, 1255.0, 1140.0, 2376.0, 663.0, 1276.0, 1450.0, 1400.0, 1339.0, 1220.0, 2200.0, 1305.0, 1740.0, 680.0, 1154.0, 1200.0, 1155.0, 1525.0, 600.0, 2470.0, 1100.0, 1250.0, 1400.0, 1600.0, 1060.0, 1272.0, 1296.0, 2100.0, 1945.0, 1033.0, 2300.0, 1235.0, 2100.0, 850.0, 1880.0, 2450.0, 1060.0, 2041.0, 1050.0, 1037.0, 1150.0, 1184.0, 1680.0, 1411.0, 900.0, 900.0, 3500.0, 1702.0, 1185.0, 1300.0, 1545.0, 1515.0, 1300.0, 1107.0, 1720.0, 1540.0, 1000.0, 710.0, 1100.0, 3200.0, 900.0, 1250.0, 2400.0, 1584.01, 875.0, 1200.0, 1485.0, 1100.0, 1245.0, 1880.0, 2214.0, 1050.0, 600.0, 1640.0, 1165.0, 1110.0, 1200.0, 4000.0, 4500.0, 600.0, 1300.0, 1200.0, 3000.0, 1232.0, 1704.0, 1275.0, 1222.0, 1155.0, 1000.0, 1200.0, 1517.0, 1166.0, 870.0, 4000.0, 1350.0, 3019.0, 1345.0, 900.0, 3800.0, 971.0, 1255.0, 1810.0, 1300.0, 1185.0, 1350.0, 3180.0, 3000.0, 1560.0, 1650.0, 1645.0, 1748.0, 1200.0, 1170.0, 3420.0, 1320.0, 1610.0, 1870.0, 1510.0, 2700.0, 1305.0, 1500.0, 1149.0, 1948.0, 1448.0, 1242.0, 1268.0, 1101.0, 1255.0, 1362.0, 984.0, 1089.0, 800.0, 1345.0, 3600.0, 1650.0, 950.0, 1068.0, 860.0, 3000.0, 1756.0, 1205.0, 1120.0, 1800.0, 8321.0, 1604.0, 2732.0, 1015.0, 1200.0, 1010.0, 1250.0, 1010.0, 1050.0, 1710.0, 1248.52, 410.0, 1656.0, 1451.0, 1200.0, 1250.0, 4395.0, 4600.0, 1340.0, 1100.0, 6000.0, 1700.0, 1200.0, 1096.0, 1160.0, 1936.0, 1269.0, 3500.0, 1586.0, 1376.0, 1452.0, 1538.0, 1427.0, 935.0, 1220.0, 1197.0, 674.0, 410.0, 1573.0, 1135.0, 1400.0, 1200.0, 1800.0, 2045.0, 1268.0, 883.0, 1600.0, 1056.0, 1200.0, 4500.0, 1204.0, 1410.0, 1460.0, 1100.0, 1310.0, 1600.0, 1250.0, 1665.0, 1345.0, 2000.0, 1416.0, 1145.0, 7200.0, 1231.0, 1664.0, 2000.0, 972.0, 4500.0, 1185.0, 1750.0, 3155.0, 1007.0, 1700.0, 1250.0, 1200.0, 994.0, 1150.0, 1220.0, 1441.0, 1157.0, 1300.0, 1400.0, 1370.07, 1200.0, 900.0, 418.0, 1200.0, 1200.0, 1062.0, 1120.0, 1012.0, 1500.0, 950.0, 675.0, 1430.0, 1195.0, 2640.0, 1075.0, 3140.0, 782.0, 1011.0, 1450.0, 1129.0, 1126.0, 1200.0, 1180.0, 600.0, 940.0, 1933.0, 1082.0, 2400.0, 610.0, 1560.0, 1300.0, 3850.0, 1125.0, 2400.0, 777.4, 2500.0, 1798.0, 1864.0, 1115.0, 400.0, 1200.0, 992.0, 950.0, 1500.0, 1200.0, 1735.0, 1750.0, 1009.0, 1470.0, 1527.0, 985.0, 3300.0, 1277.0, 1100.0, 1820.0, 1530.0, 1886.0, 1200.0, 1880.0, 1255.0, 700.0, 1140.0, 1025.0, 3453.0, 1490.0, 1200.0, 1850.0, 1250.0, 2400.0, 3522.0, 1244.0, 623.0, 1025.0, 1034.0, 1191.0, 1719.0, 1035.0, 1500.0, 1470.0, 1140.0, 1752.12, 600.0, 600.0, 2990.0, 1660.0, 1275.0, 1365.0, 1200.0, 2546.0, 1392.0, 1245.0, 1200.0, 1162.0, 1476.0, 700.0, 3600.0, 943.0, 1150.0, 1113.0, 1615.0, 1279.0, 1256.0, 1805.0, 1350.0, 1525.0, 1357.0, 1645.0, 1777.26, 845.0, 900.0, 1210.0, 829.0, 1879.0, 1250.0, 1200.0, 1108.0, 1401.0, 1157.0, 1185.0, 1751.0, 1550.0, 1880.0, 2645.0, 1175.0, 1407.0, 1000.0, 1518.0, 3600.0, 1027.0, 3730.0, 1145.0, 1260.0, 1500.0, 1737.0, 7034.0, 1600.0, 1500.0, 1120.0, 1200.0, 1030.0, 2500.0, 1057.0, 2774.0, 1460.0, 1075.0, 1080.0, 3626.0, 5100.0, 1139.7, 1074.0, 1200.0, 2425.0, 1323.0, 1232.0, 900.0, 740.0, 1920.0, 41382.0, 1550.0, 1588.0, 2300.0, 3600.0, 1308.0, 1340.0, 3280.0, 2170.0, 1719.0, 1107.83, 1200.0, 1090.0, 1500.0, 1660.0, 1247.0, 1595.0, 1175.0, 1200.0, 1184.0, 1100.0, 935.0, 1200.0, 2400.0, 1000.0, 1000.0, 1705.0, 1060.0, 2325.0, 1347.0, 1200.0, 1402.0, 2280.0, 1225.0, 1080.0, 4000.0, 1919.0, 1100.0, 2500.0, 1200.0, 1565.0, 1200.0, 1581.0, 2882.0, 1440.0, 2180.0, 7000.0, 985.0, 950.0, 1339.0, 1449.0, 1200.0, 1100.0, 2007.0, 2700.0, 1100.0, 1140.0, 3009.0, 3300.0, 800.0, 2000.0, 1200.0, 1300.0, 1220.0, 2289.0, 1170.0, 1350.0, 883.0, 1698.0, 4375.0, 1060.0, 1185.0, 2051.0, 1404.0, 1252.0, 1885.0, 3381.0, 980.0, 2500.0, 1420.0, 1166.0, 2312.0, 3000.0, 1175.0, 1145.0, 970.0, 1125.0, 3279.0, 5000.0, 2150.0, 1635.0, 3425.0, 2950.0, 1200.0, 1335.0, 4450.0, 1166.0, 2390.0, 1460.0, 1690.0, 1386.0, 1090.0, 1732.0, 1390.0, 1095.0, 416.0, 2400.0, 1350.0, 1453.0, 1226.0, 784.0, 1168.0, 1776.0, 1634.0, 860.0, 2800.0, 1650.0, 1190.0, 1133.0, 1559.0, 1448.0, 6652.0, 976.0, 1350.0, 1590.0, 2940.0, 1633.0, 1151.0, 1400.0, 1037.0, 1188.0, 1060.0, 2215.0, 1255.0, 2500.0, 1075.0, 2569.0, 900.0, 1183.0, 1100.0, 1643.0, 1500.0, 1291.0, 1150.0, 1060.0, 1575.0, 1200.0, 1700.0, 1236.0, 1350.0, 2475.0, 3800.0, 4694.0, 1200.0, 1200.0, 1225.0, 1056.0, 1240.0, 1200.0, 1850.0, 3150.0, 1200.0, 1018.0, 3520.0, 1185.0, 918.0, 1330.0, 1540.0, 1200.0, 927.0, 5171.0, 1400.0, 1345.0, 1900.0, 1510.0, 302.0, 525.0, 1500.0, 1655.0, 1100.0, 1200.0, 1100.0, 2282.0, 760.0, 2172.0, 3800.0, 600.0, 3300.0, 1242.0, 410.0, 1245.0, 1088.0, 1200.0, 1995.0, 1309.0, 1717.0, 2100.0, 880.0, 1200.0, 1250.0, 3520.0, 1041.0, 1505.0, 1776.0, 1767.0, 1293.0, 1320.0, 1280.0, 1245.0, 1027.0, 1200.0, 1100.0, 1065.0, 1814.0, 1610.0, 850.0, 1600.0, 3200.0, 1250.0, 1243.0, 1452.0, 1475.0, 1353.0, 2100.0, 1750.0, 4800.0, 1270.0, 2700.0, 1200.0, 2695.0, 1330.0, 660.0, 1400.0, 4000.0, 1700.0, 1585.0, 1385.0, 1128.0, 60.0, 1200.0, 1203.0, 905.0, 1450.0, 1105.0, 1200.0, 1530.0, 1105.0, 1333.0, 1065.0, 1350.0, 1243.0, 1530.0, 1200.0, 1270.0, 1830.0, 900.0, 2400.0, 7000.0, 1450.0, 1525.0, 1080.0, 1220.0, 1200.0, 2710.0, 2400.0, 1500.0, 1355.0, 1070.0, 1980.0, 842.0, 700.0, 2500.0, 1884.0, 1100.0, 1196.0, 1820.0, 1200.0, 1185.0, 2145.0, 1220.0, 1116.0, 1192.0, 1449.0, 2500.0, 1700.0, 1920.0, 1350.0, 4800.0, 1700.0, 1447.0, 1329.0, 1314.0, 1200.0, 1214.0, 1513.0, 261360.0, 1246.0, 705.0, 1220.0, 1800.0, 1400.0, 1245.0, 1495.0, 2000.0, 996.0, 1000.0, 1250.0, 975.0, 1261.0, 1080.0, 1230.0, 982.0, 1260.0, 1590.0, 1220.0, 1320.0, 1750.0, 1436.0, 1200.0, 1500.0, 1560.0, 3758.0, 1275.0, 1040.0, 2400.0, 1500.0, 3150.0, 1960.0, 3200.0, 1195.0, 2390.0, 4500.0, 450.0, 4304.0, 648.0, 2100.0, 4209.0, 1027.0, 1575.0, 1365.0, 650.0, 1200.0, 1100.0, 1075.0, 1100.0, 1320.0, 1500.0, 1200.0, 1125.0, 1246.0, 1718.0, 1075.0, 1480.0, 500.0, 2400.0, 1200.0, 1041.0, 1128.0, 1685.0, 1180.0, 1200.0, 1250.0, 900.0, 1000.0, 600.0, 600.0, 1404.0, 1610.0, 1760.0, 975.0, 1190.0, 1110.0, 2415.0, 1235.0, 1275.0, 1115.0, 1197.0, 644.0, 1251.0, 1105.0, 1080.0, 2100.0, 1600.0, 1731.0, 1206.0, 1560.0, 750.0, 1035.0, 1200.0, 702.0, 1700.0, 1145.0, 1208.0, 1589.0, 560.0, 1426.0, 1885.0, 935.0, 1171.0, 1465.0, 1820.0, 1580.0, 1452.0, 1445.0, 1170.0, 1070.0, 1100.0, 1140.0, 2600.0, 1532.0, 1150.0, 1473.0, 1350.0, 4040.0, 1980.0, 1660.0, 2456.0, 650.0, 4000.0, 2475.0, 1495.0, 1080.0, 1521.0, 1053.0, 2406.0, 800.0, 1050.0, 1430.0, 2400.0, 1250.0, 1200.0, 840.0, 1000.0, 1630.0, 985.0, 1200.0, 1650.0, 1670.0, 1200.0, 1240.0, 1000.0, 830.0, 1200.0, 9600.0, 5000.0, 1140.0, 1635.0, 1120.0, 2750.0, 1760.0, 2137.0, 973.0, 1724.0, 1020.0, 1200.0, 750.0, 883.0, 660.0, 2787.0, 1470.0, 891.0, 1275.0, 1787.0, 1730.0, 1320.0, 1692.0, 1400.0, 1115.0, 1370.0, 1602.0, 793.0, 675.0, 3250.0, 1050.0, 1035.0, 1200.0, 1800.0, 1625.0, 1032.0, 1496.0, 1100.0, 1500.0, 1125.0, 1555.0, 1025.0, 1482.0, 1630.0, 900.0, 1355.0, 2360.0, 1200.0, 1563.0, 1344.0, 3000.0, 812.0, 1200.0, 3175.0, 1360.0, 1835.0, 1756.0, 1296.0, 1300.0, 1141.0, 1270.0, 1210.0, 1310.0, 1356.0, 2374.0, 1745.0, 1200.0, 1050.0, 2400.0, 1140.0, 1210.0, 2035.0, 633.0, 485.0, 1112.0, 1200.0, 2275.0, 1419.0, 1195.0, 2020.0, 1047.0, 1884.0, 1200.0, 905.0, 1500.0, 850.0, 1125.0, 1165.0, 933.0, 1305.0, 1125.0, 865.0, 1245.0, 8840.0, 1145.0, 2000.0, 625.0, 1724.0, 400.0, 1270.0, 1250.0, 1485.0, 823.0, 990.0, 1200.0, 1185.0, 1140.0, 1950.0, 1756.0, 2600.0, 520.0, 1025.0, 1216.0, 1026.0, 3335.0, 2700.0, 1411.0, 1320.0, 1320.0, 615.0, 1804.0, 1140.0, 1200.0, 2375.0, 1750.0, 960.0, 1152.0, 965.0, 1684.0, 1672.0, 1075.0, 1500.0, 1464.0, 1420.0, 750.0, 1169.0, 1290.0, 1160.0, 2800.0, 1500.0, 1850.0, 1300.0, 1310.0, 2750.0, 2150.0, 5100.0, 1300.0, 1875.0, 1260.0, 2500.0, 1241.0, 1025.0, 1500.0, 1070.0, 815.0, 2000.0, 1400.0, 1740.0, 11335.0, 1216.0, 2200.0, 3500.0, 970.0, 3150.0, 1200.0, 1026.0, 450.0, 1205.0, 1368.0, 420.0, 1270.0, 614.0, 1050.0, 1408.0, 1223.0, 1507.0, 1160.0, 1200.0, 960.0, 1021.0, 2162.03, 1065.0, 400.0, 1465.0, 900.0, 1800.0, 1175.0, 6729.0, 1500.0, 1050.0, 1400.0, 1650.0, 1827.0, 1930.0, 883.0, 550.0, 1400.0, 1350.0, 1290.0, 1021.0, 1158.0, 1200.0, 1400.0, 2400.0, 1200.0, 1520.0, 1554.0, 2710.0, 1150.0, 1101.0, 1200.0, 1252.0, 1650.0, 1270.0, 992.0, 2000.0, 893.0, 1075.0, 3200.0, 1190.0, 800.0, 1814.0, 1400.0, 1400.0, 1344.0, 5400.0, 1843.0, 1138.0, 1495.0, 880.0, 1396.0, 1610.0, 1050.0, 1410.0, 1050.0, 1310.0, 1104.0, 1165.0, 1027.0, 1310.0, 1052.0, 1464.0, 1000.0, 2240.0, 1150.0, 2019.0, 986.0, 1350.0, 800.0, 1893.0, 1318.0, 1325.0, 800.0, 1300.0, 1300.0, 1010.0, 1260.0, 2500.0, 1520.0, 1665.0, 1800.0, 1197.0, 1050.0, 910.0, 1241.0, 1567.0, 1747.0, 1475.0, 600.0, 1524.0, 980.0, 966.0, 2360.0, 1112.0, 550.0, 1760.0, 1830.0, 1175.0, 1175.0, 1025.0, 1232.0, 1010.0, 1273.0, 1590.0, 1100.0, 1252.0, 2615.0, 1200.0, 1322.0, 1000.0, 1755.0, 1135.0, 1200.0, 1200.0, 1260.0, 3250.0, 3500.0, 1200.0, 1100.0, 1305.0, 1236.0, 1125.0, 1075.0, 2000.0, 772.0, 2999.97, 1150.0, 1440.0, 1085.0, 1785.0, 2475.0, 1930.0, 600.0, 800.0, 2450.0, 1200.0, 1920.0, 1085.0, 760.0, 1201.0, 1615.0, 1289.0, 1991.0, 1377.0, 2880.0, 1892.0, 2176.0, 663.0, 1165.0, 3554.0, 1260.0, 1095.0, 1050.0, 1176.0, 1801.0, 1315.0, 1194.0, 2400.0, 1308.0, 4250.0, 1806.0, 3671.0, 2144.0, 1065.0, 1205.0, 1160.0, 750.0, 1194.0, 1200.0, 1681.0, 1130.0, 3633.0, 1843.0, 1065.0, 1885.0, 1500.0, 1210.0, 1126.0, 1357.0, 1451.0, 1600.0, 950.0, 960.0, 1625.0, 2200.0, 1607.0, 900.0, 1080.0, 2300.0, 1708.0, 2500.0, 1690.0, 2100.0, 1269.0, 1243.0, 1890.0, 1165.0, 1196.0, 1194.0, 1630.0, 1063.0, 1025.0, 1067.0, 1299.0, 1343.0, 1330.0, 1524.0, 2236.0, 2955.0, 1410.0, 1581.0, 1205.0, 1270.0, 1353.0, 1200.0, 1250.0, 1950.2, 1157.0, 1650.0, 1000.0, 602.0, 3000.0, 1108.0, 1040.0, 1451.0, 1196.0, 850.0, 2171.66, 900.0, 720.0, 1573.0, 1026.0, 1400.0, 1400.0, 2100.0, 1150.0, 1500.0, 2400.0, 1200.0, 1790.0, 1125.0, 3661.0, 1100.0, 1080.0, 1105.0, 1110.0, 708.0, 1027.0, 1600.0, 3122.0, 1205.0, 1450.0, 750.0, 540.0, 1200.0, 1200.0, 1837.0, 1346.0, 1012.0, 1950.2, 1125.0, 1500.0, 1197.0, 1230.0, 1100.0, 1563.0, 2240.0, 3729.0, 1600.0, 1715.0, 2400.0, 1151.0, 1200.0, 1123.0, 1276.0, 1315.0, 1270.0, 1325.0, 1600.0, 1660.0, 1299.0, 953.0, 1457.0, 1000.0, 1100.0, 1075.0, 1450.0, 5515.0, 950.0, 1200.0, 1013.0, 1140.0, 2100.0, 1430.0, 600.0, 1600.0, 1190.0, 1625.0, 1210.0, 1615.0, 1180.0, 1500.0, 850.0, 1130.0, 907.0, 1300.0, 1891.0, 1735.0, 1075.0, 258.336, 2040.0, 1590.0, 1600.0, 1160.0, 930.0, 1010.0, 1221.0, 2400.0, 1108.0, 1000.0, 1370.0, 920.0, 1277.0, 1213.0, 1653.0, 2400.0, 3000.0, 1600.0, 1321.0, 1570.0, 1150.0, 1053.0, 1325.0, 1169.0, 1274.0, 1317.0, 1195.0, 5716.0, 940.0, 1820.0, 1450.0, 1615.0, 2200.0, 985.0, 1116.0, 656.0, 1105.0, 1220.0, 1400.0, 2400.0, 850.0, 1000.0, 1660.0, 1330.0, 1165.0, 1153.0, 1270.0, 1070.0, 1427.0, 1420.0, 1600.0, 2031.0, 1454.0, 1116.0, 2000.0, 1346.0, 1062.0, 700.0, 1405.0, 1100.0, 2153.0, 1200.0, 2135.0, 1125.0, 1350.0, 1068.0, 940.0, 1063.0, 1382.0, 936.0, 1400.0, 475.0, 1200.0, 1450.0, 1162.0, 1161.0, 1623.29, 1260.0, 1672.0, 3000.0, 1500.0, 1410.0, 1650.0, 2000.0, 1675.0, 1200.0, 1100.0, 1400.0, 2257.0, 1153.0, 1197.0, 1150.0, 595.0, 1837.0, 3750.0, 1830.0, 1715.0, 970.0, 1200.0, 2700.0, 5480.0, 2400.0, 3040.0, 1168.0, 1160.0, 1500.0, 600.0, 1200.0, 850.0, 935.0, 1200.0, 654.0, 1650.0, 5656.0, 1300.0, 950.0, 1250.0, 1072.0, 1425.0, 1165.0, 1390.0, 1510.0, 1305.0, 1200.0, 866.0, 1231.0, 1360.0, 2500.0, 1140.0, 525.0, 1295.0, 1020.0, 3504.0, 1200.0, 1100.0, 4723.0, 820.0, 3508.0, 3700.0, 1354.0, 2453.0, 1154.0, 1680.0, 1205.0, 1400.0, 1625.0, 1500.0, 1520.0, 1300.0, 1150.0, 1762.0, 1153.0, 2650.0, 1350.0, 950.0, 3295.0, 1515.0, 1100.0, 1250.0, 1200.0, 2500.0, 1200.0, 1355.0, 1115.0, 1275.0, 2051.0, 1470.0, 1550.0, 1270.0, 2119.0, 1600.0, 1320.0, 2505.0, 1410.0, 1200.0, 1705.0, 995.0, 1081.0, 1194.0, 605.0, 567.0, 1718.0, 2821.0, 600.0, 1715.0, 3206.0, 1500.0, 1846.0, 600.0, 1015.0, 4350.0, 1100.0, 1965.0, 1021.0, 1230.0, 1260.0, 2400.0, 1894.0, 1500.0, 1950.0, 1231.0, 1236.0, 1800.0, 1650.0, 750.0, 1443.0, 886.0, 925.0, 1305.0, 1190.0, 1284.0, 350.0, 875.0, 1325.0, 2400.0, 1183.0, 1750.0, 16335.0, 747.0, 1342.0, 1113.0, 1738.0, 1206.0, 2790.0, 1162.0, 1194.0, 1857.0, 3500.0, 1763.0, 1150.0, 2400.0, 1290.0, 3408.0, 900.0, 1150.0, 1040.0, 1160.0, 900.0, 1750.0, 1320.0, 2240.0, 891.0, 1000.0, 1852.0, 1323.0, 1404.0, 1370.0, 1385.0, 1129.0, 1876.0, 1720.0, 1200.0, 1175.0, 500.0, 1200.0, 1200.0, 1893.0, 1430.0, 850.0, 1392.0, 1938.0, 1020.0, 2400.0, 1832.0, 1423.0, 1432.0, 1350.0, 1500.0, 1480.0, 1843.0, 760.0, 1916.0, 1255.0, 1160.0, 2640.0, 1160.0, 1200.0, 1100.0, 1500.0, 1336.0, 1065.0, 1294.0, 1550.0, 1216.0, 1005.0, 1430.0, 4100.0, 1660.0, 1430.0, 1470.0, 1045.0, 8450.0, 950.0, 1382.0, 930.0, 1660.0, 1290.0, 1010.0, 3050.0, 1200.0, 1650.0, 1636.0, 2367.0, 1153.0, 2087.01, 1200.0, 1844.0, 1537.52976, 1215.0, 1194.0, 1220.0, 3150.0, 525.0, 955.0, 2000.0, 884.0, 1250.0, 7000.0, 2400.0, 2990.0, 1195.0, 2559.0, 1200.0, 984.0, 1089.0, 1165.0, 410.0, 1482.0, 1200.0, 1938.0, 1166.0, 1275.0, 1140.0, 3734.0, 720.0, 1200.0, 1100.0, 1162.0, 540.0, 1550.0, 1300.0, 1200.0, 1220.0, 964.0, 1500.0, 1347.0, 5000.0, 3000.0, 1120.0, 600.0, 2321.0, 540.0, 1150.0, 1484.0, 1680.0, 620.0, 1650.0, 1250.0, 2072.0, 1105.0, 1200.0, 3100.0, 4007.0, 550.0, 1340.0, 2409.0, 1194.0, 1246.0, 1055.0, 1541.0, 1370.0, 1224.0, 650.0, 883.0, 1676.0, 1154.0, 1610.0, 1057.0, 1157.0, 1200.0, 1500.0, 980.0, 1140.0, 1206.0, 575.0, 1600.0, 2400.0, 1300.0, 1270.0, 1128.0, 640.0, 2400.0, 1200.0, 1090.0, 589.0, 1125.0, 1140.0, 3150.0, 1315.0, 2700.0, 1435.0, 1092.0, 1314.0, 1260.0, 1875.0, 1080.0, 4000.0, 1082.0, 1150.0, 1052.0, 1045.0, 1442.0, 1500.0, 497.0, 1255.0, 1432.0, 2100.0, 1450.0, 1346.0, 1200.0, 925.0, 1160.0, 1768.0, 1094.0, 1500.0, 1745.0, 2875.0, 3500.0, 1550.0, 2340.0, 1655.0, 2024.0, 3100.0, 1575.0, 1920.0, 6200.0, 1082.0, 1265.0, 1100.0, 1160.0, 1246.0, 615.0, 1128.0, 1260.0, 1830.0, 1525.0, 602.0, 3000.0, 1835.0, 1250.0, 1200.0, 1855.0, 1450.0, 2089.0, 1464.0, 4800.0, 1200.0, 1095.0, 2900.0, 2500.0, 1170.0, 1280.0, 1224.0, 1694.0, 825.0, 1612.0, 985.0, 1175.0, 600.0, 1740.0, 1770.0, 1000.0, 1090.0, 2295.0, 4144.0, 1800.0, 1221.0, 1046.0, 1290.0, 1065.0, 1850.0, 1097.0, 1200.0, 2160.0, 1140.0, 1297.0, 1150.0, 1375.0, 1245.0, 4750.0, 1800.0, 1594.0, 1200.0, 645.0, 700.0, 2500.0, 1000.0, 4000.0, 1160.0, 1200.0, 600.0, 1570.0, 1290.0, 1200.0, 2777.29, 2250.0, 1270.0, 1145.0, 1320.0, 1065.0, 1650.0, 1371.0, 2700.0, 1575.0, 1362.0, 3210.0, 1255.0, 925.0, 1088.0, 1234.0, 2140.0, 1584.0, 1175.0, 1555.0, 645.0, 1585.0, 1354.0, 1165.0, 1200.0, 1740.0, 1200.0, 985.0, 1200.0, 600.0, 1340.0, 1583.0, 1200.0, 1200.0, 2245.0, 1573.0, 1227.0, 1210.0, 1650.0, 1000.0, 1485.0, 1735.0, 1730.0, 1684.0, 1686.0, 1654.0, 1600.0, 1100.0, 1655.0, 1830.0, 1430.0, 1989.0, 1044.0, 1426.0, 1115.0, 1000.0, 754.0, 1140.0, 900.0, 1200.0, 580.0, 1200.0, 1030.0, 1910.0, 1950.0, 1724.0, 1200.0, 1314.0, 1400.0, 1400.0, 1115.0, 1300.0, 2400.0, 1332.0, 1000.0, 1200.0, 2444.0, 1070.0, 1600.0, 1196.0, 1025.0, 1220.0, 2180.0, 1600.0, 1270.0, 3290.0, 1932.47, 2086.0, 1165.0, 1310.0, 1440.0, 1900.0, 740.0, 2503.0, 1075.0, 1260.0, 1282.0, 1100.0, 1717.0, 1088.0, 1335.0, 1200.0, 1325.0, 1157.0, 4566.0, 1200.0, 1510.0, 1050.0, 1200.0, 1516.0, 2400.0, 1050.0, 1000.0, 1050.0, 600.0, 1194.0, 600.0, 1210.0, 1660.0, 1410.0, 1305.0, 1800.0, 1206.0, 883.0, 1150.0, 1100.0, 1245.0, 1850.0, 3385.0, 2150.0, 3895.0, 1035.0, 600.0, 1200.0, 1155.0, 1200.0, 755.0, 960.0, 450.0, 4000.0, 1571.0, 1691.0, 1489.0, 800.0, 980.0, 1215.0, 911.0, 1535.0, 1200.0, 1500.0, 1588.0, 675.0, 957.0, 1200.0, 1495.0, 845.0, 3000.0, 2206.0, 1181.0, 1309.0, 1400.0, 1650.0, 1622.0, 1225.0, 1719.0, 995.0, 1120.0, 1047.0, 1466.0, 1691.0, 876.0, 1659.0, 1270.0, 1269.0, 1200.0, 1153.0, 1315.0, 2485.0, 1354.0, 1344.0, 1180.0, 1313.0, 1100.0, 600.0, 1200.0, 625.0, 890.0, 1173.0, 1190.0, 1250.0, 1644.0, 1740.0, 1710.0, 1000.0, 1662.0, 1162.0, 1362.0, 540.0, 3066.0, 900.0, 1250.0, 1410.0, 2665.0, 970.0, 1799.0, 1500.0, 1200.0, 1810.0, 1084.0, 1500.0, 1328.0, 1485.0, 1500.0, 1100.0, 1360.0, 900.0, 600.0, 1031.0, 1910.0, 1040.0, 2800.0, 1404.0, 1200.0, 1267.0, 1510.0, 900.0, 1457.0, 3596.0, 1408.0, 1005.0, 30400.0, 545.0, 1182.0, 4077.0, 1367.0, 1200.0, 1100.0, 1565.0, 1720.0, 1107.0, 1360.0, 625.0, 1701.0, 1350.0, 1016.0, 1500.0, 900.0, 1500.0, 2292.0, 1280.0, 1750.0, 1500.0, 1500.0, 1245.0, 1025.0, 1945.0, 1640.0, 1348.0, 1100.0, 1616.0, 1855.0, 1255.0, 2040.0, 2400.0, 1195.0, 1022.0, 760.0, 1264.0, 1650.0, 1020.0, 4395.0, 950.0, 2710.0, 1936.0, 1075.0, 1223.0, 1500.0, 1050.0, 2100.0, 1200.0, 1650.0, 1495.0, 1500.0, 1605.0, 1270.0, 1081.0, 1600.0, 1596.0, 600.0, 1557.0, 1410.0, 1984.0, 1196.0, 2259.0, 1720.0, 600.0, 1256.0, 1243.0, 1310.0, 1140.0, 1600.0, 1790.0, 2670.0, 1674.0, 1200.0, 1786.0, 770.0, 1035.0, 1564.0, 1334.0, 7150.0, 1365.0, 1115.0, 1020.0, 1369.0, 1240.0, 600.0, 1418.0, 2250.0, 500.0, 1020.0, 1290.0, 1500.0, 1290.0, 1881.0, 943.0, 1140.0, 1035.0, 1500.0, 5665.84, 1232.0, 1290.0, 2610.0, 1576.0, 980.0, 4000.0, 1346.0, 1181.0, 6652.0, 1307.0, 1215.0, 1180.0, 600.0, 1115.0, 1025.0, 1910.0, 1200.0, 2920.0, 1349.0, 1175.0, 1150.0, 935.0, 1404.0, 2700.0, 1203.0, 440.0, 1571.0, 1125.0, 610.0, 1198.0, 1200.0, 1200.0, 6688.0, 1830.0, 1432.0, 2300.0, 1331.95, 1876.0, 1639.0, 1200.0, 1665.0, 1140.0, 2093.0, 1450.0, 1330.0, 1200.0, 1800.0, 2872.0, 1486.0, 1425.0, 1255.0, 750.0, 1225.0, 1274.0, 4600.0, 1350.0, 1100.0, 1760.0, 1200.0, 1800.0, 1095.0, 1140.0, 1530.0, 1724.0, 1058.0, 1464.0, 1975.0, 1112.0, 1600.0, 1648.0, 1100.0, 509.0, 2265.0, 1200.0, 530.0, 1010.0, 1150.0, 1340.0, 1850.0, 907.0, 1688.0, 1160.0, 1600.0, 1800.0, 3596.0, 1464.0, 1295.0, 1012.0, 1000.0, 1010.0, 1379.0, 1121.0, 1200.0, 3124.0, 1246.0, 1420.0, 600.0, 1090.0, 1355.0, 1425.0, 4000.0, 1700.0, 2099.0, 1330.0, 1520.0, 1490.0, 1000.0, 1291.0, 1339.0, 1330.0, 9200.0, 1200.0, 1650.0, 8000.0, 1125.0, 1310.0, 1096.0, 814.0, 3500.0, 1140.0, 1480.0, 4000.0, 1500.0, 1850.0, 745.0, 613.0, 1200.0, 1470.0, 896.0, 250.0, 1200.0, 1160.0, 1590.0, 520.0, 1178.0, 1360.0, 1155.0, 520.0, 1615.0, 6000.0, 1140.0, 1508.0, 2395.0, 1590.0, 2215.0, 1667.0, 1903.0, 1530.0, 1730.0, 1048.0, 1225.0, 1200.0, 1175.0, 2150.0, 1651.0, 1500.0, 1783.0, 1015.0, 1800.0, 2758.0, 1200.0, 1132.0, 1200.0, 1490.0, 1917.0, 1703.0, 1211.0, 1310.0, 1146.0, 1041.0, 1453.0, 877.0, 1477.0, 1420.0, 2000.0, 1140.0, 1380.0, 1095.0, 2517.0, 1665.0, 1245.0, 3360.0, 2010.0, 1226.0, 1075.0, 1226.0, 510.0, 1153.0, 1600.0, 1000.0, 1400.0, 1256.0, 1200.0, 1425.0, 1375.0, 1919.0, 2111.0, 970.0, 1353.0, 1405.0, 1285.0, 1050.0, 1349.0, 4050.0, 812.0, 1440.0, 2425.0, 2200.0, 1810.0, 1200.0, 1060.0, 1015.0, 5712.0, 1500.0, 1454.0, 1075.0, 774.0, 1187.0, 500.0, 1200.0, 1805.0, 1527.0, 1675.0, 1050.0, 1500.0, 1262.0, 1345.0, 1715.0, 3453.0, 3600.0, 1141.0, 4689.0, 550.0]\n"
     ]
    }
   ],
   "source": [
    "list1 = df[\"total_sqft\"].to_list()\n",
    "\n",
    "for index,i in enumerate(list1):\n",
    "    if \"-\" in i:\n",
    "        sub_list = i.split()\n",
    "        value = float(sub_list[0]) + float(sub_list[2])\n",
    "        list1[index] = value\n",
    "        \n",
    "    elif \"Sq. Yards\" in i:\n",
    "        value = i.split(\"Sq. Yards\")       \n",
    "        list1[index] = float(value[0])*9\n",
    "        \n",
    "    elif \"Sq. Meter\" in i:\n",
    "        value = i.split(\"Sq. Meter\")       \n",
    "        list1[index] = float(value[0])*10.764\n",
    "        \n",
    "    elif \"Guntha\" in i:\n",
    "        value = i.split(\"Guntha\")       \n",
    "        list1[index] = float(value[0])*1089\n",
    "        \n",
    "    elif \"Acres\" in i:\n",
    "        value = i.split(\"Acres\")       \n",
    "        list1[index] = float(value[0])*43560\n",
    "        \n",
    "    elif \"Cents\" in i:\n",
    "        value = i.split(\"Cents\")       \n",
    "        list1[index] = float(value[0])*435.56\n",
    "        \n",
    "    elif \"Perch\" in i:\n",
    "        value = i.split(\"Perch\")       \n",
    "        list1[index] = float(value[0])*272.25\n",
    "        \n",
    "    elif \"Grounds\" in i:\n",
    "        value = i.split(\"Grounds\")       \n",
    "        list1[index] = float(value[0])*2400\n",
    "        \n",
    "    else:    \n",
    "        list1[index] = float(i)\n",
    "           \n",
    "print(list1)"
   ]
  },
  {
   "cell_type": "code",
   "execution_count": 131,
   "metadata": {},
   "outputs": [
    {
     "data": {
      "text/plain": [
       "0        1056.0\n",
       "1        2600.0\n",
       "2        1440.0\n",
       "3        1521.0\n",
       "4        1200.0\n",
       "          ...  \n",
       "13315    3453.0\n",
       "13316    3600.0\n",
       "13317    1141.0\n",
       "13318    4689.0\n",
       "13319     550.0\n",
       "Name: total_sqft, Length: 13320, dtype: float64"
      ]
     },
     "execution_count": 131,
     "metadata": {},
     "output_type": "execute_result"
    }
   ],
   "source": [
    "df[\"total_sqft\"] =list1\n",
    "df[\"total_sqft\"].astype(\"float\")"
   ]
  },
  {
   "cell_type": "markdown",
   "metadata": {},
   "source": [
    "### 5. site_location"
   ]
  },
  {
   "cell_type": "code",
   "execution_count": 132,
   "metadata": {
    "scrolled": true
   },
   "outputs": [
    {
     "data": {
      "text/plain": [
       "Alandi Road      140\n",
       "Navi Peth        139\n",
       "Hadapsar         139\n",
       "Mundhawa         139\n",
       "Dehu Road        139\n",
       "                ... \n",
       "Ghorpadi         138\n",
       "Sinhagad Road    138\n",
       "Satara Road      138\n",
       "Vishrant Wadi    138\n",
       "other              1\n",
       "Name: site_location, Length: 97, dtype: int64"
      ]
     },
     "execution_count": 132,
     "metadata": {},
     "output_type": "execute_result"
    }
   ],
   "source": [
    "df[\"site_location\"].value_counts()"
   ]
  },
  {
   "cell_type": "code",
   "execution_count": 133,
   "metadata": {},
   "outputs": [],
   "source": [
    "df = pd.get_dummies(df,columns = [\"site_location\"])"
   ]
  },
  {
   "cell_type": "code",
   "execution_count": 134,
   "metadata": {},
   "outputs": [
    {
     "name": "stdout",
     "output_type": "stream",
     "text": [
      "<class 'pandas.core.frame.DataFrame'>\n",
      "RangeIndex: 13320 entries, 0 to 13319\n",
      "Columns: 107 entries, availability to site_location_other\n",
      "dtypes: float64(4), int64(2), uint8(101)\n",
      "memory usage: 1.9 MB\n"
     ]
    }
   ],
   "source": [
    "df.info()"
   ]
  },
  {
   "cell_type": "markdown",
   "metadata": {},
   "source": [
    "## Find Outlier By Boxplot and IQR Method"
   ]
  },
  {
   "cell_type": "code",
   "execution_count": 135,
   "metadata": {},
   "outputs": [
    {
     "data": {
      "text/plain": [
       "<matplotlib.axes._subplots.AxesSubplot at 0x10a89a00>"
      ]
     },
     "execution_count": 135,
     "metadata": {},
     "output_type": "execute_result"
    },
    {
     "data": {
      "image/png": "[encoded data removed]",
      "text/plain": [
       "<Figure size 432x288 with 1 Axes>"
      ]
     },
     "metadata": {
      "needs_background": "light"
     },
     "output_type": "display_data"
    }
   ],
   "source": [
    "df[[\"size\"]].boxplot()"
   ]
  },
  {
   "cell_type": "code",
   "execution_count": 136,
   "metadata": {},
   "outputs": [
    {
     "name": "stdout",
     "output_type": "stream",
     "text": [
      "upper_bound 4.5\n",
      "lower_bound 0.5\n"
     ]
    }
   ],
   "source": [
    "q1 = df[\"size\"].quantile(0.25)\n",
    "q2 = df[\"size\"].quantile(0.50)\n",
    "q3 = df[\"size\"].quantile(0.75)\n",
    "iqr = q3-q1\n",
    "upper_bound = q3 + (1.5*iqr)\n",
    "lower_bound = q1 - (1.5*iqr)\n",
    "print(\"upper_bound\",upper_bound)\n",
    "print(\"lower_bound\",lower_bound)"
   ]
  },
  {
   "cell_type": "code",
   "execution_count": 137,
   "metadata": {},
   "outputs": [
    {
     "data": {
      "text/plain": [
       "9        6\n",
       "45       8\n",
       "58       6\n",
       "64       8\n",
       "68       8\n",
       "        ..\n",
       "13281    5\n",
       "13300    5\n",
       "13303    5\n",
       "13311    7\n",
       "13315    5\n",
       "Name: size, Length: 846, dtype: int64"
      ]
     },
     "execution_count": 137,
     "metadata": {},
     "output_type": "execute_result"
    }
   ],
   "source": [
    "df[\"size\"].loc[(df[\"size\"]>upper_bound)|(df[\"size\"]<lower_bound)]"
   ]
  },
  {
   "cell_type": "code",
   "execution_count": 138,
   "metadata": {},
   "outputs": [
    {
     "data": {
      "text/plain": [
       "3.0"
      ]
     },
     "execution_count": 138,
     "metadata": {},
     "output_type": "execute_result"
    }
   ],
   "source": [
    "median = df[\"size\"].loc[(df[\"size\"]<upper_bound)&(df[\"size\"]>lower_bound)].median()\n",
    "median"
   ]
  },
  {
   "cell_type": "code",
   "execution_count": 139,
   "metadata": {},
   "outputs": [],
   "source": [
    "df[\"size\"].loc[(df[\"size\"]>upper_bound)|(df[\"size\"]<lower_bound)] = median"
   ]
  },
  {
   "cell_type": "code",
   "execution_count": 140,
   "metadata": {},
   "outputs": [
    {
     "data": {
      "text/plain": [
       "<matplotlib.axes._subplots.AxesSubplot at 0x10a92ee0>"
      ]
     },
     "execution_count": 140,
     "metadata": {},
     "output_type": "execute_result"
    },
    {
     "data": {
      "image/png": "[encoded data removed]",
      "text/plain": [
       "<Figure size 432x288 with 1 Axes>"
      ]
     },
     "metadata": {
      "needs_background": "light"
     },
     "output_type": "display_data"
    }
   ],
   "source": [
    "df[[\"size\"]].boxplot() # impact of oulier has been reduce by imputation technique"
   ]
  },
  {
   "cell_type": "code",
   "execution_count": 141,
   "metadata": {},
   "outputs": [
    {
     "data": {
      "text/plain": [
       "<matplotlib.axes._subplots.AxesSubplot at 0x10b2e250>"
      ]
     },
     "execution_count": 141,
     "metadata": {},
     "output_type": "execute_result"
    },
    {
     "data": {
      "image/png": "[encoded data removed]",
      "text/plain": [
       "<Figure size 432x288 with 1 Axes>"
      ]
     },
     "metadata": {
      "needs_background": "light"
     },
     "output_type": "display_data"
    }
   ],
   "source": [
    "df[[\"total_sqft\"]].boxplot()"
   ]
  },
  {
   "cell_type": "code",
   "execution_count": 142,
   "metadata": {},
   "outputs": [
    {
     "data": {
      "text/plain": [
       "<matplotlib.axes._subplots.AxesSubplot at 0x10b71850>"
      ]
     },
     "execution_count": 142,
     "metadata": {},
     "output_type": "execute_result"
    },
    {
     "data": {
      "image/png": "[encoded data removed]",
      "text/plain": [
       "<Figure size 432x288 with 1 Axes>"
      ]
     },
     "metadata": {
      "needs_background": "light"
     },
     "output_type": "display_data"
    }
   ],
   "source": [
    "np.log(df[['total_sqft']]).boxplot()"
   ]
  },
  {
   "cell_type": "code",
   "execution_count": 143,
   "metadata": {},
   "outputs": [
    {
     "data": {
      "text/plain": [
       "<matplotlib.axes._subplots.AxesSubplot at 0x10c4c490>"
      ]
     },
     "execution_count": 143,
     "metadata": {},
     "output_type": "execute_result"
    },
    {
     "data": {
      "image/png": "[encoded data removed]",
      "text/plain": [
       "<Figure size 432x288 with 1 Axes>"
      ]
     },
     "metadata": {
      "needs_background": "light"
     },
     "output_type": "display_data"
    }
   ],
   "source": [
    "np.reciprocal(df[[\"total_sqft\"]]).boxplot()"
   ]
  },
  {
   "cell_type": "code",
   "execution_count": 144,
   "metadata": {},
   "outputs": [
    {
     "name": "stdout",
     "output_type": "stream",
     "text": [
      "upper_bound 2587.5\n",
      "lower_bound 207.5\n"
     ]
    }
   ],
   "source": [
    "q1 = df[\"total_sqft\"].quantile(0.25)\n",
    "q2 = df[\"total_sqft\"].quantile(0.50)\n",
    "q3 = df[\"total_sqft\"].quantile(0.75)\n",
    "iqr = q3-q1\n",
    "upper_bound = q3 + (1.5*iqr)\n",
    "lower_bound = q1 - (1.5*iqr)\n",
    "print(\"upper_bound\",upper_bound)\n",
    "print(\"lower_bound\",lower_bound)"
   ]
  },
  {
   "cell_type": "code",
   "execution_count": 145,
   "metadata": {},
   "outputs": [
    {
     "data": {
      "text/plain": [
       "1        2600.0\n",
       "6        2732.0\n",
       "7        3300.0\n",
       "11       2785.0\n",
       "18       2770.0\n",
       "          ...  \n",
       "13290    4050.0\n",
       "13299    5712.0\n",
       "13315    3453.0\n",
       "13316    3600.0\n",
       "13318    4689.0\n",
       "Name: total_sqft, Length: 1242, dtype: float64"
      ]
     },
     "execution_count": 145,
     "metadata": {},
     "output_type": "execute_result"
    }
   ],
   "source": [
    "df[\"total_sqft\"].loc[(df[\"total_sqft\"]>upper_bound)|(df[\"total_sqft\"]<lower_bound)]"
   ]
  },
  {
   "cell_type": "code",
   "execution_count": 146,
   "metadata": {},
   "outputs": [],
   "source": [
    "df[\"total_sqft\"].loc[(df[\"total_sqft\"]>upper_bound)] = upper_bound"
   ]
  },
  {
   "cell_type": "code",
   "execution_count": 147,
   "metadata": {},
   "outputs": [],
   "source": [
    "df[\"total_sqft\"].loc[(df[\"total_sqft\"]<lower_bound)] = lower_bound"
   ]
  },
  {
   "cell_type": "code",
   "execution_count": 148,
   "metadata": {},
   "outputs": [
    {
     "data": {
      "text/plain": [
       "<matplotlib.axes._subplots.AxesSubplot at 0x10cb6370>"
      ]
     },
     "execution_count": 148,
     "metadata": {},
     "output_type": "execute_result"
    },
    {
     "data": {
      "image/png": "[encoded data removed]",
      "text/plain": [
       "<Figure size 432x288 with 1 Axes>"
      ]
     },
     "metadata": {
      "needs_background": "light"
     },
     "output_type": "display_data"
    }
   ],
   "source": [
    "df[[\"total_sqft\"]].boxplot()"
   ]
  },
  {
   "cell_type": "code",
   "execution_count": 149,
   "metadata": {},
   "outputs": [
    {
     "data": {
      "text/plain": [
       "<matplotlib.axes._subplots.AxesSubplot at 0x10d04820>"
      ]
     },
     "execution_count": 149,
     "metadata": {},
     "output_type": "execute_result"
    },
    {
     "data": {
      "image/png": "[encoded data removed]",
      "text/plain": [
       "<Figure size 432x288 with 1 Axes>"
      ]
     },
     "metadata": {
      "needs_background": "light"
     },
     "output_type": "display_data"
    }
   ],
   "source": [
    "df[[\"bath\"]].boxplot()"
   ]
  },
  {
   "cell_type": "code",
   "execution_count": 150,
   "metadata": {},
   "outputs": [
    {
     "name": "stdout",
     "output_type": "stream",
     "text": [
      "upper_bound 4.5\n",
      "lower_bound 0.5\n"
     ]
    }
   ],
   "source": [
    "q1 = df[\"bath\"].quantile(0.25)\n",
    "q2 = df[\"bath\"].quantile(0.50)\n",
    "q3 = df[\"bath\"].quantile(0.75)\n",
    "iqr = q3-q1\n",
    "upper_bound = q3 + (1.5*iqr)\n",
    "lower_bound = q1 - (1.5*iqr)\n",
    "print(\"upper_bound\",upper_bound)\n",
    "print(\"lower_bound\",lower_bound)"
   ]
  },
  {
   "cell_type": "code",
   "execution_count": 151,
   "metadata": {},
   "outputs": [
    {
     "data": {
      "text/plain": [
       "1        5.0\n",
       "9        6.0\n",
       "11       5.0\n",
       "22       5.0\n",
       "45       9.0\n",
       "        ... \n",
       "13300    6.0\n",
       "13303    5.0\n",
       "13306    5.0\n",
       "13311    9.0\n",
       "13316    5.0\n",
       "Name: bath, Length: 1039, dtype: float64"
      ]
     },
     "execution_count": 151,
     "metadata": {},
     "output_type": "execute_result"
    }
   ],
   "source": [
    "df[\"bath\"].loc[(df[\"bath\"]>upper_bound)|(df[\"bath\"]<lower_bound)]"
   ]
  },
  {
   "cell_type": "code",
   "execution_count": 152,
   "metadata": {},
   "outputs": [
    {
     "data": {
      "text/plain": [
       "2.0"
      ]
     },
     "execution_count": 152,
     "metadata": {},
     "output_type": "execute_result"
    }
   ],
   "source": [
    "median = df[\"bath\"].loc[(df[\"bath\"]<upper_bound)&(df[\"bath\"]>lower_bound)].median()\n",
    "median"
   ]
  },
  {
   "cell_type": "code",
   "execution_count": 153,
   "metadata": {},
   "outputs": [],
   "source": [
    "df[\"bath\"].loc[(df[\"bath\"]>upper_bound)|(df[\"bath\"]<lower_bound)] = median"
   ]
  },
  {
   "cell_type": "code",
   "execution_count": 154,
   "metadata": {},
   "outputs": [
    {
     "data": {
      "text/plain": [
       "<matplotlib.axes._subplots.AxesSubplot at 0x10d7b9a0>"
      ]
     },
     "execution_count": 154,
     "metadata": {},
     "output_type": "execute_result"
    },
    {
     "data": {
      "image/png": "[encoded data removed]",
      "text/plain": [
       "<Figure size 432x288 with 1 Axes>"
      ]
     },
     "metadata": {
      "needs_background": "light"
     },
     "output_type": "display_data"
    }
   ],
   "source": [
    "df[[\"bath\"]].boxplot() # Outlier has been handled by imputaion technique"
   ]
  },
  {
   "cell_type": "code",
   "execution_count": 155,
   "metadata": {},
   "outputs": [
    {
     "data": {
      "text/plain": [
       "<matplotlib.axes._subplots.AxesSubplot at 0x10ddd5e0>"
      ]
     },
     "execution_count": 155,
     "metadata": {},
     "output_type": "execute_result"
    },
    {
     "data": {
      "image/png": "[encoded data removed]",
      "text/plain": [
       "<Figure size 432x288 with 1 Axes>"
      ]
     },
     "metadata": {
      "needs_background": "light"
     },
     "output_type": "display_data"
    }
   ],
   "source": [
    "df[[\"balcony\"]].boxplot() # no outlier present in the balcony Column"
   ]
  },
  {
   "cell_type": "markdown",
   "metadata": {},
   "source": [
    "# Feature Selection"
   ]
  },
  {
   "cell_type": "markdown",
   "metadata": {},
   "source": [
    "### Linearity"
   ]
  },
  {
   "cell_type": "code",
   "execution_count": 156,
   "metadata": {},
   "outputs": [
    {
     "data": {
      "text/html": [
       "<div>\n",
       "<style scoped>\n",
       "    .dataframe tbody tr th:only-of-type {\n",
       "        vertical-align: middle;\n",
       "    }\n",
       "\n",
       "    .dataframe tbody tr th {\n",
       "        vertical-align: top;\n",
       "    }\n",
       "\n",
       "    .dataframe thead th {\n",
       "        text-align: right;\n",
       "    }\n",
       "</style>\n",
       "<table border=\"1\" class=\"dataframe\">\n",
       "  <thead>\n",
       "    <tr style=\"text-align: right;\">\n",
       "      <th></th>\n",
       "      <th>availability</th>\n",
       "      <th>size</th>\n",
       "      <th>total_sqft</th>\n",
       "      <th>bath</th>\n",
       "      <th>balcony</th>\n",
       "      <th>price</th>\n",
       "      <th>area_type_Built-up  Area</th>\n",
       "      <th>area_type_Carpet  Area</th>\n",
       "      <th>area_type_Plot  Area</th>\n",
       "      <th>area_type_Super built-up  Area</th>\n",
       "      <th>...</th>\n",
       "      <th>site_location_Vadgaon Budruk</th>\n",
       "      <th>site_location_Viman Nagar</th>\n",
       "      <th>site_location_Vishrant Wadi</th>\n",
       "      <th>site_location_Wadgaon Sheri</th>\n",
       "      <th>site_location_Wagholi</th>\n",
       "      <th>site_location_Wakadewadi</th>\n",
       "      <th>site_location_Wanowrie</th>\n",
       "      <th>site_location_Warje</th>\n",
       "      <th>site_location_Yerawada</th>\n",
       "      <th>site_location_other</th>\n",
       "    </tr>\n",
       "  </thead>\n",
       "  <tbody>\n",
       "    <tr>\n",
       "      <th>0</th>\n",
       "      <td>0</td>\n",
       "      <td>2.0</td>\n",
       "      <td>1056.0</td>\n",
       "      <td>2.0</td>\n",
       "      <td>1.0</td>\n",
       "      <td>39.07</td>\n",
       "      <td>0</td>\n",
       "      <td>0</td>\n",
       "      <td>0</td>\n",
       "      <td>1</td>\n",
       "      <td>...</td>\n",
       "      <td>0</td>\n",
       "      <td>0</td>\n",
       "      <td>0</td>\n",
       "      <td>0</td>\n",
       "      <td>0</td>\n",
       "      <td>0</td>\n",
       "      <td>0</td>\n",
       "      <td>0</td>\n",
       "      <td>0</td>\n",
       "      <td>0</td>\n",
       "    </tr>\n",
       "    <tr>\n",
       "      <th>1</th>\n",
       "      <td>1</td>\n",
       "      <td>4.0</td>\n",
       "      <td>2587.5</td>\n",
       "      <td>2.0</td>\n",
       "      <td>3.0</td>\n",
       "      <td>120.00</td>\n",
       "      <td>0</td>\n",
       "      <td>0</td>\n",
       "      <td>1</td>\n",
       "      <td>0</td>\n",
       "      <td>...</td>\n",
       "      <td>0</td>\n",
       "      <td>0</td>\n",
       "      <td>0</td>\n",
       "      <td>0</td>\n",
       "      <td>0</td>\n",
       "      <td>0</td>\n",
       "      <td>0</td>\n",
       "      <td>0</td>\n",
       "      <td>0</td>\n",
       "      <td>0</td>\n",
       "    </tr>\n",
       "    <tr>\n",
       "      <th>2</th>\n",
       "      <td>1</td>\n",
       "      <td>3.0</td>\n",
       "      <td>1440.0</td>\n",
       "      <td>2.0</td>\n",
       "      <td>3.0</td>\n",
       "      <td>62.00</td>\n",
       "      <td>1</td>\n",
       "      <td>0</td>\n",
       "      <td>0</td>\n",
       "      <td>0</td>\n",
       "      <td>...</td>\n",
       "      <td>0</td>\n",
       "      <td>0</td>\n",
       "      <td>0</td>\n",
       "      <td>0</td>\n",
       "      <td>0</td>\n",
       "      <td>0</td>\n",
       "      <td>0</td>\n",
       "      <td>0</td>\n",
       "      <td>0</td>\n",
       "      <td>0</td>\n",
       "    </tr>\n",
       "    <tr>\n",
       "      <th>3</th>\n",
       "      <td>1</td>\n",
       "      <td>3.0</td>\n",
       "      <td>1521.0</td>\n",
       "      <td>3.0</td>\n",
       "      <td>1.0</td>\n",
       "      <td>95.00</td>\n",
       "      <td>0</td>\n",
       "      <td>0</td>\n",
       "      <td>0</td>\n",
       "      <td>1</td>\n",
       "      <td>...</td>\n",
       "      <td>0</td>\n",
       "      <td>0</td>\n",
       "      <td>0</td>\n",
       "      <td>0</td>\n",
       "      <td>0</td>\n",
       "      <td>0</td>\n",
       "      <td>0</td>\n",
       "      <td>0</td>\n",
       "      <td>0</td>\n",
       "      <td>0</td>\n",
       "    </tr>\n",
       "    <tr>\n",
       "      <th>4</th>\n",
       "      <td>1</td>\n",
       "      <td>2.0</td>\n",
       "      <td>1200.0</td>\n",
       "      <td>2.0</td>\n",
       "      <td>1.0</td>\n",
       "      <td>51.00</td>\n",
       "      <td>0</td>\n",
       "      <td>0</td>\n",
       "      <td>0</td>\n",
       "      <td>1</td>\n",
       "      <td>...</td>\n",
       "      <td>0</td>\n",
       "      <td>0</td>\n",
       "      <td>0</td>\n",
       "      <td>0</td>\n",
       "      <td>0</td>\n",
       "      <td>0</td>\n",
       "      <td>0</td>\n",
       "      <td>0</td>\n",
       "      <td>0</td>\n",
       "      <td>0</td>\n",
       "    </tr>\n",
       "    <tr>\n",
       "      <th>...</th>\n",
       "      <td>...</td>\n",
       "      <td>...</td>\n",
       "      <td>...</td>\n",
       "      <td>...</td>\n",
       "      <td>...</td>\n",
       "      <td>...</td>\n",
       "      <td>...</td>\n",
       "      <td>...</td>\n",
       "      <td>...</td>\n",
       "      <td>...</td>\n",
       "      <td>...</td>\n",
       "      <td>...</td>\n",
       "      <td>...</td>\n",
       "      <td>...</td>\n",
       "      <td>...</td>\n",
       "      <td>...</td>\n",
       "      <td>...</td>\n",
       "      <td>...</td>\n",
       "      <td>...</td>\n",
       "      <td>...</td>\n",
       "      <td>...</td>\n",
       "    </tr>\n",
       "    <tr>\n",
       "      <th>13315</th>\n",
       "      <td>1</td>\n",
       "      <td>3.0</td>\n",
       "      <td>2587.5</td>\n",
       "      <td>4.0</td>\n",
       "      <td>0.0</td>\n",
       "      <td>231.00</td>\n",
       "      <td>1</td>\n",
       "      <td>0</td>\n",
       "      <td>0</td>\n",
       "      <td>0</td>\n",
       "      <td>...</td>\n",
       "      <td>0</td>\n",
       "      <td>0</td>\n",
       "      <td>0</td>\n",
       "      <td>0</td>\n",
       "      <td>0</td>\n",
       "      <td>0</td>\n",
       "      <td>0</td>\n",
       "      <td>0</td>\n",
       "      <td>0</td>\n",
       "      <td>0</td>\n",
       "    </tr>\n",
       "    <tr>\n",
       "      <th>13316</th>\n",
       "      <td>1</td>\n",
       "      <td>4.0</td>\n",
       "      <td>2587.5</td>\n",
       "      <td>2.0</td>\n",
       "      <td>2.0</td>\n",
       "      <td>400.00</td>\n",
       "      <td>0</td>\n",
       "      <td>0</td>\n",
       "      <td>0</td>\n",
       "      <td>1</td>\n",
       "      <td>...</td>\n",
       "      <td>0</td>\n",
       "      <td>0</td>\n",
       "      <td>0</td>\n",
       "      <td>0</td>\n",
       "      <td>0</td>\n",
       "      <td>0</td>\n",
       "      <td>0</td>\n",
       "      <td>0</td>\n",
       "      <td>0</td>\n",
       "      <td>0</td>\n",
       "    </tr>\n",
       "    <tr>\n",
       "      <th>13317</th>\n",
       "      <td>1</td>\n",
       "      <td>2.0</td>\n",
       "      <td>1141.0</td>\n",
       "      <td>2.0</td>\n",
       "      <td>1.0</td>\n",
       "      <td>60.00</td>\n",
       "      <td>1</td>\n",
       "      <td>0</td>\n",
       "      <td>0</td>\n",
       "      <td>0</td>\n",
       "      <td>...</td>\n",
       "      <td>0</td>\n",
       "      <td>0</td>\n",
       "      <td>0</td>\n",
       "      <td>0</td>\n",
       "      <td>0</td>\n",
       "      <td>0</td>\n",
       "      <td>0</td>\n",
       "      <td>0</td>\n",
       "      <td>0</td>\n",
       "      <td>0</td>\n",
       "    </tr>\n",
       "    <tr>\n",
       "      <th>13318</th>\n",
       "      <td>0</td>\n",
       "      <td>4.0</td>\n",
       "      <td>2587.5</td>\n",
       "      <td>4.0</td>\n",
       "      <td>1.0</td>\n",
       "      <td>488.00</td>\n",
       "      <td>0</td>\n",
       "      <td>0</td>\n",
       "      <td>0</td>\n",
       "      <td>1</td>\n",
       "      <td>...</td>\n",
       "      <td>0</td>\n",
       "      <td>0</td>\n",
       "      <td>0</td>\n",
       "      <td>0</td>\n",
       "      <td>0</td>\n",
       "      <td>0</td>\n",
       "      <td>0</td>\n",
       "      <td>0</td>\n",
       "      <td>0</td>\n",
       "      <td>0</td>\n",
       "    </tr>\n",
       "    <tr>\n",
       "      <th>13319</th>\n",
       "      <td>1</td>\n",
       "      <td>1.0</td>\n",
       "      <td>550.0</td>\n",
       "      <td>1.0</td>\n",
       "      <td>1.0</td>\n",
       "      <td>17.00</td>\n",
       "      <td>0</td>\n",
       "      <td>0</td>\n",
       "      <td>0</td>\n",
       "      <td>1</td>\n",
       "      <td>...</td>\n",
       "      <td>0</td>\n",
       "      <td>0</td>\n",
       "      <td>0</td>\n",
       "      <td>0</td>\n",
       "      <td>0</td>\n",
       "      <td>0</td>\n",
       "      <td>0</td>\n",
       "      <td>0</td>\n",
       "      <td>0</td>\n",
       "      <td>0</td>\n",
       "    </tr>\n",
       "  </tbody>\n",
       "</table>\n",
       "<p>13320 rows × 107 columns</p>\n",
       "</div>"
      ],
      "text/plain": [
       "       availability  size  total_sqft  bath  balcony   price  \\\n",
       "0                 0   2.0      1056.0   2.0      1.0   39.07   \n",
       "1                 1   4.0      2587.5   2.0      3.0  120.00   \n",
       "2                 1   3.0      1440.0   2.0      3.0   62.00   \n",
       "3                 1   3.0      1521.0   3.0      1.0   95.00   \n",
       "4                 1   2.0      1200.0   2.0      1.0   51.00   \n",
       "...             ...   ...         ...   ...      ...     ...   \n",
       "13315             1   3.0      2587.5   4.0      0.0  231.00   \n",
       "13316             1   4.0      2587.5   2.0      2.0  400.00   \n",
       "13317             1   2.0      1141.0   2.0      1.0   60.00   \n",
       "13318             0   4.0      2587.5   4.0      1.0  488.00   \n",
       "13319             1   1.0       550.0   1.0      1.0   17.00   \n",
       "\n",
       "       area_type_Built-up  Area  area_type_Carpet  Area  area_type_Plot  Area  \\\n",
       "0                             0                       0                     0   \n",
       "1                             0                       0                     1   \n",
       "2                             1                       0                     0   \n",
       "3                             0                       0                     0   \n",
       "4                             0                       0                     0   \n",
       "...                         ...                     ...                   ...   \n",
       "13315                         1                       0                     0   \n",
       "13316                         0                       0                     0   \n",
       "13317                         1                       0                     0   \n",
       "13318                         0                       0                     0   \n",
       "13319                         0                       0                     0   \n",
       "\n",
       "       area_type_Super built-up  Area  ...  site_location_Vadgaon Budruk  \\\n",
       "0                                   1  ...                             0   \n",
       "1                                   0  ...                             0   \n",
       "2                                   0  ...                             0   \n",
       "3                                   1  ...                             0   \n",
       "4                                   1  ...                             0   \n",
       "...                               ...  ...                           ...   \n",
       "13315                               0  ...                             0   \n",
       "13316                               1  ...                             0   \n",
       "13317                               0  ...                             0   \n",
       "13318                               1  ...                             0   \n",
       "13319                               1  ...                             0   \n",
       "\n",
       "       site_location_Viman Nagar  site_location_Vishrant Wadi  \\\n",
       "0                              0                            0   \n",
       "1                              0                            0   \n",
       "2                              0                            0   \n",
       "3                              0                            0   \n",
       "4                              0                            0   \n",
       "...                          ...                          ...   \n",
       "13315                          0                            0   \n",
       "13316                          0                            0   \n",
       "13317                          0                            0   \n",
       "13318                          0                            0   \n",
       "13319                          0                            0   \n",
       "\n",
       "       site_location_Wadgaon Sheri  site_location_Wagholi  \\\n",
       "0                                0                      0   \n",
       "1                                0                      0   \n",
       "2                                0                      0   \n",
       "3                                0                      0   \n",
       "4                                0                      0   \n",
       "...                            ...                    ...   \n",
       "13315                            0                      0   \n",
       "13316                            0                      0   \n",
       "13317                            0                      0   \n",
       "13318                            0                      0   \n",
       "13319                            0                      0   \n",
       "\n",
       "       site_location_Wakadewadi  site_location_Wanowrie  site_location_Warje  \\\n",
       "0                             0                       0                    0   \n",
       "1                             0                       0                    0   \n",
       "2                             0                       0                    0   \n",
       "3                             0                       0                    0   \n",
       "4                             0                       0                    0   \n",
       "...                         ...                     ...                  ...   \n",
       "13315                         0                       0                    0   \n",
       "13316                         0                       0                    0   \n",
       "13317                         0                       0                    0   \n",
       "13318                         0                       0                    0   \n",
       "13319                         0                       0                    0   \n",
       "\n",
       "       site_location_Yerawada  site_location_other  \n",
       "0                           0                    0  \n",
       "1                           0                    0  \n",
       "2                           0                    0  \n",
       "3                           0                    0  \n",
       "4                           0                    0  \n",
       "...                       ...                  ...  \n",
       "13315                       0                    0  \n",
       "13316                       0                    0  \n",
       "13317                       0                    0  \n",
       "13318                       0                    0  \n",
       "13319                       0                    0  \n",
       "\n",
       "[13320 rows x 107 columns]"
      ]
     },
     "execution_count": 156,
     "metadata": {},
     "output_type": "execute_result"
    }
   ],
   "source": [
    "df"
   ]
  },
  {
   "cell_type": "code",
   "execution_count": 157,
   "metadata": {},
   "outputs": [
    {
     "data": {
      "text/html": [
       "<div>\n",
       "<style scoped>\n",
       "    .dataframe tbody tr th:only-of-type {\n",
       "        vertical-align: middle;\n",
       "    }\n",
       "\n",
       "    .dataframe tbody tr th {\n",
       "        vertical-align: top;\n",
       "    }\n",
       "\n",
       "    .dataframe thead th {\n",
       "        text-align: right;\n",
       "    }\n",
       "</style>\n",
       "<table border=\"1\" class=\"dataframe\">\n",
       "  <thead>\n",
       "    <tr style=\"text-align: right;\">\n",
       "      <th></th>\n",
       "      <th>availability</th>\n",
       "      <th>size</th>\n",
       "      <th>total_sqft</th>\n",
       "      <th>bath</th>\n",
       "      <th>balcony</th>\n",
       "      <th>price</th>\n",
       "    </tr>\n",
       "  </thead>\n",
       "  <tbody>\n",
       "    <tr>\n",
       "      <th>0</th>\n",
       "      <td>0</td>\n",
       "      <td>2.0</td>\n",
       "      <td>1056.0</td>\n",
       "      <td>2.0</td>\n",
       "      <td>1.0</td>\n",
       "      <td>39.07</td>\n",
       "    </tr>\n",
       "    <tr>\n",
       "      <th>1</th>\n",
       "      <td>1</td>\n",
       "      <td>4.0</td>\n",
       "      <td>2587.5</td>\n",
       "      <td>2.0</td>\n",
       "      <td>3.0</td>\n",
       "      <td>120.00</td>\n",
       "    </tr>\n",
       "    <tr>\n",
       "      <th>2</th>\n",
       "      <td>1</td>\n",
       "      <td>3.0</td>\n",
       "      <td>1440.0</td>\n",
       "      <td>2.0</td>\n",
       "      <td>3.0</td>\n",
       "      <td>62.00</td>\n",
       "    </tr>\n",
       "    <tr>\n",
       "      <th>3</th>\n",
       "      <td>1</td>\n",
       "      <td>3.0</td>\n",
       "      <td>1521.0</td>\n",
       "      <td>3.0</td>\n",
       "      <td>1.0</td>\n",
       "      <td>95.00</td>\n",
       "    </tr>\n",
       "    <tr>\n",
       "      <th>4</th>\n",
       "      <td>1</td>\n",
       "      <td>2.0</td>\n",
       "      <td>1200.0</td>\n",
       "      <td>2.0</td>\n",
       "      <td>1.0</td>\n",
       "      <td>51.00</td>\n",
       "    </tr>\n",
       "    <tr>\n",
       "      <th>...</th>\n",
       "      <td>...</td>\n",
       "      <td>...</td>\n",
       "      <td>...</td>\n",
       "      <td>...</td>\n",
       "      <td>...</td>\n",
       "      <td>...</td>\n",
       "    </tr>\n",
       "    <tr>\n",
       "      <th>13315</th>\n",
       "      <td>1</td>\n",
       "      <td>3.0</td>\n",
       "      <td>2587.5</td>\n",
       "      <td>4.0</td>\n",
       "      <td>0.0</td>\n",
       "      <td>231.00</td>\n",
       "    </tr>\n",
       "    <tr>\n",
       "      <th>13316</th>\n",
       "      <td>1</td>\n",
       "      <td>4.0</td>\n",
       "      <td>2587.5</td>\n",
       "      <td>2.0</td>\n",
       "      <td>2.0</td>\n",
       "      <td>400.00</td>\n",
       "    </tr>\n",
       "    <tr>\n",
       "      <th>13317</th>\n",
       "      <td>1</td>\n",
       "      <td>2.0</td>\n",
       "      <td>1141.0</td>\n",
       "      <td>2.0</td>\n",
       "      <td>1.0</td>\n",
       "      <td>60.00</td>\n",
       "    </tr>\n",
       "    <tr>\n",
       "      <th>13318</th>\n",
       "      <td>0</td>\n",
       "      <td>4.0</td>\n",
       "      <td>2587.5</td>\n",
       "      <td>4.0</td>\n",
       "      <td>1.0</td>\n",
       "      <td>488.00</td>\n",
       "    </tr>\n",
       "    <tr>\n",
       "      <th>13319</th>\n",
       "      <td>1</td>\n",
       "      <td>1.0</td>\n",
       "      <td>550.0</td>\n",
       "      <td>1.0</td>\n",
       "      <td>1.0</td>\n",
       "      <td>17.00</td>\n",
       "    </tr>\n",
       "  </tbody>\n",
       "</table>\n",
       "<p>13320 rows × 6 columns</p>\n",
       "</div>"
      ],
      "text/plain": [
       "       availability  size  total_sqft  bath  balcony   price\n",
       "0                 0   2.0      1056.0   2.0      1.0   39.07\n",
       "1                 1   4.0      2587.5   2.0      3.0  120.00\n",
       "2                 1   3.0      1440.0   2.0      3.0   62.00\n",
       "3                 1   3.0      1521.0   3.0      1.0   95.00\n",
       "4                 1   2.0      1200.0   2.0      1.0   51.00\n",
       "...             ...   ...         ...   ...      ...     ...\n",
       "13315             1   3.0      2587.5   4.0      0.0  231.00\n",
       "13316             1   4.0      2587.5   2.0      2.0  400.00\n",
       "13317             1   2.0      1141.0   2.0      1.0   60.00\n",
       "13318             0   4.0      2587.5   4.0      1.0  488.00\n",
       "13319             1   1.0       550.0   1.0      1.0   17.00\n",
       "\n",
       "[13320 rows x 6 columns]"
      ]
     },
     "execution_count": 157,
     "metadata": {},
     "output_type": "execute_result"
    }
   ],
   "source": [
    "df1= df.iloc[:,0:6]\n",
    "df1"
   ]
  },
  {
   "cell_type": "code",
   "execution_count": 158,
   "metadata": {},
   "outputs": [
    {
     "data": {
      "text/plain": [
       "<matplotlib.axes._subplots.AxesSubplot at 0x10e3c190>"
      ]
     },
     "execution_count": 158,
     "metadata": {},
     "output_type": "execute_result"
    },
    {
     "data": {
      "image/png": "[encoded data removed]",
      "text/plain": [
       "<Figure size 1440x720 with 2 Axes>"
      ]
     },
     "metadata": {
      "needs_background": "light"
     },
     "output_type": "display_data"
    }
   ],
   "source": [
    "plt.figure(figsize = (20,10))\n",
    "sns.heatmap(df1.corr(), annot = True)"
   ]
  },
  {
   "cell_type": "code",
   "execution_count": 159,
   "metadata": {},
   "outputs": [
    {
     "data": {
      "text/plain": [
       "<seaborn.axisgrid.PairGrid at 0x10e920d0>"
      ]
     },
     "execution_count": 159,
     "metadata": {},
     "output_type": "execute_result"
    },
    {
     "data": {
      "image/png": "[encoded data removed]",
      "text/plain": [
       "<Figure size 1080x1080 with 42 Axes>"
      ]
     },
     "metadata": {
      "needs_background": "light"
     },
     "output_type": "display_data"
    }
   ],
   "source": [
    "sns.pairplot(df1.corr())"
   ]
  },
  {
   "cell_type": "markdown",
   "metadata": {},
   "source": [
    "### No Multicolinearity"
   ]
  },
  {
   "cell_type": "code",
   "execution_count": 160,
   "metadata": {},
   "outputs": [],
   "source": [
    "x = df.drop(\"price\", axis = 1)"
   ]
  },
  {
   "cell_type": "code",
   "execution_count": 161,
   "metadata": {},
   "outputs": [
    {
     "name": "stdout",
     "output_type": "stream",
     "text": [
      "<class 'pandas.core.frame.DataFrame'>\n",
      "RangeIndex: 13320 entries, 0 to 13319\n",
      "Columns: 106 entries, availability to site_location_other\n",
      "dtypes: float64(4), int64(1), uint8(101)\n",
      "memory usage: 1.8 MB\n"
     ]
    }
   ],
   "source": [
    "x.info()"
   ]
  },
  {
   "cell_type": "code",
   "execution_count": 162,
   "metadata": {
    "scrolled": false
   },
   "outputs": [
    {
     "name": "stdout",
     "output_type": "stream",
     "text": [
      "availability     4.205853\n",
      "size            31.279836\n",
      "total_sqft      16.474246\n",
      "bath            22.392857\n",
      "balcony          5.373895\n",
      "price            2.147087\n",
      "dtype: float64\n",
      "AxesSubplot(0.125,0.125;0.775x0.755)\n"
     ]
    },
    {
     "data": {
      "image/png": "[encoded data removed]",
      "text/plain": [
       "<Figure size 720x720 with 1 Axes>"
      ]
     },
     "metadata": {
      "needs_background": "light"
     },
     "output_type": "display_data"
    }
   ],
   "source": [
    "vif_list = []\n",
    "for i in range (df1.shape[1]) :\n",
    "    vif = variance_inflation_factor(df1.to_numpy(),i)\n",
    "    vif_list.append(vif)\n",
    "\n",
    "s1 = pd.Series(vif_list, index = df1.columns)\n",
    "print (s1)\n",
    "\n",
    "plt.figure(figsize = (10,10))\n",
    "print (s1.sort_values().plot(kind = \"barh\"))"
   ]
  },
  {
   "cell_type": "markdown",
   "metadata": {},
   "source": [
    "# Model Training"
   ]
  },
  {
   "cell_type": "code",
   "execution_count": 163,
   "metadata": {},
   "outputs": [],
   "source": [
    "x = df.drop(\"price\",axis = 1)\n",
    "y = df[\"price\"]"
   ]
  },
  {
   "cell_type": "code",
   "execution_count": 164,
   "metadata": {},
   "outputs": [],
   "source": [
    "x_train,x_test,y_train,y_test = train_test_split(x,y,test_size = 0.2,random_state = 1)"
   ]
  },
  {
   "cell_type": "code",
   "execution_count": 165,
   "metadata": {},
   "outputs": [
    {
     "name": "stdout",
     "output_type": "stream",
     "text": [
      "(10656, 106)\n",
      "(2664, 106)\n",
      "(10656,)\n",
      "(2664,)\n"
     ]
    }
   ],
   "source": [
    "print (x_train.shape)\n",
    "print (x_test.shape)\n",
    "print (y_train.shape)\n",
    "print (y_test.shape)"
   ]
  },
  {
   "cell_type": "code",
   "execution_count": 166,
   "metadata": {},
   "outputs": [],
   "source": [
    "model = LinearRegression()"
   ]
  },
  {
   "cell_type": "code",
   "execution_count": 167,
   "metadata": {},
   "outputs": [
    {
     "data": {
      "text/plain": [
       "LinearRegression()"
      ]
     },
     "execution_count": 167,
     "metadata": {},
     "output_type": "execute_result"
    }
   ],
   "source": [
    "model.fit(x_train,y_train)"
   ]
  },
  {
   "cell_type": "markdown",
   "metadata": {},
   "source": [
    "# Model Evaluation"
   ]
  },
  {
   "cell_type": "markdown",
   "metadata": {},
   "source": [
    "### Training Data"
   ]
  },
  {
   "cell_type": "code",
   "execution_count": 168,
   "metadata": {},
   "outputs": [
    {
     "name": "stdout",
     "output_type": "stream",
     "text": [
      "Mean Squared Error : 13081.881148547698\n",
      "Mean Absolute Error : 50.33271658416088\n",
      "Root Mean Squared Error : 114.37605146422786\n",
      "R square : 0.3743357863561312\n"
     ]
    }
   ],
   "source": [
    "y_pred_train = model.predict(x_train)\n",
    "\n",
    "mse = mean_squared_error(y_train,y_pred_train)\n",
    "print (\"Mean Squared Error :\",mse)\n",
    "\n",
    "mae = mean_absolute_error(y_train,y_pred_train)\n",
    "print (\"Mean Absolute Error :\",mae)\n",
    "\n",
    "rmse = np.sqrt(mse)\n",
    "print (\"Root Mean Squared Error :\",rmse)\n",
    "\n",
    "r2 = r2_score(y_train,y_pred_train)\n",
    "print (\"R square :\",r2)"
   ]
  },
  {
   "cell_type": "markdown",
   "metadata": {},
   "source": [
    "### Testing Data"
   ]
  },
  {
   "cell_type": "code",
   "execution_count": 169,
   "metadata": {},
   "outputs": [
    {
     "name": "stdout",
     "output_type": "stream",
     "text": [
      "Mean Squared Error : 18424.15976395747\n",
      "Mean Absolute Error : 50.86745435378216\n",
      "Root Mean Squared Error : 135.73562452045326\n",
      "R square : 0.325533302404338\n"
     ]
    }
   ],
   "source": [
    "y_pred_test = model.predict(x_test)\n",
    "\n",
    "mse = mean_squared_error(y_test,y_pred_test)\n",
    "print (\"Mean Squared Error :\",mse)\n",
    "\n",
    "mae = mean_absolute_error(y_test,y_pred_test)\n",
    "print (\"Mean Absolute Error :\",mae)\n",
    "\n",
    "rmse = np.sqrt(mse)\n",
    "print (\"Root Mean Squared Error :\",rmse)\n",
    "\n",
    "r2 = r2_score(y_test,y_pred_test)\n",
    "print (\"R square :\",r2)"
   ]
  },
  {
   "cell_type": "markdown",
   "metadata": {},
   "source": [
    "### Normality of Residual "
   ]
  },
  {
   "cell_type": "code",
   "execution_count": 170,
   "metadata": {},
   "outputs": [
    {
     "name": "stdout",
     "output_type": "stream",
     "text": [
      "Residual :\n",
      "\n",
      "3844       1.895699\n",
      "4738    -128.825878\n",
      "9497     -73.507031\n",
      "1308      -6.942656\n",
      "12098    -34.907394\n",
      "            ...    \n",
      "10955    150.012145\n",
      "905       47.267140\n",
      "5192      -3.827915\n",
      "12172     34.586852\n",
      "235      -31.440131\n",
      "Name: price, Length: 10656, dtype: float64\n"
     ]
    }
   ],
   "source": [
    "residual = y_train - y_pred_train\n",
    "print (f\"Residual :\\n\\n{residual}\")"
   ]
  },
  {
   "cell_type": "markdown",
   "metadata": {},
   "source": [
    "#### kdeplot"
   ]
  },
  {
   "cell_type": "code",
   "execution_count": 171,
   "metadata": {},
   "outputs": [
    {
     "data": {
      "text/plain": [
       "<matplotlib.axes._subplots.AxesSubplot at 0x10d6bf40>"
      ]
     },
     "execution_count": 171,
     "metadata": {},
     "output_type": "execute_result"
    },
    {
     "data": {
      "image/png": "[encoded data removed]",
      "text/plain": [
       "<Figure size 432x288 with 1 Axes>"
      ]
     },
     "metadata": {
      "needs_background": "light"
     },
     "output_type": "display_data"
    }
   ],
   "source": [
    "sns.kdeplot(residual, shade = True)"
   ]
  },
  {
   "cell_type": "markdown",
   "metadata": {},
   "source": [
    "#### Hypothesis Testing"
   ]
  },
  {
   "cell_type": "code",
   "execution_count": 172,
   "metadata": {},
   "outputs": [
    {
     "name": "stdout",
     "output_type": "stream",
     "text": [
      "0.0\n",
      "Alternate hypothesis accepted\n",
      "Data is not Normally Distributed\n"
     ]
    }
   ],
   "source": [
    "# shapiro test\n",
    "_,p_value = shapiro(residual)\n",
    "print (p_value)\n",
    "\n",
    "if p_value >= 0.05 :\n",
    "    print (\"Null hypothesis accepted\")\n",
    "    print (\"Data is Normally Distributed\")\n",
    "else :\n",
    "    print (\"Alternate hypothesis accepted\")\n",
    "    print (\"Data is not Normally Distributed\")"
   ]
  },
  {
   "cell_type": "code",
   "execution_count": 173,
   "metadata": {},
   "outputs": [
    {
     "name": "stdout",
     "output_type": "stream",
     "text": [
      "0.0\n",
      "Alternate hypothesis accepted\n",
      "Data is not Normally Distributed\n"
     ]
    }
   ],
   "source": [
    "# ks test\n",
    "_,p_value = kstest(residual, \"norm\")\n",
    "print (p_value)\n",
    "\n",
    "if p_value >= 0.05 :\n",
    "    print (\"Null hypothesis accepted\")\n",
    "    print (\"Data is Normally Distributed\")\n",
    "else :\n",
    "    print (\"Alternate hypothesis accepted\")\n",
    "    print (\"Data is not Normally Distributed\")"
   ]
  },
  {
   "cell_type": "code",
   "execution_count": 174,
   "metadata": {},
   "outputs": [
    {
     "name": "stdout",
     "output_type": "stream",
     "text": [
      "0.0\n",
      "Alternate hypothesis accepted\n",
      "Data is not Normally Distributed\n"
     ]
    }
   ],
   "source": [
    "# normal test\n",
    "_,p_value = normaltest(residual)\n",
    "print (p_value)\n",
    "\n",
    "if p_value >= 0.05 :\n",
    "    print (\"Null hypothesis accepted\")\n",
    "    print (\"Data is Normally Distributed\")\n",
    "else :\n",
    "    print (\"Alternate hypothesis accepted\")\n",
    "    print (\"Data is not Normally Distributed\")"
   ]
  },
  {
   "cell_type": "markdown",
   "metadata": {},
   "source": [
    "#### QQ Plot"
   ]
  },
  {
   "cell_type": "code",
   "execution_count": 175,
   "metadata": {},
   "outputs": [
    {
     "data": {
      "image/png": "[encoded data removed]",
      "text/plain": [
       "<Figure size 432x288 with 1 Axes>"
      ]
     },
     "execution_count": 175,
     "metadata": {},
     "output_type": "execute_result"
    },
    {
     "data": {
      "image/png": "[encoded data removed]",
      "text/plain": [
       "<Figure size 432x288 with 1 Axes>"
      ]
     },
     "metadata": {
      "needs_background": "light"
     },
     "output_type": "display_data"
    }
   ],
   "source": [
    "sm.qqplot(residual,line = \"45\",fit = True)"
   ]
  },
  {
   "cell_type": "markdown",
   "metadata": {},
   "source": [
    "#### skewness"
   ]
  },
  {
   "cell_type": "code",
   "execution_count": 176,
   "metadata": {},
   "outputs": [
    {
     "name": "stdout",
     "output_type": "stream",
     "text": [
      "Skewness : 9.142796101102778\n"
     ]
    }
   ],
   "source": [
    "skew = residual.skew()\n",
    "print (\"Skewness :\",skew)"
   ]
  },
  {
   "cell_type": "markdown",
   "metadata": {},
   "source": [
    "### Homoscadasticity"
   ]
  },
  {
   "cell_type": "code",
   "execution_count": 177,
   "metadata": {},
   "outputs": [
    {
     "data": {
      "text/plain": [
       "<matplotlib.axes._subplots.AxesSubplot at 0xfc4dd90>"
      ]
     },
     "execution_count": 177,
     "metadata": {},
     "output_type": "execute_result"
    },
    {
     "data": {
      "image/png": "[encoded data removed]",
      "text/plain": [
       "<Figure size 432x288 with 1 Axes>"
      ]
     },
     "metadata": {
      "needs_background": "light"
     },
     "output_type": "display_data"
    }
   ],
   "source": [
    "sns.scatterplot(x = y_train, y = residual)"
   ]
  },
  {
   "cell_type": "code",
   "execution_count": 178,
   "metadata": {
    "scrolled": true
   },
   "outputs": [
    {
     "data": {
      "text/plain": [
       "{'19-Dec': 0,\n",
       " 'Ready To Move': 1,\n",
       " '18-May': 0,\n",
       " '18-Feb': 0,\n",
       " '18-Nov': 0,\n",
       " '20-Dec': 0,\n",
       " '17-Oct': 0,\n",
       " '21-Dec': 0,\n",
       " '19-Sep': 0,\n",
       " '20-Sep': 0,\n",
       " '18-Mar': 0,\n",
       " '20-Feb': 0,\n",
       " '18-Apr': 0,\n",
       " '20-Aug': 0,\n",
       " '18-Oct': 0,\n",
       " '19-Mar': 0,\n",
       " '17-Sep': 0,\n",
       " '18-Dec': 0,\n",
       " '17-Aug': 0,\n",
       " '19-Apr': 0,\n",
       " '18-Jun': 0,\n",
       " '22-Dec': 0,\n",
       " '22-Jan': 0,\n",
       " '18-Aug': 0,\n",
       " '19-Jan': 0,\n",
       " '17-Jul': 0,\n",
       " '18-Jul': 0,\n",
       " '21-Jun': 0,\n",
       " '20-May': 0,\n",
       " '19-Aug': 0,\n",
       " '18-Sep': 0,\n",
       " '17-May': 0,\n",
       " '17-Jun': 0,\n",
       " '21-May': 0,\n",
       " '18-Jan': 0,\n",
       " '20-Mar': 0,\n",
       " '17-Dec': 0,\n",
       " '16-Mar': 0,\n",
       " '19-Jun': 0,\n",
       " '22-Jun': 0,\n",
       " '19-Jul': 0,\n",
       " '21-Feb': 0,\n",
       " 'Immediate Possession': 1,\n",
       " '19-May': 0,\n",
       " '17-Nov': 0,\n",
       " '20-Oct': 0,\n",
       " '20-Jun': 0,\n",
       " '19-Feb': 0,\n",
       " '21-Oct': 0,\n",
       " '21-Jan': 0,\n",
       " '17-Mar': 0,\n",
       " '17-Apr': 0,\n",
       " '22-May': 0,\n",
       " '19-Oct': 0,\n",
       " '21-Jul': 0,\n",
       " '21-Nov': 0,\n",
       " '21-Mar': 0,\n",
       " '16-Dec': 0,\n",
       " '22-Mar': 0,\n",
       " '20-Jan': 0,\n",
       " '21-Sep': 0,\n",
       " '21-Aug': 0,\n",
       " '14-Nov': 0,\n",
       " '19-Nov': 0,\n",
       " '15-Nov': 0,\n",
       " '16-Jul': 0,\n",
       " '15-Jun': 0,\n",
       " '17-Feb': 0,\n",
       " '20-Nov': 0,\n",
       " '20-Jul': 0,\n",
       " '16-Sep': 0,\n",
       " '15-Oct': 0,\n",
       " '15-Dec': 0,\n",
       " '16-Oct': 0,\n",
       " '22-Nov': 0,\n",
       " '15-Aug': 0,\n",
       " '17-Jan': 0,\n",
       " '16-Nov': 0,\n",
       " '20-Apr': 0,\n",
       " '16-Jan': 0,\n",
       " '14-Jul': 0}"
      ]
     },
     "execution_count": 178,
     "metadata": {},
     "output_type": "execute_result"
    }
   ],
   "source": [
    "dict_availability"
   ]
  },
  {
   "cell_type": "code",
   "execution_count": 179,
   "metadata": {
    "scrolled": true
   },
   "outputs": [
    {
     "data": {
      "text/plain": [
       "{'2 BHK': 2,\n",
       " '3 BHK': 3,\n",
       " '4 Bedroom': 4,\n",
       " '4 BHK': 4,\n",
       " '3 Bedroom': 3,\n",
       " '1 BHK': 1,\n",
       " '2 Bedroom': 2,\n",
       " '5 Bedroom': 5,\n",
       " '6 Bedroom': 6,\n",
       " '1 Bedroom': 1,\n",
       " '8 Bedroom': 8,\n",
       " '7 Bedroom': 7,\n",
       " '5 BHK': 5,\n",
       " '9 Bedroom': 9,\n",
       " '6 BHK': 6,\n",
       " '7 BHK': 7,\n",
       " '1 RK': 1,\n",
       " '10 Bedroom': 10,\n",
       " '9 BHK': 9,\n",
       " '8 BHK': 8,\n",
       " '11 BHK': 11,\n",
       " '11 Bedroom': 11,\n",
       " '10 BHK': 10,\n",
       " '14 BHK': 14,\n",
       " '13 BHK': 13,\n",
       " '12 Bedroom': 12,\n",
       " '27 BHK': 27,\n",
       " '43 Bedroom': 43,\n",
       " '16 BHK': 16,\n",
       " '19 BHK': 19,\n",
       " '18 Bedroom': 18}"
      ]
     },
     "execution_count": 179,
     "metadata": {},
     "output_type": "execute_result"
    }
   ],
   "source": [
    "dict_size"
   ]
  },
  {
   "cell_type": "code",
   "execution_count": 180,
   "metadata": {},
   "outputs": [
    {
     "data": {
      "text/plain": [
       "Index(['availability', 'size', 'total_sqft', 'bath', 'balcony',\n",
       "       'area_type_Built-up  Area', 'area_type_Carpet  Area',\n",
       "       'area_type_Plot  Area', 'area_type_Super built-up  Area',\n",
       "       'site_location_Alandi Road',\n",
       "       ...\n",
       "       'site_location_Vadgaon Budruk', 'site_location_Viman Nagar',\n",
       "       'site_location_Vishrant Wadi', 'site_location_Wadgaon Sheri',\n",
       "       'site_location_Wagholi', 'site_location_Wakadewadi',\n",
       "       'site_location_Wanowrie', 'site_location_Warje',\n",
       "       'site_location_Yerawada', 'site_location_other'],\n",
       "      dtype='object', length=106)"
      ]
     },
     "execution_count": 180,
     "metadata": {},
     "output_type": "execute_result"
    }
   ],
   "source": [
    "columns_names = x.columns\n",
    "columns_names"
   ]
  },
  {
   "cell_type": "code",
   "execution_count": 181,
   "metadata": {
    "scrolled": true
   },
   "outputs": [
    {
     "data": {
      "text/plain": [
       "{'availability': {'19-Dec': 0,\n",
       "  'Ready To Move': 1,\n",
       "  '18-May': 0,\n",
       "  '18-Feb': 0,\n",
       "  '18-Nov': 0,\n",
       "  '20-Dec': 0,\n",
       "  '17-Oct': 0,\n",
       "  '21-Dec': 0,\n",
       "  '19-Sep': 0,\n",
       "  '20-Sep': 0,\n",
       "  '18-Mar': 0,\n",
       "  '20-Feb': 0,\n",
       "  '18-Apr': 0,\n",
       "  '20-Aug': 0,\n",
       "  '18-Oct': 0,\n",
       "  '19-Mar': 0,\n",
       "  '17-Sep': 0,\n",
       "  '18-Dec': 0,\n",
       "  '17-Aug': 0,\n",
       "  '19-Apr': 0,\n",
       "  '18-Jun': 0,\n",
       "  '22-Dec': 0,\n",
       "  '22-Jan': 0,\n",
       "  '18-Aug': 0,\n",
       "  '19-Jan': 0,\n",
       "  '17-Jul': 0,\n",
       "  '18-Jul': 0,\n",
       "  '21-Jun': 0,\n",
       "  '20-May': 0,\n",
       "  '19-Aug': 0,\n",
       "  '18-Sep': 0,\n",
       "  '17-May': 0,\n",
       "  '17-Jun': 0,\n",
       "  '21-May': 0,\n",
       "  '18-Jan': 0,\n",
       "  '20-Mar': 0,\n",
       "  '17-Dec': 0,\n",
       "  '16-Mar': 0,\n",
       "  '19-Jun': 0,\n",
       "  '22-Jun': 0,\n",
       "  '19-Jul': 0,\n",
       "  '21-Feb': 0,\n",
       "  'Immediate Possession': 1,\n",
       "  '19-May': 0,\n",
       "  '17-Nov': 0,\n",
       "  '20-Oct': 0,\n",
       "  '20-Jun': 0,\n",
       "  '19-Feb': 0,\n",
       "  '21-Oct': 0,\n",
       "  '21-Jan': 0,\n",
       "  '17-Mar': 0,\n",
       "  '17-Apr': 0,\n",
       "  '22-May': 0,\n",
       "  '19-Oct': 0,\n",
       "  '21-Jul': 0,\n",
       "  '21-Nov': 0,\n",
       "  '21-Mar': 0,\n",
       "  '16-Dec': 0,\n",
       "  '22-Mar': 0,\n",
       "  '20-Jan': 0,\n",
       "  '21-Sep': 0,\n",
       "  '21-Aug': 0,\n",
       "  '14-Nov': 0,\n",
       "  '19-Nov': 0,\n",
       "  '15-Nov': 0,\n",
       "  '16-Jul': 0,\n",
       "  '15-Jun': 0,\n",
       "  '17-Feb': 0,\n",
       "  '20-Nov': 0,\n",
       "  '20-Jul': 0,\n",
       "  '16-Sep': 0,\n",
       "  '15-Oct': 0,\n",
       "  '15-Dec': 0,\n",
       "  '16-Oct': 0,\n",
       "  '22-Nov': 0,\n",
       "  '15-Aug': 0,\n",
       "  '17-Jan': 0,\n",
       "  '16-Nov': 0,\n",
       "  '20-Apr': 0,\n",
       "  '16-Jan': 0,\n",
       "  '14-Jul': 0},\n",
       " 'size': {'2 BHK': 2,\n",
       "  '3 BHK': 3,\n",
       "  '4 Bedroom': 4,\n",
       "  '4 BHK': 4,\n",
       "  '3 Bedroom': 3,\n",
       "  '1 BHK': 1,\n",
       "  '2 Bedroom': 2,\n",
       "  '5 Bedroom': 5,\n",
       "  '6 Bedroom': 6,\n",
       "  '1 Bedroom': 1,\n",
       "  '8 Bedroom': 8,\n",
       "  '7 Bedroom': 7,\n",
       "  '5 BHK': 5,\n",
       "  '9 Bedroom': 9,\n",
       "  '6 BHK': 6,\n",
       "  '7 BHK': 7,\n",
       "  '1 RK': 1,\n",
       "  '10 Bedroom': 10,\n",
       "  '9 BHK': 9,\n",
       "  '8 BHK': 8,\n",
       "  '11 BHK': 11,\n",
       "  '11 Bedroom': 11,\n",
       "  '10 BHK': 10,\n",
       "  '14 BHK': 14,\n",
       "  '13 BHK': 13,\n",
       "  '12 Bedroom': 12,\n",
       "  '27 BHK': 27,\n",
       "  '43 Bedroom': 43,\n",
       "  '16 BHK': 16,\n",
       "  '19 BHK': 19,\n",
       "  '18 Bedroom': 18},\n",
       " 'columns': ['availability',\n",
       "  'size',\n",
       "  'total_sqft',\n",
       "  'bath',\n",
       "  'balcony',\n",
       "  'area_type_Built-up  Area',\n",
       "  'area_type_Carpet  Area',\n",
       "  'area_type_Plot  Area',\n",
       "  'area_type_Super built-up  Area',\n",
       "  'site_location_Alandi Road',\n",
       "  'site_location_Ambegaon Budruk',\n",
       "  'site_location_Anandnagar',\n",
       "  'site_location_Aundh',\n",
       "  'site_location_Aundh Road',\n",
       "  'site_location_Balaji Nagar',\n",
       "  'site_location_Baner',\n",
       "  'site_location_Baner road',\n",
       "  'site_location_Bhandarkar Road',\n",
       "  'site_location_Bhavani Peth',\n",
       "  'site_location_Bibvewadi',\n",
       "  'site_location_Bopodi',\n",
       "  'site_location_Budhwar Peth',\n",
       "  'site_location_Bund Garden Road',\n",
       "  'site_location_Camp',\n",
       "  'site_location_Chandan Nagar',\n",
       "  'site_location_Dapodi',\n",
       "  'site_location_Deccan Gymkhana',\n",
       "  'site_location_Dehu Road',\n",
       "  'site_location_Dhankawadi',\n",
       "  'site_location_Dhayari Phata',\n",
       "  'site_location_Dhole Patil Road',\n",
       "  'site_location_Erandwane',\n",
       "  'site_location_Fatima Nagar',\n",
       "  'site_location_Fergusson College Road',\n",
       "  'site_location_Ganesh Peth',\n",
       "  'site_location_Ganeshkhind',\n",
       "  'site_location_Ghorpade Peth',\n",
       "  'site_location_Ghorpadi',\n",
       "  'site_location_Gokhale Nagar',\n",
       "  'site_location_Gultekdi',\n",
       "  'site_location_Guruwar peth',\n",
       "  'site_location_Hadapsar',\n",
       "  'site_location_Hadapsar Industrial Estate',\n",
       "  'site_location_Hingne Khurd',\n",
       "  'site_location_Jangali Maharaj Road',\n",
       "  'site_location_Kalyani Nagar',\n",
       "  'site_location_Karve Nagar',\n",
       "  'site_location_Karve Road',\n",
       "  'site_location_Kasba Peth',\n",
       "  'site_location_Katraj',\n",
       "  'site_location_Khadaki',\n",
       "  'site_location_Khadki',\n",
       "  'site_location_Kharadi',\n",
       "  'site_location_Kondhwa',\n",
       "  'site_location_Kondhwa Budruk',\n",
       "  'site_location_Kondhwa Khurd',\n",
       "  'site_location_Koregaon Park',\n",
       "  'site_location_Kothrud',\n",
       "  'site_location_Law College Road',\n",
       "  'site_location_Laxmi Road',\n",
       "  'site_location_Lulla Nagar',\n",
       "  'site_location_Mahatma Gandhi Road',\n",
       "  'site_location_Mangalwar peth',\n",
       "  'site_location_Manik Bagh',\n",
       "  'site_location_Market yard',\n",
       "  'site_location_Model colony',\n",
       "  'site_location_Mukund Nagar',\n",
       "  'site_location_Mundhawa',\n",
       "  'site_location_Nagar Road',\n",
       "  'site_location_Nana Peth',\n",
       "  'site_location_Narayan Peth',\n",
       "  'site_location_Narayangaon',\n",
       "  'site_location_Navi Peth',\n",
       "  'site_location_Padmavati',\n",
       "  'site_location_Parvati Darshan',\n",
       "  'site_location_Pashan',\n",
       "  'site_location_Paud Road',\n",
       "  'site_location_Pirangut',\n",
       "  'site_location_Prabhat Road',\n",
       "  'site_location_Pune Railway Station',\n",
       "  'site_location_Rasta Peth',\n",
       "  'site_location_Raviwar Peth',\n",
       "  'site_location_Sadashiv Peth',\n",
       "  'site_location_Sahakar Nagar',\n",
       "  'site_location_Salunke Vihar',\n",
       "  'site_location_Sasson Road',\n",
       "  'site_location_Satara Road',\n",
       "  'site_location_Senapati Bapat Road',\n",
       "  'site_location_Shaniwar Peth',\n",
       "  'site_location_Shivaji Nagar',\n",
       "  'site_location_Shukrawar Peth',\n",
       "  'site_location_Sinhagad Road',\n",
       "  'site_location_Somwar Peth',\n",
       "  'site_location_Swargate',\n",
       "  'site_location_Tilak Road',\n",
       "  'site_location_Uruli Devachi',\n",
       "  'site_location_Vadgaon Budruk',\n",
       "  'site_location_Viman Nagar',\n",
       "  'site_location_Vishrant Wadi',\n",
       "  'site_location_Wadgaon Sheri',\n",
       "  'site_location_Wagholi',\n",
       "  'site_location_Wakadewadi',\n",
       "  'site_location_Wanowrie',\n",
       "  'site_location_Warje',\n",
       "  'site_location_Yerawada',\n",
       "  'site_location_other']}"
      ]
     },
     "execution_count": 181,
     "metadata": {},
     "output_type": "execute_result"
    }
   ],
   "source": [
    "project_data = {\"availability\":dict_availability, \"size\":dict_size, \"columns\" : list(columns_names)}\n",
    "project_data"
   ]
  },
  {
   "cell_type": "code",
   "execution_count": 182,
   "metadata": {},
   "outputs": [],
   "source": [
    "with open (\"Linear_Regression_Pune_House_Data.pkl\",\"wb\") as f:\n",
    "    pickle.dump(model,f)"
   ]
  },
  {
   "cell_type": "code",
   "execution_count": 183,
   "metadata": {},
   "outputs": [],
   "source": [
    "with open (\"Linear_Regression_Pune_House_Data.json\",\"w\") as f:\n",
    "    json.dump(project_data,f)"
   ]
  },
  {
   "cell_type": "code",
   "execution_count": null,
   "metadata": {},
   "outputs": [],
   "source": []
  }
 ],
 "metadata": {
  "kernelspec": {
   "display_name": "Python 3",
   "language": "python",
   "name": "python3"
  },
  "language_info": {
   "codemirror_mode": {
    "name": "ipython",
    "version": 3
   },
   "file_extension": ".py",
   "mimetype": "text/x-python",
   "name": "python",
   "nbconvert_exporter": "python",
   "pygments_lexer": "ipython3",
   "version": "3.8.3"
  }
 },
 "nbformat": 4,
 "nbformat_minor": 4
}
